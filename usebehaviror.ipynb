{
 "cells": [
  {
   "cell_type": "code",
   "execution_count": 1,
   "metadata": {
    "ExecuteTime": {
     "end_time": "2018-04-19T09:48:22.437428Z",
     "start_time": "2018-04-19T09:48:20.145150Z"
    }
   },
   "outputs": [
    {
     "data": {
      "text/html": [
       "<script>requirejs.config({paths: { 'plotly': ['https://cdn.plot.ly/plotly-latest.min']},});if(!window.Plotly) {{require(['plotly'],function(plotly) {window.Plotly=plotly;});}}</script>"
      ],
      "text/vnd.plotly.v1+html": [
       "<script>requirejs.config({paths: { 'plotly': ['https://cdn.plot.ly/plotly-latest.min']},});if(!window.Plotly) {{require(['plotly'],function(plotly) {window.Plotly=plotly;});}}</script>"
      ]
     },
     "metadata": {},
     "output_type": "display_data"
    }
   ],
   "source": [
    "import sys\n",
    "import pprint\n",
    "import datetime\n",
    "from tlslite.utils import keyfactory\n",
    "import pymongo\n",
    "import pprint\n",
    "import math\n",
    "import pandas as pd\n",
    "import numpy as np\n",
    "from plotly import tools\n",
    "import plotly.graph_objs as go\n",
    "import plotly.offline as py\n",
    "import os\n",
    "\n",
    "py.init_notebook_mode(connected=True)"
   ]
  },
  {
   "cell_type": "code",
   "execution_count": 2,
   "metadata": {
    "ExecuteTime": {
     "end_time": "2018-04-19T09:48:28.324875Z",
     "start_time": "2018-04-19T09:48:22.440251Z"
    }
   },
   "outputs": [
    {
     "data": {
      "text/plain": [
       "97435"
      ]
     },
     "execution_count": 2,
     "metadata": {},
     "output_type": "execute_result"
    }
   ],
   "source": [
    "client = pymongo.MongoClient('18.8.8.119')\n",
    "cydb = client.mytest\n",
    "\n",
    "issues = pd.DataFrame(list(cydb.useract_info.find()))\n",
    "len(issues)"
   ]
  },
  {
   "cell_type": "code",
   "execution_count": 3,
   "metadata": {
    "ExecuteTime": {
     "end_time": "2018-04-19T09:48:29.899184Z",
     "start_time": "2018-04-19T09:48:29.837246Z"
    },
    "collapsed": true
   },
   "outputs": [],
   "source": [
    "del issues['_id']"
   ]
  },
  {
   "cell_type": "code",
   "execution_count": 4,
   "metadata": {
    "ExecuteTime": {
     "end_time": "2018-04-19T09:48:30.790034Z",
     "start_time": "2018-04-19T09:48:30.694701Z"
    },
    "collapsed": true
   },
   "outputs": [],
   "source": [
    "valid_data = issues.loc[issues['IMEI'].apply(lambda x:len(x.split(';')) == 2)]"
   ]
  },
  {
   "cell_type": "code",
   "execution_count": 5,
   "metadata": {
    "ExecuteTime": {
     "end_time": "2018-04-19T09:48:31.828299Z",
     "start_time": "2018-04-19T09:48:31.818999Z"
    },
    "collapsed": true
   },
   "outputs": [],
   "source": [
    "imeis = len(valid_data['IMEI'].unique())"
   ]
  },
  {
   "cell_type": "code",
   "execution_count": 70,
   "metadata": {
    "ExecuteTime": {
     "end_time": "2018-04-19T12:44:29.464419Z",
     "start_time": "2018-04-19T12:44:29.442364Z"
    }
   },
   "outputs": [
    {
     "data": {
      "text/plain": [
       "256"
      ]
     },
     "execution_count": 70,
     "metadata": {},
     "output_type": "execute_result"
    }
   ],
   "source": [
    "imeis"
   ]
  },
  {
   "cell_type": "code",
   "execution_count": 6,
   "metadata": {
    "ExecuteTime": {
     "end_time": "2018-04-19T09:48:33.228091Z",
     "start_time": "2018-04-19T09:48:33.182874Z"
    },
    "collapsed": true
   },
   "outputs": [],
   "source": [
    "total_appclick = valid_data[valid_data.name == 'appclick']"
   ]
  },
  {
   "cell_type": "code",
   "execution_count": 7,
   "metadata": {
    "ExecuteTime": {
     "end_time": "2018-04-19T09:48:35.979731Z",
     "start_time": "2018-04-19T09:48:35.961522Z"
    },
    "collapsed": true
   },
   "outputs": [],
   "source": [
    "appclick = total_appclick.groupby(['attrs_packagename']).size().sort_values().truediv(len(total_appclick))"
   ]
  },
  {
   "cell_type": "code",
   "execution_count": 12,
   "metadata": {
    "ExecuteTime": {
     "end_time": "2018-04-19T09:56:45.910497Z",
     "start_time": "2018-04-19T09:56:45.636902Z"
    }
   },
   "outputs": [
    {
     "data": {
      "text/plain": [
       "'file:///Users/mmuunn/Documents/Works/Userbehavior/click.html'"
      ]
     },
     "execution_count": 12,
     "metadata": {},
     "output_type": "execute_result"
    }
   ],
   "source": [
    "trace = go.Bar(y=appclick.index, x=appclick.values, orientation = 'h',\n",
    "                  text = appclick.apply(lambda x:'{:.2f}%'.format(x*100)).values,textposition = 'outside',)\n",
    "\n",
    "layout = go.Layout(\n",
    "    title='点击次数排行榜<br>总点击数:{}  设备数:{}'.format(len(total_appclick), imeis),\n",
    "    height=12000,\n",
    "    width=1200,\n",
    "    margin=dict(l=300,r=0),\n",
    "    yaxis = dict(ticklen=3)\n",
    ")\n",
    "\n",
    "fig = go.Figure(data=[trace],layout=layout)\n",
    "#py.iplot(fig)\n",
    "py.plot(fig,image='png', filename='click.html', \n",
    "            image_height=12000, image_width=1200, image_filename='click')"
   ]
  },
  {
   "cell_type": "code",
   "execution_count": 13,
   "metadata": {
    "ExecuteTime": {
     "end_time": "2018-04-19T09:57:23.291112Z",
     "start_time": "2018-04-19T09:57:22.900367Z"
    }
   },
   "outputs": [
    {
     "data": {
      "text/plain": [
       "'file:///Users/mmuunn/Documents/Works/Userbehavior/mclick.html'"
      ]
     },
     "execution_count": 13,
     "metadata": {},
     "output_type": "execute_result"
    }
   ],
   "source": [
    "click_by_phone = total_appclick.groupby(['attrs_packagename']).size().sort_values().truediv(imeis)\n",
    "\n",
    "click_by_phone = click_by_phone.apply(lambda x: round(x,1))\n",
    "\n",
    "trace = go.Bar(y=click_by_phone.index, x=click_by_phone.values, orientation = 'h',\n",
    "                  text = click_by_phone.values,textposition = 'outside',)\n",
    "\n",
    "layout = go.Layout(\n",
    "    title='人均点击排名<br>总点击数:{}  设备数:{}'.format(len(total_appclick), imeis),\n",
    "    height=12000,\n",
    "    width=1000,\n",
    "    margin=dict(l=300),\n",
    "    yaxis = dict(ticklen=3)\n",
    ")\n",
    "\n",
    "fig = go.Figure(data=[trace],layout=layout)\n",
    "#py.iplot(fig)\n",
    "py.plot(fig,image='png', filename='mclick.html', \n",
    "            image_height=12000, image_width=1200, image_filename='mclick')"
   ]
  },
  {
   "cell_type": "code",
   "execution_count": 71,
   "metadata": {
    "ExecuteTime": {
     "end_time": "2018-04-19T12:44:40.051807Z",
     "start_time": "2018-04-19T12:44:40.008590Z"
    },
    "collapsed": true
   },
   "outputs": [],
   "source": [
    "def install_rate(df, label,title,height=4000,width=1200):\n",
    "    data = df[df.name == label].groupby(['IMEI', 'attrs_packagename']).size()\n",
    "    package_info = data.reset_index()\n",
    "    total = package_info.groupby('attrs_packagename').size().sort_values().sum()\n",
    "    package_rate = package_info.groupby('attrs_packagename').size().sort_values()/imeis\n",
    "    trace = go.Bar(y=package_rate.index, x=package_rate.values, orientation = 'h',\n",
    "                      text = package_rate.apply(lambda x:'{:.2f}%'.format(x*100)).values,textposition = 'outside',)\n",
    "    layout = go.Layout(\n",
    "        title= title + '<br>总次数:{}  总设备数:{}'.format(str(int(total)), imeis),\n",
    "        height=height,\n",
    "        width=width,\n",
    "        margin=dict(l=300,r=0),\n",
    "        yaxis = dict(ticklen=10)\n",
    "    )\n",
    "    fig = go.Figure(data=[trace],layout=layout)\n",
    "    #py.iplot(fig)\n",
    "    py.plot(fig,image='png', filename='{}.html'.format(label), \n",
    "            image_height=height, image_width=width, image_filename=label)"
   ]
  },
  {
   "cell_type": "code",
   "execution_count": 23,
   "metadata": {
    "ExecuteTime": {
     "end_time": "2018-04-19T09:59:44.773411Z",
     "start_time": "2018-04-19T09:59:44.703263Z"
    },
    "collapsed": true
   },
   "outputs": [],
   "source": [
    "data = valid_data[valid_data.name == 'appremove'].groupby(['IMEI', 'attrs_packagename']).size()"
   ]
  },
  {
   "cell_type": "code",
   "execution_count": 72,
   "metadata": {
    "ExecuteTime": {
     "end_time": "2018-04-19T12:44:58.639655Z",
     "start_time": "2018-04-19T12:44:58.018661Z"
    },
    "collapsed": true
   },
   "outputs": [],
   "source": [
    "install_rate(valid_data, 'appinstall', '安装应用覆盖率', height=16000)"
   ]
  },
  {
   "cell_type": "code",
   "execution_count": 25,
   "metadata": {
    "ExecuteTime": {
     "end_time": "2018-04-19T09:59:51.083597Z",
     "start_time": "2018-04-19T09:59:50.752216Z"
    },
    "collapsed": true
   },
   "outputs": [],
   "source": [
    "install_rate(valid_data,'appremove', '卸载应用排行榜',height=8000)"
   ]
  },
  {
   "cell_type": "markdown",
   "metadata": {},
   "source": [
    "### Camera 应用 "
   ]
  },
  {
   "cell_type": "code",
   "execution_count": 26,
   "metadata": {
    "ExecuteTime": {
     "end_time": "2018-04-19T10:00:02.108791Z",
     "start_time": "2018-04-19T10:00:02.097676Z"
    },
    "collapsed": true
   },
   "outputs": [],
   "source": [
    "chinese_name_photos = {'photo':'普通拍照', 'panorama':'全景', 'facebeauty':'美颜', 'hdr':'逆光', 'nightvideo':'夜景',\n",
    "                'selfiepanorama':'全景自拍', 'polaroid':'心情照片','gifshot':'GIF动画','profession':'高级', 'arcfilter':'滤镜'}\n",
    "chinese_name_videos = {'video':'普通摄像','slowmotion':'慢动作摄影', 'timelapse':'延时摄影'}"
   ]
  },
  {
   "cell_type": "code",
   "execution_count": 27,
   "metadata": {
    "ExecuteTime": {
     "end_time": "2018-04-19T10:00:03.820119Z",
     "start_time": "2018-04-19T10:00:03.651997Z"
    },
    "collapsed": true
   },
   "outputs": [],
   "source": [
    "takephoto_data = valid_data[valid_data['name'] == 'TakePhoto']"
   ]
  },
  {
   "cell_type": "code",
   "execution_count": 47,
   "metadata": {
    "ExecuteTime": {
     "end_time": "2018-04-19T10:12:46.740482Z",
     "start_time": "2018-04-19T10:12:46.612340Z"
    },
    "collapsed": true
   },
   "outputs": [],
   "source": [
    "video_data = valid_data[valid_data['name'] == 'Video']"
   ]
  },
  {
   "cell_type": "code",
   "execution_count": 48,
   "metadata": {
    "ExecuteTime": {
     "end_time": "2018-04-19T10:12:47.714316Z",
     "start_time": "2018-04-19T10:12:47.709873Z"
    },
    "collapsed": true
   },
   "outputs": [],
   "source": [
    "total_camera = len(takephoto_data)\n",
    "total_video = len(video_data)\n",
    "total_used = (len(takephoto_data) + len(video_data))"
   ]
  },
  {
   "cell_type": "code",
   "execution_count": 39,
   "metadata": {
    "ExecuteTime": {
     "end_time": "2018-04-19T10:09:05.454456Z",
     "start_time": "2018-04-19T10:09:05.433525Z"
    },
    "collapsed": true
   },
   "outputs": [],
   "source": [
    "capturemode = takephoto_data.groupby(['attrs_Capturemode']).size().sort_values()"
   ]
  },
  {
   "cell_type": "code",
   "execution_count": 53,
   "metadata": {
    "ExecuteTime": {
     "end_time": "2018-04-19T10:17:46.909097Z",
     "start_time": "2018-04-19T10:17:46.903300Z"
    },
    "collapsed": true
   },
   "outputs": [],
   "source": [
    "capture_dict = {}\n",
    "\n",
    "for p in chinese_name_photos:\n",
    "    if p in capturemode.index:\n",
    "        capture_dict[chinese_name_photos[p]] = capturemode[p]\n",
    "    else:\n",
    "        capture_dict[chinese_name_photos[p]] = 0"
   ]
  },
  {
   "cell_type": "code",
   "execution_count": 54,
   "metadata": {
    "ExecuteTime": {
     "end_time": "2018-04-19T10:17:47.935076Z",
     "start_time": "2018-04-19T10:17:47.930827Z"
    },
    "collapsed": true
   },
   "outputs": [],
   "source": [
    "camera_data = pd.Series(capture_dict).sort_values()"
   ]
  },
  {
   "cell_type": "code",
   "execution_count": 55,
   "metadata": {
    "ExecuteTime": {
     "end_time": "2018-04-19T10:17:49.090020Z",
     "start_time": "2018-04-19T10:17:49.075807Z"
    }
   },
   "outputs": [
    {
     "data": {
      "application/vnd.plotly.v1+json": {
       "data": [
        {
         "orientation": "h",
         "text": [
          "0.0%",
          "0.8%",
          "1.2%",
          "1.4%",
          "1.4%",
          "1.5%",
          "1.7%",
          "2.0%",
          "5.1%",
          "84.9%"
         ],
         "textposition": "outside",
         "type": "bar",
         "x": [
          0,
          40,
          63,
          71,
          73,
          74,
          84,
          103,
          259,
          4321
         ],
         "y": [
          "高级",
          "GIF动画",
          "滤镜",
          "夜景",
          "心情照片",
          "逆光",
          "全景自拍",
          "全景",
          "美颜",
          "普通拍照"
         ]
        }
       ],
       "layout": {
        "height": 400,
        "margin": {
         "l": 120
        },
        "title": "拍照使用排名<br>总使用次数:5088",
        "width": 1200,
        "yaxis": {
         "ticklen": 10
        }
       }
      },
      "text/html": [
       "<div id=\"77202b65-a0ea-4b0c-81cd-74bf3e47cffd\" style=\"height: 400px; width: 1200px;\" class=\"plotly-graph-div\"></div><script type=\"text/javascript\">require([\"plotly\"], function(Plotly) { window.PLOTLYENV=window.PLOTLYENV || {};window.PLOTLYENV.BASE_URL=\"https://plot.ly\";Plotly.newPlot(\"77202b65-a0ea-4b0c-81cd-74bf3e47cffd\", [{\"type\": \"bar\", \"y\": [\"\\u9ad8\\u7ea7\", \"GIF\\u52a8\\u753b\", \"\\u6ee4\\u955c\", \"\\u591c\\u666f\", \"\\u5fc3\\u60c5\\u7167\\u7247\", \"\\u9006\\u5149\", \"\\u5168\\u666f\\u81ea\\u62cd\", \"\\u5168\\u666f\", \"\\u7f8e\\u989c\", \"\\u666e\\u901a\\u62cd\\u7167\"], \"x\": [0, 40, 63, 71, 73, 74, 84, 103, 259, 4321], \"orientation\": \"h\", \"text\": [\"0.0%\", \"0.8%\", \"1.2%\", \"1.4%\", \"1.4%\", \"1.5%\", \"1.7%\", \"2.0%\", \"5.1%\", \"84.9%\"], \"textposition\": \"outside\"}], {\"title\": \"\\u62cd\\u7167\\u4f7f\\u7528\\u6392\\u540d<br>\\u603b\\u4f7f\\u7528\\u6b21\\u6570:5088\", \"height\": 400, \"width\": 1200, \"margin\": {\"l\": 120}, \"yaxis\": {\"ticklen\": 10}}, {\"showLink\": true, \"linkText\": \"Export to plot.ly\"})});</script>"
      ],
      "text/vnd.plotly.v1+html": [
       "<div id=\"77202b65-a0ea-4b0c-81cd-74bf3e47cffd\" style=\"height: 400px; width: 1200px;\" class=\"plotly-graph-div\"></div><script type=\"text/javascript\">require([\"plotly\"], function(Plotly) { window.PLOTLYENV=window.PLOTLYENV || {};window.PLOTLYENV.BASE_URL=\"https://plot.ly\";Plotly.newPlot(\"77202b65-a0ea-4b0c-81cd-74bf3e47cffd\", [{\"type\": \"bar\", \"y\": [\"\\u9ad8\\u7ea7\", \"GIF\\u52a8\\u753b\", \"\\u6ee4\\u955c\", \"\\u591c\\u666f\", \"\\u5fc3\\u60c5\\u7167\\u7247\", \"\\u9006\\u5149\", \"\\u5168\\u666f\\u81ea\\u62cd\", \"\\u5168\\u666f\", \"\\u7f8e\\u989c\", \"\\u666e\\u901a\\u62cd\\u7167\"], \"x\": [0, 40, 63, 71, 73, 74, 84, 103, 259, 4321], \"orientation\": \"h\", \"text\": [\"0.0%\", \"0.8%\", \"1.2%\", \"1.4%\", \"1.4%\", \"1.5%\", \"1.7%\", \"2.0%\", \"5.1%\", \"84.9%\"], \"textposition\": \"outside\"}], {\"title\": \"\\u62cd\\u7167\\u4f7f\\u7528\\u6392\\u540d<br>\\u603b\\u4f7f\\u7528\\u6b21\\u6570:5088\", \"height\": 400, \"width\": 1200, \"margin\": {\"l\": 120}, \"yaxis\": {\"ticklen\": 10}}, {\"showLink\": true, \"linkText\": \"Export to plot.ly\"})});</script>"
      ]
     },
     "metadata": {},
     "output_type": "display_data"
    }
   ],
   "source": [
    "trace = go.Bar(y=camera_data.index, x=camera_data.values, orientation = 'h',\n",
    "                 text = camera_data.apply(lambda x:'{:.1f}%'.format(x*100/total_camera)).values,textposition = 'outside',)\n",
    "\n",
    "layout = go.Layout(\n",
    "    title='拍照使用排名<br>总使用次数:{}'.format(total_camera),\n",
    "    height=400,\n",
    "    width=1200,\n",
    "    margin=dict(l=120),\n",
    "    yaxis = dict(ticklen=10)\n",
    ")\n",
    "\n",
    "fig = go.Figure(data=[trace],layout=layout)\n",
    "py.iplot(fig)"
   ]
  },
  {
   "cell_type": "code",
   "execution_count": 44,
   "metadata": {
    "ExecuteTime": {
     "end_time": "2018-04-19T10:11:11.316301Z",
     "start_time": "2018-04-19T10:11:11.304449Z"
    },
    "collapsed": true
   },
   "outputs": [],
   "source": [
    "video_mode = video_data.groupby(['attrs_Videomode']).size().sort_values()\n",
    "video_dict = {}\n",
    "for p in chinese_name_videos:\n",
    "    if p in video_mode.index:\n",
    "        video_dict[chinese_name_videos[p]] = video_mode[p]\n",
    "        capture_dict[chinese_name_videos[p]] = video_mode[p]\n",
    "    else:\n",
    "        capture_dict[chinese_name_videos[p]] = 0\n",
    "        video_dict[chinese_name_videos[p]] = 0\n"
   ]
  },
  {
   "cell_type": "code",
   "execution_count": 50,
   "metadata": {
    "ExecuteTime": {
     "end_time": "2018-04-19T10:13:45.800216Z",
     "start_time": "2018-04-19T10:13:45.785242Z"
    },
    "scrolled": true
   },
   "outputs": [
    {
     "data": {
      "application/vnd.plotly.v1+json": {
       "data": [
        {
         "orientation": "h",
         "text": [
          "3.1%",
          "5.8%",
          "91.1%"
         ],
         "textposition": "outside",
         "type": "bar",
         "x": [
          8,
          15,
          236
         ],
         "y": [
          "延时摄影",
          "慢动作摄影",
          "普通摄像"
         ]
        }
       ],
       "layout": {
        "height": 250,
        "margin": {
         "l": 120
        },
        "title": "VideoMode排名<br>总使用次数:259",
        "width": 1200,
        "yaxis": {
         "ticklen": 10
        }
       }
      },
      "text/html": [
       "<div id=\"e3a1d05b-aafb-446a-9b4a-7f8a260084dd\" style=\"height: 250px; width: 1200px;\" class=\"plotly-graph-div\"></div><script type=\"text/javascript\">require([\"plotly\"], function(Plotly) { window.PLOTLYENV=window.PLOTLYENV || {};window.PLOTLYENV.BASE_URL=\"https://plot.ly\";Plotly.newPlot(\"e3a1d05b-aafb-446a-9b4a-7f8a260084dd\", [{\"type\": \"bar\", \"y\": [\"\\u5ef6\\u65f6\\u6444\\u5f71\", \"\\u6162\\u52a8\\u4f5c\\u6444\\u5f71\", \"\\u666e\\u901a\\u6444\\u50cf\"], \"x\": [8, 15, 236], \"orientation\": \"h\", \"text\": [\"3.1%\", \"5.8%\", \"91.1%\"], \"textposition\": \"outside\"}], {\"title\": \"VideoMode\\u6392\\u540d<br>\\u603b\\u4f7f\\u7528\\u6b21\\u6570:259\", \"height\": 250, \"width\": 1200, \"margin\": {\"l\": 120}, \"yaxis\": {\"ticklen\": 10}}, {\"showLink\": true, \"linkText\": \"Export to plot.ly\"})});</script>"
      ],
      "text/vnd.plotly.v1+html": [
       "<div id=\"e3a1d05b-aafb-446a-9b4a-7f8a260084dd\" style=\"height: 250px; width: 1200px;\" class=\"plotly-graph-div\"></div><script type=\"text/javascript\">require([\"plotly\"], function(Plotly) { window.PLOTLYENV=window.PLOTLYENV || {};window.PLOTLYENV.BASE_URL=\"https://plot.ly\";Plotly.newPlot(\"e3a1d05b-aafb-446a-9b4a-7f8a260084dd\", [{\"type\": \"bar\", \"y\": [\"\\u5ef6\\u65f6\\u6444\\u5f71\", \"\\u6162\\u52a8\\u4f5c\\u6444\\u5f71\", \"\\u666e\\u901a\\u6444\\u50cf\"], \"x\": [8, 15, 236], \"orientation\": \"h\", \"text\": [\"3.1%\", \"5.8%\", \"91.1%\"], \"textposition\": \"outside\"}], {\"title\": \"VideoMode\\u6392\\u540d<br>\\u603b\\u4f7f\\u7528\\u6b21\\u6570:259\", \"height\": 250, \"width\": 1200, \"margin\": {\"l\": 120}, \"yaxis\": {\"ticklen\": 10}}, {\"showLink\": true, \"linkText\": \"Export to plot.ly\"})});</script>"
      ]
     },
     "metadata": {},
     "output_type": "display_data"
    }
   ],
   "source": [
    "video_chinese_data = pd.Series(video_dict).sort_values()\n",
    "trace = go.Bar(y=video_chinese_data.index, x=video_chinese_data.values, orientation = 'h',\n",
    "                  text = video_mode.apply(lambda x:'{:.1f}%'.format(x*100/total_video)).values,textposition = 'outside',)\n",
    "\n",
    "layout = go.Layout(\n",
    "    title='VideoMode排名<br>总使用次数:{}'.format(total_video),\n",
    "    height=250,\n",
    "    width=1200,\n",
    "    margin=dict(l=120),\n",
    "    yaxis = dict(ticklen=10)\n",
    ")\n",
    "\n",
    "fig = go.Figure(data=[trace],layout=layout)\n",
    "py.iplot(fig)"
   ]
  },
  {
   "cell_type": "code",
   "execution_count": 51,
   "metadata": {
    "ExecuteTime": {
     "end_time": "2018-04-19T10:16:35.260087Z",
     "start_time": "2018-04-19T10:16:35.256149Z"
    },
    "collapsed": true
   },
   "outputs": [],
   "source": [
    "camera_data = pd.Series(capture_dict).sort_values()"
   ]
  },
  {
   "cell_type": "code",
   "execution_count": 52,
   "metadata": {
    "ExecuteTime": {
     "end_time": "2018-04-19T10:16:47.247408Z",
     "start_time": "2018-04-19T10:16:47.232947Z"
    },
    "scrolled": true
   },
   "outputs": [
    {
     "data": {
      "application/vnd.plotly.v1+json": {
       "data": [
        {
         "orientation": "h",
         "text": [
          "0.0%",
          "0.1%",
          "0.3%",
          "0.7%",
          "1.2%",
          "1.3%",
          "1.4%",
          "1.4%",
          "1.6%",
          "1.9%",
          "4.4%",
          "4.8%",
          "80.8%"
         ],
         "textposition": "outside",
         "type": "bar",
         "x": [
          0,
          8,
          15,
          40,
          63,
          71,
          73,
          74,
          84,
          103,
          236,
          259,
          4321
         ],
         "y": [
          "高级",
          "延时摄影",
          "慢动作摄影",
          "GIF动画",
          "滤镜",
          "夜景",
          "心情照片",
          "逆光",
          "全景自拍",
          "全景",
          "普通摄像",
          "美颜",
          "普通拍照"
         ]
        }
       ],
       "layout": {
        "height": 400,
        "margin": {
         "l": 120
        },
        "title": "相机使用排名<br>总使用次数:5347",
        "width": 1200,
        "yaxis": {
         "ticklen": 10
        }
       }
      },
      "text/html": [
       "<div id=\"1ae6b0d8-06cd-4f2a-b6e3-11dd447291b0\" style=\"height: 400px; width: 1200px;\" class=\"plotly-graph-div\"></div><script type=\"text/javascript\">require([\"plotly\"], function(Plotly) { window.PLOTLYENV=window.PLOTLYENV || {};window.PLOTLYENV.BASE_URL=\"https://plot.ly\";Plotly.newPlot(\"1ae6b0d8-06cd-4f2a-b6e3-11dd447291b0\", [{\"type\": \"bar\", \"y\": [\"\\u9ad8\\u7ea7\", \"\\u5ef6\\u65f6\\u6444\\u5f71\", \"\\u6162\\u52a8\\u4f5c\\u6444\\u5f71\", \"GIF\\u52a8\\u753b\", \"\\u6ee4\\u955c\", \"\\u591c\\u666f\", \"\\u5fc3\\u60c5\\u7167\\u7247\", \"\\u9006\\u5149\", \"\\u5168\\u666f\\u81ea\\u62cd\", \"\\u5168\\u666f\", \"\\u666e\\u901a\\u6444\\u50cf\", \"\\u7f8e\\u989c\", \"\\u666e\\u901a\\u62cd\\u7167\"], \"x\": [0, 8, 15, 40, 63, 71, 73, 74, 84, 103, 236, 259, 4321], \"orientation\": \"h\", \"text\": [\"0.0%\", \"0.1%\", \"0.3%\", \"0.7%\", \"1.2%\", \"1.3%\", \"1.4%\", \"1.4%\", \"1.6%\", \"1.9%\", \"4.4%\", \"4.8%\", \"80.8%\"], \"textposition\": \"outside\"}], {\"title\": \"\\u76f8\\u673a\\u4f7f\\u7528\\u6392\\u540d<br>\\u603b\\u4f7f\\u7528\\u6b21\\u6570:5347\", \"height\": 400, \"width\": 1200, \"margin\": {\"l\": 120}, \"yaxis\": {\"ticklen\": 10}}, {\"showLink\": true, \"linkText\": \"Export to plot.ly\"})});</script>"
      ],
      "text/vnd.plotly.v1+html": [
       "<div id=\"1ae6b0d8-06cd-4f2a-b6e3-11dd447291b0\" style=\"height: 400px; width: 1200px;\" class=\"plotly-graph-div\"></div><script type=\"text/javascript\">require([\"plotly\"], function(Plotly) { window.PLOTLYENV=window.PLOTLYENV || {};window.PLOTLYENV.BASE_URL=\"https://plot.ly\";Plotly.newPlot(\"1ae6b0d8-06cd-4f2a-b6e3-11dd447291b0\", [{\"type\": \"bar\", \"y\": [\"\\u9ad8\\u7ea7\", \"\\u5ef6\\u65f6\\u6444\\u5f71\", \"\\u6162\\u52a8\\u4f5c\\u6444\\u5f71\", \"GIF\\u52a8\\u753b\", \"\\u6ee4\\u955c\", \"\\u591c\\u666f\", \"\\u5fc3\\u60c5\\u7167\\u7247\", \"\\u9006\\u5149\", \"\\u5168\\u666f\\u81ea\\u62cd\", \"\\u5168\\u666f\", \"\\u666e\\u901a\\u6444\\u50cf\", \"\\u7f8e\\u989c\", \"\\u666e\\u901a\\u62cd\\u7167\"], \"x\": [0, 8, 15, 40, 63, 71, 73, 74, 84, 103, 236, 259, 4321], \"orientation\": \"h\", \"text\": [\"0.0%\", \"0.1%\", \"0.3%\", \"0.7%\", \"1.2%\", \"1.3%\", \"1.4%\", \"1.4%\", \"1.6%\", \"1.9%\", \"4.4%\", \"4.8%\", \"80.8%\"], \"textposition\": \"outside\"}], {\"title\": \"\\u76f8\\u673a\\u4f7f\\u7528\\u6392\\u540d<br>\\u603b\\u4f7f\\u7528\\u6b21\\u6570:5347\", \"height\": 400, \"width\": 1200, \"margin\": {\"l\": 120}, \"yaxis\": {\"ticklen\": 10}}, {\"showLink\": true, \"linkText\": \"Export to plot.ly\"})});</script>"
      ]
     },
     "metadata": {},
     "output_type": "display_data"
    }
   ],
   "source": [
    "trace = go.Bar(y=camera_data.index, x=camera_data.values, orientation = 'h',\n",
    "                 text = camera_data.apply(lambda x:'{:.1f}%'.format(x*100/total_used)).values,textposition = 'outside',)\n",
    "\n",
    "layout = go.Layout(\n",
    "    title='相机使用排名<br>总使用次数:{}'.format(total_used),\n",
    "    height=400,\n",
    "    width=1200,\n",
    "    margin=dict(l=120),\n",
    "    yaxis = dict(ticklen=10)\n",
    ")\n",
    "\n",
    "fig = go.Figure(data=[trace],layout=layout)\n",
    "py.iplot(fig)"
   ]
  },
  {
   "cell_type": "markdown",
   "metadata": {
    "collapsed": true
   },
   "source": [
    "### 销量统计"
   ]
  },
  {
   "cell_type": "code",
   "execution_count": null,
   "metadata": {
    "collapsed": true
   },
   "outputs": [],
   "source": [
    "valid_data.groupby(['IMEI', 'wallTime']).size()"
   ]
  },
  {
   "cell_type": "code",
   "execution_count": 57,
   "metadata": {
    "ExecuteTime": {
     "end_time": "2018-04-19T10:20:55.689996Z",
     "start_time": "2018-04-19T10:20:55.541629Z"
    },
    "collapsed": true
   },
   "outputs": [],
   "source": [
    "register = valid_data.groupby(['IMEI', 'registerTime']).size()"
   ]
  },
  {
   "cell_type": "code",
   "execution_count": 58,
   "metadata": {
    "ExecuteTime": {
     "end_time": "2018-04-19T10:20:59.792111Z",
     "start_time": "2018-04-19T10:20:59.786917Z"
    },
    "collapsed": true
   },
   "outputs": [],
   "source": [
    "register_data = {}"
   ]
  },
  {
   "cell_type": "code",
   "execution_count": 59,
   "metadata": {
    "ExecuteTime": {
     "end_time": "2018-04-19T10:21:01.141890Z",
     "start_time": "2018-04-19T10:21:01.017131Z"
    },
    "collapsed": true
   },
   "outputs": [],
   "source": [
    "for imei, group in register.reset_index().groupby(['IMEI']):\n",
    "    register_date = datetime.datetime.fromtimestamp(group.iloc[-1]['registerTime'])\n",
    "    register_data[imei] = register_date"
   ]
  },
  {
   "cell_type": "code",
   "execution_count": 60,
   "metadata": {
    "ExecuteTime": {
     "end_time": "2018-04-19T10:21:02.210432Z",
     "start_time": "2018-04-19T10:21:02.201589Z"
    },
    "collapsed": true
   },
   "outputs": [],
   "source": [
    "psd = pd.DataFrame.from_dict(register_data, orient='index')"
   ]
  },
  {
   "cell_type": "code",
   "execution_count": 61,
   "metadata": {
    "ExecuteTime": {
     "end_time": "2018-04-19T10:21:03.155659Z",
     "start_time": "2018-04-19T10:21:03.149329Z"
    }
   },
   "outputs": [
    {
     "data": {
      "text/plain": [
       "256"
      ]
     },
     "execution_count": 61,
     "metadata": {},
     "output_type": "execute_result"
    }
   ],
   "source": [
    "len(psd.index)"
   ]
  },
  {
   "cell_type": "code",
   "execution_count": 62,
   "metadata": {
    "ExecuteTime": {
     "end_time": "2018-04-19T10:21:08.384935Z",
     "start_time": "2018-04-19T10:21:08.359489Z"
    },
    "collapsed": true
   },
   "outputs": [],
   "source": [
    "register_count = psd.groupby([0]).size()"
   ]
  },
  {
   "cell_type": "code",
   "execution_count": 63,
   "metadata": {
    "ExecuteTime": {
     "end_time": "2018-04-19T10:21:09.689845Z",
     "start_time": "2018-04-19T10:21:09.670231Z"
    },
    "collapsed": true
   },
   "outputs": [],
   "source": [
    "cc = register_count.resample('D').sum().fillna(0)"
   ]
  },
  {
   "cell_type": "code",
   "execution_count": 64,
   "metadata": {
    "ExecuteTime": {
     "end_time": "2018-04-19T10:21:10.698023Z",
     "start_time": "2018-04-19T10:21:10.691483Z"
    },
    "collapsed": true
   },
   "outputs": [],
   "source": [
    "paper_bgcolor='#242640'\n",
    "plot_bgcolor='#242640'\n",
    "paper_bgcolor='#FFFFFF'\n",
    "plot_bgcolor='#FFFFFF'\n",
    "text_color = '#000000'\n",
    "x_color = '#000000'\n",
    "y_color = '#000000'\n",
    "title_color = '#000000'\n",
    "legend_color = '#000000'"
   ]
  },
  {
   "cell_type": "code",
   "execution_count": 65,
   "metadata": {
    "ExecuteTime": {
     "end_time": "2018-04-19T10:21:11.306432Z",
     "start_time": "2018-04-19T10:21:11.293050Z"
    },
    "collapsed": true
   },
   "outputs": [],
   "source": [
    "bandxaxis = go.XAxis(\n",
    "        type='date',\n",
    "        #range=[(created_by_day.index[start] - 1).strftime('%y-%m-%d'),\n",
    "        #       (created_by_day.index[-1] + 1).strftime('%y-%m-%d'),],\n",
    "        ticks=\"outside\", \n",
    "        showticklabels=True,\n",
    "        ticktext=list(cc.index.strftime('%m-%d')),\n",
    "        tickvals=list(cc.index.strftime('%y-%m-%d')),\n",
    "        tickfont=dict(size=11),\n",
    "        #tickfont=dict(size=11,color='#B9B9C3'),\n",
    "        ticklen=10,showgrid=True,\n",
    "        #color='#FFFFFF'\n",
    "    )"
   ]
  },
  {
   "cell_type": "code",
   "execution_count": null,
   "metadata": {
    "ExecuteTime": {
     "end_time": "2018-04-19T10:21:12.663982Z",
     "start_time": "2018-04-19T10:21:12.291797Z"
    }
   },
   "outputs": [],
   "source": []
  },
  {
   "cell_type": "code",
   "execution_count": 74,
   "metadata": {
    "ExecuteTime": {
     "end_time": "2018-04-20T01:36:19.990526Z",
     "start_time": "2018-04-20T01:36:19.974882Z"
    },
    "collapsed": true
   },
   "outputs": [],
   "source": [
    "data=[go.Bar(\n",
    "        x = cc.index,\n",
    "        y = cc.values,\n",
    "        text=cc.values, \n",
    "        textposition='outside',\n",
    "        name = '每日提交数',)\n",
    "        #marker=dict(color='#7D858C')), \n",
    "]\n"
   ]
  },
  {
   "cell_type": "code",
   "execution_count": 75,
   "metadata": {
    "ExecuteTime": {
     "end_time": "2018-04-20T01:36:21.006374Z",
     "start_time": "2018-04-20T01:36:20.965666Z"
    }
   },
   "outputs": [
    {
     "data": {
      "application/vnd.plotly.v1+json": {
       "data": [
        {
         "name": "每日提交数",
         "text": [
          67,
          1,
          0,
          0,
          1,
          0,
          0,
          0,
          0,
          0,
          0,
          0,
          0,
          0,
          0,
          0,
          0,
          0,
          0,
          0,
          0,
          0,
          0,
          0,
          0,
          0,
          0,
          0,
          0,
          0,
          0,
          0,
          0,
          0,
          0,
          0,
          0,
          0,
          0,
          0,
          0,
          0,
          0,
          0,
          0,
          0,
          0,
          0,
          0,
          1,
          1,
          0,
          0,
          0,
          0,
          0,
          0,
          0,
          0,
          0,
          0,
          1,
          1,
          0,
          0,
          0,
          1,
          0,
          0,
          0,
          1,
          1,
          0,
          0,
          0,
          0,
          0,
          10,
          12,
          4,
          3,
          6,
          3,
          3,
          4,
          2,
          0,
          3,
          4,
          1,
          6,
          2,
          7,
          9,
          5,
          10,
          4,
          3,
          11,
          7,
          6,
          9,
          10,
          6,
          4,
          10,
          10,
          6
         ],
         "textposition": "outside",
         "type": "bar",
         "x": [
          "2018-01-01",
          "2018-01-02",
          "2018-01-03",
          "2018-01-04",
          "2018-01-05",
          "2018-01-06",
          "2018-01-07",
          "2018-01-08",
          "2018-01-09",
          "2018-01-10",
          "2018-01-11",
          "2018-01-12",
          "2018-01-13",
          "2018-01-14",
          "2018-01-15",
          "2018-01-16",
          "2018-01-17",
          "2018-01-18",
          "2018-01-19",
          "2018-01-20",
          "2018-01-21",
          "2018-01-22",
          "2018-01-23",
          "2018-01-24",
          "2018-01-25",
          "2018-01-26",
          "2018-01-27",
          "2018-01-28",
          "2018-01-29",
          "2018-01-30",
          "2018-01-31",
          "2018-02-01",
          "2018-02-02",
          "2018-02-03",
          "2018-02-04",
          "2018-02-05",
          "2018-02-06",
          "2018-02-07",
          "2018-02-08",
          "2018-02-09",
          "2018-02-10",
          "2018-02-11",
          "2018-02-12",
          "2018-02-13",
          "2018-02-14",
          "2018-02-15",
          "2018-02-16",
          "2018-02-17",
          "2018-02-18",
          "2018-02-19",
          "2018-02-20",
          "2018-02-21",
          "2018-02-22",
          "2018-02-23",
          "2018-02-24",
          "2018-02-25",
          "2018-02-26",
          "2018-02-27",
          "2018-02-28",
          "2018-03-01",
          "2018-03-02",
          "2018-03-03",
          "2018-03-04",
          "2018-03-05",
          "2018-03-06",
          "2018-03-07",
          "2018-03-08",
          "2018-03-09",
          "2018-03-10",
          "2018-03-11",
          "2018-03-12",
          "2018-03-13",
          "2018-03-14",
          "2018-03-15",
          "2018-03-16",
          "2018-03-17",
          "2018-03-18",
          "2018-03-19",
          "2018-03-20",
          "2018-03-21",
          "2018-03-22",
          "2018-03-23",
          "2018-03-24",
          "2018-03-25",
          "2018-03-26",
          "2018-03-27",
          "2018-03-28",
          "2018-03-29",
          "2018-03-30",
          "2018-03-31",
          "2018-04-01",
          "2018-04-02",
          "2018-04-03",
          "2018-04-04",
          "2018-04-05",
          "2018-04-06",
          "2018-04-07",
          "2018-04-08",
          "2018-04-09",
          "2018-04-10",
          "2018-04-11",
          "2018-04-12",
          "2018-04-13",
          "2018-04-14",
          "2018-04-15",
          "2018-04-16",
          "2018-04-17",
          "2018-04-18"
         ],
         "y": [
          67,
          1,
          0,
          0,
          1,
          0,
          0,
          0,
          0,
          0,
          0,
          0,
          0,
          0,
          0,
          0,
          0,
          0,
          0,
          0,
          0,
          0,
          0,
          0,
          0,
          0,
          0,
          0,
          0,
          0,
          0,
          0,
          0,
          0,
          0,
          0,
          0,
          0,
          0,
          0,
          0,
          0,
          0,
          0,
          0,
          0,
          0,
          0,
          0,
          1,
          1,
          0,
          0,
          0,
          0,
          0,
          0,
          0,
          0,
          0,
          0,
          1,
          1,
          0,
          0,
          0,
          1,
          0,
          0,
          0,
          1,
          1,
          0,
          0,
          0,
          0,
          0,
          10,
          12,
          4,
          3,
          6,
          3,
          3,
          4,
          2,
          0,
          3,
          4,
          1,
          6,
          2,
          7,
          9,
          5,
          10,
          4,
          3,
          11,
          7,
          6,
          9,
          10,
          6,
          4,
          10,
          10,
          6
         ]
        }
       ],
       "layout": {
        "bargap": 0.1,
        "height": 1200,
        "legend": {
         "font": {
          "size": 16
         },
         "x": 0.1
        },
        "title": "销量趋势图<br>总数:256",
        "titlefont": {
         "color": "#000000",
         "size": 25
        },
        "width": 1600,
        "xaxis": {
         "showgrid": true,
         "showticklabels": true,
         "tickfont": {
          "size": 11
         },
         "ticklen": 10,
         "ticks": "outside",
         "ticktext": [
          "01-01",
          "01-02",
          "01-03",
          "01-04",
          "01-05",
          "01-06",
          "01-07",
          "01-08",
          "01-09",
          "01-10",
          "01-11",
          "01-12",
          "01-13",
          "01-14",
          "01-15",
          "01-16",
          "01-17",
          "01-18",
          "01-19",
          "01-20",
          "01-21",
          "01-22",
          "01-23",
          "01-24",
          "01-25",
          "01-26",
          "01-27",
          "01-28",
          "01-29",
          "01-30",
          "01-31",
          "02-01",
          "02-02",
          "02-03",
          "02-04",
          "02-05",
          "02-06",
          "02-07",
          "02-08",
          "02-09",
          "02-10",
          "02-11",
          "02-12",
          "02-13",
          "02-14",
          "02-15",
          "02-16",
          "02-17",
          "02-18",
          "02-19",
          "02-20",
          "02-21",
          "02-22",
          "02-23",
          "02-24",
          "02-25",
          "02-26",
          "02-27",
          "02-28",
          "03-01",
          "03-02",
          "03-03",
          "03-04",
          "03-05",
          "03-06",
          "03-07",
          "03-08",
          "03-09",
          "03-10",
          "03-11",
          "03-12",
          "03-13",
          "03-14",
          "03-15",
          "03-16",
          "03-17",
          "03-18",
          "03-19",
          "03-20",
          "03-21",
          "03-22",
          "03-23",
          "03-24",
          "03-25",
          "03-26",
          "03-27",
          "03-28",
          "03-29",
          "03-30",
          "03-31",
          "04-01",
          "04-02",
          "04-03",
          "04-04",
          "04-05",
          "04-06",
          "04-07",
          "04-08",
          "04-09",
          "04-10",
          "04-11",
          "04-12",
          "04-13",
          "04-14",
          "04-15",
          "04-16",
          "04-17",
          "04-18"
         ],
         "tickvals": [
          "18-01-01",
          "18-01-02",
          "18-01-03",
          "18-01-04",
          "18-01-05",
          "18-01-06",
          "18-01-07",
          "18-01-08",
          "18-01-09",
          "18-01-10",
          "18-01-11",
          "18-01-12",
          "18-01-13",
          "18-01-14",
          "18-01-15",
          "18-01-16",
          "18-01-17",
          "18-01-18",
          "18-01-19",
          "18-01-20",
          "18-01-21",
          "18-01-22",
          "18-01-23",
          "18-01-24",
          "18-01-25",
          "18-01-26",
          "18-01-27",
          "18-01-28",
          "18-01-29",
          "18-01-30",
          "18-01-31",
          "18-02-01",
          "18-02-02",
          "18-02-03",
          "18-02-04",
          "18-02-05",
          "18-02-06",
          "18-02-07",
          "18-02-08",
          "18-02-09",
          "18-02-10",
          "18-02-11",
          "18-02-12",
          "18-02-13",
          "18-02-14",
          "18-02-15",
          "18-02-16",
          "18-02-17",
          "18-02-18",
          "18-02-19",
          "18-02-20",
          "18-02-21",
          "18-02-22",
          "18-02-23",
          "18-02-24",
          "18-02-25",
          "18-02-26",
          "18-02-27",
          "18-02-28",
          "18-03-01",
          "18-03-02",
          "18-03-03",
          "18-03-04",
          "18-03-05",
          "18-03-06",
          "18-03-07",
          "18-03-08",
          "18-03-09",
          "18-03-10",
          "18-03-11",
          "18-03-12",
          "18-03-13",
          "18-03-14",
          "18-03-15",
          "18-03-16",
          "18-03-17",
          "18-03-18",
          "18-03-19",
          "18-03-20",
          "18-03-21",
          "18-03-22",
          "18-03-23",
          "18-03-24",
          "18-03-25",
          "18-03-26",
          "18-03-27",
          "18-03-28",
          "18-03-29",
          "18-03-30",
          "18-03-31",
          "18-04-01",
          "18-04-02",
          "18-04-03",
          "18-04-04",
          "18-04-05",
          "18-04-06",
          "18-04-07",
          "18-04-08",
          "18-04-09",
          "18-04-10",
          "18-04-11",
          "18-04-12",
          "18-04-13",
          "18-04-14",
          "18-04-15",
          "18-04-16",
          "18-04-17",
          "18-04-18"
         ],
         "type": "date"
        },
        "yaxis": {
         "ticklen": 10
        }
       }
      },
      "text/html": [
       "<div id=\"c7879c93-7044-48e0-af0c-b8c3d2376e98\" style=\"height: 1200px; width: 1600px;\" class=\"plotly-graph-div\"></div><script type=\"text/javascript\">require([\"plotly\"], function(Plotly) { window.PLOTLYENV=window.PLOTLYENV || {};window.PLOTLYENV.BASE_URL=\"https://plot.ly\";Plotly.newPlot(\"c7879c93-7044-48e0-af0c-b8c3d2376e98\", [{\"type\": \"bar\", \"x\": [\"2018-01-01\", \"2018-01-02\", \"2018-01-03\", \"2018-01-04\", \"2018-01-05\", \"2018-01-06\", \"2018-01-07\", \"2018-01-08\", \"2018-01-09\", \"2018-01-10\", \"2018-01-11\", \"2018-01-12\", \"2018-01-13\", \"2018-01-14\", \"2018-01-15\", \"2018-01-16\", \"2018-01-17\", \"2018-01-18\", \"2018-01-19\", \"2018-01-20\", \"2018-01-21\", \"2018-01-22\", \"2018-01-23\", \"2018-01-24\", \"2018-01-25\", \"2018-01-26\", \"2018-01-27\", \"2018-01-28\", \"2018-01-29\", \"2018-01-30\", \"2018-01-31\", \"2018-02-01\", \"2018-02-02\", \"2018-02-03\", \"2018-02-04\", \"2018-02-05\", \"2018-02-06\", \"2018-02-07\", \"2018-02-08\", \"2018-02-09\", \"2018-02-10\", \"2018-02-11\", \"2018-02-12\", \"2018-02-13\", \"2018-02-14\", \"2018-02-15\", \"2018-02-16\", \"2018-02-17\", \"2018-02-18\", \"2018-02-19\", \"2018-02-20\", \"2018-02-21\", \"2018-02-22\", \"2018-02-23\", \"2018-02-24\", \"2018-02-25\", \"2018-02-26\", \"2018-02-27\", \"2018-02-28\", \"2018-03-01\", \"2018-03-02\", \"2018-03-03\", \"2018-03-04\", \"2018-03-05\", \"2018-03-06\", \"2018-03-07\", \"2018-03-08\", \"2018-03-09\", \"2018-03-10\", \"2018-03-11\", \"2018-03-12\", \"2018-03-13\", \"2018-03-14\", \"2018-03-15\", \"2018-03-16\", \"2018-03-17\", \"2018-03-18\", \"2018-03-19\", \"2018-03-20\", \"2018-03-21\", \"2018-03-22\", \"2018-03-23\", \"2018-03-24\", \"2018-03-25\", \"2018-03-26\", \"2018-03-27\", \"2018-03-28\", \"2018-03-29\", \"2018-03-30\", \"2018-03-31\", \"2018-04-01\", \"2018-04-02\", \"2018-04-03\", \"2018-04-04\", \"2018-04-05\", \"2018-04-06\", \"2018-04-07\", \"2018-04-08\", \"2018-04-09\", \"2018-04-10\", \"2018-04-11\", \"2018-04-12\", \"2018-04-13\", \"2018-04-14\", \"2018-04-15\", \"2018-04-16\", \"2018-04-17\", \"2018-04-18\"], \"y\": [67.0, 1.0, 0.0, 0.0, 1.0, 0.0, 0.0, 0.0, 0.0, 0.0, 0.0, 0.0, 0.0, 0.0, 0.0, 0.0, 0.0, 0.0, 0.0, 0.0, 0.0, 0.0, 0.0, 0.0, 0.0, 0.0, 0.0, 0.0, 0.0, 0.0, 0.0, 0.0, 0.0, 0.0, 0.0, 0.0, 0.0, 0.0, 0.0, 0.0, 0.0, 0.0, 0.0, 0.0, 0.0, 0.0, 0.0, 0.0, 0.0, 1.0, 1.0, 0.0, 0.0, 0.0, 0.0, 0.0, 0.0, 0.0, 0.0, 0.0, 0.0, 1.0, 1.0, 0.0, 0.0, 0.0, 1.0, 0.0, 0.0, 0.0, 1.0, 1.0, 0.0, 0.0, 0.0, 0.0, 0.0, 10.0, 12.0, 4.0, 3.0, 6.0, 3.0, 3.0, 4.0, 2.0, 0.0, 3.0, 4.0, 1.0, 6.0, 2.0, 7.0, 9.0, 5.0, 10.0, 4.0, 3.0, 11.0, 7.0, 6.0, 9.0, 10.0, 6.0, 4.0, 10.0, 10.0, 6.0], \"text\": [67.0, 1.0, 0.0, 0.0, 1.0, 0.0, 0.0, 0.0, 0.0, 0.0, 0.0, 0.0, 0.0, 0.0, 0.0, 0.0, 0.0, 0.0, 0.0, 0.0, 0.0, 0.0, 0.0, 0.0, 0.0, 0.0, 0.0, 0.0, 0.0, 0.0, 0.0, 0.0, 0.0, 0.0, 0.0, 0.0, 0.0, 0.0, 0.0, 0.0, 0.0, 0.0, 0.0, 0.0, 0.0, 0.0, 0.0, 0.0, 0.0, 1.0, 1.0, 0.0, 0.0, 0.0, 0.0, 0.0, 0.0, 0.0, 0.0, 0.0, 0.0, 1.0, 1.0, 0.0, 0.0, 0.0, 1.0, 0.0, 0.0, 0.0, 1.0, 1.0, 0.0, 0.0, 0.0, 0.0, 0.0, 10.0, 12.0, 4.0, 3.0, 6.0, 3.0, 3.0, 4.0, 2.0, 0.0, 3.0, 4.0, 1.0, 6.0, 2.0, 7.0, 9.0, 5.0, 10.0, 4.0, 3.0, 11.0, 7.0, 6.0, 9.0, 10.0, 6.0, 4.0, 10.0, 10.0, 6.0], \"textposition\": \"outside\", \"name\": \"\\u6bcf\\u65e5\\u63d0\\u4ea4\\u6570\"}], {\"title\": \"\\u9500\\u91cf\\u8d8b\\u52bf\\u56fe<br>\\u603b\\u6570:256\", \"titlefont\": {\"color\": \"#000000\", \"size\": 25}, \"height\": 1200, \"width\": 1600, \"bargap\": 0.1, \"xaxis\": {\"type\": \"date\", \"ticks\": \"outside\", \"showticklabels\": true, \"ticktext\": [\"01-01\", \"01-02\", \"01-03\", \"01-04\", \"01-05\", \"01-06\", \"01-07\", \"01-08\", \"01-09\", \"01-10\", \"01-11\", \"01-12\", \"01-13\", \"01-14\", \"01-15\", \"01-16\", \"01-17\", \"01-18\", \"01-19\", \"01-20\", \"01-21\", \"01-22\", \"01-23\", \"01-24\", \"01-25\", \"01-26\", \"01-27\", \"01-28\", \"01-29\", \"01-30\", \"01-31\", \"02-01\", \"02-02\", \"02-03\", \"02-04\", \"02-05\", \"02-06\", \"02-07\", \"02-08\", \"02-09\", \"02-10\", \"02-11\", \"02-12\", \"02-13\", \"02-14\", \"02-15\", \"02-16\", \"02-17\", \"02-18\", \"02-19\", \"02-20\", \"02-21\", \"02-22\", \"02-23\", \"02-24\", \"02-25\", \"02-26\", \"02-27\", \"02-28\", \"03-01\", \"03-02\", \"03-03\", \"03-04\", \"03-05\", \"03-06\", \"03-07\", \"03-08\", \"03-09\", \"03-10\", \"03-11\", \"03-12\", \"03-13\", \"03-14\", \"03-15\", \"03-16\", \"03-17\", \"03-18\", \"03-19\", \"03-20\", \"03-21\", \"03-22\", \"03-23\", \"03-24\", \"03-25\", \"03-26\", \"03-27\", \"03-28\", \"03-29\", \"03-30\", \"03-31\", \"04-01\", \"04-02\", \"04-03\", \"04-04\", \"04-05\", \"04-06\", \"04-07\", \"04-08\", \"04-09\", \"04-10\", \"04-11\", \"04-12\", \"04-13\", \"04-14\", \"04-15\", \"04-16\", \"04-17\", \"04-18\"], \"tickvals\": [\"18-01-01\", \"18-01-02\", \"18-01-03\", \"18-01-04\", \"18-01-05\", \"18-01-06\", \"18-01-07\", \"18-01-08\", \"18-01-09\", \"18-01-10\", \"18-01-11\", \"18-01-12\", \"18-01-13\", \"18-01-14\", \"18-01-15\", \"18-01-16\", \"18-01-17\", \"18-01-18\", \"18-01-19\", \"18-01-20\", \"18-01-21\", \"18-01-22\", \"18-01-23\", \"18-01-24\", \"18-01-25\", \"18-01-26\", \"18-01-27\", \"18-01-28\", \"18-01-29\", \"18-01-30\", \"18-01-31\", \"18-02-01\", \"18-02-02\", \"18-02-03\", \"18-02-04\", \"18-02-05\", \"18-02-06\", \"18-02-07\", \"18-02-08\", \"18-02-09\", \"18-02-10\", \"18-02-11\", \"18-02-12\", \"18-02-13\", \"18-02-14\", \"18-02-15\", \"18-02-16\", \"18-02-17\", \"18-02-18\", \"18-02-19\", \"18-02-20\", \"18-02-21\", \"18-02-22\", \"18-02-23\", \"18-02-24\", \"18-02-25\", \"18-02-26\", \"18-02-27\", \"18-02-28\", \"18-03-01\", \"18-03-02\", \"18-03-03\", \"18-03-04\", \"18-03-05\", \"18-03-06\", \"18-03-07\", \"18-03-08\", \"18-03-09\", \"18-03-10\", \"18-03-11\", \"18-03-12\", \"18-03-13\", \"18-03-14\", \"18-03-15\", \"18-03-16\", \"18-03-17\", \"18-03-18\", \"18-03-19\", \"18-03-20\", \"18-03-21\", \"18-03-22\", \"18-03-23\", \"18-03-24\", \"18-03-25\", \"18-03-26\", \"18-03-27\", \"18-03-28\", \"18-03-29\", \"18-03-30\", \"18-03-31\", \"18-04-01\", \"18-04-02\", \"18-04-03\", \"18-04-04\", \"18-04-05\", \"18-04-06\", \"18-04-07\", \"18-04-08\", \"18-04-09\", \"18-04-10\", \"18-04-11\", \"18-04-12\", \"18-04-13\", \"18-04-14\", \"18-04-15\", \"18-04-16\", \"18-04-17\", \"18-04-18\"], \"tickfont\": {\"size\": 11}, \"ticklen\": 10, \"showgrid\": true}, \"yaxis\": {\"ticklen\": 10}, \"legend\": {\"x\": 0.1, \"font\": {\"size\": 16}}}, {\"showLink\": true, \"linkText\": \"Export to plot.ly\"})});</script>"
      ],
      "text/vnd.plotly.v1+html": [
       "<div id=\"c7879c93-7044-48e0-af0c-b8c3d2376e98\" style=\"height: 1200px; width: 1600px;\" class=\"plotly-graph-div\"></div><script type=\"text/javascript\">require([\"plotly\"], function(Plotly) { window.PLOTLYENV=window.PLOTLYENV || {};window.PLOTLYENV.BASE_URL=\"https://plot.ly\";Plotly.newPlot(\"c7879c93-7044-48e0-af0c-b8c3d2376e98\", [{\"type\": \"bar\", \"x\": [\"2018-01-01\", \"2018-01-02\", \"2018-01-03\", \"2018-01-04\", \"2018-01-05\", \"2018-01-06\", \"2018-01-07\", \"2018-01-08\", \"2018-01-09\", \"2018-01-10\", \"2018-01-11\", \"2018-01-12\", \"2018-01-13\", \"2018-01-14\", \"2018-01-15\", \"2018-01-16\", \"2018-01-17\", \"2018-01-18\", \"2018-01-19\", \"2018-01-20\", \"2018-01-21\", \"2018-01-22\", \"2018-01-23\", \"2018-01-24\", \"2018-01-25\", \"2018-01-26\", \"2018-01-27\", \"2018-01-28\", \"2018-01-29\", \"2018-01-30\", \"2018-01-31\", \"2018-02-01\", \"2018-02-02\", \"2018-02-03\", \"2018-02-04\", \"2018-02-05\", \"2018-02-06\", \"2018-02-07\", \"2018-02-08\", \"2018-02-09\", \"2018-02-10\", \"2018-02-11\", \"2018-02-12\", \"2018-02-13\", \"2018-02-14\", \"2018-02-15\", \"2018-02-16\", \"2018-02-17\", \"2018-02-18\", \"2018-02-19\", \"2018-02-20\", \"2018-02-21\", \"2018-02-22\", \"2018-02-23\", \"2018-02-24\", \"2018-02-25\", \"2018-02-26\", \"2018-02-27\", \"2018-02-28\", \"2018-03-01\", \"2018-03-02\", \"2018-03-03\", \"2018-03-04\", \"2018-03-05\", \"2018-03-06\", \"2018-03-07\", \"2018-03-08\", \"2018-03-09\", \"2018-03-10\", \"2018-03-11\", \"2018-03-12\", \"2018-03-13\", \"2018-03-14\", \"2018-03-15\", \"2018-03-16\", \"2018-03-17\", \"2018-03-18\", \"2018-03-19\", \"2018-03-20\", \"2018-03-21\", \"2018-03-22\", \"2018-03-23\", \"2018-03-24\", \"2018-03-25\", \"2018-03-26\", \"2018-03-27\", \"2018-03-28\", \"2018-03-29\", \"2018-03-30\", \"2018-03-31\", \"2018-04-01\", \"2018-04-02\", \"2018-04-03\", \"2018-04-04\", \"2018-04-05\", \"2018-04-06\", \"2018-04-07\", \"2018-04-08\", \"2018-04-09\", \"2018-04-10\", \"2018-04-11\", \"2018-04-12\", \"2018-04-13\", \"2018-04-14\", \"2018-04-15\", \"2018-04-16\", \"2018-04-17\", \"2018-04-18\"], \"y\": [67.0, 1.0, 0.0, 0.0, 1.0, 0.0, 0.0, 0.0, 0.0, 0.0, 0.0, 0.0, 0.0, 0.0, 0.0, 0.0, 0.0, 0.0, 0.0, 0.0, 0.0, 0.0, 0.0, 0.0, 0.0, 0.0, 0.0, 0.0, 0.0, 0.0, 0.0, 0.0, 0.0, 0.0, 0.0, 0.0, 0.0, 0.0, 0.0, 0.0, 0.0, 0.0, 0.0, 0.0, 0.0, 0.0, 0.0, 0.0, 0.0, 1.0, 1.0, 0.0, 0.0, 0.0, 0.0, 0.0, 0.0, 0.0, 0.0, 0.0, 0.0, 1.0, 1.0, 0.0, 0.0, 0.0, 1.0, 0.0, 0.0, 0.0, 1.0, 1.0, 0.0, 0.0, 0.0, 0.0, 0.0, 10.0, 12.0, 4.0, 3.0, 6.0, 3.0, 3.0, 4.0, 2.0, 0.0, 3.0, 4.0, 1.0, 6.0, 2.0, 7.0, 9.0, 5.0, 10.0, 4.0, 3.0, 11.0, 7.0, 6.0, 9.0, 10.0, 6.0, 4.0, 10.0, 10.0, 6.0], \"text\": [67.0, 1.0, 0.0, 0.0, 1.0, 0.0, 0.0, 0.0, 0.0, 0.0, 0.0, 0.0, 0.0, 0.0, 0.0, 0.0, 0.0, 0.0, 0.0, 0.0, 0.0, 0.0, 0.0, 0.0, 0.0, 0.0, 0.0, 0.0, 0.0, 0.0, 0.0, 0.0, 0.0, 0.0, 0.0, 0.0, 0.0, 0.0, 0.0, 0.0, 0.0, 0.0, 0.0, 0.0, 0.0, 0.0, 0.0, 0.0, 0.0, 1.0, 1.0, 0.0, 0.0, 0.0, 0.0, 0.0, 0.0, 0.0, 0.0, 0.0, 0.0, 1.0, 1.0, 0.0, 0.0, 0.0, 1.0, 0.0, 0.0, 0.0, 1.0, 1.0, 0.0, 0.0, 0.0, 0.0, 0.0, 10.0, 12.0, 4.0, 3.0, 6.0, 3.0, 3.0, 4.0, 2.0, 0.0, 3.0, 4.0, 1.0, 6.0, 2.0, 7.0, 9.0, 5.0, 10.0, 4.0, 3.0, 11.0, 7.0, 6.0, 9.0, 10.0, 6.0, 4.0, 10.0, 10.0, 6.0], \"textposition\": \"outside\", \"name\": \"\\u6bcf\\u65e5\\u63d0\\u4ea4\\u6570\"}], {\"title\": \"\\u9500\\u91cf\\u8d8b\\u52bf\\u56fe<br>\\u603b\\u6570:256\", \"titlefont\": {\"color\": \"#000000\", \"size\": 25}, \"height\": 1200, \"width\": 1600, \"bargap\": 0.1, \"xaxis\": {\"type\": \"date\", \"ticks\": \"outside\", \"showticklabels\": true, \"ticktext\": [\"01-01\", \"01-02\", \"01-03\", \"01-04\", \"01-05\", \"01-06\", \"01-07\", \"01-08\", \"01-09\", \"01-10\", \"01-11\", \"01-12\", \"01-13\", \"01-14\", \"01-15\", \"01-16\", \"01-17\", \"01-18\", \"01-19\", \"01-20\", \"01-21\", \"01-22\", \"01-23\", \"01-24\", \"01-25\", \"01-26\", \"01-27\", \"01-28\", \"01-29\", \"01-30\", \"01-31\", \"02-01\", \"02-02\", \"02-03\", \"02-04\", \"02-05\", \"02-06\", \"02-07\", \"02-08\", \"02-09\", \"02-10\", \"02-11\", \"02-12\", \"02-13\", \"02-14\", \"02-15\", \"02-16\", \"02-17\", \"02-18\", \"02-19\", \"02-20\", \"02-21\", \"02-22\", \"02-23\", \"02-24\", \"02-25\", \"02-26\", \"02-27\", \"02-28\", \"03-01\", \"03-02\", \"03-03\", \"03-04\", \"03-05\", \"03-06\", \"03-07\", \"03-08\", \"03-09\", \"03-10\", \"03-11\", \"03-12\", \"03-13\", \"03-14\", \"03-15\", \"03-16\", \"03-17\", \"03-18\", \"03-19\", \"03-20\", \"03-21\", \"03-22\", \"03-23\", \"03-24\", \"03-25\", \"03-26\", \"03-27\", \"03-28\", \"03-29\", \"03-30\", \"03-31\", \"04-01\", \"04-02\", \"04-03\", \"04-04\", \"04-05\", \"04-06\", \"04-07\", \"04-08\", \"04-09\", \"04-10\", \"04-11\", \"04-12\", \"04-13\", \"04-14\", \"04-15\", \"04-16\", \"04-17\", \"04-18\"], \"tickvals\": [\"18-01-01\", \"18-01-02\", \"18-01-03\", \"18-01-04\", \"18-01-05\", \"18-01-06\", \"18-01-07\", \"18-01-08\", \"18-01-09\", \"18-01-10\", \"18-01-11\", \"18-01-12\", \"18-01-13\", \"18-01-14\", \"18-01-15\", \"18-01-16\", \"18-01-17\", \"18-01-18\", \"18-01-19\", \"18-01-20\", \"18-01-21\", \"18-01-22\", \"18-01-23\", \"18-01-24\", \"18-01-25\", \"18-01-26\", \"18-01-27\", \"18-01-28\", \"18-01-29\", \"18-01-30\", \"18-01-31\", \"18-02-01\", \"18-02-02\", \"18-02-03\", \"18-02-04\", \"18-02-05\", \"18-02-06\", \"18-02-07\", \"18-02-08\", \"18-02-09\", \"18-02-10\", \"18-02-11\", \"18-02-12\", \"18-02-13\", \"18-02-14\", \"18-02-15\", \"18-02-16\", \"18-02-17\", \"18-02-18\", \"18-02-19\", \"18-02-20\", \"18-02-21\", \"18-02-22\", \"18-02-23\", \"18-02-24\", \"18-02-25\", \"18-02-26\", \"18-02-27\", \"18-02-28\", \"18-03-01\", \"18-03-02\", \"18-03-03\", \"18-03-04\", \"18-03-05\", \"18-03-06\", \"18-03-07\", \"18-03-08\", \"18-03-09\", \"18-03-10\", \"18-03-11\", \"18-03-12\", \"18-03-13\", \"18-03-14\", \"18-03-15\", \"18-03-16\", \"18-03-17\", \"18-03-18\", \"18-03-19\", \"18-03-20\", \"18-03-21\", \"18-03-22\", \"18-03-23\", \"18-03-24\", \"18-03-25\", \"18-03-26\", \"18-03-27\", \"18-03-28\", \"18-03-29\", \"18-03-30\", \"18-03-31\", \"18-04-01\", \"18-04-02\", \"18-04-03\", \"18-04-04\", \"18-04-05\", \"18-04-06\", \"18-04-07\", \"18-04-08\", \"18-04-09\", \"18-04-10\", \"18-04-11\", \"18-04-12\", \"18-04-13\", \"18-04-14\", \"18-04-15\", \"18-04-16\", \"18-04-17\", \"18-04-18\"], \"tickfont\": {\"size\": 11}, \"ticklen\": 10, \"showgrid\": true}, \"yaxis\": {\"ticklen\": 10}, \"legend\": {\"x\": 0.1, \"font\": {\"size\": 16}}}, {\"showLink\": true, \"linkText\": \"Export to plot.ly\"})});</script>"
      ]
     },
     "metadata": {},
     "output_type": "display_data"
    }
   ],
   "source": [
    "layout = go.Layout(\n",
    "    title='销量趋势图<br>总数:' + str(imeis),\n",
    "    titlefont=dict(color=title_color,size=25),\n",
    "    height=1200,\n",
    "    width=1600,\n",
    "    bargap=0.1,\n",
    "    xaxis = bandxaxis,\n",
    "    yaxis = dict(ticklen=10),\n",
    "    #bargroupgap=0.05,\n",
    "    #paper_bgcolor=paper_bgcolor,\n",
    "    #plot_bgcolor=plot_bgcolor,\n",
    "    legend=dict(\n",
    "        x=0.1,\n",
    "        font=dict(size=16),\n",
    "    )\n",
    ")\n",
    "\n",
    "fig = go.Figure(data=data,layout=layout)\n",
    "py.iplot(fig)"
   ]
  },
  {
   "cell_type": "code",
   "execution_count": null,
   "metadata": {
    "collapsed": true
   },
   "outputs": [],
   "source": []
  }
 ],
 "metadata": {
  "kernelspec": {
   "display_name": "Python 3",
   "language": "python",
   "name": "python3"
  },
  "language_info": {
   "codemirror_mode": {
    "name": "ipython",
    "version": 3
   },
   "file_extension": ".py",
   "mimetype": "text/x-python",
   "name": "python",
   "nbconvert_exporter": "python",
   "pygments_lexer": "ipython3",
   "version": "3.6.2"
  }
 },
 "nbformat": 4,
 "nbformat_minor": 2
}
