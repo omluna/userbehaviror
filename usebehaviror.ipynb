{
 "cells": [
  {
   "cell_type": "code",
   "execution_count": 1,
   "metadata": {
    "ExecuteTime": {
     "end_time": "2018-06-29T07:20:22.522887Z",
     "start_time": "2018-06-29T07:20:20.667800Z"
    }
   },
   "outputs": [
    {
     "data": {
      "text/html": [
       "<script>requirejs.config({paths: { 'plotly': ['https://cdn.plot.ly/plotly-latest.min']},});if(!window.Plotly) {{require(['plotly'],function(plotly) {window.Plotly=plotly;});}}</script>"
      ],
      "text/vnd.plotly.v1+html": [
       "<script>requirejs.config({paths: { 'plotly': ['https://cdn.plot.ly/plotly-latest.min']},});if(!window.Plotly) {{require(['plotly'],function(plotly) {window.Plotly=plotly;});}}</script>"
      ]
     },
     "metadata": {},
     "output_type": "display_data"
    }
   ],
   "source": [
    "import sys\n",
    "import pprint\n",
    "import datetime\n",
    "from tlslite.utils import keyfactory\n",
    "import pymongo\n",
    "import pprint\n",
    "import math\n",
    "import pandas as pd\n",
    "import numpy as np\n",
    "from plotly import tools\n",
    "import plotly.graph_objs as go\n",
    "import plotly.offline as py\n",
    "import os\n",
    "import requests\n",
    "import time\n",
    "from bs4 import BeautifulSoup\n",
    "\n",
    "py.init_notebook_mode(connected=True)"
   ]
  },
  {
   "cell_type": "code",
   "execution_count": 2,
   "metadata": {
    "ExecuteTime": {
     "end_time": "2018-06-29T07:21:05.528098Z",
     "start_time": "2018-06-29T07:20:27.315235Z"
    },
    "collapsed": true
   },
   "outputs": [],
   "source": [
    "client = pymongo.MongoClient('18.8.8.120')\n",
    "cydb = client.cy_useract\n",
    "issues = pd.DataFrame(list(cydb.useract_info.find()))\n",
    "del issues['_id']\n",
    "len(issues)\n",
    "valid_data = issues.loc[issues['IMEI'].apply(lambda x:len(x.split(';')) == 2)]\n",
    "\n",
    "client = pymongo.MongoClient('18.8.8.209')\n",
    "cydb = client.cy\n",
    "#topapps = pd.DataFrame(list(cydb.topapps.find(projection={'name': 1, 'package_name':1})))\n",
    "#del topapps['_id']\n",
    "#cy_packages = pd.DataFrame(list(cydb.cy_packages.find()))\n",
    "#del cy_packages['_id']"
   ]
  },
  {
   "cell_type": "code",
   "execution_count": 3,
   "metadata": {
    "ExecuteTime": {
     "end_time": "2018-06-29T07:21:18.221283Z",
     "start_time": "2018-06-29T07:21:18.208763Z"
    }
   },
   "outputs": [
    {
     "data": {
      "text/plain": [
       "585645"
      ]
     },
     "execution_count": 3,
     "metadata": {},
     "output_type": "execute_result"
    }
   ],
   "source": [
    "len(issues)"
   ]
  },
  {
   "cell_type": "markdown",
   "metadata": {},
   "source": [
    "## 获取包名及函数定义"
   ]
  },
  {
   "cell_type": "code",
   "execution_count": null,
   "metadata": {
    "ExecuteTime": {
     "end_time": "2018-06-29T02:08:35.201951Z",
     "start_time": "2018-06-29T02:08:35.179596Z"
    },
    "collapsed": true
   },
   "outputs": [],
   "source": [
    "#获取包对应的应用名\n",
    "total_apps = pd.DataFrame(list(cydb.package2name.find(projection={'_id':0, 'name': 1, 'package_name':1})))\n",
    "total_apps_names = total_apps.set_index('package_name').to_dict()['name']"
   ]
  },
  {
   "cell_type": "code",
   "execution_count": null,
   "metadata": {
    "ExecuteTime": {
     "end_time": "2018-06-29T01:53:15.139179Z",
     "start_time": "2018-06-29T01:53:15.116384Z"
    },
    "code_folding": [
     1
    ],
    "collapsed": true,
    "scrolled": true
   },
   "outputs": [],
   "source": [
    "###获取包名\n",
    "def get_name_from_google(package_name):\n",
    "    name = 'Not Found'\n",
    "    url = \"https://play.google.com/store/apps/details\"\n",
    "    querystring = {\"id\":package_name}\n",
    "\n",
    "    headers = {\n",
    "        'accept': \"text/html,application/xhtml+xml,application/xml;q=0.9,image/webp,image/apng,*/*;q=0.8\",\n",
    "        'accept-encoding': \"gzip, deflate, br\",\n",
    "        'accept-language': \"zh-CN,zh;q=0.9,en;q=0.8,zh-TW;q=0.7\",\n",
    "        'upgrade-insecure-requests': \"1\",\n",
    "        'cookie': 'SID=DAaVKqDYVfUDOvDttkKw4L9_fFoj3k4amZyPFCJv2-JrhZoD2gLvVPLqDS9ipsTYjwXWmw.; HSID=Az021_6ePZogKY8cM; SSID=ACpzbNvy8_x8Vnybk; APISID=7S1tb3ZsgGv_bYvR/ACjOTyZPnt4umXRCq; SAPISID=xjIFc_YmAa63ey27/AmEbiR4E6aujvkXPS; NID=130=ab4LxWGm30bUFH_KitKmxCkBbExye2K9qU5VTdygb49TBNA1a8pN4jyad6LYrAPvhIpVO6_iNDLTOJuWxrwzgPd3qCm6uC6LFx8txajCZp-xDO7tdQIGf_eQYLM_BVGPdAQ47Oa2WUX_9DshsR3iJItArmKVShCwPvA2HCFO6XLBDaHjyRpXAhPrYKZfGIQ0PVYRkT8hBjzDCtPM4VcHKbSmMi0SCQ1dVGJDTKbALIYYCBwODH_mQsStZA4FHzSzT71NG-xMPONgrzmi9h6Nm1Xo; OGPC=19005936-1:; S=billing-ui-v3=H2iK8QW8I6T65a977LlFh58Un3NygpND:billing-ui-v3-efe=H2iK8QW8I6T65a977LlFh58Un3NygpND; SIDCC=AEfoLebYzi5VJ4REqjhIorMwY7WG7kadx86R29vcphaujmkiGT8I2tDqnP5_VwSYG_kLoRECJg; 1P_JAR=2018-5-18-7',\n",
    "        'user-agent': \"Mozilla/5.0 (Macintosh; Intel Mac OS X 10_13_4) AppleWebKit/537.36  \\\n",
    "        (KHTML, like Gecko) Chrome/65.0.3325.181 Safari/537.36\",\n",
    "        'x-client-data': \"CKe1yQEIibbJAQiltskBCMG2yQEIq5jKAQipncoBCN6eygEIqKPKARiSo8oB\",\n",
    "        'cache-control': \"no-cache\",\n",
    "        }\n",
    "\n",
    "    response = requests.request(\"GET\", url, headers=headers, params=querystring)\n",
    "\n",
    "    if response.status_code == 200:\n",
    "        soup_app = BeautifulSoup(response.text, 'lxml')\n",
    "        href_all = soup_app.find_all('h1')\n",
    "        name = href_all[0].span.string\n",
    "        \n",
    "    return name"
   ]
  },
  {
   "cell_type": "code",
   "execution_count": null,
   "metadata": {
    "ExecuteTime": {
     "end_time": "2018-06-29T02:12:28.607719Z",
     "start_time": "2018-06-29T02:12:28.426933Z"
    },
    "code_folding": [
     0
    ],
    "collapsed": true
   },
   "outputs": [],
   "source": [
    "def get_bar_table_data(cur_month, last_month, rate=True, need_other=True):\n",
    "    top30_click = cur_month[-30:]\n",
    "    others = cur_month.sum() - top30_click.sum()\n",
    "    \n",
    "    if need_other:\n",
    "        top31_click = top30_click.append(pd.Series({'Others':others})).sort_values()\n",
    "    else:\n",
    "        top31_click = top30_click\n",
    "    appclick_diff = cur_month.sub(last_month, fill_value=0)[list(top30_click.index)]\n",
    "\n",
    "    package_name_diff = list(appclick_diff.index)\n",
    "    package_name_diff.reverse()\n",
    "\n",
    "    app_name_diff = []\n",
    "    for package in package_name_diff:\n",
    "        if package in total_apps_names.keys():\n",
    "            if total_apps_names[package] != 'Not Found':\n",
    "                app_name_diff.append(total_apps_names[package])\n",
    "            else:\n",
    "                app_name_diff.append(package)\n",
    "        else:\n",
    "            print('1 get package name from google:' + package)\n",
    "            name = get_name_from_google(package)\n",
    "            total_apps_names[package] = name\n",
    "            if name == 'Not Found':\n",
    "                app_name_diff.append(package)\n",
    "            else:\n",
    "                app_name_diff.append(name)\n",
    "                cydb.package2name.insert_one({'name':name, 'package_name':package})\n",
    "            time.sleep(2)\n",
    "    \n",
    "    value_diff = list(appclick_diff.values)\n",
    "    value_diff.reverse()\n",
    "    \n",
    "    packages_name = []\n",
    "    package_list = list(total_apps['package_name'])\n",
    "    for package in top31_click.index:\n",
    "        if package in total_apps_names.keys():\n",
    "            if total_apps_names[package] != 'Not Found':\n",
    "                packages_name.append(total_apps_names[package])\n",
    "            else:\n",
    "                packages_name.append(package)\n",
    "        else:\n",
    "            print('3 get package name from google:' + package)\n",
    "            name = get_name_from_google(package)\n",
    "            total_apps_names[package] = name\n",
    "            if name == 'Not Found':\n",
    "                packages_name.append(package)\n",
    "            else:\n",
    "                packages_name.append(name)\n",
    "                cydb.package2name.insert_one({'name':name, 'package_name':package})\n",
    "            time.sleep(2)\n",
    "    \n",
    "    bar_data = {}\n",
    "    bar_data['y'] = packages_name\n",
    "    bar_data['x'] = top31_click.values\n",
    "    if rate:\n",
    "        bar_data['text'] = top31_click.apply(lambda x:'{:.2f}%'.format(x*100)).values\n",
    "        table_data = [app_name_diff, ['{:.2f}%'.format(x*100) for x in value_diff]]\n",
    "    else:\n",
    "        bar_data['text'] = top31_click.apply(lambda x:round(x,1)).values\n",
    "        table_data = [app_name_diff, [round(x,1) for x in value_diff]]\n",
    "    \n",
    "    \n",
    "    return bar_data, table_data"
   ]
  },
  {
   "cell_type": "code",
   "execution_count": null,
   "metadata": {
    "ExecuteTime": {
     "end_time": "2018-06-29T02:12:29.824257Z",
     "start_time": "2018-06-29T02:12:29.796156Z"
    },
    "code_folding": [],
    "collapsed": true
   },
   "outputs": [],
   "source": [
    "def draw_bar_table(bar_data, table_data, height, width, title, table_pos={'x':[0.45, 0.9], 'y':[0, 0.8]}):\n",
    "    table_trace = go.Table(\n",
    "        domain=table_pos,\n",
    "        columnwidth = [52]*2,\n",
    "        columnorder=[0, 1],\n",
    "        header = dict(height = 25,\n",
    "                    values = [['<b>名称</b>'],['<b>与上月同比</b>'],],\n",
    "                    line = dict(color='#000000'),\n",
    "                    align = ['left'] * 2,\n",
    "                    font = dict(color=['#FFFFFF'] * 2, size=14),\n",
    "                    fill = dict(color='#2d5b6c')),\n",
    "        cells = dict(values = table_data,\n",
    "                    line = dict(color='#000000'),\n",
    "                    align = ['left'] * 2,\n",
    "                    font = dict(color=['#FFFFFF'] * 2, size=12),\n",
    "                    #format = [None]*4 + [',.2f'],\n",
    "                    #prefix = [None] * 2 + ['$', u'\\u20BF'],\n",
    "                    #suffix=[None] * 4,\n",
    "                    height = 25,\n",
    "                    fill = dict(color=['#68a4b9', '#526372']))\n",
    "    )\n",
    "\n",
    "    trace = go.Bar(y=bar_data['y'], x=bar_data['x'], orientation = 'h',\n",
    "                  text = bar_data['text'],textposition = 'outside',)\n",
    "\n",
    "    layout = go.Layout(\n",
    "        title=title,\n",
    "        height=height,\n",
    "        width=width,\n",
    "        margin=dict(l=300,r=0),\n",
    "        yaxis = dict(ticklen=2)\n",
    "    )\n",
    "\n",
    "    fig = go.Figure(data=[trace,table_trace],layout=layout)\n",
    "    py.iplot(fig)\n"
   ]
  },
  {
   "cell_type": "markdown",
   "metadata": {
    "heading_collapsed": true
   },
   "source": [
    "## 获取上两月，上月及当月的数据"
   ]
  },
  {
   "cell_type": "code",
   "execution_count": null,
   "metadata": {
    "collapsed": true,
    "hidden": true
   },
   "outputs": [],
   "source": [
    "\n",
    "last_2month = datetime.datetime(2018, 4, 18).timestamp()\n",
    "last_month = datetime.datetime(2018, 5, 18).timestamp()\n",
    "cur_month = datetime.datetime(2018, 6, 18).timestamp()\n",
    "\n",
    "df_last_month = valid_data[(valid_data['wallTime'] >= last_2month) & (valid_data['wallTime'] < last_month)]\n",
    "df_cur_month = valid_data[(valid_data['wallTime'] >= last_month) & (valid_data['wallTime'] < cur_month)]"
   ]
  },
  {
   "cell_type": "markdown",
   "metadata": {
    "heading_collapsed": true
   },
   "source": [
    "## 点击排行"
   ]
  },
  {
   "cell_type": "code",
   "execution_count": null,
   "metadata": {
    "ExecuteTime": {
     "end_time": "2018-06-29T02:12:32.503731Z",
     "start_time": "2018-06-29T02:12:31.607134Z"
    },
    "collapsed": true,
    "hidden": true
   },
   "outputs": [],
   "source": [
    "imeis_cur_month = len(df_cur_month['IMEI'].unique())\n",
    "imeis_last_month = len(df_last_month['IMEI'].unique())\n",
    "\n",
    "total_appclick_cur_month = df_cur_month[df_cur_month['name'] == 'appclick']\n",
    "total_appclick_last_month = df_last_month[df_last_month['name'] == 'appclick']"
   ]
  },
  {
   "cell_type": "code",
   "execution_count": null,
   "metadata": {
    "ExecuteTime": {
     "end_time": "2018-06-29T02:13:54.194105Z",
     "start_time": "2018-06-29T02:13:27.701308Z"
    },
    "hidden": true
   },
   "outputs": [],
   "source": [
    "appclick_cur_month = total_appclick_cur_month.groupby(['attrs_packagename']).size().sort_values().truediv(len(total_appclick_cur_month))\n",
    "appclick_last_month = total_appclick_last_month.groupby(['attrs_packagename']).size().sort_values().truediv(len(total_appclick_last_month))\n",
    "\n",
    "title='点击次数排名<br>总点击数:{}  设备数:{}'.format(len(total_appclick_cur_month), imeis_cur_month)\n",
    "bar_data, table_data = get_bar_table_data(appclick_cur_month, appclick_last_month)"
   ]
  },
  {
   "cell_type": "code",
   "execution_count": null,
   "metadata": {
    "ExecuteTime": {
     "end_time": "2018-06-29T02:15:22.182880Z",
     "start_time": "2018-06-29T02:15:22.172488Z"
    },
    "hidden": true,
    "scrolled": true
   },
   "outputs": [],
   "source": [
    "draw_bar_table(bar_data, table_data, height=1300, width=1300, title=title)"
   ]
  },
  {
   "cell_type": "code",
   "execution_count": null,
   "metadata": {
    "ExecuteTime": {
     "end_time": "2018-06-29T02:15:47.590969Z",
     "start_time": "2018-06-29T02:15:47.463202Z"
    },
    "hidden": true
   },
   "outputs": [],
   "source": [
    "click_by_phone_cur_month = total_appclick_cur_month.groupby(['attrs_packagename']).size().sort_values().truediv(imeis_cur_month)\n",
    "click_by_phone_cur_month = click_by_phone_cur_month.apply(lambda x: round(x,1))\n",
    "click_by_phone_last_month = total_appclick_last_month.groupby(['attrs_packagename']).size().sort_values().truediv(imeis_last_month)\n",
    "click_by_phone_last_month = click_by_phone_last_month.apply(lambda x: round(x,1))\n",
    "\n",
    "title='人均点击排名<br>总点击数:{}  设备数:{}'.format(len(total_appclick_cur_month), imeis_cur_month)\n",
    "bar_data, table_data = get_bar_table_data(click_by_phone_cur_month, click_by_phone_last_month, False)\n",
    "draw_bar_table(bar_data, table_data, height=1300, width=1300, title=title)"
   ]
  },
  {
   "cell_type": "markdown",
   "metadata": {
    "heading_collapsed": true
   },
   "source": [
    "## 安装卸载排行"
   ]
  },
  {
   "cell_type": "code",
   "execution_count": null,
   "metadata": {
    "ExecuteTime": {
     "end_time": "2018-06-29T02:16:10.467998Z",
     "start_time": "2018-06-29T02:16:10.426164Z"
    },
    "collapsed": true,
    "hidden": true
   },
   "outputs": [],
   "source": [
    "def install_rate(cur_month, last_month, label,title,height=1200,width=1200,by_imei=True):\n",
    "    data_cur = cur_month[cur_month.name == label].groupby(['IMEI', 'attrs_packagename']).size()\n",
    "    data_last = last_month[last_month.name == label].groupby(['IMEI', 'attrs_packagename']).size()\n",
    "    \n",
    "    package_info_cur = data_cur.reset_index()\n",
    "    package_info_last = data_last.reset_index()\n",
    "    \n",
    "    imeis_cur = len(cur_month['IMEI'].unique())\n",
    "    imeis_last = len(last_month['IMEI'].unique())\n",
    "    total_cur = package_info_cur.groupby('attrs_packagename').size().sort_values().sum()\n",
    "    total_last = package_info_last.groupby('attrs_packagename').size().sort_values().sum()\n",
    "    \n",
    "    if by_imei:\n",
    "        divisor_cur = imeis_cur\n",
    "        divisor_last = imeis_last\n",
    "    else:\n",
    "        divisor_cur = total_cur\n",
    "        divisor_last = total_last\n",
    "        \n",
    "    package_rate_cur = package_info_cur.groupby('attrs_packagename').size().sort_values()/divisor_cur\n",
    "    package_rate_last = package_info_last.groupby('attrs_packagename').size().sort_values()/divisor_last\n",
    "    \n",
    "    bar_data, table_data = get_bar_table_data(package_rate_cur, package_rate_last, rate=True, need_other=False)\n",
    "    title= title + '<br>总次数:{}  总设备数:{}'.format(str(int(total_cur)), imeis_cur)\n",
    " \n",
    "    draw_bar_table(bar_data, table_data, height, width, title)"
   ]
  },
  {
   "cell_type": "code",
   "execution_count": null,
   "metadata": {
    "ExecuteTime": {
     "end_time": "2018-06-29T02:16:48.322424Z",
     "start_time": "2018-06-29T02:16:12.683003Z"
    },
    "hidden": true
   },
   "outputs": [],
   "source": [
    "install_rate(df_cur_month, df_last_month, 'appinstall', '安装应用排行', height=1300,width=1300,by_imei=False)"
   ]
  },
  {
   "cell_type": "code",
   "execution_count": null,
   "metadata": {
    "ExecuteTime": {
     "end_time": "2018-06-29T02:17:06.655178Z",
     "start_time": "2018-06-29T02:17:06.517954Z"
    },
    "hidden": true
   },
   "outputs": [],
   "source": [
    "install_rate(df_cur_month, df_last_month, 'appinstall', '安装应用覆盖率排行', height=1300,width=1300)"
   ]
  },
  {
   "cell_type": "code",
   "execution_count": null,
   "metadata": {
    "ExecuteTime": {
     "end_time": "2018-06-29T02:18:06.837500Z",
     "start_time": "2018-06-29T02:18:06.710593Z"
    },
    "hidden": true
   },
   "outputs": [],
   "source": [
    "install_rate(df_cur_month, df_last_month,'appremove', '卸载应用排行',height=1400,width=1300)"
   ]
  },
  {
   "cell_type": "markdown",
   "metadata": {},
   "source": [
    "## Camera 应用 "
   ]
  },
  {
   "cell_type": "code",
   "execution_count": null,
   "metadata": {
    "ExecuteTime": {
     "end_time": "2018-06-29T02:18:18.467932Z",
     "start_time": "2018-06-29T02:18:18.461940Z"
    },
    "collapsed": true
   },
   "outputs": [],
   "source": [
    "chinese_name_photos = {'photo':'普通拍照', 'panorama':'全景', 'facebeauty':'美颜', 'hdr':'逆光', 'nightvideo':'夜景',\n",
    "                'selfiepanorama':'全景自拍', 'polaroid':'心情照片','gifshot':'GIF动画','profession':'高级', 'arcfilter':'滤镜'}\n",
    "chinese_name_videos = {'video':'普通摄像','slowmotion':'慢动作摄影', 'timelapse':'延时摄影'}"
   ]
  },
  {
   "cell_type": "code",
   "execution_count": null,
   "metadata": {
    "ExecuteTime": {
     "end_time": "2018-06-29T02:18:20.504627Z",
     "start_time": "2018-06-29T02:18:20.493642Z"
    },
    "code_folding": [
     0
    ],
    "collapsed": true
   },
   "outputs": [],
   "source": [
    "def draw_camera(cur, last, height, width, title, table_pos={'x':[0.45, 0.9], 'y':[0, 0.86]}):\n",
    "    cur_rate = cur.apply(lambda x:x/cur.sum())\n",
    "    last_rate = last.apply(lambda x:x/last.sum())\n",
    "    diff_data = cur_rate.sub(last_rate, fill_value=0)\n",
    "    table_data = [diff_data.index, ['{:.2f}%'.format(x*100) for x in diff_data]]\n",
    "    bar_data = {'y':cur_rate.index, 'x':cur_rate.values,\n",
    "                'text':cur_rate.apply(lambda x:'{:.1f}%'.format(x*100)).values}\n",
    "    draw_bar_table(bar_data, table_data, height, width, title, table_pos)"
   ]
  },
  {
   "cell_type": "code",
   "execution_count": null,
   "metadata": {
    "ExecuteTime": {
     "end_time": "2018-06-29T02:18:25.446007Z",
     "start_time": "2018-06-29T02:18:25.386837Z"
    },
    "code_folding": [
     0
    ],
    "collapsed": true
   },
   "outputs": [],
   "source": [
    "def get_camera_data(df):\n",
    "    takephoto_data_cur = df[df['name'] == 'TakePhoto']\n",
    "    video_data_cur = df[df['name'] == 'Video']\n",
    "\n",
    "    total_camera_cur = len(takephoto_data_cur)\n",
    "    total_video_cur = len(video_data_cur)\n",
    "    total_used_cur = (len(takephoto_data_cur) + len(video_data_cur))\n",
    "\n",
    "    capturemode_cur = takephoto_data_cur.groupby(['attrs_Capturemode']).size().sort_values()\n",
    "\n",
    "    capture_dict_cur = {}\n",
    "    total_camera_dict_cur = {}\n",
    "    for p in chinese_name_photos:\n",
    "        if p in capturemode_cur.index:\n",
    "            capture_dict_cur[chinese_name_photos[p]] = capturemode_cur[p]\n",
    "            total_camera_dict_cur[chinese_name_photos[p]] = capturemode_cur[p]\n",
    "        else:\n",
    "            total_camera_dict_cur[chinese_name_photos[p]] = 0\n",
    "            capture_dict_cur[chinese_name_photos[p]] = 0\n",
    "\n",
    "    capture_chinese_data = pd.Series(capture_dict_cur).sort_values()\n",
    "\n",
    "    video_mode = video_data_cur.groupby(['attrs_Videomode']).size().sort_values()\n",
    "    video_dict_cur = {}\n",
    "    for p in chinese_name_videos:\n",
    "        if p in video_mode.index:\n",
    "            video_dict_cur[chinese_name_videos[p]] = video_mode[p]\n",
    "            total_camera_dict_cur[chinese_name_videos[p]] = video_mode[p]\n",
    "        else:\n",
    "            capture_dict_cur[chinese_name_videos[p]] = 0\n",
    "            total_camera_dict_cur[chinese_name_videos[p]] = 0\n",
    "\n",
    "    video_chinese_data = pd.Series(video_dict_cur).sort_values()\n",
    "    total_chinese_data = pd.Series(total_camera_dict_cur).sort_values()\n",
    "    \n",
    "    return [capture_chinese_data,video_chinese_data,total_chinese_data]"
   ]
  },
  {
   "cell_type": "code",
   "execution_count": null,
   "metadata": {
    "ExecuteTime": {
     "end_time": "2018-06-29T02:18:29.129619Z",
     "start_time": "2018-06-29T02:18:28.946487Z"
    },
    "collapsed": true
   },
   "outputs": [],
   "source": [
    "cur_camera = get_camera_data(df_cur_month)\n",
    "last_camera = get_camera_data(df_last_month)"
   ]
  },
  {
   "cell_type": "code",
   "execution_count": null,
   "metadata": {
    "ExecuteTime": {
     "end_time": "2018-06-29T02:18:30.793492Z",
     "start_time": "2018-06-29T02:18:30.779678Z"
    }
   },
   "outputs": [],
   "source": [
    "draw_camera(cur_camera[0], last_camera[0], 550, 1200, '拍照使用排名<br>总使用次数:{}'.format(cur_camera[0].sum()))"
   ]
  },
  {
   "cell_type": "code",
   "execution_count": null,
   "metadata": {
    "ExecuteTime": {
     "end_time": "2018-06-29T02:18:35.614503Z",
     "start_time": "2018-06-29T02:18:35.578043Z"
    }
   },
   "outputs": [],
   "source": [
    "draw_camera(cur_camera[1], last_camera[1], 400, 1200, '录像使用排名<br>总使用次数:{}'.format(cur_camera[1].sum()),\n",
    "           table_pos={'x':[0.45, 0.9], 'y':[0, 0.6]})"
   ]
  },
  {
   "cell_type": "code",
   "execution_count": null,
   "metadata": {
    "ExecuteTime": {
     "end_time": "2018-06-29T02:18:39.920557Z",
     "start_time": "2018-06-29T02:18:39.902700Z"
    }
   },
   "outputs": [],
   "source": [
    "draw_camera(cur_camera[2], last_camera[2], 600, 1200, '相机使用排名<br>总使用次数:{}'.format(cur_camera[2].sum()))"
   ]
  },
  {
   "cell_type": "markdown",
   "metadata": {
    "collapsed": true
   },
   "source": [
    "### 销量统计"
   ]
  },
  {
   "cell_type": "code",
   "execution_count": null,
   "metadata": {
    "ExecuteTime": {
     "end_time": "2018-05-18T03:55:36.176491Z",
     "start_time": "2018-05-18T03:55:36.172823Z"
    },
    "collapsed": true
   },
   "outputs": [],
   "source": [
    "#valid_data.groupby(['IMEI', 'wallTime']).size()"
   ]
  },
  {
   "cell_type": "code",
   "execution_count": 125,
   "metadata": {
    "ExecuteTime": {
     "end_time": "2018-06-29T09:20:27.277522Z",
     "start_time": "2018-06-29T09:20:27.145135Z"
    },
    "collapsed": true
   },
   "outputs": [],
   "source": [
    "imeis = len(valid_data['IMEI'].unique())"
   ]
  },
  {
   "cell_type": "code",
   "execution_count": 127,
   "metadata": {
    "ExecuteTime": {
     "end_time": "2018-06-29T09:20:47.498932Z",
     "start_time": "2018-06-29T09:20:47.493555Z"
    }
   },
   "outputs": [
    {
     "data": {
      "text/plain": [
       "699"
      ]
     },
     "execution_count": 127,
     "metadata": {},
     "output_type": "execute_result"
    }
   ],
   "source": [
    "imeis"
   ]
  },
  {
   "cell_type": "code",
   "execution_count": null,
   "metadata": {
    "ExecuteTime": {
     "end_time": "2018-06-29T02:19:26.000005Z",
     "start_time": "2018-06-29T02:19:25.996642Z"
    },
    "collapsed": true
   },
   "outputs": [],
   "source": [
    "d518 = datetime.datetime(2018, 1, 1).timestamp()"
   ]
  },
  {
   "cell_type": "code",
   "execution_count": null,
   "metadata": {
    "ExecuteTime": {
     "end_time": "2018-06-29T04:01:30.678500Z",
     "start_time": "2018-06-29T04:01:30.633818Z"
    },
    "collapsed": true
   },
   "outputs": [],
   "source": [
    "vvdata = valid_data[valid_data['registerTime'] < d518]\n",
    "#imeis = len(vvdata['IMEI'].unique())\n",
    "#vvdata = valid_data\n",
    "register = vvdata.groupby(['IMEI', 'registerTime']).size()\n",
    "register_data = {}\n",
    "\n",
    "for imei, group in register.reset_index().groupby(['IMEI']):\n",
    "    register_date = datetime.datetime.fromtimestamp(group.iloc[-1]['registerTime'])\n",
    "    register_data[imei] = register_date"
   ]
  },
  {
   "cell_type": "code",
   "execution_count": null,
   "metadata": {
    "ExecuteTime": {
     "end_time": "2018-06-29T04:01:38.689526Z",
     "start_time": "2018-06-29T04:01:38.684473Z"
    },
    "collapsed": true
   },
   "outputs": [],
   "source": [
    "psd = pd.DataFrame.from_dict(register_data, orient='index')"
   ]
  },
  {
   "cell_type": "code",
   "execution_count": null,
   "metadata": {
    "ExecuteTime": {
     "end_time": "2018-06-29T04:01:41.669971Z",
     "start_time": "2018-06-29T04:01:41.661378Z"
    }
   },
   "outputs": [],
   "source": [
    "psd"
   ]
  },
  {
   "cell_type": "code",
   "execution_count": null,
   "metadata": {
    "ExecuteTime": {
     "end_time": "2018-06-29T02:19:42.307033Z",
     "start_time": "2018-06-29T02:19:42.297303Z"
    },
    "collapsed": true
   },
   "outputs": [],
   "source": [
    "register_count = psd.groupby([0]).size()"
   ]
  },
  {
   "cell_type": "code",
   "execution_count": null,
   "metadata": {
    "ExecuteTime": {
     "end_time": "2018-06-29T02:19:45.422126Z",
     "start_time": "2018-06-29T02:19:45.413592Z"
    },
    "collapsed": true
   },
   "outputs": [],
   "source": [
    "cc = register_count.resample('D').sum().fillna(0)"
   ]
  },
  {
   "cell_type": "code",
   "execution_count": null,
   "metadata": {
    "ExecuteTime": {
     "end_time": "2018-06-29T02:19:46.580833Z",
     "start_time": "2018-06-29T02:19:46.573765Z"
    },
    "collapsed": true
   },
   "outputs": [],
   "source": [
    "paper_bgcolor='#242640'\n",
    "plot_bgcolor='#242640'\n",
    "paper_bgcolor='#FFFFFF'\n",
    "plot_bgcolor='#FFFFFF'\n",
    "text_color = '#000000'\n",
    "x_color = '#000000'\n",
    "y_color = '#000000'\n",
    "title_color = '#000000'\n",
    "legend_color = '#000000'"
   ]
  },
  {
   "cell_type": "code",
   "execution_count": null,
   "metadata": {
    "ExecuteTime": {
     "end_time": "2018-06-29T02:19:49.942757Z",
     "start_time": "2018-06-29T02:19:49.935023Z"
    }
   },
   "outputs": [],
   "source": [
    "cc.index.strftime('%m-%d')"
   ]
  },
  {
   "cell_type": "code",
   "execution_count": null,
   "metadata": {
    "ExecuteTime": {
     "end_time": "2018-06-29T02:19:56.078500Z",
     "start_time": "2018-06-29T02:19:56.070191Z"
    }
   },
   "outputs": [],
   "source": [
    "cc.index.strftime('%y-%m-%d')"
   ]
  },
  {
   "cell_type": "code",
   "execution_count": null,
   "metadata": {
    "ExecuteTime": {
     "end_time": "2018-06-29T02:19:57.473053Z",
     "start_time": "2018-06-29T02:19:57.464861Z"
    }
   },
   "outputs": [],
   "source": [
    "cc.values"
   ]
  },
  {
   "cell_type": "code",
   "execution_count": null,
   "metadata": {
    "ExecuteTime": {
     "end_time": "2018-06-29T02:19:58.671922Z",
     "start_time": "2018-06-29T02:19:58.661391Z"
    },
    "collapsed": true
   },
   "outputs": [],
   "source": [
    "bandxaxis = go.XAxis(\n",
    "        type='date',\n",
    "        #range=[(created_by_day.index[start] - 1).strftime('%y-%m-%d'),\n",
    "        #       (created_by_day.index[-1] + 1).strftime('%y-%m-%d'),],\n",
    "        ticks=\"outside\", \n",
    "        showticklabels=True,\n",
    "        ticktext=list(cc.index.strftime('%m-%d')),\n",
    "        tickvals=list(cc.index.strftime('%y-%m-%d')),\n",
    "        tickfont=dict(size=11),\n",
    "        #tickfont=dict(size=11,color='#B9B9C3'),\n",
    "        ticklen=10,showgrid=True,\n",
    "        #color='#FFFFFF'\n",
    "    )"
   ]
  },
  {
   "cell_type": "code",
   "execution_count": null,
   "metadata": {
    "ExecuteTime": {
     "end_time": "2018-06-29T02:19:59.747704Z",
     "start_time": "2018-06-29T02:19:59.741497Z"
    },
    "collapsed": true
   },
   "outputs": [],
   "source": [
    "data=[go.Bar(\n",
    "        x = cc.index,\n",
    "        y = cc.values,\n",
    "        text=cc.values, \n",
    "        textposition='outside',)\n",
    "        #marker=dict(color='#7D858C')), \n",
    "]\n"
   ]
  },
  {
   "cell_type": "code",
   "execution_count": null,
   "metadata": {
    "ExecuteTime": {
     "end_time": "2018-06-29T02:20:47.131003Z",
     "start_time": "2018-06-29T02:20:47.105127Z"
    }
   },
   "outputs": [],
   "source": [
    "layout = go.Layout(\n",
    "    title='销量趋势图<br>总数:' + str(imeis),\n",
    "    titlefont=dict(color=title_color,size=25),\n",
    "    height=1200,\n",
    "    width=2000,\n",
    "    bargap=0.1,\n",
    "    xaxis = bandxaxis,\n",
    "    yaxis = dict(ticklen=10),\n",
    "    #bargroupgap=0.05,\n",
    "    #paper_bgcolor=paper_bgcolor,\n",
    "    #plot_bgcolor=plot_bgcolor,\n",
    "    legend=dict(\n",
    "        x=0.1,\n",
    "        font=dict(size=16),\n",
    "    )\n",
    ")\n",
    "\n",
    "fig = go.Figure(data=data,layout=layout)\n",
    "py.iplot(fig)"
   ]
  },
  {
   "cell_type": "markdown",
   "metadata": {
    "ExecuteTime": {
     "end_time": "2018-06-29T07:13:56.809328Z",
     "start_time": "2018-06-29T07:13:56.783285Z"
    },
    "collapsed": true
   },
   "source": [
    "## OTA 统计"
   ]
  },
  {
   "cell_type": "markdown",
   "metadata": {},
   "source": [
    "### ota 包升级率"
   ]
  },
  {
   "cell_type": "code",
   "execution_count": 110,
   "metadata": {
    "ExecuteTime": {
     "end_time": "2018-06-29T09:11:49.664595Z",
     "start_time": "2018-06-29T09:11:49.637671Z"
    },
    "collapsed": true
   },
   "outputs": [],
   "source": [
    "def draw_stats_table(table_data, height, width, title, annotation):\n",
    "    table_trace = go.Table(\n",
    "        columnwidth = [52]*3,\n",
    "        columnorder=[0, 1, 2],\n",
    "        header = dict(height = 25,\n",
    "                    values = [['<b>版本</b>'],['<b>升级率</b>'],['<b>升级个数</b>']],\n",
    "                    line = dict(color='#000000'),\n",
    "                    align = ['left'] * 3,\n",
    "                    font = dict(color=['#FFFFFF'] * 3, size=14),\n",
    "                    fill = dict(color='#2d5b6c')),\n",
    "        cells = dict(values = table_data,\n",
    "                    line = dict(color='#000000'),\n",
    "                    align = ['left'] * 3,\n",
    "                    font = dict(color=['#FFFFFF'] * 3, size=12),\n",
    "                    #format = [None]*4 + [',.2f'],\n",
    "                    #prefix = [None] * 2 + ['$', u'\\u20BF'],\n",
    "                    #suffix=[None] * 4,\n",
    "                    height = 25,\n",
    "                    fill = dict(color=['#68a4b9', '#526372']))\n",
    "    )\n",
    "    \n",
    "    annotations = { \"text\": annotation,\n",
    "               \"showarrow\": False,\n",
    "               \"xref\": \"paper\",\n",
    "               \"yref\": \"paper\",\n",
    "               \"x\": 0,\n",
    "               \"y\": 0}\n",
    "    \n",
    "    layout = go.Layout(\n",
    "        title=title,\n",
    "        height=height,\n",
    "        width=width,\n",
    "        annotations=[annotations],\n",
    "        #margin=dict(l=300,r=0),\n",
    "        #yaxis = dict(ticklen=2)\n",
    "    )\n",
    "\n",
    "    fig = go.Figure(data=[table_trace],layout=layout)\n",
    "    py.iplot(fig)\n"
   ]
  },
  {
   "cell_type": "code",
   "execution_count": 79,
   "metadata": {
    "ExecuteTime": {
     "end_time": "2018-06-29T08:54:58.859162Z",
     "start_time": "2018-06-29T08:54:58.773751Z"
    }
   },
   "outputs": [],
   "source": [
    "device_models = valid_data.deviceModel.unique()"
   ]
  },
  {
   "cell_type": "code",
   "execution_count": 138,
   "metadata": {
    "ExecuteTime": {
     "end_time": "2018-06-29T09:25:04.965770Z",
     "start_time": "2018-06-29T09:25:04.504279Z"
    }
   },
   "outputs": [],
   "source": [
    "d1 = valid_data[valid_data['deviceModel'] == device_models[1]]['IMEI'].unique()"
   ]
  },
  {
   "cell_type": "code",
   "execution_count": 137,
   "metadata": {
    "ExecuteTime": {
     "end_time": "2018-06-29T09:24:52.835555Z",
     "start_time": "2018-06-29T09:24:52.607531Z"
    }
   },
   "outputs": [],
   "source": [
    "d2 = valid_data[valid_data['deviceModel'] == device_models[0]]['IMEI'].unique()"
   ]
  },
  {
   "cell_type": "code",
   "execution_count": 139,
   "metadata": {
    "ExecuteTime": {
     "end_time": "2018-06-29T09:25:23.639324Z",
     "start_time": "2018-06-29T09:25:23.623985Z"
    }
   },
   "outputs": [
    {
     "name": "stdout",
     "output_type": "stream",
     "text": [
      "354147042107087;354147043107086\n",
      "354147020876752;354147020138542\n",
      "123456789012347;123456789012347\n"
     ]
    }
   ],
   "source": [
    "for d in d2:\n",
    "    if d in d1:\n",
    "        print(d)"
   ]
  },
  {
   "cell_type": "code",
   "execution_count": 134,
   "metadata": {
    "ExecuteTime": {
     "end_time": "2018-06-29T09:23:33.262763Z",
     "start_time": "2018-06-29T09:23:33.214691Z"
    }
   },
   "outputs": [
    {
     "data": {
      "text/plain": [
       "array(['354147042070715;354147042085713',\n",
       "       '354147042070251;354147042085259',\n",
       "       '354147042334574;354147042384579',\n",
       "       '354147042054644;354147042054677',\n",
       "       '784354325132123;458456143251321',\n",
       "       '444444444444446;354147040127103',\n",
       "       '354147042334145;354147042384140',\n",
       "       '354147043175851;354147042358698',\n",
       "       '354147042334152;354147042384157',\n",
       "       '354147042334129;354147042384124',\n",
       "       '354147042054560;354147089746516',\n",
       "       '354288080016275;354288080016283',\n",
       "       '354147095475217;354147062985313',\n",
       "       '354147075984618;354147016987522',\n",
       "       '354147042089541;354147042013269',\n",
       "       '354147042334749;354147042384744',\n",
       "       '868955030027250;868955030027268',\n",
       "       '868954030020431;868954030020449',\n",
       "       '868954030026818;868954030026826',\n",
       "       '354147042071317;354147042086315',\n",
       "       '868954030020878;868954030020886',\n",
       "       '868954030021256;868954030021264',\n",
       "       '868954030026016;868954030026024',\n",
       "       '868954030021090;868954030021108',\n",
       "       '354147042045642;354147042049859',\n",
       "       '354147042045436;354147042097437',\n",
       "       '354147042046541;354147042045469',\n",
       "       '354147048646542;354147087376480',\n",
       "       '354147094164135;354147094541324',\n",
       "       '354147042131459;354147042112582',\n",
       "       '354147042049875;354147042065897',\n",
       "       '354147042336223;354147042336264',\n",
       "       '354147042098989;354147042023243',\n",
       "       '354147042341489;354147042342568',\n",
       "       '354147042087859;354147042023458',\n",
       "       '354147040016215;354147040016223',\n",
       "       '354147042341597;354147042342569',\n",
       "       '354147042071366;354147042086364',\n",
       "       '868955030007252;868955030007260',\n",
       "       '354147042334640;354147042384645',\n",
       "       '868955030013177;868955030013185',\n",
       "       '868954030022353;868954030022361',\n",
       "       '354147042334707;354147042384702',\n",
       "       '868954030021975;868954030021983',\n",
       "       '868955030008771;868955030008789',\n",
       "       '868954030014533;868954030014541',\n",
       "       '354147016578461;354147019859462',\n",
       "       '354147042063454;354147042063561',\n",
       "       '354147042045147;354147045415644',\n",
       "       '868955030008615;868955030008623',\n",
       "       '354147042071358;354147042086356',\n",
       "       '868954030021595;868954030021603',\n",
       "       '354147042071523;354147042086521',\n",
       "       '868955030026237;868955030026245',\n",
       "       '354147042092115;354147042036443',\n",
       "       '354243658643456;354654876543532',\n",
       "       '354147042077967;354147042077355',\n",
       "       '868954030021033;868954030021041',\n",
       "       '868955030026773;868955030026781',\n",
       "       '868955030010579;868955030010587',\n",
       "       '868955030007799;868955030007807',\n",
       "       '354147042070541;354147042085549',\n",
       "       '868954030026032;868954030026040',\n",
       "       '868955030003475;868955030003483',\n",
       "       '869888015016346;869888015036344',\n",
       "       '868954030006059;868954030006067',\n",
       "       '868955030026872;868955030026880',\n",
       "       '868954030022114;868954030022122',\n",
       "       '868955030020792;868955030020800',\n",
       "       '868955030022418;868955030022426',\n",
       "       '868954030027097;868954030027105',\n",
       "       '868954030027451;868954030027469',\n",
       "       '868955030004457;868955030004465',\n",
       "       '354147042071408;354147042086406',\n",
       "       '354147042336272;354147042336231',\n",
       "       '354147042070368;354147042085366',\n",
       "       '868955030022210;868955030022228',\n",
       "       '868954030017536;868954030017544',\n",
       "       '868954030028335;868954030028343',\n",
       "       '868954030006091;868954030006109',\n",
       "       '868955030027730;868955030027748',\n",
       "       '868954030026917;868954030026925',\n",
       "       '868955030022715;868955030022723',\n",
       "       '868954030012115;868954030012123',\n",
       "       '868954030027436;868954030027444',\n",
       "       '868955030012310;868955030012328',\n",
       "       '354147078644151;354147089645312',\n",
       "       '354147042074948;354174708489489',\n",
       "       '354147068456459;354147089584537',\n",
       "       '868954030029499;868954030029507',\n",
       "       '354147042070491;354147042085499',\n",
       "       '868955030011338;868955030011346',\n",
       "       '868954030016058;868954030016066',\n",
       "       '868954030028616;868954030028624',\n",
       "       '868954030003437;868954030003445',\n",
       "       '868954030008576;868954030008584',\n",
       "       '868954030011091;868954030011109',\n",
       "       '354147042089558;354147042035239',\n",
       "       '868955030008417;868955030008425',\n",
       "       '868955030027490;868955030027508',\n",
       "       '868954030010531;868954030010549',\n",
       "       '868954030020852;868954030020860',\n",
       "       '868954030029655;868954030029663',\n",
       "       '354147042065988;354147042023540',\n",
       "       '354457658978564;352535476865686',\n",
       "       '354147042047895;354147042048984',\n",
       "       '354147042107087;354147043107086',\n",
       "       '354243657546345;352544365463432',\n",
       "       '354147042045451;354147042045238',\n",
       "       '868955030024612;868955030024620',\n",
       "       '868954030005978;868954030005986',\n",
       "       '868955030021618;868955030021626',\n",
       "       '868954030014251;868954030014269',\n",
       "       '868955030022970;868955030022988',\n",
       "       '868955030003756;868955030003764',\n",
       "       '868955030021451;868955030021469',\n",
       "       '354147054645347;354147045641538',\n",
       "       '354147042070269;354147042085267',\n",
       "       '868955030027698;868955030027706',\n",
       "       '868954030015118;868954030015126',\n",
       "       '354147042071564;354147042086562',\n",
       "       '868954030028475;868954030028483',\n",
       "       '868954030025174;868954030025182',\n",
       "       '867576029073906;867576029073914',\n",
       "       '868955030028514;868955030028522',\n",
       "       '868954030007677;868954030007685',\n",
       "       '354147042070533;354147042085531',\n",
       "       '868954030020290;868954030020308',\n",
       "       '868955030009175;868955030009183',\n",
       "       '868955030022335;868955030022343',\n",
       "       '868954030026297;868954030026305',\n",
       "       '868955030009332;868955030009340',\n",
       "       '868954030027113;868954030027121',\n",
       "       '868955030028431;868955030028449',\n",
       "       '868954030027477;868954030027485',\n",
       "       '868954030026875;868954030026883',\n",
       "       '868954030006398;868954030006406',\n",
       "       '868954030011737;868954030011745',\n",
       "       '868954030021355;868954030021363',\n",
       "       '868955030023390;868955030023408',\n",
       "       '868954030014574;868954030014582',\n",
       "       '868954030017114;868954030017122',\n",
       "       '868955030023093;868955030023101',\n",
       "       '868955030023630;868955030023648',\n",
       "       '868954030010739;868954030010747',\n",
       "       '354147042332537;354147042382532',\n",
       "       '868955030021055;868955030021063',\n",
       "       '868955030026674;868955030026682',\n",
       "       '868954030020118;868954030020126',\n",
       "       '354147042070848;354147042085846',\n",
       "       '868955030027813;868955030027821',\n",
       "       '868955030002659;868955030002667',\n",
       "       '868954030011034;868954030011059',\n",
       "       '354147020156544;354147020691268',\n",
       "       '354147012378486;354147017378481',\n",
       "       '868954030025877;868954030025885',\n",
       "       '868955030028274;868955030028282',\n",
       "       '868955030010215;868955030010223',\n",
       "       '868955030002832;868955030002840',\n",
       "       '354147042028705;354147042017682',\n",
       "       '868954030029119;868954030029127',\n",
       "       '354147042071309;354147042086307',\n",
       "       '868955030010058;868955030010066',\n",
       "       '868955030028233;868955030028241',\n",
       "       '748455415413213;546854654545454',\n",
       "       '333333333333333;651465460105745',\n",
       "       '354288080016291;354288080016309',\n",
       "       '354143333333333;354143338333339',\n",
       "       '315545648741111;111111111111111',\n",
       "       '868954030004492;868954030004500',\n",
       "       '868954030020035;868954030020043',\n",
       "       '868955030013854;868955030013862',\n",
       "       '868954030024052;868954030024060',\n",
       "       '868954030010838;868954030010846',\n",
       "       '868955030027052;868955030027060',\n",
       "       '868955030023713;868955030023721',\n",
       "       '354147042070871;354147042085879',\n",
       "       '354147042045659;354147042088899',\n",
       "       '868955030004630;868955030004648',\n",
       "       '868954030017056;868954030017064',\n",
       "       '868954030023898;868954030023906',\n",
       "       '868955030008516;868955030008524',\n",
       "       '868955030026930;868955030026948',\n",
       "       '354147042071598;354147042086596',\n",
       "       '868954030026859;868954030026867',\n",
       "       '868955030020610;868955030020628',\n",
       "       '868955030027797;868955030027805',\n",
       "       '868955030021436;868955030021444',\n",
       "       '354147042074846;354147042094848',\n",
       "       '354147078946846;354147068748616',\n",
       "       '354147042046566;354147042024324',\n",
       "       '354147041235496;354147046235496',\n",
       "       '354147078945616;354147086845154',\n",
       "       '354147042222222;354147047222220',\n",
       "       '354147046545647;354147086746840',\n",
       "       '868954030000516;868954030000524',\n",
       "       '868954030028632;868954030028640',\n",
       "       '868955030026799;868955030026807',\n",
       "       '868954030023773;868954030023799',\n",
       "       '868954030017338;868954030017346',\n",
       "       '868954030020498;868954030020506',\n",
       "       '868955030010538;868955030010546',\n",
       "       '868954030010879;868954030010887',\n",
       "       '868955030000356;868955030000364',\n",
       "       '868955030015297;868955030015305',\n",
       "       '354147042341728;354147047341723',\n",
       "       '354147042070947;354147042085945',\n",
       "       '354134987123121;354134987127650',\n",
       "       '354134987127684;354134987134565',\n",
       "       '354134987654323;354134987097861',\n",
       "       '354134987324232;354134987329876',\n",
       "       '868954030015597;868954030015605',\n",
       "       '868954030019458;868954030019466',\n",
       "       '868955030023374;868955030023382',\n",
       "       '868955030021113;868955030021121',\n",
       "       '868954030020274;868954030020282',\n",
       "       '354134987134565;354134987135349',\n",
       "       '868954030024730;868954030024748',\n",
       "       '354147042070400;354147042085408',\n",
       "       '868954030003676;868954030003684',\n",
       "       '868955030025718;868955030025726',\n",
       "       '868954030029358;868954030029366',\n",
       "       '868954030028277;868954030028285',\n",
       "       '868954030020456;868954030020464',\n",
       "       '868955030021071;868955030021089',\n",
       "       '868955030002493;868955030002501',\n",
       "       '868954030007636;868954030007644',\n",
       "       '868954030020159;868954030020167',\n",
       "       '354147045156180;354147014245246',\n",
       "       '354142654265633;354142654523522',\n",
       "       '354147042089772;354147042011222',\n",
       "       '354147048615315;354147048964531',\n",
       "       '354147048613211;354147047681532',\n",
       "       '868954030007412;868954030007420',\n",
       "       '354147018370818;354147018370495',\n",
       "       '868955030016154;868955030016162',\n",
       "       '868954030023575;868954030023583',\n",
       "       '868955030009050;868955030009068',\n",
       "       '354147042070749;354147042085747',\n",
       "       '868954030000292;868954030000300',\n",
       "       '868955030008599;868955030008607',\n",
       "       '868955030025601;868955030025627',\n",
       "       '868955030027375;868955030027383',\n",
       "       '444444444444444;999999999999999',\n",
       "       '354147045613214;354147086131233',\n",
       "       '111111111111111;222222222222222',\n",
       "       '354288080017158;354288080017166',\n",
       "       '868954030022999;868954030023005',\n",
       "       '868954030026354;868954030026362',\n",
       "       '868955030026716;868955030026724',\n",
       "       '868954030020076;868954030020084',\n",
       "       '868954030025810;868954030025828',\n",
       "       '868954030015316;868954030015324',\n",
       "       '868955030005652;868955030005660',\n",
       "       '868954030022650;868954030022668',\n",
       "       '868954030026438;868954030026446',\n",
       "       '868955030014456;868955030014464',\n",
       "       '354288080016317;354288080016325',\n",
       "       '354147654311118;354147654329086',\n",
       "       '868954030025976;868954030025984',\n",
       "       '868954030019250;868954030019268',\n",
       "       '354147042071556;354147042086554',\n",
       "       '868955030010090;868955030010108',\n",
       "       '868954030024755;868954030024763',\n",
       "       '868954030020233;868954030020241',\n",
       "       '354147042070459;354147042085457',\n",
       "       '868954030019177;868954030019185',\n",
       "       '868955030009936;868955030009944',\n",
       "       '868954030013436;868954030013444',\n",
       "       '868955030023291;868955030023309',\n",
       "       '868955030006759;868955030006767',\n",
       "       '354147042070780;354147042085788',\n",
       "       '868954030014715;868954030014723',\n",
       "       '868954030024615;868954030024623',\n",
       "       '354147042020777;354147042036005',\n",
       "       '354147042042748;354147042018979',\n",
       "       '868954030020555;868954030020563',\n",
       "       '868955030025171;868955030025189',\n",
       "       '868954030021298;868954030021306',\n",
       "       '868954030024375;868954030024383',\n",
       "       '868954030020332;868954030020340',\n",
       "       '868954030002652;868954030002660',\n",
       "       '868954030027212;868954030027220',\n",
       "       '868954030009772;868954030009780',\n",
       "       '868954030004690;868954030004708',\n",
       "       '868955030027474;868955030027482',\n",
       "       '868955030010074;868955030010082',\n",
       "       '354147042070442;354147042085440',\n",
       "       '868954030019896;868954030019904',\n",
       "       '868954030018732;868954030018740',\n",
       "       '868954030017312;868954030017320',\n",
       "       '868954030002777;868954030002785',\n",
       "       '868954030009079;868954030009087',\n",
       "       '868954030025752;868954030025760',\n",
       "       '868954030012396;868954030012404',\n",
       "       '868954030016496;868954030016504',\n",
       "       '868955030022624;868955030022640',\n",
       "       '868955030024992;868955030025007',\n",
       "       '868955030028712;868955030028720',\n",
       "       '868954030028830;868954030028848',\n",
       "       '868955030023499;868955030023507',\n",
       "       '354147042065657;354147042056359',\n",
       "       '354147020876752;354147020138542',\n",
       "       '354147042096546;354147042025644',\n",
       "       '354140985556451;354140985876545',\n",
       "       '354140985866660;354140985899877',\n",
       "       '354140985855556;354140985800909',\n",
       "       '354147042157865;354147047157863',\n",
       "       '354140987656788;354140987876543',\n",
       "       '354140985076765;354140989999897',\n",
       "       '868954030016892;868954030016900',\n",
       "       '868954030022056;868954030022064',\n",
       "       '868954030013311;868954030013329',\n",
       "       '354140985834247;354140985654561',\n",
       "       '868955030020198;868955030020206',\n",
       "       '868954030025513;868954030025521',\n",
       "       '868955030009795;868955030009803',\n",
       "       '868954030020357;868954030020365',\n",
       "       '354147042070814;354147042085812',\n",
       "       '868954030027550;868954030027568',\n",
       "       '354140985989983;354140985090907',\n",
       "       '868954030024276;868954030024284',\n",
       "       '868954030010333;868954030010341',\n",
       "       '354147048674536;354147048943543',\n",
       "       '354147042092412;354147042031246',\n",
       "       '354140986756548;354140986878979',\n",
       "       '354140986878979;354140986765432',\n",
       "       '354140965467547;354140967654670',\n",
       "       '354140987897689;354140987675762',\n",
       "       '123456789012347;123456789012347',\n",
       "       '354147040016330;354147040016348',\n",
       "       '354140987654320;354140987687684',\n",
       "       '868954030013295;868954030013303',\n",
       "       '354147042070855;354147042085853',\n",
       "       '868954030008675;868954030008683',\n",
       "       '354147048646518;354147048645643',\n",
       "       '868955030027896;868955030027904',\n",
       "       '354140967676756;354140967689767',\n",
       "       '444444444444446;354147042331406',\n",
       "       '354147088941530;354147078945319',\n",
       "       '354147046845617;354147079846540',\n",
       "       '354147048645346;354147089645452',\n",
       "       '444444444444446;354145475675647',\n",
       "       '354147079846540;354147048645346',\n",
       "       '354147042031964;354147042076357',\n",
       "       '354147654329086;354147654878686',\n",
       "       '868955030025353;868955030025361',\n",
       "       '868954030013519;868954030013527',\n",
       "       '868955030004614;868955030004622',\n",
       "       '868955030022897;868955030022905',\n",
       "       '868954030022197;868954030022205',\n",
       "       '868954030023377;868954030023385',\n",
       "       '354147042071499;354147042086497',\n",
       "       '868954030024771;868954030024789',\n",
       "       '868955030026096;868955030026104',\n",
       "       '868954030025299;868954030025307',\n",
       "       '868954030020902;868954030020928',\n",
       "       '868955030023010;868955030023028',\n",
       "       '868954030017239;868954030017247',\n",
       "       '868955030023952;868955030023960',\n",
       "       '868955030022038;868955030022046',\n",
       "       '868954030007834;868954030007842',\n",
       "       '868954030026255;868954030026263',\n",
       "       '868954030003957;868954030003965',\n",
       "       '868955030011155;868955030011163',\n",
       "       '868954030017130;868954030017148',\n",
       "       '868954030020894;868954030020910',\n",
       "       '868954030026552;868954030026560',\n",
       "       '868955030010298;868955030010306',\n",
       "       '354147654311118;354147654878686',\n",
       "       '354147654675454;354147654878884',\n",
       "       '868954030027071;868954030027089',\n",
       "       '868954030029812;868954030029820',\n",
       "       '868954030013691;868954030013709',\n",
       "       '868954030018674;868954030018682',\n",
       "       '354147020645652;354147020761152',\n",
       "       '354147048516513;354147045156164',\n",
       "       '354147024836547;354147029836542',\n",
       "       '354147024879653;354147029879658',\n",
       "       '354147020656451;354147020731247',\n",
       "       '354147026321613;354147054364568',\n",
       "       '868954030023435;868954030023443',\n",
       "       '868955030012955;868955030012963',\n",
       "       '868954030029754;868954030029762',\n",
       "       '868955030022731;868955030022749',\n",
       "       '868954030011315;868954030011323',\n",
       "       '868954030025398;868954030025406',\n",
       "       '354147042070434;354147042085432',\n",
       "       '868954030016355;868954030016363',\n",
       "       '868954030020019;868954030020027',\n",
       "       '868954030007735;868954030007743',\n",
       "       '868954030019615;868954030019623',\n",
       "       '868954030004898;868954030004906',\n",
       "       '868954030001399;868954030001407',\n",
       "       '868955030028696;868955030028704',\n",
       "       '868955030003236;868955030003244',\n",
       "       '868954030021017;868954030021025',\n",
       "       '868954030029390;868954030029408',\n",
       "       '868955030013912;868955030013920',\n",
       "       '868955030025932;868955030025940',\n",
       "       '868954030015456;868954030015464',\n",
       "       '666666669999888;666665555555333',\n",
       "       '868954030025356;868954030025364',\n",
       "       '868954030006638;868954030006646',\n",
       "       '868955030027979;868955030027987',\n",
       "       '868955030023150;868955030023168',\n",
       "       '868954030019995;868954030020001',\n",
       "       '868954030027675;868954030027683',\n",
       "       '868954030025372;868954030025380',\n",
       "       '868955030014910;868955030014928',\n",
       "       '868954030014152;868954030014160',\n",
       "       '354147042070285;354147042085283',\n",
       "       '354147040016272;354147040016280',\n",
       "       '868954030005911;868954030005929',\n",
       "       '868954030026610;868954030026628',\n",
       "       '868955030021279;868955030021287',\n",
       "       '868954030018252;868954030018260',\n",
       "       '868954030028855;868954030028863',\n",
       "       '868955030027110;868955030027128',\n",
       "       '868954030026693;868954030026701',\n",
       "       '354147065489461;354147016876162',\n",
       "       '354147042524588;354147042524596',\n",
       "       '868954030006992;868954030007008',\n",
       "       '333333333333333;354147042318921',\n",
       "       '868954030001316;868954030001324',\n",
       "       '354147040016397;354147040016405',\n",
       "       '868954030002439;868954030002447',\n",
       "       '868955030008730;868955030008748',\n",
       "       '868955030020156;868955030020164',\n",
       "       '354147042071549;354147042086547',\n",
       "       '868954030004153;868954030004161',\n",
       "       '868955030004390;868955030004408',\n",
       "       '354147042071416;354147042086414',\n",
       "       '868955030008151;868955030008169',\n",
       "       '868954030023872;868954030023880',\n",
       "       '868955030004119;868955030004127',\n",
       "       '868955030013292;868955030013300',\n",
       "       '868954030023237;868954030023245',\n",
       "       '868954030024250;868954030024268',\n",
       "       '868954030005259;868954030005267',\n",
       "       '868954030021710;868954030021728',\n",
       "       '354147001324681;354147023167670',\n",
       "       '868954030027873;868954030027881',\n",
       "       '868954030028798;868954030028806',\n",
       "       '564681325521313;356468743513516',\n",
       "       '354147042070467;354147042085465',\n",
       "       '868954030004336;868954030004344',\n",
       "       '354147042070822;354147042085820',\n",
       "       '354147042071374;354147042086372',\n",
       "       '868955030016493;868955030016501',\n",
       "       '868955030021030;868955030021048',\n",
       "       '868954030015233;868954030015241',\n",
       "       '868954030025596;868954030025604',\n",
       "       '354147042071341;354147042086349',\n",
       "       '354147042070863;354147042085861',\n",
       "       '868954030016694;868954030016702',\n",
       "       '868954030008956;868954030008964',\n",
       "       '868954030025158;868954030025166',\n",
       "       '354147042071515;354147042086513',\n",
       "       '868954030019557;868954030019565',\n",
       "       '868955030023937;868955030023945',\n",
       "       '868954030022759;868954030022767',\n",
       "       '868954030019839;868954030019847',\n",
       "       '868954030018088;868954030018104',\n",
       "       '868954030025612;868954030025620',\n",
       "       '868955030026013;868955030026021',\n",
       "       '868954030026370;868954030026388',\n",
       "       '868954030020753;868954030020761',\n",
       "       '868954030021835;868954030021843',\n",
       "       '868954030009533;868954030009541',\n",
       "       '868955030003079;868955030003087',\n",
       "       '868955030027995;868955030028001',\n",
       "       '868954030026537;868954030026545',\n",
       "       '868955030025890;868955030025908',\n",
       "       '868954030014871;868954030014889',\n",
       "       '868954030014277;868954030014285',\n",
       "       '868955030021816;868955030021824',\n",
       "       '868955030008912;868955030008920',\n",
       "       '868954030022536;868954030022544',\n",
       "       '868955030020677;868955030020685',\n",
       "       '868954030009459;868954030009467',\n",
       "       '868955030025072;868955030025080',\n",
       "       '868954030017577;868954030017585',\n",
       "       '868954030015035;868954030015043',\n",
       "       '868955030007674;868955030007682',\n",
       "       '354147042070889;354147042085887',\n",
       "       '868954030013774;868954030013782',\n",
       "       '868955030009712;868955030009720',\n",
       "       '868954030014178;868954030014186',\n",
       "       '868954030024474;868954030024482',\n",
       "       '868954030001795;868954030001803',\n",
       "       '868954030019334;868954030019342',\n",
       "       '868954030028350;868954030028368',\n",
       "       '354147042070897;354147042085895',\n",
       "       '868955030022319;868955030022327',\n",
       "       '868954030026719;868954030026727',\n",
       "       '868954030024839;868954030024847',\n",
       "       '868954030023252;868954030023260',\n",
       "       '868954030021959;868954030021967',\n",
       "       '868955030028316;868955030028324',\n",
       "       '868954030026776;868954030026784',\n",
       "       '868954030029473;868954030029481',\n",
       "       '868954030028418;868954030028426',\n",
       "       '868954030027535;868954030027543',\n",
       "       '868955030006155;868955030006163',\n",
       "       '868954030026750;868954030026768',\n",
       "       '868954030019797;868954030019805',\n",
       "       '868954030024219;868954030024227',\n",
       "       '868954030019813;868954030019821',\n",
       "       '868954030025992;868954030026008',\n",
       "       '121234345656787;121234345656788',\n",
       "       '868955030028175;868955030028183',\n",
       "       '868954030025950;868954030025968',\n",
       "       '868955030025478;868955030025486',\n",
       "       '868954030007339;868954030007347',\n",
       "       '868955030020339;868955030020347',\n",
       "       '868954030022957;868954030022965',\n",
       "       '868954030022478;868954030022486',\n",
       "       '868954030027857;868954030027865',\n",
       "       '868955030024752;868955030024760',\n",
       "       '868955030022053;868955030022061',\n",
       "       '868954030029671;868954030029689',\n",
       "       '868954030016215;868954030016223',\n",
       "       '868954030023138;868954030023146',\n",
       "       '868954030024292;868954030024300',\n",
       "       '868955030001370;868955030001388',\n",
       "       '868954030021876;868954030021884',\n",
       "       '868954030016959;868954030016967',\n",
       "       '868954030029275;868954030029283',\n",
       "       '868954030029697;868954030029705',\n",
       "       '868954030028939;868954030028947',\n",
       "       '868954030020639;868954030020647',\n",
       "       '868954030020399;868954030020407',\n",
       "       '868955030001636;868955030001644',\n",
       "       '868954030023955;868954030023963',\n",
       "       '868954030000490;868954030000508',\n",
       "       '868954030014897;868954030014905',\n",
       "       '868954030028871;868954030028889',\n",
       "       '868954030009954;868954030009962',\n",
       "       '868954030027311;868954030027329',\n",
       "       '868955030021295;868955030021303',\n",
       "       '868955030025635;868955030025643',\n",
       "       '868955030025130;868955030025148',\n",
       "       '868954030022031;868954030022049',\n",
       "       '868954030023559;868954030023567',\n",
       "       '868954030018617;868954030018625',\n",
       "       '868955030008318;868955030008326',\n",
       "       '868955030005777;868955030005785',\n",
       "       '868955030025098;868955030025106',\n",
       "       '868954030009434;868954030009442',\n",
       "       '868955030004499;868955030004507',\n",
       "       '868954030020571;868954030020589',\n",
       "       '868954030022494;868954030022502',\n",
       "       '868954030027618;868954030027626',\n",
       "       '868954030020795;868954030020803',\n",
       "       '868954030013576;868954030013584',\n",
       "       '868954030028095;868954030028103',\n",
       "       '868955030008250;868955030008268',\n",
       "       '868955030009811;868955030009829',\n",
       "       '868954030026271;868954030026289',\n",
       "       '868954030027998;868954030028004',\n",
       "       '868954030028137;868954030028145',\n",
       "       '868955030001552;868955030001560',\n",
       "       '868955030021139;868955030021147',\n",
       "       '354147042070475;354147042085473',\n",
       "       '868954030016975;868954030016983',\n",
       "       '868954030021793;868954030021801',\n",
       "       '868955030024059;868955030024067',\n",
       "       '868954030020258;868954030020266',\n",
       "       '868954030009830;868954030009848',\n",
       "       '868954030023393;868954030023401',\n",
       "       '868954030023815;868954030023823',\n",
       "       '868954030004476;868954030004484',\n",
       "       '868954030021132;868954030021140',\n",
       "       '868955030028753;868955030028761',\n",
       "       '868954030026099;868954030026107',\n",
       "       '868954030005754;868954030005762',\n",
       "       '868954030003239;868954030003247',\n",
       "       '868954030024870;868954030024888',\n",
       "       '868954030026339;868954030026347',\n",
       "       '868954030028590;868954030028608',\n",
       "       '868954030012974;868954030012982',\n",
       "       '868955030028555;868955030028563',\n",
       "       '868955030026484;868955030026500',\n",
       "       '868954030026230;868954030026248',\n",
       "       '868954030021678;868954030021686',\n",
       "       '868955030000471;868955030000489',\n",
       "       '868955030011437;868955030011445',\n",
       "       '868954030020175;868954030020183',\n",
       "       '868954030014673;868954030014681',\n",
       "       '868955030014837;868955030014845',\n",
       "       '868955030001297;868955030001305',\n",
       "       '868955030025270;868955030025288',\n",
       "       '868955030007294;868955030007302',\n",
       "       '868955030002451;868955030002469',\n",
       "       '868955030027037;868955030027045',\n",
       "       '868954030027394;868954030027402',\n",
       "       '868954030017791;868954030017809',\n",
       "       '868954030021512;868954030021520',\n",
       "       '868954030013279;868954030013287',\n",
       "       '868954030023633;868954030023641',\n",
       "       '868954030015134;868954030015142',\n",
       "       '868955030001776;868955030001784',\n",
       "       '868954030018815;868954030018823',\n",
       "       '868954030020191;868954030020209',\n",
       "       '868954030001910;868954030001928',\n",
       "       '868954030020217;868954030020225',\n",
       "       '868955030012435;868955030012443',\n",
       "       '868954030027170;868954030027188',\n",
       "       '868954030027279;868954030027287',\n",
       "       '868954030029630;868954030029648',\n",
       "       '868954030003619;868954030003627',\n",
       "       '868954030025679;868954030025687',\n",
       "       '868954030026891;868954030026909',\n",
       "       '868954030026198;868954030026206',\n",
       "       '868955030028852;868955030028860',\n",
       "       '868954030023179;868954030023187',\n",
       "       '868955030003939;868955030003947',\n",
       "       '868954030026057;868954030026065',\n",
       "       '868954030021454;868954030021462',\n",
       "       '868954030008931;868954030008949',\n",
       "       '868954030026735;868954030026743',\n",
       "       '868955030001750;868955030001768',\n",
       "       '868955030011353;868955030011361',\n",
       "       '868954030019433;868954030019441',\n",
       "       '868955030021915;868955030021923',\n",
       "       '868954030023971;868954030023989',\n",
       "       '354147042070954;354147042085952',\n",
       "       '868954030012818;868954030012826',\n",
       "       '868955030028217;868955030028225',\n",
       "       '868954030020951;868954030020969',\n",
       "       '868955030008953;868955030008961',\n",
       "       '868955030022350;868955030022368',\n",
       "       '868955030026393;868955030026401',\n",
       "       '868954030002850;868954030002868',\n",
       "       '868955030021154;868955030021162',\n",
       "       '868955030001412;868955030001420',\n",
       "       '868954030026131;868954030026149',\n",
       "       '354147042070772;354147042085770',\n",
       "       '868955030004911;868955030004929',\n",
       "       '868954030018112;868954030018120',\n",
       "       '868955030006619;868955030006627',\n",
       "       '868955030020636;868955030020644',\n",
       "       '868955030024430;868955030024448',\n",
       "       '868954030018393;868954030018401',\n",
       "       '868954030011612;868954030011620',\n",
       "       '868954030001613;868954030001621',\n",
       "       '868955030028456;868955030028464',\n",
       "       '868954030029952;868954030029960',\n",
       "       '868954030023518;868954030023526',\n",
       "       '868954030023591;868954030023609',\n",
       "       '868954030018476;868954030018484',\n",
       "       '868954030002736;868954030002744',\n",
       "       '868954030006950;868954030006968',\n",
       "       '868954030023278;868954030023286',\n",
       "       '868955030009894;868955030009902',\n",
       "       '868954030029317;868954030029325',\n",
       "       '868954030018559;868954030018567',\n",
       "       '868954030026313;868954030026321',\n",
       "       '868955030020719;868955030020727',\n",
       "       '868954030021611;868954030021629',\n",
       "       '868954030029515;868954030029523',\n",
       "       '354147042070913;354147042085911',\n",
       "       '868954030022437;868954030022445',\n",
       "       '868954030025273;868954030025281',\n",
       "       '868955030025874;868955030025882',\n",
       "       '868954030026115;868954030026123',\n",
       "       '868955030024497;868955030024513',\n",
       "       '868954030007354;868954030007362',\n",
       "       '868955030026534;868955030026542',\n",
       "       '868955030022277;868955030022285',\n",
       "       '868955030023119;868955030023127',\n",
       "       '868954030026495;868954030026503',\n",
       "       '868955030012633;868955030012641',\n",
       "       '868955030009852;868955030009860',\n",
       "       '868954030016538;868954030016546',\n",
       "       '868955030023036;868955030023044',\n",
       "       '868954030023336;868954030023344',\n",
       "       '868954030003858;868954030003866',\n",
       "       '868955030023051;868955030023069',\n",
       "       '868954030027915;868954030027923',\n",
       "       '868954030025075;868954030025083',\n",
       "       '868955030024075;868955030024083',\n",
       "       '868954030008857;868954030008865',\n",
       "       '868954030017973;868954030017981',\n",
       "       '868954030027899;868954030027907',\n",
       "       '868954030022155;868954030022163',\n",
       "       '868955030004218;868955030004226',\n",
       "       '868954030013816;868954030013824',\n",
       "       '868954030028558;868954030028566',\n",
       "       '868955030023697;868955030023705',\n",
       "       '868954030012214;868954030012222',\n",
       "       '868954030023294;868954030023302',\n",
       "       '868955030027458;868955030027466',\n",
       "       '868954030012719;868954030012727',\n",
       "       '868954030017197;868954030017205',\n",
       "       '868955030020990;868955030021006',\n",
       "       '868954030006216;868954030006224', '868954030021819;868954030021827'], dtype=object)"
      ]
     },
     "execution_count": 134,
     "metadata": {},
     "output_type": "execute_result"
    }
   ],
   "source": [
    "valid_data['IMEI'].unique()"
   ]
  },
  {
   "cell_type": "code",
   "execution_count": 122,
   "metadata": {
    "ExecuteTime": {
     "end_time": "2018-06-29T09:16:45.388349Z",
     "start_time": "2018-06-29T09:16:45.344496Z"
    }
   },
   "outputs": [],
   "source": [
    "def get_ota_stats(device_model, height, width):\n",
    "    d1 = valid_data[(valid_data['deviceModel'] == device_model)]\n",
    "    device_sum = len(d1['IMEI'].unique())\n",
    "    d1_upgrade = valid_data[(valid_data['deviceModel'] == device_model) & (valid_data['name'] == 'FinishUpgrade')]\n",
    "\n",
    "    d1_upgrade['from'] = d1_upgrade['attrs_UpgradeVersionInfo'].apply(lambda x:x.split('->')).apply(\n",
    "                    lambda x:x[0].split('_')[2])\n",
    "    d1_upgrade['to'] = d1_upgrade['attrs_UpgradeVersionInfo'].apply(lambda x:x.split('->')).apply(\n",
    "                    lambda x:x[1].split('_')[2])\n",
    "\n",
    "    d1_upgrade_rate = d1_upgrade.groupby(['to']).count()['IMEI'].apply(lambda x:'{}%'.format(round(x*100/device_sum,2))).values\n",
    "    d1_upgrade_num = d1_upgrade.groupby(['to']).count()['IMEI'].values\n",
    "    table_data = [d1_upgrade.groupby(['to']).count()['IMEI'].index, d1_upgrade_rate, d1_upgrade_num]\n",
    "    title = '{} OTA包升级率<br>总设备数:{}'.format(device_model, device_sum)\n",
    "    row = len(d1_upgrade.groupby(['to']).count()['IMEI'].index) + 11\n",
    "    #下载成功率\n",
    "    d1_failed = len(valid_data[(valid_data['deviceModel'] == device_model) & (valid_data['name'] == 'FailDownload')])\n",
    "    d1_success = len(valid_data[(valid_data['deviceModel'] == device_model) & (valid_data['name'] == 'FinishDownload')])\n",
    "    download_rate = round(d1_success*100/(d1_success+d1_failed),2)\n",
    "    \n",
    "    annotations = '下载成功率:{}%  失败次数:{} 成功次数:{}'.format(download_rate, d1_failed, d1_success)\n",
    "    draw_stats_table(table_data, row*25, width, title, annotations)"
   ]
  },
  {
   "cell_type": "code",
   "execution_count": 123,
   "metadata": {
    "ExecuteTime": {
     "end_time": "2018-06-29T09:16:49.300502Z",
     "start_time": "2018-06-29T09:16:48.519564Z"
    },
    "scrolled": false
   },
   "outputs": [
    {
     "name": "stderr",
     "output_type": "stream",
     "text": [
      "/anaconda/lib/python3.6/site-packages/ipykernel_launcher.py:7: SettingWithCopyWarning:\n",
      "\n",
      "\n",
      "A value is trying to be set on a copy of a slice from a DataFrame.\n",
      "Try using .loc[row_indexer,col_indexer] = value instead\n",
      "\n",
      "See the caveats in the documentation: http://pandas.pydata.org/pandas-docs/stable/indexing.html#indexing-view-versus-copy\n",
      "\n",
      "/anaconda/lib/python3.6/site-packages/ipykernel_launcher.py:9: SettingWithCopyWarning:\n",
      "\n",
      "\n",
      "A value is trying to be set on a copy of a slice from a DataFrame.\n",
      "Try using .loc[row_indexer,col_indexer] = value instead\n",
      "\n",
      "See the caveats in the documentation: http://pandas.pydata.org/pandas-docs/stable/indexing.html#indexing-view-versus-copy\n",
      "\n"
     ]
    },
    {
     "data": {
      "application/vnd.plotly.v1+json": {
       "data": [
        {
         "cells": {
          "align": [
           "left",
           "left",
           "left"
          ],
          "fill": {
           "color": [
            "#68a4b9",
            "#526372"
           ]
          },
          "font": {
           "color": [
            "#FFFFFF",
            "#FFFFFF",
            "#FFFFFF"
           ],
           "size": 12
          },
          "height": 25,
          "line": {
           "color": "#000000"
          },
          "values": [
           [
            "T1648",
            "T1652",
            "T1656",
            "T1659",
            "T1666",
            "T1676",
            "T1687",
            "T1688",
            "T1689"
           ],
           [
            "0.34%",
            "0.34%",
            "1.01%",
            "0.34%",
            "2.35%",
            "0.67%",
            "0.67%",
            "14.77%",
            "0.67%"
           ],
           [
            1,
            1,
            3,
            1,
            7,
            2,
            2,
            44,
            2
           ]
          ]
         },
         "columnorder": [
          0,
          1,
          2
         ],
         "columnwidth": [
          52,
          52,
          52
         ],
         "header": {
          "align": [
           "left",
           "left",
           "left"
          ],
          "fill": {
           "color": "#2d5b6c"
          },
          "font": {
           "color": [
            "#FFFFFF",
            "#FFFFFF",
            "#FFFFFF"
           ],
           "size": 14
          },
          "height": 25,
          "line": {
           "color": "#000000"
          },
          "values": [
           [
            "<b>版本</b>"
           ],
           [
            "<b>升级率</b>"
           ],
           [
            "<b>升级个数</b>"
           ]
          ]
         },
         "type": "table"
        }
       ],
       "layout": {
        "annotations": [
         {
          "showarrow": false,
          "text": "下载成功率:100.0%  失败次数:0 成功次数:2",
          "x": 0,
          "xref": "paper",
          "y": 0.1,
          "yref": "paper"
         }
        ],
        "height": 500,
        "title": "soda S1 OTA包升级率<br>总设备数:298",
        "width": 800
       }
      },
      "text/html": [
       "<div id=\"3547690c-bd01-41bf-9aa4-8b65fdeb2ab5\" style=\"height: 500px; width: 800px;\" class=\"plotly-graph-div\"></div><script type=\"text/javascript\">require([\"plotly\"], function(Plotly) { window.PLOTLYENV=window.PLOTLYENV || {};window.PLOTLYENV.BASE_URL=\"https://plot.ly\";Plotly.newPlot(\"3547690c-bd01-41bf-9aa4-8b65fdeb2ab5\", [{\"type\": \"table\", \"columnwidth\": [52, 52, 52], \"columnorder\": [0, 1, 2], \"header\": {\"height\": 25, \"values\": [[\"<b>\\u7248\\u672c</b>\"], [\"<b>\\u5347\\u7ea7\\u7387</b>\"], [\"<b>\\u5347\\u7ea7\\u4e2a\\u6570</b>\"]], \"line\": {\"color\": \"#000000\"}, \"align\": [\"left\", \"left\", \"left\"], \"font\": {\"color\": [\"#FFFFFF\", \"#FFFFFF\", \"#FFFFFF\"], \"size\": 14}, \"fill\": {\"color\": \"#2d5b6c\"}}, \"cells\": {\"values\": [[\"T1648\", \"T1652\", \"T1656\", \"T1659\", \"T1666\", \"T1676\", \"T1687\", \"T1688\", \"T1689\"], [\"0.34%\", \"0.34%\", \"1.01%\", \"0.34%\", \"2.35%\", \"0.67%\", \"0.67%\", \"14.77%\", \"0.67%\"], [1, 1, 3, 1, 7, 2, 2, 44, 2]], \"line\": {\"color\": \"#000000\"}, \"align\": [\"left\", \"left\", \"left\"], \"font\": {\"color\": [\"#FFFFFF\", \"#FFFFFF\", \"#FFFFFF\"], \"size\": 12}, \"height\": 25, \"fill\": {\"color\": [\"#68a4b9\", \"#526372\"]}}}], {\"title\": \"soda S1 OTA\\u5305\\u5347\\u7ea7\\u7387<br>\\u603b\\u8bbe\\u5907\\u6570:298\", \"height\": 500, \"width\": 800, \"annotations\": [{\"text\": \"\\u4e0b\\u8f7d\\u6210\\u529f\\u7387:100.0%  \\u5931\\u8d25\\u6b21\\u6570:0 \\u6210\\u529f\\u6b21\\u6570:2\", \"showarrow\": false, \"xref\": \"paper\", \"yref\": \"paper\", \"x\": 0, \"y\": 0.1}]}, {\"showLink\": true, \"linkText\": \"Export to plot.ly\"})});</script>"
      ],
      "text/vnd.plotly.v1+html": [
       "<div id=\"3547690c-bd01-41bf-9aa4-8b65fdeb2ab5\" style=\"height: 500px; width: 800px;\" class=\"plotly-graph-div\"></div><script type=\"text/javascript\">require([\"plotly\"], function(Plotly) { window.PLOTLYENV=window.PLOTLYENV || {};window.PLOTLYENV.BASE_URL=\"https://plot.ly\";Plotly.newPlot(\"3547690c-bd01-41bf-9aa4-8b65fdeb2ab5\", [{\"type\": \"table\", \"columnwidth\": [52, 52, 52], \"columnorder\": [0, 1, 2], \"header\": {\"height\": 25, \"values\": [[\"<b>\\u7248\\u672c</b>\"], [\"<b>\\u5347\\u7ea7\\u7387</b>\"], [\"<b>\\u5347\\u7ea7\\u4e2a\\u6570</b>\"]], \"line\": {\"color\": \"#000000\"}, \"align\": [\"left\", \"left\", \"left\"], \"font\": {\"color\": [\"#FFFFFF\", \"#FFFFFF\", \"#FFFFFF\"], \"size\": 14}, \"fill\": {\"color\": \"#2d5b6c\"}}, \"cells\": {\"values\": [[\"T1648\", \"T1652\", \"T1656\", \"T1659\", \"T1666\", \"T1676\", \"T1687\", \"T1688\", \"T1689\"], [\"0.34%\", \"0.34%\", \"1.01%\", \"0.34%\", \"2.35%\", \"0.67%\", \"0.67%\", \"14.77%\", \"0.67%\"], [1, 1, 3, 1, 7, 2, 2, 44, 2]], \"line\": {\"color\": \"#000000\"}, \"align\": [\"left\", \"left\", \"left\"], \"font\": {\"color\": [\"#FFFFFF\", \"#FFFFFF\", \"#FFFFFF\"], \"size\": 12}, \"height\": 25, \"fill\": {\"color\": [\"#68a4b9\", \"#526372\"]}}}], {\"title\": \"soda S1 OTA\\u5305\\u5347\\u7ea7\\u7387<br>\\u603b\\u8bbe\\u5907\\u6570:298\", \"height\": 500, \"width\": 800, \"annotations\": [{\"text\": \"\\u4e0b\\u8f7d\\u6210\\u529f\\u7387:100.0%  \\u5931\\u8d25\\u6b21\\u6570:0 \\u6210\\u529f\\u6b21\\u6570:2\", \"showarrow\": false, \"xref\": \"paper\", \"yref\": \"paper\", \"x\": 0, \"y\": 0.1}]}, {\"showLink\": true, \"linkText\": \"Export to plot.ly\"})});</script>"
      ]
     },
     "metadata": {},
     "output_type": "display_data"
    }
   ],
   "source": [
    "get_ota_stats(device_models[0],600,800)"
   ]
  },
  {
   "cell_type": "code",
   "execution_count": 124,
   "metadata": {
    "ExecuteTime": {
     "end_time": "2018-06-29T09:17:27.308535Z",
     "start_time": "2018-06-29T09:17:26.125427Z"
    }
   },
   "outputs": [
    {
     "name": "stderr",
     "output_type": "stream",
     "text": [
      "/anaconda/lib/python3.6/site-packages/ipykernel_launcher.py:7: SettingWithCopyWarning:\n",
      "\n",
      "\n",
      "A value is trying to be set on a copy of a slice from a DataFrame.\n",
      "Try using .loc[row_indexer,col_indexer] = value instead\n",
      "\n",
      "See the caveats in the documentation: http://pandas.pydata.org/pandas-docs/stable/indexing.html#indexing-view-versus-copy\n",
      "\n",
      "/anaconda/lib/python3.6/site-packages/ipykernel_launcher.py:9: SettingWithCopyWarning:\n",
      "\n",
      "\n",
      "A value is trying to be set on a copy of a slice from a DataFrame.\n",
      "Try using .loc[row_indexer,col_indexer] = value instead\n",
      "\n",
      "See the caveats in the documentation: http://pandas.pydata.org/pandas-docs/stable/indexing.html#indexing-view-versus-copy\n",
      "\n"
     ]
    },
    {
     "data": {
      "application/vnd.plotly.v1+json": {
       "data": [
        {
         "cells": {
          "align": [
           "left",
           "left",
           "left"
          ],
          "fill": {
           "color": [
            "#68a4b9",
            "#526372"
           ]
          },
          "font": {
           "color": [
            "#FFFFFF",
            "#FFFFFF",
            "#FFFFFF"
           ],
           "size": 12
          },
          "height": 25,
          "line": {
           "color": "#000000"
          },
          "values": [
           [
            "T1137",
            "T1189",
            "T1190",
            "T1194",
            "T1195"
           ],
           [
            "0.25%",
            "0.99%",
            "0.25%",
            "11.88%",
            "0.25%"
           ],
           [
            1,
            4,
            1,
            48,
            1
           ]
          ]
         },
         "columnorder": [
          0,
          1,
          2
         ],
         "columnwidth": [
          52,
          52,
          52
         ],
         "header": {
          "align": [
           "left",
           "left",
           "left"
          ],
          "fill": {
           "color": "#2d5b6c"
          },
          "font": {
           "color": [
            "#FFFFFF",
            "#FFFFFF",
            "#FFFFFF"
           ],
           "size": 14
          },
          "height": 25,
          "line": {
           "color": "#000000"
          },
          "values": [
           [
            "<b>版本</b>"
           ],
           [
            "<b>升级率</b>"
           ],
           [
            "<b>升级个数</b>"
           ]
          ]
         },
         "type": "table"
        }
       ],
       "layout": {
        "annotations": [
         {
          "showarrow": false,
          "text": "下载成功率:80.0%  失败次数:1 成功次数:4",
          "x": 0,
          "xref": "paper",
          "y": 0.1,
          "yref": "paper"
         }
        ],
        "height": 400,
        "title": "soda E1 OTA包升级率<br>总设备数:404",
        "width": 800
       }
      },
      "text/html": [
       "<div id=\"77f51e4a-b6e1-493a-9beb-e28cac7d84f5\" style=\"height: 400px; width: 800px;\" class=\"plotly-graph-div\"></div><script type=\"text/javascript\">require([\"plotly\"], function(Plotly) { window.PLOTLYENV=window.PLOTLYENV || {};window.PLOTLYENV.BASE_URL=\"https://plot.ly\";Plotly.newPlot(\"77f51e4a-b6e1-493a-9beb-e28cac7d84f5\", [{\"type\": \"table\", \"columnwidth\": [52, 52, 52], \"columnorder\": [0, 1, 2], \"header\": {\"height\": 25, \"values\": [[\"<b>\\u7248\\u672c</b>\"], [\"<b>\\u5347\\u7ea7\\u7387</b>\"], [\"<b>\\u5347\\u7ea7\\u4e2a\\u6570</b>\"]], \"line\": {\"color\": \"#000000\"}, \"align\": [\"left\", \"left\", \"left\"], \"font\": {\"color\": [\"#FFFFFF\", \"#FFFFFF\", \"#FFFFFF\"], \"size\": 14}, \"fill\": {\"color\": \"#2d5b6c\"}}, \"cells\": {\"values\": [[\"T1137\", \"T1189\", \"T1190\", \"T1194\", \"T1195\"], [\"0.25%\", \"0.99%\", \"0.25%\", \"11.88%\", \"0.25%\"], [1, 4, 1, 48, 1]], \"line\": {\"color\": \"#000000\"}, \"align\": [\"left\", \"left\", \"left\"], \"font\": {\"color\": [\"#FFFFFF\", \"#FFFFFF\", \"#FFFFFF\"], \"size\": 12}, \"height\": 25, \"fill\": {\"color\": [\"#68a4b9\", \"#526372\"]}}}], {\"title\": \"soda E1 OTA\\u5305\\u5347\\u7ea7\\u7387<br>\\u603b\\u8bbe\\u5907\\u6570:404\", \"height\": 400, \"width\": 800, \"annotations\": [{\"text\": \"\\u4e0b\\u8f7d\\u6210\\u529f\\u7387:80.0%  \\u5931\\u8d25\\u6b21\\u6570:1 \\u6210\\u529f\\u6b21\\u6570:4\", \"showarrow\": false, \"xref\": \"paper\", \"yref\": \"paper\", \"x\": 0, \"y\": 0.1}]}, {\"showLink\": true, \"linkText\": \"Export to plot.ly\"})});</script>"
      ],
      "text/vnd.plotly.v1+html": [
       "<div id=\"77f51e4a-b6e1-493a-9beb-e28cac7d84f5\" style=\"height: 400px; width: 800px;\" class=\"plotly-graph-div\"></div><script type=\"text/javascript\">require([\"plotly\"], function(Plotly) { window.PLOTLYENV=window.PLOTLYENV || {};window.PLOTLYENV.BASE_URL=\"https://plot.ly\";Plotly.newPlot(\"77f51e4a-b6e1-493a-9beb-e28cac7d84f5\", [{\"type\": \"table\", \"columnwidth\": [52, 52, 52], \"columnorder\": [0, 1, 2], \"header\": {\"height\": 25, \"values\": [[\"<b>\\u7248\\u672c</b>\"], [\"<b>\\u5347\\u7ea7\\u7387</b>\"], [\"<b>\\u5347\\u7ea7\\u4e2a\\u6570</b>\"]], \"line\": {\"color\": \"#000000\"}, \"align\": [\"left\", \"left\", \"left\"], \"font\": {\"color\": [\"#FFFFFF\", \"#FFFFFF\", \"#FFFFFF\"], \"size\": 14}, \"fill\": {\"color\": \"#2d5b6c\"}}, \"cells\": {\"values\": [[\"T1137\", \"T1189\", \"T1190\", \"T1194\", \"T1195\"], [\"0.25%\", \"0.99%\", \"0.25%\", \"11.88%\", \"0.25%\"], [1, 4, 1, 48, 1]], \"line\": {\"color\": \"#000000\"}, \"align\": [\"left\", \"left\", \"left\"], \"font\": {\"color\": [\"#FFFFFF\", \"#FFFFFF\", \"#FFFFFF\"], \"size\": 12}, \"height\": 25, \"fill\": {\"color\": [\"#68a4b9\", \"#526372\"]}}}], {\"title\": \"soda E1 OTA\\u5305\\u5347\\u7ea7\\u7387<br>\\u603b\\u8bbe\\u5907\\u6570:404\", \"height\": 400, \"width\": 800, \"annotations\": [{\"text\": \"\\u4e0b\\u8f7d\\u6210\\u529f\\u7387:80.0%  \\u5931\\u8d25\\u6b21\\u6570:1 \\u6210\\u529f\\u6b21\\u6570:4\", \"showarrow\": false, \"xref\": \"paper\", \"yref\": \"paper\", \"x\": 0, \"y\": 0.1}]}, {\"showLink\": true, \"linkText\": \"Export to plot.ly\"})});</script>"
      ]
     },
     "metadata": {},
     "output_type": "display_data"
    }
   ],
   "source": [
    "get_ota_stats(device_models[1],600,800)"
   ]
  },
  {
   "cell_type": "markdown",
   "metadata": {},
   "source": [
    "### ota 包下载成功率"
   ]
  },
  {
   "cell_type": "code",
   "execution_count": 91,
   "metadata": {
    "ExecuteTime": {
     "end_time": "2018-06-29T09:03:30.615794Z",
     "start_time": "2018-06-29T09:03:29.637974Z"
    },
    "collapsed": true
   },
   "outputs": [],
   "source": [
    "d1_success = valid_data[(valid_data['deviceModel'] == device_model[0]) & (valid_data['name'] == 'FinishDownload')]"
   ]
  },
  {
   "cell_type": "code",
   "execution_count": 89,
   "metadata": {
    "ExecuteTime": {
     "end_time": "2018-06-29T09:00:59.888584Z",
     "start_time": "2018-06-29T09:00:59.851503Z"
    }
   },
   "outputs": [
    {
     "data": {
      "text/html": [
       "<div>\n",
       "<style>\n",
       "    .dataframe thead tr:only-child th {\n",
       "        text-align: right;\n",
       "    }\n",
       "\n",
       "    .dataframe thead th {\n",
       "        text-align: left;\n",
       "    }\n",
       "\n",
       "    .dataframe tbody tr th {\n",
       "        vertical-align: top;\n",
       "    }\n",
       "</style>\n",
       "<table border=\"1\" class=\"dataframe\">\n",
       "  <thead>\n",
       "    <tr style=\"text-align: right;\">\n",
       "      <th></th>\n",
       "      <th>IMEI</th>\n",
       "      <th>androidId</th>\n",
       "      <th>appKey</th>\n",
       "      <th>appVersion</th>\n",
       "      <th>attrs_Capturemode</th>\n",
       "      <th>attrs_DownloadFailReason</th>\n",
       "      <th>attrs_NetType</th>\n",
       "      <th>attrs_UpgradeVersionInfo</th>\n",
       "      <th>attrs_Videomode</th>\n",
       "      <th>attrs_applabel</th>\n",
       "      <th>...</th>\n",
       "      <th>deviceManufacturer</th>\n",
       "      <th>deviceModel</th>\n",
       "      <th>deviceOsVersion</th>\n",
       "      <th>deviceSdk</th>\n",
       "      <th>localeCountry</th>\n",
       "      <th>localeLanguage</th>\n",
       "      <th>name</th>\n",
       "      <th>registerTime</th>\n",
       "      <th>sequence</th>\n",
       "      <th>wallTime</th>\n",
       "    </tr>\n",
       "  </thead>\n",
       "  <tbody>\n",
       "    <tr>\n",
       "      <th>204182</th>\n",
       "      <td>354147024836547;354147029836542</td>\n",
       "      <td>8bcabf332888f96e</td>\n",
       "      <td>1666CBB09EA6735B</td>\n",
       "      <td>8.0.0.aw</td>\n",
       "      <td>NaN</td>\n",
       "      <td>NaN</td>\n",
       "      <td>NaN</td>\n",
       "      <td>NaN</td>\n",
       "      <td>NaN</td>\n",
       "      <td>NaN</td>\n",
       "      <td>...</td>\n",
       "      <td>soda</td>\n",
       "      <td>soda S1</td>\n",
       "      <td>8.0.0</td>\n",
       "      <td>26</td>\n",
       "      <td>US</td>\n",
       "      <td>en</td>\n",
       "      <td>FinishDownload</td>\n",
       "      <td>1525412992</td>\n",
       "      <td>5</td>\n",
       "      <td>1525512760</td>\n",
       "    </tr>\n",
       "    <tr>\n",
       "      <th>243122</th>\n",
       "      <td>354147040016397;354147040016405</td>\n",
       "      <td>187e7a87626ba39d</td>\n",
       "      <td>1666CBB09EA6735B</td>\n",
       "      <td>8.0.0.aw</td>\n",
       "      <td>NaN</td>\n",
       "      <td>NaN</td>\n",
       "      <td>NaN</td>\n",
       "      <td>NaN</td>\n",
       "      <td>NaN</td>\n",
       "      <td>NaN</td>\n",
       "      <td>...</td>\n",
       "      <td>soda</td>\n",
       "      <td>soda S1</td>\n",
       "      <td>8.0.0</td>\n",
       "      <td>26</td>\n",
       "      <td>CN</td>\n",
       "      <td>zh</td>\n",
       "      <td>FinishDownload</td>\n",
       "      <td>1526034560</td>\n",
       "      <td>3</td>\n",
       "      <td>1526035306</td>\n",
       "    </tr>\n",
       "  </tbody>\n",
       "</table>\n",
       "<p>2 rows × 23 columns</p>\n",
       "</div>"
      ],
      "text/plain": [
       "                                   IMEI         androidId            appKey  \\\n",
       "204182  354147024836547;354147029836542  8bcabf332888f96e  1666CBB09EA6735B   \n",
       "243122  354147040016397;354147040016405  187e7a87626ba39d  1666CBB09EA6735B   \n",
       "\n",
       "       appVersion attrs_Capturemode attrs_DownloadFailReason attrs_NetType  \\\n",
       "204182   8.0.0.aw               NaN                      NaN           NaN   \n",
       "243122   8.0.0.aw               NaN                      NaN           NaN   \n",
       "\n",
       "       attrs_UpgradeVersionInfo attrs_Videomode attrs_applabel     ...      \\\n",
       "204182                      NaN             NaN            NaN     ...       \n",
       "243122                      NaN             NaN            NaN     ...       \n",
       "\n",
       "       deviceManufacturer deviceModel deviceOsVersion deviceSdk localeCountry  \\\n",
       "204182               soda     soda S1           8.0.0        26            US   \n",
       "243122               soda     soda S1           8.0.0        26            CN   \n",
       "\n",
       "       localeLanguage            name registerTime sequence    wallTime  \n",
       "204182             en  FinishDownload   1525412992        5  1525512760  \n",
       "243122             zh  FinishDownload   1526034560        3  1526035306  \n",
       "\n",
       "[2 rows x 23 columns]"
      ]
     },
     "execution_count": 89,
     "metadata": {},
     "output_type": "execute_result"
    }
   ],
   "source": [
    "d1_success"
   ]
  },
  {
   "cell_type": "code",
   "execution_count": null,
   "metadata": {
    "collapsed": true
   },
   "outputs": [],
   "source": []
  }
 ],
 "metadata": {
  "kernelspec": {
   "display_name": "Python 3",
   "language": "python",
   "name": "python3"
  },
  "language_info": {
   "codemirror_mode": {
    "name": "ipython",
    "version": 3
   },
   "file_extension": ".py",
   "mimetype": "text/x-python",
   "name": "python",
   "nbconvert_exporter": "python",
   "pygments_lexer": "ipython3",
   "version": "3.6.2"
  }
 },
 "nbformat": 4,
 "nbformat_minor": 2
}
