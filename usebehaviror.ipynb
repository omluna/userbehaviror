{
 "cells": [
  {
   "cell_type": "code",
   "execution_count": 69,
   "metadata": {
    "ExecuteTime": {
     "end_time": "2018-05-18T07:42:28.006203Z",
     "start_time": "2018-05-18T07:42:27.992064Z"
    }
   },
   "outputs": [
    {
     "data": {
      "text/html": [
       "<script>requirejs.config({paths: { 'plotly': ['https://cdn.plot.ly/plotly-latest.min']},});if(!window.Plotly) {{require(['plotly'],function(plotly) {window.Plotly=plotly;});}}</script>"
      ],
      "text/vnd.plotly.v1+html": [
       "<script>requirejs.config({paths: { 'plotly': ['https://cdn.plot.ly/plotly-latest.min']},});if(!window.Plotly) {{require(['plotly'],function(plotly) {window.Plotly=plotly;});}}</script>"
      ]
     },
     "metadata": {},
     "output_type": "display_data"
    }
   ],
   "source": [
    "import sys\n",
    "import pprint\n",
    "import datetime\n",
    "from tlslite.utils import keyfactory\n",
    "import pymongo\n",
    "import pprint\n",
    "import math\n",
    "import pandas as pd\n",
    "import numpy as np\n",
    "from plotly import tools\n",
    "import plotly.graph_objs as go\n",
    "import plotly.offline as py\n",
    "import os\n",
    "import requests\n",
    "from bs4 import BeautifulSoup\n",
    "\n",
    "py.init_notebook_mode(connected=True)"
   ]
  },
  {
   "cell_type": "code",
   "execution_count": 2,
   "metadata": {
    "ExecuteTime": {
     "end_time": "2018-05-18T03:55:35.006316Z",
     "start_time": "2018-05-18T03:55:16.591169Z"
    }
   },
   "outputs": [],
   "source": [
    "client = pymongo.MongoClient('18.8.8.119')\n",
    "cydb = client.cy_useract\n",
    "issues = pd.DataFrame(list(cydb.useract_info.find()))\n",
    "del issues['_id']\n",
    "len(issues)\n",
    "valid_data = issues.loc[issues['IMEI'].apply(lambda x:len(x.split(';')) == 2)]\n",
    "\n",
    "client = pymongo.MongoClient('18.8.8.209')\n",
    "cydb = client.cy\n",
    "topapps = pd.DataFrame(list(cydb.topapps.find(projection={'name': 1, 'package_name':1})))\n",
    "del topapps['_id']\n",
    "cy_packages = pd.DataFrame(list(cydb.cy_packages.find()))\n",
    "del cy_packages['_id']"
   ]
  },
  {
   "cell_type": "code",
   "execution_count": 88,
   "metadata": {
    "ExecuteTime": {
     "end_time": "2018-05-18T08:07:46.727552Z",
     "start_time": "2018-05-18T08:07:46.719243Z"
    }
   },
   "outputs": [],
   "source": [
    "#获取包对应的应用名\n",
    "total_apps = topapps.append(cy_packages)\n",
    "total_apps_names = total_apps.set_index('package_name').to_dict()['name']"
   ]
  },
  {
   "cell_type": "code",
   "execution_count": 4,
   "metadata": {
    "ExecuteTime": {
     "end_time": "2018-05-18T03:55:35.145568Z",
     "start_time": "2018-05-18T03:55:35.017528Z"
    }
   },
   "outputs": [],
   "source": [
    "#获取3月，4月的数据\n",
    "d318 = datetime.datetime(2018, 3, 18).timestamp()\n",
    "d418 = datetime.datetime(2018, 4, 18).timestamp()\n",
    "d518 = datetime.datetime(2018, 5, 18).timestamp()\n",
    "\n",
    "df318 = valid_data[(valid_data['wallTime'] >= d318) & (valid_data['wallTime'] < d418)]\n",
    "df418 = valid_data[(valid_data['wallTime'] >= d418) & (valid_data['wallTime'] < d518)]"
   ]
  },
  {
   "cell_type": "code",
   "execution_count": 89,
   "metadata": {
    "ExecuteTime": {
     "end_time": "2018-05-18T08:07:53.322000Z",
     "start_time": "2018-05-18T08:07:53.303407Z"
    },
    "scrolled": true
   },
   "outputs": [],
   "source": [
    "###获取包名\n",
    "def get_name_from_google(package_name):\n",
    "    name = 'Not Found'\n",
    "    url = \"https://play.google.com/store/apps/details\"\n",
    "    querystring = {\"id\":package_name}\n",
    "\n",
    "    headers = {\n",
    "        'accept': \"text/html,application/xhtml+xml,application/xml;q=0.9,image/webp,image/apng,*/*;q=0.8\",\n",
    "        'accept-encoding': \"gzip, deflate, br\",\n",
    "        'accept-language': \"zh-CN,zh;q=0.9,en;q=0.8,zh-TW;q=0.7\",\n",
    "        'upgrade-insecure-requests': \"1\",\n",
    "        'cookie': 'SID=DAaVKqDYVfUDOvDttkKw4L9_fFoj3k4amZyPFCJv2-JrhZoD2gLvVPLqDS9ipsTYjwXWmw.; HSID=Az021_6ePZogKY8cM; SSID=ACpzbNvy8_x8Vnybk; APISID=7S1tb3ZsgGv_bYvR/ACjOTyZPnt4umXRCq; SAPISID=xjIFc_YmAa63ey27/AmEbiR4E6aujvkXPS; NID=130=ab4LxWGm30bUFH_KitKmxCkBbExye2K9qU5VTdygb49TBNA1a8pN4jyad6LYrAPvhIpVO6_iNDLTOJuWxrwzgPd3qCm6uC6LFx8txajCZp-xDO7tdQIGf_eQYLM_BVGPdAQ47Oa2WUX_9DshsR3iJItArmKVShCwPvA2HCFO6XLBDaHjyRpXAhPrYKZfGIQ0PVYRkT8hBjzDCtPM4VcHKbSmMi0SCQ1dVGJDTKbALIYYCBwODH_mQsStZA4FHzSzT71NG-xMPONgrzmi9h6Nm1Xo; OGPC=19005936-1:; S=billing-ui-v3=H2iK8QW8I6T65a977LlFh58Un3NygpND:billing-ui-v3-efe=H2iK8QW8I6T65a977LlFh58Un3NygpND; SIDCC=AEfoLebYzi5VJ4REqjhIorMwY7WG7kadx86R29vcphaujmkiGT8I2tDqnP5_VwSYG_kLoRECJg; 1P_JAR=2018-5-18-7',\n",
    "        'user-agent': \"Mozilla/5.0 (Macintosh; Intel Mac OS X 10_13_4) AppleWebKit/537.36  \\\n",
    "        (KHTML, like Gecko) Chrome/65.0.3325.181 Safari/537.36\",\n",
    "        'x-client-data': \"CKe1yQEIibbJAQiltskBCMG2yQEIq5jKAQipncoBCN6eygEIqKPKARiSo8oB\",\n",
    "        'cache-control': \"no-cache\",\n",
    "        }\n",
    "\n",
    "    response = requests.request(\"GET\", url, headers=headers, params=querystring)\n",
    "\n",
    "    if response.status_code == 200:\n",
    "        soup_app = BeautifulSoup(response.text, 'lxml')\n",
    "        href_all = soup_app.find_all('h1')\n",
    "        name = href_all[0].span.string\n",
    "        \n",
    "    return name"
   ]
  },
  {
   "cell_type": "code",
   "execution_count": 90,
   "metadata": {
    "ExecuteTime": {
     "end_time": "2018-05-18T08:09:20.504320Z",
     "start_time": "2018-05-18T08:09:20.390031Z"
    },
    "collapsed": true
   },
   "outputs": [],
   "source": [
    "def get_bar_table_data(cur_month, last_month, rate=True, need_other=True):\n",
    "    top30_click = cur_month[-30:]\n",
    "    others = cur_month.sum() - top30_click.sum()\n",
    "    \n",
    "    if need_other:\n",
    "        top31_click = top30_click.append(pd.Series({'Others':others})).sort_values()\n",
    "    else:\n",
    "        top31_click = top30_click\n",
    "    appclick_diff = cur_month.sub(last_month, fill_value=0)[list(top30_click.index)]\n",
    "\n",
    "    package_name_diff = list(appclick_diff.index)\n",
    "    package_name_diff.reverse()\n",
    "\n",
    "    app_name_diff = []\n",
    "    for package in package_name_diff:\n",
    "        if package in total_apps_names.keys():\n",
    "            if total_apps_names[package] != 'Not Found':\n",
    "                app_name_diff.append(total_apps_names[package])\n",
    "            else:\n",
    "                app_name_diff.append(package)\n",
    "        else:\n",
    "            name = get_name_from_google(package)\n",
    "            total_apps_names[package] = name\n",
    "            if name == 'Not Found':\n",
    "                app_name_diff.append(package)\n",
    "            else:\n",
    "                app_name_diff.append(name)\n",
    "    \n",
    "    value_diff = list(appclick_diff.values)\n",
    "    value_diff.reverse()\n",
    "    \n",
    "    packages_name = []\n",
    "    package_list = list(total_apps['package_name'])\n",
    "    for package in top31_click.index:\n",
    "        if package in total_apps_names.keys():\n",
    "            if total_apps_names[package] != 'Not Found':\n",
    "                packages_name.append(total_apps_names[package])\n",
    "            else:\n",
    "                packages_name.append(package)\n",
    "        else:\n",
    "            name = get_name_from_google(package)\n",
    "            total_apps_names[package] = name\n",
    "            if name == 'Not Found':\n",
    "                packages_name.append(package)\n",
    "            else:\n",
    "                packages_name.append(name)\n",
    "    \n",
    "    bar_data = {}\n",
    "    bar_data['y'] = packages_name\n",
    "    bar_data['x'] = top31_click.values\n",
    "    if rate:\n",
    "        bar_data['text'] = top31_click.apply(lambda x:'{:.2f}%'.format(x*100)).values\n",
    "        table_data = [app_name_diff, ['{:.2f}%'.format(x*100) for x in value_diff]]\n",
    "    else:\n",
    "        bar_data['text'] = top31_click.apply(lambda x:round(x,1)).values\n",
    "        table_data = [app_name_diff, [round(x,1) for x in value_diff]]\n",
    "    \n",
    "    \n",
    "    return bar_data, table_data"
   ]
  },
  {
   "cell_type": "code",
   "execution_count": 95,
   "metadata": {
    "ExecuteTime": {
     "end_time": "2018-05-18T08:11:50.618392Z",
     "start_time": "2018-05-18T08:11:50.577235Z"
    }
   },
   "outputs": [],
   "source": [
    "def draw_bar_table(bar_data, table_data, height, width, title, table_pos={'x':[0.45, 0.9], 'y':[0, 0.8]}):\n",
    "    table_trace = go.Table(\n",
    "        domain=table_pos,\n",
    "        columnwidth = [52]*2,\n",
    "        columnorder=[0, 1],\n",
    "        header = dict(height = 25,\n",
    "                    values = [['<b>名称</b>'],['<b>与上月同比</b>'],],\n",
    "                    line = dict(color='#000000'),\n",
    "                    align = ['left'] * 2,\n",
    "                    font = dict(color=['#FFFFFF'] * 2, size=14),\n",
    "                    fill = dict(color='#2d5b6c')),\n",
    "        cells = dict(values = table_data,\n",
    "                    line = dict(color='#000000'),\n",
    "                    align = ['left'] * 2,\n",
    "                    font = dict(color=['#FFFFFF'] * 2, size=12),\n",
    "                    #format = [None]*4 + [',.2f'],\n",
    "                    #prefix = [None] * 2 + ['$', u'\\u20BF'],\n",
    "                    #suffix=[None] * 4,\n",
    "                    height = 25,\n",
    "                    fill = dict(color=['#68a4b9', '#526372']))\n",
    "    )\n",
    "\n",
    "    trace = go.Bar(y=bar_data['y'], x=bar_data['x'], orientation = 'h',\n",
    "                  text = bar_data['text'],textposition = 'outside',)\n",
    "\n",
    "    layout = go.Layout(\n",
    "        title=title,\n",
    "        height=height,\n",
    "        width=width,\n",
    "        margin=dict(l=300,r=0),\n",
    "        yaxis = dict(ticklen=2)\n",
    "    )\n",
    "\n",
    "    fig = go.Figure(data=[trace,table_trace],layout=layout)\n",
    "    py.iplot(fig)\n"
   ]
  },
  {
   "cell_type": "code",
   "execution_count": 96,
   "metadata": {
    "ExecuteTime": {
     "end_time": "2018-05-18T08:11:51.936246Z",
     "start_time": "2018-05-18T08:11:51.287007Z"
    },
    "collapsed": true
   },
   "outputs": [],
   "source": [
    "imeis418 = len(df418['IMEI'].unique())\n",
    "imeis318 = len(df318['IMEI'].unique())\n",
    "\n",
    "total_appclick418 = df418[df418['name'] == 'appclick']\n",
    "total_appclick318 = df318[df318['name'] == 'appclick']"
   ]
  },
  {
   "cell_type": "code",
   "execution_count": 97,
   "metadata": {
    "ExecuteTime": {
     "end_time": "2018-05-18T08:11:52.028766Z",
     "start_time": "2018-05-18T08:11:51.938430Z"
    },
    "scrolled": true
   },
   "outputs": [
    {
     "data": {
      "application/vnd.plotly.v1+json": {
       "data": [
        {
         "orientation": "h",
         "text": [
          "0.38%",
          "0.39%",
          "0.40%",
          "0.41%",
          "0.43%",
          "0.45%",
          "0.45%",
          "0.47%",
          "0.56%",
          "0.58%",
          "0.69%",
          "0.86%",
          "0.92%",
          "1.02%",
          "1.14%",
          "1.22%",
          "1.25%",
          "1.44%",
          "1.70%",
          "1.84%",
          "1.97%",
          "1.98%",
          "2.90%",
          "2.94%",
          "3.29%",
          "5.14%",
          "8.09%",
          "10.37%",
          "13.32%",
          "13.49%",
          "19.91%"
         ],
         "textposition": "outside",
         "type": "bar",
         "x": [
          0.003817112746200559,
          0.003887800019278347,
          0.004009896218230891,
          0.004093435722777367,
          0.00427336696333901,
          0.004453298203900652,
          0.004485428782572374,
          0.004652507791665328,
          0.005629277383285673,
          0.0058284869710503485,
          0.006895222182951515,
          0.008566012273881053,
          0.009182919384378112,
          0.01017896732320149,
          0.011406355428461266,
          0.012183915432316936,
          0.012518073450502843,
          0.01440735147640009,
          0.016984223885872184,
          0.018365838768756224,
          0.01973460142017158,
          0.0198245670404524,
          0.029046043119236576,
          0.02943161006329724,
          0.03292741702278058,
          0.051396073643286314,
          0.08093050155833306,
          0.1036853773736465,
          0.13321337917295892,
          0.13488416926388846,
          0.19910676991292614
         ],
         "y": [
          "Twitter",
          "Snapchat",
          "com.WhatsApp2Plus",
          "Google",
          "ADMA",
          "CY Flashlight",
          "CY Desk Clock",
          "CY System manager",
          "com.nemo.vidmate",
          "CY Calculator",
          "Android Browser",
          "Google Chrome: Fast & Secure",
          "WeChat",
          "SoundCloud - Music & Audio",
          "CY Video",
          "SHAREit - Transfer & Share",
          "Facebook Lite",
          "CY Music",
          "Instagram",
          "com.android.vending",
          "YouTube",
          "CY File manager",
          "Android MMS",
          "CY Camera",
          "CY Settings",
          "CY Gallery",
          "Messenger – Text and Video Chat for Free",
          "Facebook",
          "WhatsApp Messenger",
          "Others",
          "CY Contacts"
         ]
        },
        {
         "cells": {
          "align": [
           "left",
           "left"
          ],
          "fill": {
           "color": [
            "#68a4b9",
            "#526372"
           ]
          },
          "font": {
           "color": [
            "#FFFFFF",
            "#FFFFFF"
           ],
           "size": 12
          },
          "height": 25,
          "line": {
           "color": "#000000"
          },
          "values": [
           [
            "CY Contacts",
            "WhatsApp Messenger",
            "Facebook",
            "Messenger – Text and Video Chat for Free",
            "CY Gallery",
            "CY Settings",
            "CY Camera",
            "Android MMS",
            "CY File manager",
            "YouTube",
            "com.android.vending",
            "Instagram",
            "CY Music",
            "Facebook Lite",
            "SHAREit - Transfer & Share",
            "CY Video",
            "SoundCloud - Music & Audio",
            "WeChat",
            "Google Chrome: Fast & Secure",
            "Android Browser",
            "CY Calculator",
            "com.nemo.vidmate",
            "CY System manager",
            "CY Desk Clock",
            "CY Flashlight",
            "ADMA",
            "Google",
            "com.WhatsApp2Plus",
            "Snapchat",
            "Twitter"
           ],
           [
            "-0.59%",
            "5.09%",
            "2.61%",
            "3.82%",
            "0.27%",
            "-4.21%",
            "-1.25%",
            "-0.87%",
            "-1.63%",
            "0.26%",
            "-0.92%",
            "0.42%",
            "-0.91%",
            "0.90%",
            "0.01%",
            "-0.37%",
            "0.48%",
            "-0.56%",
            "0.08%",
            "-0.47%",
            "-0.07%",
            "0.16%",
            "-0.52%",
            "-0.32%",
            "-0.11%",
            "-0.18%",
            "-0.05%",
            "0.40%",
            "0.20%",
            "0.27%"
           ]
          ]
         },
         "columnorder": [
          0,
          1
         ],
         "columnwidth": [
          52,
          52
         ],
         "domain": {
          "x": [
           0.45,
           0.9
          ],
          "y": [
           0,
           0.8
          ]
         },
         "header": {
          "align": [
           "left",
           "left"
          ],
          "fill": {
           "color": "#2d5b6c"
          },
          "font": {
           "color": [
            "#FFFFFF",
            "#FFFFFF"
           ],
           "size": 14
          },
          "height": 25,
          "line": {
           "color": "#000000"
          },
          "values": [
           [
            "<b>名称</b>"
           ],
           [
            "<b>与上月同比</b>"
           ]
          ]
         },
         "type": "table"
        }
       ],
       "layout": {
        "height": 1200,
        "margin": {
         "l": 300,
         "r": 0
        },
        "title": "点击次数排名<br>总点击数:155615  设备数:337",
        "width": 1300,
        "yaxis": {
         "ticklen": 2
        }
       }
      },
      "text/html": [
       "<div id=\"cb12e6ac-8127-41d4-806d-a77d11238b63\" style=\"height: 1200px; width: 1300px;\" class=\"plotly-graph-div\"></div><script type=\"text/javascript\">require([\"plotly\"], function(Plotly) { window.PLOTLYENV=window.PLOTLYENV || {};window.PLOTLYENV.BASE_URL=\"https://plot.ly\";Plotly.newPlot(\"cb12e6ac-8127-41d4-806d-a77d11238b63\", [{\"type\": \"bar\", \"y\": [\"Twitter\", \"Snapchat\", \"com.WhatsApp2Plus\", \"Google\", \"ADMA\", \"CY Flashlight\", \"CY Desk Clock\", \"CY System manager\", \"com.nemo.vidmate\", \"CY Calculator\", \"Android Browser\", \"Google Chrome: Fast & Secure\", \"WeChat\", \"SoundCloud - Music & Audio\", \"CY Video\", \"SHAREit - Transfer & Share\", \"Facebook Lite\", \"CY Music\", \"Instagram\", \"com.android.vending\", \"YouTube\", \"CY File manager\", \"Android MMS\", \"CY Camera\", \"CY Settings\", \"CY Gallery\", \"Messenger \\u2013 Text and Video Chat for Free\", \"Facebook\", \"WhatsApp Messenger\", \"Others\", \"CY Contacts\"], \"x\": [0.003817112746200559, 0.003887800019278347, 0.004009896218230891, 0.004093435722777367, 0.00427336696333901, 0.004453298203900652, 0.004485428782572374, 0.004652507791665328, 0.005629277383285673, 0.0058284869710503485, 0.006895222182951515, 0.008566012273881053, 0.009182919384378112, 0.01017896732320149, 0.011406355428461266, 0.012183915432316936, 0.012518073450502843, 0.01440735147640009, 0.016984223885872184, 0.018365838768756224, 0.01973460142017158, 0.0198245670404524, 0.029046043119236576, 0.02943161006329724, 0.03292741702278058, 0.051396073643286314, 0.08093050155833306, 0.1036853773736465, 0.13321337917295892, 0.13488416926388846, 0.19910676991292614], \"orientation\": \"h\", \"text\": [\"0.38%\", \"0.39%\", \"0.40%\", \"0.41%\", \"0.43%\", \"0.45%\", \"0.45%\", \"0.47%\", \"0.56%\", \"0.58%\", \"0.69%\", \"0.86%\", \"0.92%\", \"1.02%\", \"1.14%\", \"1.22%\", \"1.25%\", \"1.44%\", \"1.70%\", \"1.84%\", \"1.97%\", \"1.98%\", \"2.90%\", \"2.94%\", \"3.29%\", \"5.14%\", \"8.09%\", \"10.37%\", \"13.32%\", \"13.49%\", \"19.91%\"], \"textposition\": \"outside\"}, {\"type\": \"table\", \"domain\": {\"x\": [0.45, 0.9], \"y\": [0, 0.8]}, \"columnwidth\": [52, 52], \"columnorder\": [0, 1], \"header\": {\"height\": 25, \"values\": [[\"<b>\\u540d\\u79f0</b>\"], [\"<b>\\u4e0e\\u4e0a\\u6708\\u540c\\u6bd4</b>\"]], \"line\": {\"color\": \"#000000\"}, \"align\": [\"left\", \"left\"], \"font\": {\"color\": [\"#FFFFFF\", \"#FFFFFF\"], \"size\": 14}, \"fill\": {\"color\": \"#2d5b6c\"}}, \"cells\": {\"values\": [[\"CY Contacts\", \"WhatsApp Messenger\", \"Facebook\", \"Messenger \\u2013 Text and Video Chat for Free\", \"CY Gallery\", \"CY Settings\", \"CY Camera\", \"Android MMS\", \"CY File manager\", \"YouTube\", \"com.android.vending\", \"Instagram\", \"CY Music\", \"Facebook Lite\", \"SHAREit - Transfer & Share\", \"CY Video\", \"SoundCloud - Music & Audio\", \"WeChat\", \"Google Chrome: Fast & Secure\", \"Android Browser\", \"CY Calculator\", \"com.nemo.vidmate\", \"CY System manager\", \"CY Desk Clock\", \"CY Flashlight\", \"ADMA\", \"Google\", \"com.WhatsApp2Plus\", \"Snapchat\", \"Twitter\"], [\"-0.59%\", \"5.09%\", \"2.61%\", \"3.82%\", \"0.27%\", \"-4.21%\", \"-1.25%\", \"-0.87%\", \"-1.63%\", \"0.26%\", \"-0.92%\", \"0.42%\", \"-0.91%\", \"0.90%\", \"0.01%\", \"-0.37%\", \"0.48%\", \"-0.56%\", \"0.08%\", \"-0.47%\", \"-0.07%\", \"0.16%\", \"-0.52%\", \"-0.32%\", \"-0.11%\", \"-0.18%\", \"-0.05%\", \"0.40%\", \"0.20%\", \"0.27%\"]], \"line\": {\"color\": \"#000000\"}, \"align\": [\"left\", \"left\"], \"font\": {\"color\": [\"#FFFFFF\", \"#FFFFFF\"], \"size\": 12}, \"height\": 25, \"fill\": {\"color\": [\"#68a4b9\", \"#526372\"]}}}], {\"title\": \"\\u70b9\\u51fb\\u6b21\\u6570\\u6392\\u540d<br>\\u603b\\u70b9\\u51fb\\u6570:155615  \\u8bbe\\u5907\\u6570:337\", \"height\": 1200, \"width\": 1300, \"margin\": {\"l\": 300, \"r\": 0}, \"yaxis\": {\"ticklen\": 2}}, {\"showLink\": true, \"linkText\": \"Export to plot.ly\"})});</script>"
      ],
      "text/vnd.plotly.v1+html": [
       "<div id=\"cb12e6ac-8127-41d4-806d-a77d11238b63\" style=\"height: 1200px; width: 1300px;\" class=\"plotly-graph-div\"></div><script type=\"text/javascript\">require([\"plotly\"], function(Plotly) { window.PLOTLYENV=window.PLOTLYENV || {};window.PLOTLYENV.BASE_URL=\"https://plot.ly\";Plotly.newPlot(\"cb12e6ac-8127-41d4-806d-a77d11238b63\", [{\"type\": \"bar\", \"y\": [\"Twitter\", \"Snapchat\", \"com.WhatsApp2Plus\", \"Google\", \"ADMA\", \"CY Flashlight\", \"CY Desk Clock\", \"CY System manager\", \"com.nemo.vidmate\", \"CY Calculator\", \"Android Browser\", \"Google Chrome: Fast & Secure\", \"WeChat\", \"SoundCloud - Music & Audio\", \"CY Video\", \"SHAREit - Transfer & Share\", \"Facebook Lite\", \"CY Music\", \"Instagram\", \"com.android.vending\", \"YouTube\", \"CY File manager\", \"Android MMS\", \"CY Camera\", \"CY Settings\", \"CY Gallery\", \"Messenger \\u2013 Text and Video Chat for Free\", \"Facebook\", \"WhatsApp Messenger\", \"Others\", \"CY Contacts\"], \"x\": [0.003817112746200559, 0.003887800019278347, 0.004009896218230891, 0.004093435722777367, 0.00427336696333901, 0.004453298203900652, 0.004485428782572374, 0.004652507791665328, 0.005629277383285673, 0.0058284869710503485, 0.006895222182951515, 0.008566012273881053, 0.009182919384378112, 0.01017896732320149, 0.011406355428461266, 0.012183915432316936, 0.012518073450502843, 0.01440735147640009, 0.016984223885872184, 0.018365838768756224, 0.01973460142017158, 0.0198245670404524, 0.029046043119236576, 0.02943161006329724, 0.03292741702278058, 0.051396073643286314, 0.08093050155833306, 0.1036853773736465, 0.13321337917295892, 0.13488416926388846, 0.19910676991292614], \"orientation\": \"h\", \"text\": [\"0.38%\", \"0.39%\", \"0.40%\", \"0.41%\", \"0.43%\", \"0.45%\", \"0.45%\", \"0.47%\", \"0.56%\", \"0.58%\", \"0.69%\", \"0.86%\", \"0.92%\", \"1.02%\", \"1.14%\", \"1.22%\", \"1.25%\", \"1.44%\", \"1.70%\", \"1.84%\", \"1.97%\", \"1.98%\", \"2.90%\", \"2.94%\", \"3.29%\", \"5.14%\", \"8.09%\", \"10.37%\", \"13.32%\", \"13.49%\", \"19.91%\"], \"textposition\": \"outside\"}, {\"type\": \"table\", \"domain\": {\"x\": [0.45, 0.9], \"y\": [0, 0.8]}, \"columnwidth\": [52, 52], \"columnorder\": [0, 1], \"header\": {\"height\": 25, \"values\": [[\"<b>\\u540d\\u79f0</b>\"], [\"<b>\\u4e0e\\u4e0a\\u6708\\u540c\\u6bd4</b>\"]], \"line\": {\"color\": \"#000000\"}, \"align\": [\"left\", \"left\"], \"font\": {\"color\": [\"#FFFFFF\", \"#FFFFFF\"], \"size\": 14}, \"fill\": {\"color\": \"#2d5b6c\"}}, \"cells\": {\"values\": [[\"CY Contacts\", \"WhatsApp Messenger\", \"Facebook\", \"Messenger \\u2013 Text and Video Chat for Free\", \"CY Gallery\", \"CY Settings\", \"CY Camera\", \"Android MMS\", \"CY File manager\", \"YouTube\", \"com.android.vending\", \"Instagram\", \"CY Music\", \"Facebook Lite\", \"SHAREit - Transfer & Share\", \"CY Video\", \"SoundCloud - Music & Audio\", \"WeChat\", \"Google Chrome: Fast & Secure\", \"Android Browser\", \"CY Calculator\", \"com.nemo.vidmate\", \"CY System manager\", \"CY Desk Clock\", \"CY Flashlight\", \"ADMA\", \"Google\", \"com.WhatsApp2Plus\", \"Snapchat\", \"Twitter\"], [\"-0.59%\", \"5.09%\", \"2.61%\", \"3.82%\", \"0.27%\", \"-4.21%\", \"-1.25%\", \"-0.87%\", \"-1.63%\", \"0.26%\", \"-0.92%\", \"0.42%\", \"-0.91%\", \"0.90%\", \"0.01%\", \"-0.37%\", \"0.48%\", \"-0.56%\", \"0.08%\", \"-0.47%\", \"-0.07%\", \"0.16%\", \"-0.52%\", \"-0.32%\", \"-0.11%\", \"-0.18%\", \"-0.05%\", \"0.40%\", \"0.20%\", \"0.27%\"]], \"line\": {\"color\": \"#000000\"}, \"align\": [\"left\", \"left\"], \"font\": {\"color\": [\"#FFFFFF\", \"#FFFFFF\"], \"size\": 12}, \"height\": 25, \"fill\": {\"color\": [\"#68a4b9\", \"#526372\"]}}}], {\"title\": \"\\u70b9\\u51fb\\u6b21\\u6570\\u6392\\u540d<br>\\u603b\\u70b9\\u51fb\\u6570:155615  \\u8bbe\\u5907\\u6570:337\", \"height\": 1200, \"width\": 1300, \"margin\": {\"l\": 300, \"r\": 0}, \"yaxis\": {\"ticklen\": 2}}, {\"showLink\": true, \"linkText\": \"Export to plot.ly\"})});</script>"
      ]
     },
     "metadata": {},
     "output_type": "display_data"
    }
   ],
   "source": [
    "appclick418 = total_appclick418.groupby(['attrs_packagename']).size().sort_values().truediv(len(total_appclick418))\n",
    "appclick318 = total_appclick318.groupby(['attrs_packagename']).size().sort_values().truediv(len(total_appclick318))\n",
    "\n",
    "title='点击次数排名<br>总点击数:{}  设备数:{}'.format(len(total_appclick418), imeis418)\n",
    "bar_data, table_data = get_bar_table_data(appclick418, appclick318)\n",
    "draw_bar_table(bar_data, table_data, height=1200, width=1300, title=title)"
   ]
  },
  {
   "cell_type": "code",
   "execution_count": 98,
   "metadata": {
    "ExecuteTime": {
     "end_time": "2018-05-18T08:11:54.383597Z",
     "start_time": "2018-05-18T08:11:53.177239Z"
    }
   },
   "outputs": [
    {
     "data": {
      "text/plain": [
       "'Not Found'"
      ]
     },
     "execution_count": 98,
     "metadata": {},
     "output_type": "execute_result"
    }
   ],
   "source": [
    "get_name_from_google('com.android.xxx')"
   ]
  },
  {
   "cell_type": "code",
   "execution_count": 99,
   "metadata": {
    "ExecuteTime": {
     "end_time": "2018-05-18T08:11:54.470126Z",
     "start_time": "2018-05-18T08:11:54.385640Z"
    }
   },
   "outputs": [
    {
     "data": {
      "application/vnd.plotly.v1+json": {
       "data": [
        {
         "orientation": "h",
         "text": [
          1.8,
          1.8,
          1.9,
          1.9,
          2,
          2.1,
          2.1,
          2.1,
          2.6,
          2.7,
          3.2,
          4,
          4.2,
          4.7,
          5.3,
          5.6,
          5.8,
          6.7,
          7.8,
          8.5,
          9.1,
          9.2,
          13.4,
          13.6,
          15.2,
          23.7,
          37.4,
          47.9,
          52.4,
          61.5,
          91.9
         ],
         "textposition": "outside",
         "type": "bar",
         "x": [
          1.8,
          1.8,
          1.9,
          1.9,
          2,
          2.1,
          2.1,
          2.1,
          2.6,
          2.7,
          3.2,
          4,
          4.2,
          4.7,
          5.3,
          5.6,
          5.8,
          6.7,
          7.8,
          8.5,
          9.1,
          9.2,
          13.4,
          13.6,
          15.2,
          23.7,
          37.4,
          47.9,
          52.39999999999998,
          61.5,
          91.9
         ],
         "y": [
          "Twitter",
          "Snapchat",
          "com.WhatsApp2Plus",
          "Google",
          "ADMA",
          "CY Flashlight",
          "CY Desk Clock",
          "CY System manager",
          "com.nemo.vidmate",
          "CY Calculator",
          "Android Browser",
          "Google Chrome: Fast & Secure",
          "WeChat",
          "SoundCloud - Music & Audio",
          "CY Video",
          "SHAREit - Transfer & Share",
          "Facebook Lite",
          "CY Music",
          "Instagram",
          "com.android.vending",
          "YouTube",
          "CY File manager",
          "Android MMS",
          "CY Camera",
          "CY Settings",
          "CY Gallery",
          "Messenger – Text and Video Chat for Free",
          "Facebook",
          "Others",
          "WhatsApp Messenger",
          "CY Contacts"
         ]
        },
        {
         "cells": {
          "align": [
           "left",
           "left"
          ],
          "fill": {
           "color": [
            "#68a4b9",
            "#526372"
           ]
          },
          "font": {
           "color": [
            "#FFFFFF",
            "#FFFFFF"
           ],
           "size": 12
          },
          "height": 25,
          "line": {
           "color": "#000000"
          },
          "values": [
           [
            "CY Contacts",
            "WhatsApp Messenger",
            "Facebook",
            "Messenger – Text and Video Chat for Free",
            "CY Gallery",
            "CY Settings",
            "CY Camera",
            "Android MMS",
            "CY File manager",
            "YouTube",
            "com.android.vending",
            "Instagram",
            "CY Music",
            "Facebook Lite",
            "SHAREit - Transfer & Share",
            "CY Video",
            "SoundCloud - Music & Audio",
            "WeChat",
            "Google Chrome: Fast & Secure",
            "Android Browser",
            "CY Calculator",
            "com.nemo.vidmate",
            "CY System manager",
            "CY Desk Clock",
            "CY Flashlight",
            "ADMA",
            "Google",
            "com.WhatsApp2Plus",
            "Snapchat",
            "Twitter"
           ],
           [
            30.2,
            36.8,
            24.6,
            24.6,
            9.1,
            -7.4,
            1,
            2,
            -1.7,
            3.9,
            0.2,
            4,
            -0.4,
            4.7,
            2,
            0.8,
            3.1,
            -0.2,
            1.7,
            -0.3,
            0.7,
            1.4,
            -0.9,
            -0.2,
            0.4,
            0.2,
            0.5,
            1.9,
            1.2,
            1.5
           ]
          ]
         },
         "columnorder": [
          0,
          1
         ],
         "columnwidth": [
          52,
          52
         ],
         "domain": {
          "x": [
           0.45,
           0.9
          ],
          "y": [
           0,
           0.8
          ]
         },
         "header": {
          "align": [
           "left",
           "left"
          ],
          "fill": {
           "color": "#2d5b6c"
          },
          "font": {
           "color": [
            "#FFFFFF",
            "#FFFFFF"
           ],
           "size": 14
          },
          "height": 25,
          "line": {
           "color": "#000000"
          },
          "values": [
           [
            "<b>名称</b>"
           ],
           [
            "<b>与上月同比</b>"
           ]
          ]
         },
         "type": "table"
        }
       ],
       "layout": {
        "height": 1200,
        "margin": {
         "l": 300,
         "r": 0
        },
        "title": "人均点击排名<br>总点击数:155615  设备数:337",
        "width": 1300,
        "yaxis": {
         "ticklen": 2
        }
       }
      },
      "text/html": [
       "<div id=\"30dad57d-2c2d-47b1-bf66-5ea5925ddb94\" style=\"height: 1200px; width: 1300px;\" class=\"plotly-graph-div\"></div><script type=\"text/javascript\">require([\"plotly\"], function(Plotly) { window.PLOTLYENV=window.PLOTLYENV || {};window.PLOTLYENV.BASE_URL=\"https://plot.ly\";Plotly.newPlot(\"30dad57d-2c2d-47b1-bf66-5ea5925ddb94\", [{\"type\": \"bar\", \"y\": [\"Twitter\", \"Snapchat\", \"com.WhatsApp2Plus\", \"Google\", \"ADMA\", \"CY Flashlight\", \"CY Desk Clock\", \"CY System manager\", \"com.nemo.vidmate\", \"CY Calculator\", \"Android Browser\", \"Google Chrome: Fast & Secure\", \"WeChat\", \"SoundCloud - Music & Audio\", \"CY Video\", \"SHAREit - Transfer & Share\", \"Facebook Lite\", \"CY Music\", \"Instagram\", \"com.android.vending\", \"YouTube\", \"CY File manager\", \"Android MMS\", \"CY Camera\", \"CY Settings\", \"CY Gallery\", \"Messenger \\u2013 Text and Video Chat for Free\", \"Facebook\", \"Others\", \"WhatsApp Messenger\", \"CY Contacts\"], \"x\": [1.8, 1.8, 1.9, 1.9, 2.0, 2.1, 2.1, 2.1, 2.6, 2.7, 3.2, 4.0, 4.2, 4.7, 5.3, 5.6, 5.8, 6.7, 7.8, 8.5, 9.1, 9.2, 13.4, 13.6, 15.2, 23.7, 37.4, 47.9, 52.39999999999998, 61.5, 91.9], \"orientation\": \"h\", \"text\": [1.8, 1.8, 1.9, 1.9, 2.0, 2.1, 2.1, 2.1, 2.6, 2.7, 3.2, 4.0, 4.2, 4.7, 5.3, 5.6, 5.8, 6.7, 7.8, 8.5, 9.1, 9.2, 13.4, 13.6, 15.2, 23.7, 37.4, 47.9, 52.4, 61.5, 91.9], \"textposition\": \"outside\"}, {\"type\": \"table\", \"domain\": {\"x\": [0.45, 0.9], \"y\": [0, 0.8]}, \"columnwidth\": [52, 52], \"columnorder\": [0, 1], \"header\": {\"height\": 25, \"values\": [[\"<b>\\u540d\\u79f0</b>\"], [\"<b>\\u4e0e\\u4e0a\\u6708\\u540c\\u6bd4</b>\"]], \"line\": {\"color\": \"#000000\"}, \"align\": [\"left\", \"left\"], \"font\": {\"color\": [\"#FFFFFF\", \"#FFFFFF\"], \"size\": 14}, \"fill\": {\"color\": \"#2d5b6c\"}}, \"cells\": {\"values\": [[\"CY Contacts\", \"WhatsApp Messenger\", \"Facebook\", \"Messenger \\u2013 Text and Video Chat for Free\", \"CY Gallery\", \"CY Settings\", \"CY Camera\", \"Android MMS\", \"CY File manager\", \"YouTube\", \"com.android.vending\", \"Instagram\", \"CY Music\", \"Facebook Lite\", \"SHAREit - Transfer & Share\", \"CY Video\", \"SoundCloud - Music & Audio\", \"WeChat\", \"Google Chrome: Fast & Secure\", \"Android Browser\", \"CY Calculator\", \"com.nemo.vidmate\", \"CY System manager\", \"CY Desk Clock\", \"CY Flashlight\", \"ADMA\", \"Google\", \"com.WhatsApp2Plus\", \"Snapchat\", \"Twitter\"], [30.2, 36.8, 24.6, 24.6, 9.1, -7.4, 1.0, 2.0, -1.7, 3.9, 0.2, 4.0, -0.4, 4.7, 2.0, 0.8, 3.1, -0.2, 1.7, -0.3, 0.7, 1.4, -0.9, -0.2, 0.4, 0.2, 0.5, 1.9, 1.2, 1.5]], \"line\": {\"color\": \"#000000\"}, \"align\": [\"left\", \"left\"], \"font\": {\"color\": [\"#FFFFFF\", \"#FFFFFF\"], \"size\": 12}, \"height\": 25, \"fill\": {\"color\": [\"#68a4b9\", \"#526372\"]}}}], {\"title\": \"\\u4eba\\u5747\\u70b9\\u51fb\\u6392\\u540d<br>\\u603b\\u70b9\\u51fb\\u6570:155615  \\u8bbe\\u5907\\u6570:337\", \"height\": 1200, \"width\": 1300, \"margin\": {\"l\": 300, \"r\": 0}, \"yaxis\": {\"ticklen\": 2}}, {\"showLink\": true, \"linkText\": \"Export to plot.ly\"})});</script>"
      ],
      "text/vnd.plotly.v1+html": [
       "<div id=\"30dad57d-2c2d-47b1-bf66-5ea5925ddb94\" style=\"height: 1200px; width: 1300px;\" class=\"plotly-graph-div\"></div><script type=\"text/javascript\">require([\"plotly\"], function(Plotly) { window.PLOTLYENV=window.PLOTLYENV || {};window.PLOTLYENV.BASE_URL=\"https://plot.ly\";Plotly.newPlot(\"30dad57d-2c2d-47b1-bf66-5ea5925ddb94\", [{\"type\": \"bar\", \"y\": [\"Twitter\", \"Snapchat\", \"com.WhatsApp2Plus\", \"Google\", \"ADMA\", \"CY Flashlight\", \"CY Desk Clock\", \"CY System manager\", \"com.nemo.vidmate\", \"CY Calculator\", \"Android Browser\", \"Google Chrome: Fast & Secure\", \"WeChat\", \"SoundCloud - Music & Audio\", \"CY Video\", \"SHAREit - Transfer & Share\", \"Facebook Lite\", \"CY Music\", \"Instagram\", \"com.android.vending\", \"YouTube\", \"CY File manager\", \"Android MMS\", \"CY Camera\", \"CY Settings\", \"CY Gallery\", \"Messenger \\u2013 Text and Video Chat for Free\", \"Facebook\", \"Others\", \"WhatsApp Messenger\", \"CY Contacts\"], \"x\": [1.8, 1.8, 1.9, 1.9, 2.0, 2.1, 2.1, 2.1, 2.6, 2.7, 3.2, 4.0, 4.2, 4.7, 5.3, 5.6, 5.8, 6.7, 7.8, 8.5, 9.1, 9.2, 13.4, 13.6, 15.2, 23.7, 37.4, 47.9, 52.39999999999998, 61.5, 91.9], \"orientation\": \"h\", \"text\": [1.8, 1.8, 1.9, 1.9, 2.0, 2.1, 2.1, 2.1, 2.6, 2.7, 3.2, 4.0, 4.2, 4.7, 5.3, 5.6, 5.8, 6.7, 7.8, 8.5, 9.1, 9.2, 13.4, 13.6, 15.2, 23.7, 37.4, 47.9, 52.4, 61.5, 91.9], \"textposition\": \"outside\"}, {\"type\": \"table\", \"domain\": {\"x\": [0.45, 0.9], \"y\": [0, 0.8]}, \"columnwidth\": [52, 52], \"columnorder\": [0, 1], \"header\": {\"height\": 25, \"values\": [[\"<b>\\u540d\\u79f0</b>\"], [\"<b>\\u4e0e\\u4e0a\\u6708\\u540c\\u6bd4</b>\"]], \"line\": {\"color\": \"#000000\"}, \"align\": [\"left\", \"left\"], \"font\": {\"color\": [\"#FFFFFF\", \"#FFFFFF\"], \"size\": 14}, \"fill\": {\"color\": \"#2d5b6c\"}}, \"cells\": {\"values\": [[\"CY Contacts\", \"WhatsApp Messenger\", \"Facebook\", \"Messenger \\u2013 Text and Video Chat for Free\", \"CY Gallery\", \"CY Settings\", \"CY Camera\", \"Android MMS\", \"CY File manager\", \"YouTube\", \"com.android.vending\", \"Instagram\", \"CY Music\", \"Facebook Lite\", \"SHAREit - Transfer & Share\", \"CY Video\", \"SoundCloud - Music & Audio\", \"WeChat\", \"Google Chrome: Fast & Secure\", \"Android Browser\", \"CY Calculator\", \"com.nemo.vidmate\", \"CY System manager\", \"CY Desk Clock\", \"CY Flashlight\", \"ADMA\", \"Google\", \"com.WhatsApp2Plus\", \"Snapchat\", \"Twitter\"], [30.2, 36.8, 24.6, 24.6, 9.1, -7.4, 1.0, 2.0, -1.7, 3.9, 0.2, 4.0, -0.4, 4.7, 2.0, 0.8, 3.1, -0.2, 1.7, -0.3, 0.7, 1.4, -0.9, -0.2, 0.4, 0.2, 0.5, 1.9, 1.2, 1.5]], \"line\": {\"color\": \"#000000\"}, \"align\": [\"left\", \"left\"], \"font\": {\"color\": [\"#FFFFFF\", \"#FFFFFF\"], \"size\": 12}, \"height\": 25, \"fill\": {\"color\": [\"#68a4b9\", \"#526372\"]}}}], {\"title\": \"\\u4eba\\u5747\\u70b9\\u51fb\\u6392\\u540d<br>\\u603b\\u70b9\\u51fb\\u6570:155615  \\u8bbe\\u5907\\u6570:337\", \"height\": 1200, \"width\": 1300, \"margin\": {\"l\": 300, \"r\": 0}, \"yaxis\": {\"ticklen\": 2}}, {\"showLink\": true, \"linkText\": \"Export to plot.ly\"})});</script>"
      ]
     },
     "metadata": {},
     "output_type": "display_data"
    }
   ],
   "source": [
    "click_by_phone418 = total_appclick418.groupby(['attrs_packagename']).size().sort_values().truediv(imeis418)\n",
    "click_by_phone418 = click_by_phone418.apply(lambda x: round(x,1))\n",
    "click_by_phone318 = total_appclick318.groupby(['attrs_packagename']).size().sort_values().truediv(imeis318)\n",
    "click_by_phone318 = click_by_phone318.apply(lambda x: round(x,1))\n",
    "\n",
    "title='人均点击排名<br>总点击数:{}  设备数:{}'.format(len(total_appclick418), imeis418)\n",
    "bar_data, table_data = get_bar_table_data(click_by_phone418, click_by_phone318, False)\n",
    "draw_bar_table(bar_data, table_data, height=1200, width=1300, title=title)"
   ]
  },
  {
   "cell_type": "code",
   "execution_count": 100,
   "metadata": {
    "ExecuteTime": {
     "end_time": "2018-05-18T08:11:55.934583Z",
     "start_time": "2018-05-18T08:11:55.896022Z"
    },
    "collapsed": true
   },
   "outputs": [],
   "source": [
    "def install_rate(cur_month, last_month, label,title,height=1200,width=1200,by_imei=True):\n",
    "    data_cur = cur_month[cur_month.name == label].groupby(['IMEI', 'attrs_packagename']).size()\n",
    "    data_last = last_month[last_month.name == label].groupby(['IMEI', 'attrs_packagename']).size()\n",
    "    \n",
    "    package_info_cur = data_cur.reset_index()\n",
    "    package_info_last = data_last.reset_index()\n",
    "    \n",
    "    imeis_cur = len(cur_month['IMEI'].unique())\n",
    "    imeis_last = len(last_month['IMEI'].unique())\n",
    "    total_cur = package_info_cur.groupby('attrs_packagename').size().sort_values().sum()\n",
    "    total_last = package_info_last.groupby('attrs_packagename').size().sort_values().sum()\n",
    "    \n",
    "    if by_imei:\n",
    "        divisor_cur = imeis_cur\n",
    "        divisor_last = imeis_last\n",
    "    else:\n",
    "        divisor_cur = total_cur\n",
    "        divisor_last = total_last\n",
    "        \n",
    "    package_rate_cur = package_info_cur.groupby('attrs_packagename').size().sort_values()/divisor_cur\n",
    "    package_rate_last = package_info_last.groupby('attrs_packagename').size().sort_values()/divisor_last\n",
    "    \n",
    "    bar_data, table_data = get_bar_table_data(package_rate_cur, package_rate_last, rate=True, need_other=False)\n",
    "    title= title + '<br>总次数:{}  总设备数:{}'.format(str(int(total_cur)), imeis_cur)\n",
    " \n",
    "    draw_bar_table(bar_data, table_data, height, width, title)"
   ]
  },
  {
   "cell_type": "code",
   "execution_count": 101,
   "metadata": {
    "ExecuteTime": {
     "end_time": "2018-05-18T08:12:21.229897Z",
     "start_time": "2018-05-18T08:11:57.246081Z"
    }
   },
   "outputs": [
    {
     "data": {
      "application/vnd.plotly.v1+json": {
       "data": [
        {
         "orientation": "h",
         "text": [
          "0.29%",
          "0.29%",
          "0.32%",
          "0.32%",
          "0.32%",
          "0.35%",
          "0.35%",
          "0.41%",
          "0.41%",
          "0.41%",
          "0.44%",
          "0.44%",
          "0.44%",
          "0.44%",
          "0.50%",
          "0.50%",
          "0.50%",
          "0.53%",
          "0.59%",
          "0.65%",
          "0.65%",
          "0.68%",
          "0.91%",
          "1.21%",
          "1.68%",
          "2.06%",
          "3.68%",
          "3.71%",
          "3.98%",
          "4.03%"
         ],
         "textposition": "outside",
         "type": "bar",
         "x": [
          0.002944640753828033,
          0.002944640753828033,
          0.0032391048292108363,
          0.0032391048292108363,
          0.0032391048292108363,
          0.0035335689045936395,
          0.0035335689045936395,
          0.004122497055359246,
          0.004122497055359246,
          0.004122497055359246,
          0.00441696113074205,
          0.00441696113074205,
          0.00441696113074205,
          0.00441696113074205,
          0.005005889281507656,
          0.005005889281507656,
          0.005005889281507656,
          0.00530035335689046,
          0.005889281507656066,
          0.006478209658421673,
          0.006478209658421673,
          0.006772673733804476,
          0.009128386336866903,
          0.012073027090694936,
          0.01678445229681979,
          0.02061248527679623,
          0.03680800942285041,
          0.037102473498233215,
          0.03975265017667844,
          0.040341578327444054
         ],
         "y": [
          "android.wm.cts.dndtargetappsdk23",
          "android.server.alertwindowapp",
          "Al-Quran (Free)",
          "musical.ly",
          "com.dewmobile.kuaiya",
          "Al-Moazin Lite (Prayer Times)",
          "B612 - Beauty & Filter Camera",
          "ZEDGE™ Ringtones & Wallpapers",
          "Careem - Car Booking App",
          "Google Translate",
          "Candy Crush Saga",
          "Subway Surfers",
          "Google Play Games",
          "Sweet Selfie - selfie camera,beauty cam,photo edit",
          "Snapchat",
          "OLX Arabia - أوليكس",
          "WeChat",
          "AppLock",
          "com.snaptube.premium",
          "Uber",
          "Facebook Lite",
          "imo free video calls and chat",
          "com.nemo.vidmate",
          "SoundCloud - Music & Audio",
          "Instagram",
          "Truecaller: Caller ID, SMS spam blocking & Dialer",
          "Messenger – Text and Video Chat for Free",
          "SHAREit - Transfer & Share",
          "Facebook",
          "WhatsApp Messenger"
         ]
        },
        {
         "cells": {
          "align": [
           "left",
           "left"
          ],
          "fill": {
           "color": [
            "#68a4b9",
            "#526372"
           ]
          },
          "font": {
           "color": [
            "#FFFFFF",
            "#FFFFFF"
           ],
           "size": 12
          },
          "height": 25,
          "line": {
           "color": "#000000"
          },
          "values": [
           [
            "WhatsApp Messenger",
            "Facebook",
            "SHAREit - Transfer & Share",
            "Messenger – Text and Video Chat for Free",
            "Truecaller: Caller ID, SMS spam blocking & Dialer",
            "Instagram",
            "SoundCloud - Music & Audio",
            "com.nemo.vidmate",
            "imo free video calls and chat",
            "Facebook Lite",
            "Uber",
            "com.snaptube.premium",
            "AppLock",
            "WeChat",
            "OLX Arabia - أوليكس",
            "Snapchat",
            "Sweet Selfie - selfie camera,beauty cam,photo edit",
            "Google Play Games",
            "Subway Surfers",
            "Candy Crush Saga",
            "Google Translate",
            "Careem - Car Booking App",
            "ZEDGE™ Ringtones & Wallpapers",
            "B612 - Beauty & Filter Camera",
            "Al-Moazin Lite (Prayer Times)",
            "com.dewmobile.kuaiya",
            "musical.ly",
            "Al-Quran (Free)",
            "android.server.alertwindowapp",
            "android.wm.cts.dndtargetappsdk23"
           ],
           [
            "-1.05%",
            "-0.87%",
            "-0.42%",
            "-0.81%",
            "0.39%",
            "-0.74%",
            "-0.14%",
            "0.16%",
            "-0.16%",
            "0.21%",
            "0.09%",
            "0.03%",
            "-0.03%",
            "-0.25%",
            "-0.33%",
            "-0.09%",
            "0.24%",
            "-0.19%",
            "-0.03%",
            "-0.11%",
            "-0.10%",
            "-0.02%",
            "-0.02%",
            "-0.20%",
            "-0.08%",
            "0.13%",
            "0.20%",
            "0.24%",
            "0.14%",
            "0.14%"
           ]
          ]
         },
         "columnorder": [
          0,
          1
         ],
         "columnwidth": [
          52,
          52
         ],
         "domain": {
          "x": [
           0.45,
           0.9
          ],
          "y": [
           0,
           0.8
          ]
         },
         "header": {
          "align": [
           "left",
           "left"
          ],
          "fill": {
           "color": "#2d5b6c"
          },
          "font": {
           "color": [
            "#FFFFFF",
            "#FFFFFF"
           ],
           "size": 14
          },
          "height": 25,
          "line": {
           "color": "#000000"
          },
          "values": [
           [
            "<b>名称</b>"
           ],
           [
            "<b>与上月同比</b>"
           ]
          ]
         },
         "type": "table"
        }
       ],
       "layout": {
        "height": 1300,
        "margin": {
         "l": 300,
         "r": 0
        },
        "title": "安装应用排行<br>总次数:3396  总设备数:337",
        "width": 1300,
        "yaxis": {
         "ticklen": 2
        }
       }
      },
      "text/html": [
       "<div id=\"259f0058-8e66-40c6-836d-ae69f901b45a\" style=\"height: 1300px; width: 1300px;\" class=\"plotly-graph-div\"></div><script type=\"text/javascript\">require([\"plotly\"], function(Plotly) { window.PLOTLYENV=window.PLOTLYENV || {};window.PLOTLYENV.BASE_URL=\"https://plot.ly\";Plotly.newPlot(\"259f0058-8e66-40c6-836d-ae69f901b45a\", [{\"type\": \"bar\", \"y\": [\"android.wm.cts.dndtargetappsdk23\", \"android.server.alertwindowapp\", \"Al-Quran (Free)\", \"musical.ly\", \"com.dewmobile.kuaiya\", \"Al-Moazin Lite (Prayer Times)\", \"B612 - Beauty & Filter Camera\", \"ZEDGE\\u2122 Ringtones & Wallpapers\", \"Careem - Car Booking App\", \"Google Translate\", \"Candy Crush Saga\", \"Subway Surfers\", \"Google Play Games\", \"Sweet Selfie - selfie camera,beauty cam,photo edit\", \"Snapchat\", \"OLX Arabia - \\u0623\\u0648\\u0644\\u064a\\u0643\\u0633\", \"WeChat\", \"AppLock\", \"com.snaptube.premium\", \"Uber\", \"Facebook Lite\", \"imo free video calls and chat\", \"com.nemo.vidmate\", \"SoundCloud - Music & Audio\", \"Instagram\", \"Truecaller: Caller ID, SMS spam blocking & Dialer\", \"Messenger \\u2013 Text and Video Chat for Free\", \"SHAREit - Transfer & Share\", \"Facebook\", \"WhatsApp Messenger\"], \"x\": [0.002944640753828033, 0.002944640753828033, 0.0032391048292108363, 0.0032391048292108363, 0.0032391048292108363, 0.0035335689045936395, 0.0035335689045936395, 0.004122497055359246, 0.004122497055359246, 0.004122497055359246, 0.00441696113074205, 0.00441696113074205, 0.00441696113074205, 0.00441696113074205, 0.005005889281507656, 0.005005889281507656, 0.005005889281507656, 0.00530035335689046, 0.005889281507656066, 0.006478209658421673, 0.006478209658421673, 0.006772673733804476, 0.009128386336866903, 0.012073027090694936, 0.01678445229681979, 0.02061248527679623, 0.03680800942285041, 0.037102473498233215, 0.03975265017667844, 0.040341578327444054], \"orientation\": \"h\", \"text\": [\"0.29%\", \"0.29%\", \"0.32%\", \"0.32%\", \"0.32%\", \"0.35%\", \"0.35%\", \"0.41%\", \"0.41%\", \"0.41%\", \"0.44%\", \"0.44%\", \"0.44%\", \"0.44%\", \"0.50%\", \"0.50%\", \"0.50%\", \"0.53%\", \"0.59%\", \"0.65%\", \"0.65%\", \"0.68%\", \"0.91%\", \"1.21%\", \"1.68%\", \"2.06%\", \"3.68%\", \"3.71%\", \"3.98%\", \"4.03%\"], \"textposition\": \"outside\"}, {\"type\": \"table\", \"domain\": {\"x\": [0.45, 0.9], \"y\": [0, 0.8]}, \"columnwidth\": [52, 52], \"columnorder\": [0, 1], \"header\": {\"height\": 25, \"values\": [[\"<b>\\u540d\\u79f0</b>\"], [\"<b>\\u4e0e\\u4e0a\\u6708\\u540c\\u6bd4</b>\"]], \"line\": {\"color\": \"#000000\"}, \"align\": [\"left\", \"left\"], \"font\": {\"color\": [\"#FFFFFF\", \"#FFFFFF\"], \"size\": 14}, \"fill\": {\"color\": \"#2d5b6c\"}}, \"cells\": {\"values\": [[\"WhatsApp Messenger\", \"Facebook\", \"SHAREit - Transfer & Share\", \"Messenger \\u2013 Text and Video Chat for Free\", \"Truecaller: Caller ID, SMS spam blocking & Dialer\", \"Instagram\", \"SoundCloud - Music & Audio\", \"com.nemo.vidmate\", \"imo free video calls and chat\", \"Facebook Lite\", \"Uber\", \"com.snaptube.premium\", \"AppLock\", \"WeChat\", \"OLX Arabia - \\u0623\\u0648\\u0644\\u064a\\u0643\\u0633\", \"Snapchat\", \"Sweet Selfie - selfie camera,beauty cam,photo edit\", \"Google Play Games\", \"Subway Surfers\", \"Candy Crush Saga\", \"Google Translate\", \"Careem - Car Booking App\", \"ZEDGE\\u2122 Ringtones & Wallpapers\", \"B612 - Beauty & Filter Camera\", \"Al-Moazin Lite (Prayer Times)\", \"com.dewmobile.kuaiya\", \"musical.ly\", \"Al-Quran (Free)\", \"android.server.alertwindowapp\", \"android.wm.cts.dndtargetappsdk23\"], [\"-1.05%\", \"-0.87%\", \"-0.42%\", \"-0.81%\", \"0.39%\", \"-0.74%\", \"-0.14%\", \"0.16%\", \"-0.16%\", \"0.21%\", \"0.09%\", \"0.03%\", \"-0.03%\", \"-0.25%\", \"-0.33%\", \"-0.09%\", \"0.24%\", \"-0.19%\", \"-0.03%\", \"-0.11%\", \"-0.10%\", \"-0.02%\", \"-0.02%\", \"-0.20%\", \"-0.08%\", \"0.13%\", \"0.20%\", \"0.24%\", \"0.14%\", \"0.14%\"]], \"line\": {\"color\": \"#000000\"}, \"align\": [\"left\", \"left\"], \"font\": {\"color\": [\"#FFFFFF\", \"#FFFFFF\"], \"size\": 12}, \"height\": 25, \"fill\": {\"color\": [\"#68a4b9\", \"#526372\"]}}}], {\"title\": \"\\u5b89\\u88c5\\u5e94\\u7528\\u6392\\u884c<br>\\u603b\\u6b21\\u6570:3396  \\u603b\\u8bbe\\u5907\\u6570:337\", \"height\": 1300, \"width\": 1300, \"margin\": {\"l\": 300, \"r\": 0}, \"yaxis\": {\"ticklen\": 2}}, {\"showLink\": true, \"linkText\": \"Export to plot.ly\"})});</script>"
      ],
      "text/vnd.plotly.v1+html": [
       "<div id=\"259f0058-8e66-40c6-836d-ae69f901b45a\" style=\"height: 1300px; width: 1300px;\" class=\"plotly-graph-div\"></div><script type=\"text/javascript\">require([\"plotly\"], function(Plotly) { window.PLOTLYENV=window.PLOTLYENV || {};window.PLOTLYENV.BASE_URL=\"https://plot.ly\";Plotly.newPlot(\"259f0058-8e66-40c6-836d-ae69f901b45a\", [{\"type\": \"bar\", \"y\": [\"android.wm.cts.dndtargetappsdk23\", \"android.server.alertwindowapp\", \"Al-Quran (Free)\", \"musical.ly\", \"com.dewmobile.kuaiya\", \"Al-Moazin Lite (Prayer Times)\", \"B612 - Beauty & Filter Camera\", \"ZEDGE\\u2122 Ringtones & Wallpapers\", \"Careem - Car Booking App\", \"Google Translate\", \"Candy Crush Saga\", \"Subway Surfers\", \"Google Play Games\", \"Sweet Selfie - selfie camera,beauty cam,photo edit\", \"Snapchat\", \"OLX Arabia - \\u0623\\u0648\\u0644\\u064a\\u0643\\u0633\", \"WeChat\", \"AppLock\", \"com.snaptube.premium\", \"Uber\", \"Facebook Lite\", \"imo free video calls and chat\", \"com.nemo.vidmate\", \"SoundCloud - Music & Audio\", \"Instagram\", \"Truecaller: Caller ID, SMS spam blocking & Dialer\", \"Messenger \\u2013 Text and Video Chat for Free\", \"SHAREit - Transfer & Share\", \"Facebook\", \"WhatsApp Messenger\"], \"x\": [0.002944640753828033, 0.002944640753828033, 0.0032391048292108363, 0.0032391048292108363, 0.0032391048292108363, 0.0035335689045936395, 0.0035335689045936395, 0.004122497055359246, 0.004122497055359246, 0.004122497055359246, 0.00441696113074205, 0.00441696113074205, 0.00441696113074205, 0.00441696113074205, 0.005005889281507656, 0.005005889281507656, 0.005005889281507656, 0.00530035335689046, 0.005889281507656066, 0.006478209658421673, 0.006478209658421673, 0.006772673733804476, 0.009128386336866903, 0.012073027090694936, 0.01678445229681979, 0.02061248527679623, 0.03680800942285041, 0.037102473498233215, 0.03975265017667844, 0.040341578327444054], \"orientation\": \"h\", \"text\": [\"0.29%\", \"0.29%\", \"0.32%\", \"0.32%\", \"0.32%\", \"0.35%\", \"0.35%\", \"0.41%\", \"0.41%\", \"0.41%\", \"0.44%\", \"0.44%\", \"0.44%\", \"0.44%\", \"0.50%\", \"0.50%\", \"0.50%\", \"0.53%\", \"0.59%\", \"0.65%\", \"0.65%\", \"0.68%\", \"0.91%\", \"1.21%\", \"1.68%\", \"2.06%\", \"3.68%\", \"3.71%\", \"3.98%\", \"4.03%\"], \"textposition\": \"outside\"}, {\"type\": \"table\", \"domain\": {\"x\": [0.45, 0.9], \"y\": [0, 0.8]}, \"columnwidth\": [52, 52], \"columnorder\": [0, 1], \"header\": {\"height\": 25, \"values\": [[\"<b>\\u540d\\u79f0</b>\"], [\"<b>\\u4e0e\\u4e0a\\u6708\\u540c\\u6bd4</b>\"]], \"line\": {\"color\": \"#000000\"}, \"align\": [\"left\", \"left\"], \"font\": {\"color\": [\"#FFFFFF\", \"#FFFFFF\"], \"size\": 14}, \"fill\": {\"color\": \"#2d5b6c\"}}, \"cells\": {\"values\": [[\"WhatsApp Messenger\", \"Facebook\", \"SHAREit - Transfer & Share\", \"Messenger \\u2013 Text and Video Chat for Free\", \"Truecaller: Caller ID, SMS spam blocking & Dialer\", \"Instagram\", \"SoundCloud - Music & Audio\", \"com.nemo.vidmate\", \"imo free video calls and chat\", \"Facebook Lite\", \"Uber\", \"com.snaptube.premium\", \"AppLock\", \"WeChat\", \"OLX Arabia - \\u0623\\u0648\\u0644\\u064a\\u0643\\u0633\", \"Snapchat\", \"Sweet Selfie - selfie camera,beauty cam,photo edit\", \"Google Play Games\", \"Subway Surfers\", \"Candy Crush Saga\", \"Google Translate\", \"Careem - Car Booking App\", \"ZEDGE\\u2122 Ringtones & Wallpapers\", \"B612 - Beauty & Filter Camera\", \"Al-Moazin Lite (Prayer Times)\", \"com.dewmobile.kuaiya\", \"musical.ly\", \"Al-Quran (Free)\", \"android.server.alertwindowapp\", \"android.wm.cts.dndtargetappsdk23\"], [\"-1.05%\", \"-0.87%\", \"-0.42%\", \"-0.81%\", \"0.39%\", \"-0.74%\", \"-0.14%\", \"0.16%\", \"-0.16%\", \"0.21%\", \"0.09%\", \"0.03%\", \"-0.03%\", \"-0.25%\", \"-0.33%\", \"-0.09%\", \"0.24%\", \"-0.19%\", \"-0.03%\", \"-0.11%\", \"-0.10%\", \"-0.02%\", \"-0.02%\", \"-0.20%\", \"-0.08%\", \"0.13%\", \"0.20%\", \"0.24%\", \"0.14%\", \"0.14%\"]], \"line\": {\"color\": \"#000000\"}, \"align\": [\"left\", \"left\"], \"font\": {\"color\": [\"#FFFFFF\", \"#FFFFFF\"], \"size\": 12}, \"height\": 25, \"fill\": {\"color\": [\"#68a4b9\", \"#526372\"]}}}], {\"title\": \"\\u5b89\\u88c5\\u5e94\\u7528\\u6392\\u884c<br>\\u603b\\u6b21\\u6570:3396  \\u603b\\u8bbe\\u5907\\u6570:337\", \"height\": 1300, \"width\": 1300, \"margin\": {\"l\": 300, \"r\": 0}, \"yaxis\": {\"ticklen\": 2}}, {\"showLink\": true, \"linkText\": \"Export to plot.ly\"})});</script>"
      ]
     },
     "metadata": {},
     "output_type": "display_data"
    }
   ],
   "source": [
    "install_rate(df418, df318, 'appinstall', '安装应用排行', height=1300,width=1300,by_imei=False)"
   ]
  },
  {
   "cell_type": "code",
   "execution_count": 102,
   "metadata": {
    "ExecuteTime": {
     "end_time": "2018-05-18T08:12:21.393116Z",
     "start_time": "2018-05-18T08:12:21.231935Z"
    }
   },
   "outputs": [
    {
     "data": {
      "application/vnd.plotly.v1+json": {
       "data": [
        {
         "orientation": "h",
         "text": [
          "2.97%",
          "2.97%",
          "3.26%",
          "3.26%",
          "3.26%",
          "3.56%",
          "3.56%",
          "4.15%",
          "4.15%",
          "4.15%",
          "4.45%",
          "4.45%",
          "4.45%",
          "4.45%",
          "5.04%",
          "5.04%",
          "5.04%",
          "5.34%",
          "5.93%",
          "6.53%",
          "6.53%",
          "6.82%",
          "9.20%",
          "12.17%",
          "16.91%",
          "20.77%",
          "37.09%",
          "37.39%",
          "40.06%",
          "40.65%"
         ],
         "textposition": "outside",
         "type": "bar",
         "x": [
          0.02967359050445104,
          0.02967359050445104,
          0.032640949554896145,
          0.032640949554896145,
          0.032640949554896145,
          0.03560830860534125,
          0.03560830860534125,
          0.04154302670623145,
          0.04154302670623145,
          0.04154302670623145,
          0.04451038575667656,
          0.04451038575667656,
          0.04451038575667656,
          0.04451038575667656,
          0.050445103857566766,
          0.050445103857566766,
          0.050445103857566766,
          0.05341246290801187,
          0.05934718100890208,
          0.06528189910979229,
          0.06528189910979229,
          0.06824925816023739,
          0.09198813056379822,
          0.12166172106824925,
          0.16913946587537093,
          0.20771513353115728,
          0.37091988130563797,
          0.37388724035608306,
          0.40059347181008903,
          0.4065281899109792
         ],
         "y": [
          "android.wm.cts.dndtargetappsdk23",
          "android.server.alertwindowapp",
          "Al-Quran (Free)",
          "musical.ly",
          "com.dewmobile.kuaiya",
          "Al-Moazin Lite (Prayer Times)",
          "B612 - Beauty & Filter Camera",
          "ZEDGE™ Ringtones & Wallpapers",
          "Careem - Car Booking App",
          "Google Translate",
          "Candy Crush Saga",
          "Subway Surfers",
          "Google Play Games",
          "Sweet Selfie - selfie camera,beauty cam,photo edit",
          "Snapchat",
          "OLX Arabia - أوليكس",
          "WeChat",
          "AppLock",
          "com.snaptube.premium",
          "Uber",
          "Facebook Lite",
          "imo free video calls and chat",
          "com.nemo.vidmate",
          "SoundCloud - Music & Audio",
          "Instagram",
          "Truecaller: Caller ID, SMS spam blocking & Dialer",
          "Messenger – Text and Video Chat for Free",
          "SHAREit - Transfer & Share",
          "Facebook",
          "WhatsApp Messenger"
         ]
        },
        {
         "cells": {
          "align": [
           "left",
           "left"
          ],
          "fill": {
           "color": [
            "#68a4b9",
            "#526372"
           ]
          },
          "font": {
           "color": [
            "#FFFFFF",
            "#FFFFFF"
           ],
           "size": 12
          },
          "height": 25,
          "line": {
           "color": "#000000"
          },
          "values": [
           [
            "WhatsApp Messenger",
            "Facebook",
            "SHAREit - Transfer & Share",
            "Messenger – Text and Video Chat for Free",
            "Truecaller: Caller ID, SMS spam blocking & Dialer",
            "Instagram",
            "SoundCloud - Music & Audio",
            "com.nemo.vidmate",
            "imo free video calls and chat",
            "Facebook Lite",
            "Uber",
            "com.snaptube.premium",
            "AppLock",
            "WeChat",
            "OLX Arabia - أوليكس",
            "Snapchat",
            "Sweet Selfie - selfie camera,beauty cam,photo edit",
            "Google Play Games",
            "Subway Surfers",
            "Candy Crush Saga",
            "Google Translate",
            "Careem - Car Booking App",
            "ZEDGE™ Ringtones & Wallpapers",
            "B612 - Beauty & Filter Camera",
            "Al-Moazin Lite (Prayer Times)",
            "com.dewmobile.kuaiya",
            "musical.ly",
            "Al-Quran (Free)",
            "android.server.alertwindowapp",
            "android.wm.cts.dndtargetappsdk23"
           ],
           [
            "-10.34%",
            "-8.55%",
            "-4.05%",
            "-7.93%",
            "4.04%",
            "-7.39%",
            "-1.38%",
            "1.63%",
            "-1.54%",
            "2.15%",
            "0.95%",
            "0.36%",
            "-0.24%",
            "-2.53%",
            "-3.32%",
            "-0.93%",
            "2.46%",
            "-1.92%",
            "-0.33%",
            "-1.13%",
            "-1.02%",
            "-0.23%",
            "-0.23%",
            "-2.02%",
            "-0.82%",
            "1.27%",
            "2.07%",
            "2.47%",
            "1.37%",
            "1.37%"
           ]
          ]
         },
         "columnorder": [
          0,
          1
         ],
         "columnwidth": [
          52,
          52
         ],
         "domain": {
          "x": [
           0.45,
           0.9
          ],
          "y": [
           0,
           0.8
          ]
         },
         "header": {
          "align": [
           "left",
           "left"
          ],
          "fill": {
           "color": "#2d5b6c"
          },
          "font": {
           "color": [
            "#FFFFFF",
            "#FFFFFF"
           ],
           "size": 14
          },
          "height": 25,
          "line": {
           "color": "#000000"
          },
          "values": [
           [
            "<b>名称</b>"
           ],
           [
            "<b>与上月同比</b>"
           ]
          ]
         },
         "type": "table"
        }
       ],
       "layout": {
        "height": 1300,
        "margin": {
         "l": 300,
         "r": 0
        },
        "title": "安装应用覆盖率排行<br>总次数:3396  总设备数:337",
        "width": 1300,
        "yaxis": {
         "ticklen": 2
        }
       }
      },
      "text/html": [
       "<div id=\"320948c7-d1c3-4478-82a1-3f4a6fae478b\" style=\"height: 1300px; width: 1300px;\" class=\"plotly-graph-div\"></div><script type=\"text/javascript\">require([\"plotly\"], function(Plotly) { window.PLOTLYENV=window.PLOTLYENV || {};window.PLOTLYENV.BASE_URL=\"https://plot.ly\";Plotly.newPlot(\"320948c7-d1c3-4478-82a1-3f4a6fae478b\", [{\"type\": \"bar\", \"y\": [\"android.wm.cts.dndtargetappsdk23\", \"android.server.alertwindowapp\", \"Al-Quran (Free)\", \"musical.ly\", \"com.dewmobile.kuaiya\", \"Al-Moazin Lite (Prayer Times)\", \"B612 - Beauty & Filter Camera\", \"ZEDGE\\u2122 Ringtones & Wallpapers\", \"Careem - Car Booking App\", \"Google Translate\", \"Candy Crush Saga\", \"Subway Surfers\", \"Google Play Games\", \"Sweet Selfie - selfie camera,beauty cam,photo edit\", \"Snapchat\", \"OLX Arabia - \\u0623\\u0648\\u0644\\u064a\\u0643\\u0633\", \"WeChat\", \"AppLock\", \"com.snaptube.premium\", \"Uber\", \"Facebook Lite\", \"imo free video calls and chat\", \"com.nemo.vidmate\", \"SoundCloud - Music & Audio\", \"Instagram\", \"Truecaller: Caller ID, SMS spam blocking & Dialer\", \"Messenger \\u2013 Text and Video Chat for Free\", \"SHAREit - Transfer & Share\", \"Facebook\", \"WhatsApp Messenger\"], \"x\": [0.02967359050445104, 0.02967359050445104, 0.032640949554896145, 0.032640949554896145, 0.032640949554896145, 0.03560830860534125, 0.03560830860534125, 0.04154302670623145, 0.04154302670623145, 0.04154302670623145, 0.04451038575667656, 0.04451038575667656, 0.04451038575667656, 0.04451038575667656, 0.050445103857566766, 0.050445103857566766, 0.050445103857566766, 0.05341246290801187, 0.05934718100890208, 0.06528189910979229, 0.06528189910979229, 0.06824925816023739, 0.09198813056379822, 0.12166172106824925, 0.16913946587537093, 0.20771513353115728, 0.37091988130563797, 0.37388724035608306, 0.40059347181008903, 0.4065281899109792], \"orientation\": \"h\", \"text\": [\"2.97%\", \"2.97%\", \"3.26%\", \"3.26%\", \"3.26%\", \"3.56%\", \"3.56%\", \"4.15%\", \"4.15%\", \"4.15%\", \"4.45%\", \"4.45%\", \"4.45%\", \"4.45%\", \"5.04%\", \"5.04%\", \"5.04%\", \"5.34%\", \"5.93%\", \"6.53%\", \"6.53%\", \"6.82%\", \"9.20%\", \"12.17%\", \"16.91%\", \"20.77%\", \"37.09%\", \"37.39%\", \"40.06%\", \"40.65%\"], \"textposition\": \"outside\"}, {\"type\": \"table\", \"domain\": {\"x\": [0.45, 0.9], \"y\": [0, 0.8]}, \"columnwidth\": [52, 52], \"columnorder\": [0, 1], \"header\": {\"height\": 25, \"values\": [[\"<b>\\u540d\\u79f0</b>\"], [\"<b>\\u4e0e\\u4e0a\\u6708\\u540c\\u6bd4</b>\"]], \"line\": {\"color\": \"#000000\"}, \"align\": [\"left\", \"left\"], \"font\": {\"color\": [\"#FFFFFF\", \"#FFFFFF\"], \"size\": 14}, \"fill\": {\"color\": \"#2d5b6c\"}}, \"cells\": {\"values\": [[\"WhatsApp Messenger\", \"Facebook\", \"SHAREit - Transfer & Share\", \"Messenger \\u2013 Text and Video Chat for Free\", \"Truecaller: Caller ID, SMS spam blocking & Dialer\", \"Instagram\", \"SoundCloud - Music & Audio\", \"com.nemo.vidmate\", \"imo free video calls and chat\", \"Facebook Lite\", \"Uber\", \"com.snaptube.premium\", \"AppLock\", \"WeChat\", \"OLX Arabia - \\u0623\\u0648\\u0644\\u064a\\u0643\\u0633\", \"Snapchat\", \"Sweet Selfie - selfie camera,beauty cam,photo edit\", \"Google Play Games\", \"Subway Surfers\", \"Candy Crush Saga\", \"Google Translate\", \"Careem - Car Booking App\", \"ZEDGE\\u2122 Ringtones & Wallpapers\", \"B612 - Beauty & Filter Camera\", \"Al-Moazin Lite (Prayer Times)\", \"com.dewmobile.kuaiya\", \"musical.ly\", \"Al-Quran (Free)\", \"android.server.alertwindowapp\", \"android.wm.cts.dndtargetappsdk23\"], [\"-10.34%\", \"-8.55%\", \"-4.05%\", \"-7.93%\", \"4.04%\", \"-7.39%\", \"-1.38%\", \"1.63%\", \"-1.54%\", \"2.15%\", \"0.95%\", \"0.36%\", \"-0.24%\", \"-2.53%\", \"-3.32%\", \"-0.93%\", \"2.46%\", \"-1.92%\", \"-0.33%\", \"-1.13%\", \"-1.02%\", \"-0.23%\", \"-0.23%\", \"-2.02%\", \"-0.82%\", \"1.27%\", \"2.07%\", \"2.47%\", \"1.37%\", \"1.37%\"]], \"line\": {\"color\": \"#000000\"}, \"align\": [\"left\", \"left\"], \"font\": {\"color\": [\"#FFFFFF\", \"#FFFFFF\"], \"size\": 12}, \"height\": 25, \"fill\": {\"color\": [\"#68a4b9\", \"#526372\"]}}}], {\"title\": \"\\u5b89\\u88c5\\u5e94\\u7528\\u8986\\u76d6\\u7387\\u6392\\u884c<br>\\u603b\\u6b21\\u6570:3396  \\u603b\\u8bbe\\u5907\\u6570:337\", \"height\": 1300, \"width\": 1300, \"margin\": {\"l\": 300, \"r\": 0}, \"yaxis\": {\"ticklen\": 2}}, {\"showLink\": true, \"linkText\": \"Export to plot.ly\"})});</script>"
      ],
      "text/vnd.plotly.v1+html": [
       "<div id=\"320948c7-d1c3-4478-82a1-3f4a6fae478b\" style=\"height: 1300px; width: 1300px;\" class=\"plotly-graph-div\"></div><script type=\"text/javascript\">require([\"plotly\"], function(Plotly) { window.PLOTLYENV=window.PLOTLYENV || {};window.PLOTLYENV.BASE_URL=\"https://plot.ly\";Plotly.newPlot(\"320948c7-d1c3-4478-82a1-3f4a6fae478b\", [{\"type\": \"bar\", \"y\": [\"android.wm.cts.dndtargetappsdk23\", \"android.server.alertwindowapp\", \"Al-Quran (Free)\", \"musical.ly\", \"com.dewmobile.kuaiya\", \"Al-Moazin Lite (Prayer Times)\", \"B612 - Beauty & Filter Camera\", \"ZEDGE\\u2122 Ringtones & Wallpapers\", \"Careem - Car Booking App\", \"Google Translate\", \"Candy Crush Saga\", \"Subway Surfers\", \"Google Play Games\", \"Sweet Selfie - selfie camera,beauty cam,photo edit\", \"Snapchat\", \"OLX Arabia - \\u0623\\u0648\\u0644\\u064a\\u0643\\u0633\", \"WeChat\", \"AppLock\", \"com.snaptube.premium\", \"Uber\", \"Facebook Lite\", \"imo free video calls and chat\", \"com.nemo.vidmate\", \"SoundCloud - Music & Audio\", \"Instagram\", \"Truecaller: Caller ID, SMS spam blocking & Dialer\", \"Messenger \\u2013 Text and Video Chat for Free\", \"SHAREit - Transfer & Share\", \"Facebook\", \"WhatsApp Messenger\"], \"x\": [0.02967359050445104, 0.02967359050445104, 0.032640949554896145, 0.032640949554896145, 0.032640949554896145, 0.03560830860534125, 0.03560830860534125, 0.04154302670623145, 0.04154302670623145, 0.04154302670623145, 0.04451038575667656, 0.04451038575667656, 0.04451038575667656, 0.04451038575667656, 0.050445103857566766, 0.050445103857566766, 0.050445103857566766, 0.05341246290801187, 0.05934718100890208, 0.06528189910979229, 0.06528189910979229, 0.06824925816023739, 0.09198813056379822, 0.12166172106824925, 0.16913946587537093, 0.20771513353115728, 0.37091988130563797, 0.37388724035608306, 0.40059347181008903, 0.4065281899109792], \"orientation\": \"h\", \"text\": [\"2.97%\", \"2.97%\", \"3.26%\", \"3.26%\", \"3.26%\", \"3.56%\", \"3.56%\", \"4.15%\", \"4.15%\", \"4.15%\", \"4.45%\", \"4.45%\", \"4.45%\", \"4.45%\", \"5.04%\", \"5.04%\", \"5.04%\", \"5.34%\", \"5.93%\", \"6.53%\", \"6.53%\", \"6.82%\", \"9.20%\", \"12.17%\", \"16.91%\", \"20.77%\", \"37.09%\", \"37.39%\", \"40.06%\", \"40.65%\"], \"textposition\": \"outside\"}, {\"type\": \"table\", \"domain\": {\"x\": [0.45, 0.9], \"y\": [0, 0.8]}, \"columnwidth\": [52, 52], \"columnorder\": [0, 1], \"header\": {\"height\": 25, \"values\": [[\"<b>\\u540d\\u79f0</b>\"], [\"<b>\\u4e0e\\u4e0a\\u6708\\u540c\\u6bd4</b>\"]], \"line\": {\"color\": \"#000000\"}, \"align\": [\"left\", \"left\"], \"font\": {\"color\": [\"#FFFFFF\", \"#FFFFFF\"], \"size\": 14}, \"fill\": {\"color\": \"#2d5b6c\"}}, \"cells\": {\"values\": [[\"WhatsApp Messenger\", \"Facebook\", \"SHAREit - Transfer & Share\", \"Messenger \\u2013 Text and Video Chat for Free\", \"Truecaller: Caller ID, SMS spam blocking & Dialer\", \"Instagram\", \"SoundCloud - Music & Audio\", \"com.nemo.vidmate\", \"imo free video calls and chat\", \"Facebook Lite\", \"Uber\", \"com.snaptube.premium\", \"AppLock\", \"WeChat\", \"OLX Arabia - \\u0623\\u0648\\u0644\\u064a\\u0643\\u0633\", \"Snapchat\", \"Sweet Selfie - selfie camera,beauty cam,photo edit\", \"Google Play Games\", \"Subway Surfers\", \"Candy Crush Saga\", \"Google Translate\", \"Careem - Car Booking App\", \"ZEDGE\\u2122 Ringtones & Wallpapers\", \"B612 - Beauty & Filter Camera\", \"Al-Moazin Lite (Prayer Times)\", \"com.dewmobile.kuaiya\", \"musical.ly\", \"Al-Quran (Free)\", \"android.server.alertwindowapp\", \"android.wm.cts.dndtargetappsdk23\"], [\"-10.34%\", \"-8.55%\", \"-4.05%\", \"-7.93%\", \"4.04%\", \"-7.39%\", \"-1.38%\", \"1.63%\", \"-1.54%\", \"2.15%\", \"0.95%\", \"0.36%\", \"-0.24%\", \"-2.53%\", \"-3.32%\", \"-0.93%\", \"2.46%\", \"-1.92%\", \"-0.33%\", \"-1.13%\", \"-1.02%\", \"-0.23%\", \"-0.23%\", \"-2.02%\", \"-0.82%\", \"1.27%\", \"2.07%\", \"2.47%\", \"1.37%\", \"1.37%\"]], \"line\": {\"color\": \"#000000\"}, \"align\": [\"left\", \"left\"], \"font\": {\"color\": [\"#FFFFFF\", \"#FFFFFF\"], \"size\": 12}, \"height\": 25, \"fill\": {\"color\": [\"#68a4b9\", \"#526372\"]}}}], {\"title\": \"\\u5b89\\u88c5\\u5e94\\u7528\\u8986\\u76d6\\u7387\\u6392\\u884c<br>\\u603b\\u6b21\\u6570:3396  \\u603b\\u8bbe\\u5907\\u6570:337\", \"height\": 1300, \"width\": 1300, \"margin\": {\"l\": 300, \"r\": 0}, \"yaxis\": {\"ticklen\": 2}}, {\"showLink\": true, \"linkText\": \"Export to plot.ly\"})});</script>"
      ]
     },
     "metadata": {},
     "output_type": "display_data"
    }
   ],
   "source": [
    "install_rate(df418, df318, 'appinstall', '安装应用覆盖率排行', height=1300,width=1300)"
   ]
  },
  {
   "cell_type": "code",
   "execution_count": 103,
   "metadata": {
    "ExecuteTime": {
     "end_time": "2018-05-18T08:12:48.185216Z",
     "start_time": "2018-05-18T08:12:21.395712Z"
    }
   },
   "outputs": [
    {
     "data": {
      "application/vnd.plotly.v1+json": {
       "data": [
        {
         "orientation": "h",
         "text": [
          "1.78%",
          "1.78%",
          "1.78%",
          "1.78%",
          "1.78%",
          "1.78%",
          "1.78%",
          "1.78%",
          "1.78%",
          "1.78%",
          "1.78%",
          "1.78%",
          "1.78%",
          "2.08%",
          "2.37%",
          "2.37%",
          "2.37%",
          "2.37%",
          "2.67%",
          "2.97%",
          "2.97%",
          "2.97%",
          "2.97%",
          "2.97%",
          "2.97%",
          "4.15%",
          "4.75%",
          "5.04%",
          "6.53%",
          "9.20%"
         ],
         "textposition": "outside",
         "type": "bar",
         "x": [
          0.017804154302670624,
          0.017804154302670624,
          0.017804154302670624,
          0.017804154302670624,
          0.017804154302670624,
          0.017804154302670624,
          0.017804154302670624,
          0.017804154302670624,
          0.017804154302670624,
          0.017804154302670624,
          0.017804154302670624,
          0.017804154302670624,
          0.017804154302670624,
          0.020771513353115726,
          0.02373887240356083,
          0.02373887240356083,
          0.02373887240356083,
          0.02373887240356083,
          0.026706231454005934,
          0.02967359050445104,
          0.02967359050445104,
          0.02967359050445104,
          0.02967359050445104,
          0.02967359050445104,
          0.02967359050445104,
          0.04154302670623145,
          0.04747774480712166,
          0.050445103857566766,
          0.06528189910979229,
          0.09198813056379822
         ],
         "y": [
          "com.android.gputest",
          "WeChat",
          "YouTube",
          "android.abioverride.app",
          "com.android.cts.splitapp",
          "Share - File Transfer & Connect",
          "com.android.cts.devicepolicy.autofillapp",
          "com.nemo.vidmate",
          "android.test.app",
          "android.theme.app",
          "android.trustedvoice.app",
          "com.android.cts.launcherapps.simplepremapp",
          "android.cpptools.app",
          "Truecaller: Caller ID, SMS spam blocking & Dialer",
          "Facebook Lite",
          "AppLock",
          "android.autofillservice.cts",
          "com.android.cts.managedprofile",
          "android.server.translucentapp",
          "com.android.cts.launcherapps.simpleapp",
          "android.wm.cts.dndsourceapp",
          "android.wm.cts.dndtargetapp",
          "android.server.alertwindowapp",
          "android.server.alertwindowappsdk25",
          "android.wm.cts.dndtargetappsdk23",
          "Messenger – Text and Video Chat for Free",
          "Facebook",
          "WhatsApp Messenger",
          "Google Play Movies & TV",
          "SHAREit - Transfer & Share"
         ]
        },
        {
         "cells": {
          "align": [
           "left",
           "left"
          ],
          "fill": {
           "color": [
            "#68a4b9",
            "#526372"
           ]
          },
          "font": {
           "color": [
            "#FFFFFF",
            "#FFFFFF"
           ],
           "size": 12
          },
          "height": 25,
          "line": {
           "color": "#000000"
          },
          "values": [
           [
            "SHAREit - Transfer & Share",
            "Google Play Movies & TV",
            "WhatsApp Messenger",
            "Facebook",
            "Messenger – Text and Video Chat for Free",
            "android.wm.cts.dndtargetappsdk23",
            "android.server.alertwindowappsdk25",
            "android.server.alertwindowapp",
            "android.wm.cts.dndtargetapp",
            "android.wm.cts.dndsourceapp",
            "com.android.cts.launcherapps.simpleapp",
            "android.server.translucentapp",
            "com.android.cts.managedprofile",
            "android.autofillservice.cts",
            "AppLock",
            "Facebook Lite",
            "Truecaller: Caller ID, SMS spam blocking & Dialer",
            "android.cpptools.app",
            "com.android.cts.launcherapps.simplepremapp",
            "android.trustedvoice.app",
            "android.theme.app",
            "android.test.app",
            "com.nemo.vidmate",
            "com.android.cts.devicepolicy.autofillapp",
            "Share - File Transfer & Connect",
            "com.android.cts.splitapp",
            "android.abioverride.app",
            "YouTube",
            "WeChat",
            "com.android.gputest"
           ],
           [
            "0.04%",
            "-10.20%",
            "2.65%",
            "2.36%",
            "1.37%",
            "1.37%",
            "1.37%",
            "1.37%",
            "1.37%",
            "1.37%",
            "1.37%",
            "1.48%",
            "0.78%",
            "1.58%",
            "1.18%",
            "0.78%",
            "0.09%",
            "0.98%",
            "1.38%",
            "1.38%",
            "0.98%",
            "0.98%",
            "0.19%",
            "1.38%",
            "1.38%",
            "0.98%",
            "0.98%",
            "-0.61%",
            "0.59%",
            "0.98%"
           ]
          ]
         },
         "columnorder": [
          0,
          1
         ],
         "columnwidth": [
          52,
          52
         ],
         "domain": {
          "x": [
           0.45,
           0.9
          ],
          "y": [
           0,
           0.8
          ]
         },
         "header": {
          "align": [
           "left",
           "left"
          ],
          "fill": {
           "color": "#2d5b6c"
          },
          "font": {
           "color": [
            "#FFFFFF",
            "#FFFFFF"
           ],
           "size": 14
          },
          "height": 25,
          "line": {
           "color": "#000000"
          },
          "values": [
           [
            "<b>名称</b>"
           ],
           [
            "<b>与上月同比</b>"
           ]
          ]
         },
         "type": "table"
        }
       ],
       "layout": {
        "height": 1300,
        "margin": {
         "l": 300,
         "r": 0
        },
        "title": "卸载应用排行<br>总次数:1271  总设备数:337",
        "width": 1300,
        "yaxis": {
         "ticklen": 2
        }
       }
      },
      "text/html": [
       "<div id=\"ca1093f3-055b-4444-ae92-a130a77da4a2\" style=\"height: 1300px; width: 1300px;\" class=\"plotly-graph-div\"></div><script type=\"text/javascript\">require([\"plotly\"], function(Plotly) { window.PLOTLYENV=window.PLOTLYENV || {};window.PLOTLYENV.BASE_URL=\"https://plot.ly\";Plotly.newPlot(\"ca1093f3-055b-4444-ae92-a130a77da4a2\", [{\"type\": \"bar\", \"y\": [\"com.android.gputest\", \"WeChat\", \"YouTube\", \"android.abioverride.app\", \"com.android.cts.splitapp\", \"Share - File Transfer & Connect\", \"com.android.cts.devicepolicy.autofillapp\", \"com.nemo.vidmate\", \"android.test.app\", \"android.theme.app\", \"android.trustedvoice.app\", \"com.android.cts.launcherapps.simplepremapp\", \"android.cpptools.app\", \"Truecaller: Caller ID, SMS spam blocking & Dialer\", \"Facebook Lite\", \"AppLock\", \"android.autofillservice.cts\", \"com.android.cts.managedprofile\", \"android.server.translucentapp\", \"com.android.cts.launcherapps.simpleapp\", \"android.wm.cts.dndsourceapp\", \"android.wm.cts.dndtargetapp\", \"android.server.alertwindowapp\", \"android.server.alertwindowappsdk25\", \"android.wm.cts.dndtargetappsdk23\", \"Messenger \\u2013 Text and Video Chat for Free\", \"Facebook\", \"WhatsApp Messenger\", \"Google Play Movies & TV\", \"SHAREit - Transfer & Share\"], \"x\": [0.017804154302670624, 0.017804154302670624, 0.017804154302670624, 0.017804154302670624, 0.017804154302670624, 0.017804154302670624, 0.017804154302670624, 0.017804154302670624, 0.017804154302670624, 0.017804154302670624, 0.017804154302670624, 0.017804154302670624, 0.017804154302670624, 0.020771513353115726, 0.02373887240356083, 0.02373887240356083, 0.02373887240356083, 0.02373887240356083, 0.026706231454005934, 0.02967359050445104, 0.02967359050445104, 0.02967359050445104, 0.02967359050445104, 0.02967359050445104, 0.02967359050445104, 0.04154302670623145, 0.04747774480712166, 0.050445103857566766, 0.06528189910979229, 0.09198813056379822], \"orientation\": \"h\", \"text\": [\"1.78%\", \"1.78%\", \"1.78%\", \"1.78%\", \"1.78%\", \"1.78%\", \"1.78%\", \"1.78%\", \"1.78%\", \"1.78%\", \"1.78%\", \"1.78%\", \"1.78%\", \"2.08%\", \"2.37%\", \"2.37%\", \"2.37%\", \"2.37%\", \"2.67%\", \"2.97%\", \"2.97%\", \"2.97%\", \"2.97%\", \"2.97%\", \"2.97%\", \"4.15%\", \"4.75%\", \"5.04%\", \"6.53%\", \"9.20%\"], \"textposition\": \"outside\"}, {\"type\": \"table\", \"domain\": {\"x\": [0.45, 0.9], \"y\": [0, 0.8]}, \"columnwidth\": [52, 52], \"columnorder\": [0, 1], \"header\": {\"height\": 25, \"values\": [[\"<b>\\u540d\\u79f0</b>\"], [\"<b>\\u4e0e\\u4e0a\\u6708\\u540c\\u6bd4</b>\"]], \"line\": {\"color\": \"#000000\"}, \"align\": [\"left\", \"left\"], \"font\": {\"color\": [\"#FFFFFF\", \"#FFFFFF\"], \"size\": 14}, \"fill\": {\"color\": \"#2d5b6c\"}}, \"cells\": {\"values\": [[\"SHAREit - Transfer & Share\", \"Google Play Movies & TV\", \"WhatsApp Messenger\", \"Facebook\", \"Messenger \\u2013 Text and Video Chat for Free\", \"android.wm.cts.dndtargetappsdk23\", \"android.server.alertwindowappsdk25\", \"android.server.alertwindowapp\", \"android.wm.cts.dndtargetapp\", \"android.wm.cts.dndsourceapp\", \"com.android.cts.launcherapps.simpleapp\", \"android.server.translucentapp\", \"com.android.cts.managedprofile\", \"android.autofillservice.cts\", \"AppLock\", \"Facebook Lite\", \"Truecaller: Caller ID, SMS spam blocking & Dialer\", \"android.cpptools.app\", \"com.android.cts.launcherapps.simplepremapp\", \"android.trustedvoice.app\", \"android.theme.app\", \"android.test.app\", \"com.nemo.vidmate\", \"com.android.cts.devicepolicy.autofillapp\", \"Share - File Transfer & Connect\", \"com.android.cts.splitapp\", \"android.abioverride.app\", \"YouTube\", \"WeChat\", \"com.android.gputest\"], [\"0.04%\", \"-10.20%\", \"2.65%\", \"2.36%\", \"1.37%\", \"1.37%\", \"1.37%\", \"1.37%\", \"1.37%\", \"1.37%\", \"1.37%\", \"1.48%\", \"0.78%\", \"1.58%\", \"1.18%\", \"0.78%\", \"0.09%\", \"0.98%\", \"1.38%\", \"1.38%\", \"0.98%\", \"0.98%\", \"0.19%\", \"1.38%\", \"1.38%\", \"0.98%\", \"0.98%\", \"-0.61%\", \"0.59%\", \"0.98%\"]], \"line\": {\"color\": \"#000000\"}, \"align\": [\"left\", \"left\"], \"font\": {\"color\": [\"#FFFFFF\", \"#FFFFFF\"], \"size\": 12}, \"height\": 25, \"fill\": {\"color\": [\"#68a4b9\", \"#526372\"]}}}], {\"title\": \"\\u5378\\u8f7d\\u5e94\\u7528\\u6392\\u884c<br>\\u603b\\u6b21\\u6570:1271  \\u603b\\u8bbe\\u5907\\u6570:337\", \"height\": 1300, \"width\": 1300, \"margin\": {\"l\": 300, \"r\": 0}, \"yaxis\": {\"ticklen\": 2}}, {\"showLink\": true, \"linkText\": \"Export to plot.ly\"})});</script>"
      ],
      "text/vnd.plotly.v1+html": [
       "<div id=\"ca1093f3-055b-4444-ae92-a130a77da4a2\" style=\"height: 1300px; width: 1300px;\" class=\"plotly-graph-div\"></div><script type=\"text/javascript\">require([\"plotly\"], function(Plotly) { window.PLOTLYENV=window.PLOTLYENV || {};window.PLOTLYENV.BASE_URL=\"https://plot.ly\";Plotly.newPlot(\"ca1093f3-055b-4444-ae92-a130a77da4a2\", [{\"type\": \"bar\", \"y\": [\"com.android.gputest\", \"WeChat\", \"YouTube\", \"android.abioverride.app\", \"com.android.cts.splitapp\", \"Share - File Transfer & Connect\", \"com.android.cts.devicepolicy.autofillapp\", \"com.nemo.vidmate\", \"android.test.app\", \"android.theme.app\", \"android.trustedvoice.app\", \"com.android.cts.launcherapps.simplepremapp\", \"android.cpptools.app\", \"Truecaller: Caller ID, SMS spam blocking & Dialer\", \"Facebook Lite\", \"AppLock\", \"android.autofillservice.cts\", \"com.android.cts.managedprofile\", \"android.server.translucentapp\", \"com.android.cts.launcherapps.simpleapp\", \"android.wm.cts.dndsourceapp\", \"android.wm.cts.dndtargetapp\", \"android.server.alertwindowapp\", \"android.server.alertwindowappsdk25\", \"android.wm.cts.dndtargetappsdk23\", \"Messenger \\u2013 Text and Video Chat for Free\", \"Facebook\", \"WhatsApp Messenger\", \"Google Play Movies & TV\", \"SHAREit - Transfer & Share\"], \"x\": [0.017804154302670624, 0.017804154302670624, 0.017804154302670624, 0.017804154302670624, 0.017804154302670624, 0.017804154302670624, 0.017804154302670624, 0.017804154302670624, 0.017804154302670624, 0.017804154302670624, 0.017804154302670624, 0.017804154302670624, 0.017804154302670624, 0.020771513353115726, 0.02373887240356083, 0.02373887240356083, 0.02373887240356083, 0.02373887240356083, 0.026706231454005934, 0.02967359050445104, 0.02967359050445104, 0.02967359050445104, 0.02967359050445104, 0.02967359050445104, 0.02967359050445104, 0.04154302670623145, 0.04747774480712166, 0.050445103857566766, 0.06528189910979229, 0.09198813056379822], \"orientation\": \"h\", \"text\": [\"1.78%\", \"1.78%\", \"1.78%\", \"1.78%\", \"1.78%\", \"1.78%\", \"1.78%\", \"1.78%\", \"1.78%\", \"1.78%\", \"1.78%\", \"1.78%\", \"1.78%\", \"2.08%\", \"2.37%\", \"2.37%\", \"2.37%\", \"2.37%\", \"2.67%\", \"2.97%\", \"2.97%\", \"2.97%\", \"2.97%\", \"2.97%\", \"2.97%\", \"4.15%\", \"4.75%\", \"5.04%\", \"6.53%\", \"9.20%\"], \"textposition\": \"outside\"}, {\"type\": \"table\", \"domain\": {\"x\": [0.45, 0.9], \"y\": [0, 0.8]}, \"columnwidth\": [52, 52], \"columnorder\": [0, 1], \"header\": {\"height\": 25, \"values\": [[\"<b>\\u540d\\u79f0</b>\"], [\"<b>\\u4e0e\\u4e0a\\u6708\\u540c\\u6bd4</b>\"]], \"line\": {\"color\": \"#000000\"}, \"align\": [\"left\", \"left\"], \"font\": {\"color\": [\"#FFFFFF\", \"#FFFFFF\"], \"size\": 14}, \"fill\": {\"color\": \"#2d5b6c\"}}, \"cells\": {\"values\": [[\"SHAREit - Transfer & Share\", \"Google Play Movies & TV\", \"WhatsApp Messenger\", \"Facebook\", \"Messenger \\u2013 Text and Video Chat for Free\", \"android.wm.cts.dndtargetappsdk23\", \"android.server.alertwindowappsdk25\", \"android.server.alertwindowapp\", \"android.wm.cts.dndtargetapp\", \"android.wm.cts.dndsourceapp\", \"com.android.cts.launcherapps.simpleapp\", \"android.server.translucentapp\", \"com.android.cts.managedprofile\", \"android.autofillservice.cts\", \"AppLock\", \"Facebook Lite\", \"Truecaller: Caller ID, SMS spam blocking & Dialer\", \"android.cpptools.app\", \"com.android.cts.launcherapps.simplepremapp\", \"android.trustedvoice.app\", \"android.theme.app\", \"android.test.app\", \"com.nemo.vidmate\", \"com.android.cts.devicepolicy.autofillapp\", \"Share - File Transfer & Connect\", \"com.android.cts.splitapp\", \"android.abioverride.app\", \"YouTube\", \"WeChat\", \"com.android.gputest\"], [\"0.04%\", \"-10.20%\", \"2.65%\", \"2.36%\", \"1.37%\", \"1.37%\", \"1.37%\", \"1.37%\", \"1.37%\", \"1.37%\", \"1.37%\", \"1.48%\", \"0.78%\", \"1.58%\", \"1.18%\", \"0.78%\", \"0.09%\", \"0.98%\", \"1.38%\", \"1.38%\", \"0.98%\", \"0.98%\", \"0.19%\", \"1.38%\", \"1.38%\", \"0.98%\", \"0.98%\", \"-0.61%\", \"0.59%\", \"0.98%\"]], \"line\": {\"color\": \"#000000\"}, \"align\": [\"left\", \"left\"], \"font\": {\"color\": [\"#FFFFFF\", \"#FFFFFF\"], \"size\": 12}, \"height\": 25, \"fill\": {\"color\": [\"#68a4b9\", \"#526372\"]}}}], {\"title\": \"\\u5378\\u8f7d\\u5e94\\u7528\\u6392\\u884c<br>\\u603b\\u6b21\\u6570:1271  \\u603b\\u8bbe\\u5907\\u6570:337\", \"height\": 1300, \"width\": 1300, \"margin\": {\"l\": 300, \"r\": 0}, \"yaxis\": {\"ticklen\": 2}}, {\"showLink\": true, \"linkText\": \"Export to plot.ly\"})});</script>"
      ]
     },
     "metadata": {},
     "output_type": "display_data"
    }
   ],
   "source": [
    "install_rate(df418, df318,'appremove', '卸载应用排行',height=1300,width=1300)"
   ]
  },
  {
   "cell_type": "markdown",
   "metadata": {},
   "source": [
    "### Camera 应用 "
   ]
  },
  {
   "cell_type": "code",
   "execution_count": 14,
   "metadata": {
    "ExecuteTime": {
     "end_time": "2018-05-18T03:55:35.952070Z",
     "start_time": "2018-05-18T03:55:35.945678Z"
    },
    "collapsed": true
   },
   "outputs": [],
   "source": [
    "chinese_name_photos = {'photo':'普通拍照', 'panorama':'全景', 'facebeauty':'美颜', 'hdr':'逆光', 'nightvideo':'夜景',\n",
    "                'selfiepanorama':'全景自拍', 'polaroid':'心情照片','gifshot':'GIF动画','profession':'高级', 'arcfilter':'滤镜'}\n",
    "chinese_name_videos = {'video':'普通摄像','slowmotion':'慢动作摄影', 'timelapse':'延时摄影'}"
   ]
  },
  {
   "cell_type": "code",
   "execution_count": 15,
   "metadata": {
    "ExecuteTime": {
     "end_time": "2018-05-18T03:55:35.963896Z",
     "start_time": "2018-05-18T03:55:35.954144Z"
    },
    "collapsed": true
   },
   "outputs": [],
   "source": [
    "def draw_camera(cur, last, height, width, title, table_pos={'x':[0.45, 0.9], 'y':[0, 0.86]}):\n",
    "    cur_rate = cur.apply(lambda x:x/cur.sum())\n",
    "    last_rate = last.apply(lambda x:x/last.sum())\n",
    "    diff_data = cur_rate.sub(last_rate, fill_value=0)\n",
    "    table_data = [diff_data.index, ['{:.2f}%'.format(x*100) for x in diff_data]]\n",
    "    bar_data = {'y':cur_rate.index, 'x':cur_rate.values,\n",
    "                'text':cur_rate.apply(lambda x:'{:.1f}%'.format(x*100)).values}\n",
    "    draw_bar_table(bar_data, table_data, height, width, title, table_pos)"
   ]
  },
  {
   "cell_type": "code",
   "execution_count": 16,
   "metadata": {
    "ExecuteTime": {
     "end_time": "2018-05-18T03:55:36.026888Z",
     "start_time": "2018-05-18T03:55:35.965813Z"
    }
   },
   "outputs": [],
   "source": [
    "def get_camera_data(df):\n",
    "    takephoto_data_cur = df[df['name'] == 'TakePhoto']\n",
    "    video_data_cur = df[df['name'] == 'Video']\n",
    "\n",
    "    total_camera_cur = len(takephoto_data_cur)\n",
    "    total_video_cur = len(video_data_cur)\n",
    "    total_used_cur = (len(takephoto_data_cur) + len(video_data_cur))\n",
    "\n",
    "    capturemode_cur = takephoto_data_cur.groupby(['attrs_Capturemode']).size().sort_values()\n",
    "\n",
    "    capture_dict_cur = {}\n",
    "    total_camera_dict_cur = {}\n",
    "    for p in chinese_name_photos:\n",
    "        if p in capturemode_cur.index:\n",
    "            capture_dict_cur[chinese_name_photos[p]] = capturemode_cur[p]\n",
    "            total_camera_dict_cur[chinese_name_photos[p]] = capturemode_cur[p]\n",
    "        else:\n",
    "            total_camera_dict_cur[chinese_name_photos[p]] = 0\n",
    "            capture_dict_cur[chinese_name_photos[p]] = 0\n",
    "\n",
    "    capture_chinese_data = pd.Series(capture_dict_cur).sort_values()\n",
    "\n",
    "    video_mode = video_data_cur.groupby(['attrs_Videomode']).size().sort_values()\n",
    "    video_dict_cur = {}\n",
    "    for p in chinese_name_videos:\n",
    "        if p in video_mode.index:\n",
    "            video_dict_cur[chinese_name_videos[p]] = video_mode[p]\n",
    "            total_camera_dict_cur[chinese_name_videos[p]] = video_mode[p]\n",
    "        else:\n",
    "            capture_dict_cur[chinese_name_videos[p]] = 0\n",
    "            total_camera_dict_cur[chinese_name_videos[p]] = 0\n",
    "\n",
    "    video_chinese_data = pd.Series(video_dict_cur).sort_values()\n",
    "    total_chinese_data = pd.Series(total_camera_dict_cur).sort_values()\n",
    "    \n",
    "    return [capture_chinese_data,video_chinese_data,total_chinese_data]"
   ]
  },
  {
   "cell_type": "code",
   "execution_count": 17,
   "metadata": {
    "ExecuteTime": {
     "end_time": "2018-05-18T03:55:36.124807Z",
     "start_time": "2018-05-18T03:55:36.029993Z"
    }
   },
   "outputs": [],
   "source": [
    "cur_camera = get_camera_data(df418)\n",
    "last_camera = get_camera_data(df318)"
   ]
  },
  {
   "cell_type": "code",
   "execution_count": 18,
   "metadata": {
    "ExecuteTime": {
     "end_time": "2018-05-18T03:55:36.138532Z",
     "start_time": "2018-05-18T03:55:36.126856Z"
    }
   },
   "outputs": [
    {
     "data": {
      "application/vnd.plotly.v1+json": {
       "data": [
        {
         "orientation": "h",
         "text": [
          "0.0%",
          "0.4%",
          "0.5%",
          "0.8%",
          "1.1%",
          "1.1%",
          "1.6%",
          "1.9%",
          "6.5%",
          "86.1%"
         ],
         "textposition": "outside",
         "type": "bar",
         "x": [
          0,
          0.003890274314214464,
          0.004987531172069825,
          0.00827930174563591,
          0.010673316708229427,
          0.011172069825436408,
          0.01596009975062344,
          0.01915211970074813,
          0.06513715710723192,
          0.8607481296758105
         ],
         "y": [
          "高级",
          "GIF动画",
          "心情照片",
          "夜景",
          "滤镜",
          "全景自拍",
          "全景",
          "逆光",
          "美颜",
          "普通拍照"
         ]
        },
        {
         "cells": {
          "align": [
           "left",
           "left"
          ],
          "fill": {
           "color": [
            "#68a4b9",
            "#526372"
           ]
          },
          "font": {
           "color": [
            "#FFFFFF",
            "#FFFFFF"
           ],
           "size": 12
          },
          "height": 25,
          "line": {
           "color": "#000000"
          },
          "values": [
           [
            "GIF动画",
            "全景",
            "全景自拍",
            "夜景",
            "心情照片",
            "普通拍照",
            "滤镜",
            "美颜",
            "逆光",
            "高级"
           ],
           [
            "-0.32%",
            "-0.24%",
            "-0.34%",
            "-0.44%",
            "-0.80%",
            "-0.08%",
            "-0.08%",
            "1.78%",
            "0.53%",
            "0.00%"
           ]
          ]
         },
         "columnorder": [
          0,
          1
         ],
         "columnwidth": [
          52,
          52
         ],
         "domain": {
          "x": [
           0.45,
           0.9
          ],
          "y": [
           0,
           0.86
          ]
         },
         "header": {
          "align": [
           "left",
           "left"
          ],
          "fill": {
           "color": "#2d5b6c"
          },
          "font": {
           "color": [
            "#FFFFFF",
            "#FFFFFF"
           ],
           "size": 14
          },
          "height": 25,
          "line": {
           "color": "#000000"
          },
          "values": [
           [
            "<b>名称</b>"
           ],
           [
            "<b>与上月同比</b>"
           ]
          ]
         },
         "type": "table"
        }
       ],
       "layout": {
        "height": 550,
        "margin": {
         "l": 300,
         "r": 0
        },
        "title": "拍照使用排名<br>总使用次数:10025",
        "width": 1200,
        "yaxis": {
         "ticklen": 2
        }
       }
      },
      "text/html": [
       "<div id=\"ea1a110d-4ac9-4914-983d-6091fb60e9f8\" style=\"height: 550px; width: 1200px;\" class=\"plotly-graph-div\"></div><script type=\"text/javascript\">require([\"plotly\"], function(Plotly) { window.PLOTLYENV=window.PLOTLYENV || {};window.PLOTLYENV.BASE_URL=\"https://plot.ly\";Plotly.newPlot(\"ea1a110d-4ac9-4914-983d-6091fb60e9f8\", [{\"type\": \"bar\", \"y\": [\"\\u9ad8\\u7ea7\", \"GIF\\u52a8\\u753b\", \"\\u5fc3\\u60c5\\u7167\\u7247\", \"\\u591c\\u666f\", \"\\u6ee4\\u955c\", \"\\u5168\\u666f\\u81ea\\u62cd\", \"\\u5168\\u666f\", \"\\u9006\\u5149\", \"\\u7f8e\\u989c\", \"\\u666e\\u901a\\u62cd\\u7167\"], \"x\": [0.0, 0.003890274314214464, 0.004987531172069825, 0.00827930174563591, 0.010673316708229427, 0.011172069825436408, 0.01596009975062344, 0.01915211970074813, 0.06513715710723192, 0.8607481296758105], \"orientation\": \"h\", \"text\": [\"0.0%\", \"0.4%\", \"0.5%\", \"0.8%\", \"1.1%\", \"1.1%\", \"1.6%\", \"1.9%\", \"6.5%\", \"86.1%\"], \"textposition\": \"outside\"}, {\"type\": \"table\", \"domain\": {\"x\": [0.45, 0.9], \"y\": [0, 0.86]}, \"columnwidth\": [52, 52], \"columnorder\": [0, 1], \"header\": {\"height\": 25, \"values\": [[\"<b>\\u540d\\u79f0</b>\"], [\"<b>\\u4e0e\\u4e0a\\u6708\\u540c\\u6bd4</b>\"]], \"line\": {\"color\": \"#000000\"}, \"align\": [\"left\", \"left\"], \"font\": {\"color\": [\"#FFFFFF\", \"#FFFFFF\"], \"size\": 14}, \"fill\": {\"color\": \"#2d5b6c\"}}, \"cells\": {\"values\": [[\"GIF\\u52a8\\u753b\", \"\\u5168\\u666f\", \"\\u5168\\u666f\\u81ea\\u62cd\", \"\\u591c\\u666f\", \"\\u5fc3\\u60c5\\u7167\\u7247\", \"\\u666e\\u901a\\u62cd\\u7167\", \"\\u6ee4\\u955c\", \"\\u7f8e\\u989c\", \"\\u9006\\u5149\", \"\\u9ad8\\u7ea7\"], [\"-0.32%\", \"-0.24%\", \"-0.34%\", \"-0.44%\", \"-0.80%\", \"-0.08%\", \"-0.08%\", \"1.78%\", \"0.53%\", \"0.00%\"]], \"line\": {\"color\": \"#000000\"}, \"align\": [\"left\", \"left\"], \"font\": {\"color\": [\"#FFFFFF\", \"#FFFFFF\"], \"size\": 12}, \"height\": 25, \"fill\": {\"color\": [\"#68a4b9\", \"#526372\"]}}}], {\"title\": \"\\u62cd\\u7167\\u4f7f\\u7528\\u6392\\u540d<br>\\u603b\\u4f7f\\u7528\\u6b21\\u6570:10025\", \"height\": 550, \"width\": 1200, \"margin\": {\"l\": 300, \"r\": 0}, \"yaxis\": {\"ticklen\": 2}}, {\"showLink\": true, \"linkText\": \"Export to plot.ly\"})});</script>"
      ],
      "text/vnd.plotly.v1+html": [
       "<div id=\"ea1a110d-4ac9-4914-983d-6091fb60e9f8\" style=\"height: 550px; width: 1200px;\" class=\"plotly-graph-div\"></div><script type=\"text/javascript\">require([\"plotly\"], function(Plotly) { window.PLOTLYENV=window.PLOTLYENV || {};window.PLOTLYENV.BASE_URL=\"https://plot.ly\";Plotly.newPlot(\"ea1a110d-4ac9-4914-983d-6091fb60e9f8\", [{\"type\": \"bar\", \"y\": [\"\\u9ad8\\u7ea7\", \"GIF\\u52a8\\u753b\", \"\\u5fc3\\u60c5\\u7167\\u7247\", \"\\u591c\\u666f\", \"\\u6ee4\\u955c\", \"\\u5168\\u666f\\u81ea\\u62cd\", \"\\u5168\\u666f\", \"\\u9006\\u5149\", \"\\u7f8e\\u989c\", \"\\u666e\\u901a\\u62cd\\u7167\"], \"x\": [0.0, 0.003890274314214464, 0.004987531172069825, 0.00827930174563591, 0.010673316708229427, 0.011172069825436408, 0.01596009975062344, 0.01915211970074813, 0.06513715710723192, 0.8607481296758105], \"orientation\": \"h\", \"text\": [\"0.0%\", \"0.4%\", \"0.5%\", \"0.8%\", \"1.1%\", \"1.1%\", \"1.6%\", \"1.9%\", \"6.5%\", \"86.1%\"], \"textposition\": \"outside\"}, {\"type\": \"table\", \"domain\": {\"x\": [0.45, 0.9], \"y\": [0, 0.86]}, \"columnwidth\": [52, 52], \"columnorder\": [0, 1], \"header\": {\"height\": 25, \"values\": [[\"<b>\\u540d\\u79f0</b>\"], [\"<b>\\u4e0e\\u4e0a\\u6708\\u540c\\u6bd4</b>\"]], \"line\": {\"color\": \"#000000\"}, \"align\": [\"left\", \"left\"], \"font\": {\"color\": [\"#FFFFFF\", \"#FFFFFF\"], \"size\": 14}, \"fill\": {\"color\": \"#2d5b6c\"}}, \"cells\": {\"values\": [[\"GIF\\u52a8\\u753b\", \"\\u5168\\u666f\", \"\\u5168\\u666f\\u81ea\\u62cd\", \"\\u591c\\u666f\", \"\\u5fc3\\u60c5\\u7167\\u7247\", \"\\u666e\\u901a\\u62cd\\u7167\", \"\\u6ee4\\u955c\", \"\\u7f8e\\u989c\", \"\\u9006\\u5149\", \"\\u9ad8\\u7ea7\"], [\"-0.32%\", \"-0.24%\", \"-0.34%\", \"-0.44%\", \"-0.80%\", \"-0.08%\", \"-0.08%\", \"1.78%\", \"0.53%\", \"0.00%\"]], \"line\": {\"color\": \"#000000\"}, \"align\": [\"left\", \"left\"], \"font\": {\"color\": [\"#FFFFFF\", \"#FFFFFF\"], \"size\": 12}, \"height\": 25, \"fill\": {\"color\": [\"#68a4b9\", \"#526372\"]}}}], {\"title\": \"\\u62cd\\u7167\\u4f7f\\u7528\\u6392\\u540d<br>\\u603b\\u4f7f\\u7528\\u6b21\\u6570:10025\", \"height\": 550, \"width\": 1200, \"margin\": {\"l\": 300, \"r\": 0}, \"yaxis\": {\"ticklen\": 2}}, {\"showLink\": true, \"linkText\": \"Export to plot.ly\"})});</script>"
      ]
     },
     "metadata": {},
     "output_type": "display_data"
    }
   ],
   "source": [
    "draw_camera(cur_camera[0], last_camera[0], 550, 1200, '拍照使用排名<br>总使用次数:{}'.format(cur_camera[0].sum()))"
   ]
  },
  {
   "cell_type": "code",
   "execution_count": 19,
   "metadata": {
    "ExecuteTime": {
     "end_time": "2018-05-18T03:55:36.155598Z",
     "start_time": "2018-05-18T03:55:36.143085Z"
    }
   },
   "outputs": [
    {
     "data": {
      "application/vnd.plotly.v1+json": {
       "data": [
        {
         "orientation": "h",
         "text": [
          "3.8%",
          "4.1%",
          "92.1%"
         ],
         "textposition": "outside",
         "type": "bar",
         "x": [
          0.037996545768566495,
          0.04145077720207254,
          0.9205526770293609
         ],
         "y": [
          "慢动作摄影",
          "延时摄影",
          "普通摄像"
         ]
        },
        {
         "cells": {
          "align": [
           "left",
           "left"
          ],
          "fill": {
           "color": [
            "#68a4b9",
            "#526372"
           ]
          },
          "font": {
           "color": [
            "#FFFFFF",
            "#FFFFFF"
           ],
           "size": 12
          },
          "height": 25,
          "line": {
           "color": "#000000"
          },
          "values": [
           [
            "延时摄影",
            "慢动作摄影",
            "普通摄像"
           ],
           [
            "1.39%",
            "-0.68%",
            "-0.70%"
           ]
          ]
         },
         "columnorder": [
          0,
          1
         ],
         "columnwidth": [
          52,
          52
         ],
         "domain": {
          "x": [
           0.45,
           0.9
          ],
          "y": [
           0,
           0.6
          ]
         },
         "header": {
          "align": [
           "left",
           "left"
          ],
          "fill": {
           "color": "#2d5b6c"
          },
          "font": {
           "color": [
            "#FFFFFF",
            "#FFFFFF"
           ],
           "size": 14
          },
          "height": 25,
          "line": {
           "color": "#000000"
          },
          "values": [
           [
            "<b>名称</b>"
           ],
           [
            "<b>与上月同比</b>"
           ]
          ]
         },
         "type": "table"
        }
       ],
       "layout": {
        "height": 400,
        "margin": {
         "l": 300,
         "r": 0
        },
        "title": "录像使用排名<br>总使用次数:579",
        "width": 1200,
        "yaxis": {
         "ticklen": 2
        }
       }
      },
      "text/html": [
       "<div id=\"1385e589-e318-4f7e-85c0-25417caba92d\" style=\"height: 400px; width: 1200px;\" class=\"plotly-graph-div\"></div><script type=\"text/javascript\">require([\"plotly\"], function(Plotly) { window.PLOTLYENV=window.PLOTLYENV || {};window.PLOTLYENV.BASE_URL=\"https://plot.ly\";Plotly.newPlot(\"1385e589-e318-4f7e-85c0-25417caba92d\", [{\"type\": \"bar\", \"y\": [\"\\u6162\\u52a8\\u4f5c\\u6444\\u5f71\", \"\\u5ef6\\u65f6\\u6444\\u5f71\", \"\\u666e\\u901a\\u6444\\u50cf\"], \"x\": [0.037996545768566495, 0.04145077720207254, 0.9205526770293609], \"orientation\": \"h\", \"text\": [\"3.8%\", \"4.1%\", \"92.1%\"], \"textposition\": \"outside\"}, {\"type\": \"table\", \"domain\": {\"x\": [0.45, 0.9], \"y\": [0, 0.6]}, \"columnwidth\": [52, 52], \"columnorder\": [0, 1], \"header\": {\"height\": 25, \"values\": [[\"<b>\\u540d\\u79f0</b>\"], [\"<b>\\u4e0e\\u4e0a\\u6708\\u540c\\u6bd4</b>\"]], \"line\": {\"color\": \"#000000\"}, \"align\": [\"left\", \"left\"], \"font\": {\"color\": [\"#FFFFFF\", \"#FFFFFF\"], \"size\": 14}, \"fill\": {\"color\": \"#2d5b6c\"}}, \"cells\": {\"values\": [[\"\\u5ef6\\u65f6\\u6444\\u5f71\", \"\\u6162\\u52a8\\u4f5c\\u6444\\u5f71\", \"\\u666e\\u901a\\u6444\\u50cf\"], [\"1.39%\", \"-0.68%\", \"-0.70%\"]], \"line\": {\"color\": \"#000000\"}, \"align\": [\"left\", \"left\"], \"font\": {\"color\": [\"#FFFFFF\", \"#FFFFFF\"], \"size\": 12}, \"height\": 25, \"fill\": {\"color\": [\"#68a4b9\", \"#526372\"]}}}], {\"title\": \"\\u5f55\\u50cf\\u4f7f\\u7528\\u6392\\u540d<br>\\u603b\\u4f7f\\u7528\\u6b21\\u6570:579\", \"height\": 400, \"width\": 1200, \"margin\": {\"l\": 300, \"r\": 0}, \"yaxis\": {\"ticklen\": 2}}, {\"showLink\": true, \"linkText\": \"Export to plot.ly\"})});</script>"
      ],
      "text/vnd.plotly.v1+html": [
       "<div id=\"1385e589-e318-4f7e-85c0-25417caba92d\" style=\"height: 400px; width: 1200px;\" class=\"plotly-graph-div\"></div><script type=\"text/javascript\">require([\"plotly\"], function(Plotly) { window.PLOTLYENV=window.PLOTLYENV || {};window.PLOTLYENV.BASE_URL=\"https://plot.ly\";Plotly.newPlot(\"1385e589-e318-4f7e-85c0-25417caba92d\", [{\"type\": \"bar\", \"y\": [\"\\u6162\\u52a8\\u4f5c\\u6444\\u5f71\", \"\\u5ef6\\u65f6\\u6444\\u5f71\", \"\\u666e\\u901a\\u6444\\u50cf\"], \"x\": [0.037996545768566495, 0.04145077720207254, 0.9205526770293609], \"orientation\": \"h\", \"text\": [\"3.8%\", \"4.1%\", \"92.1%\"], \"textposition\": \"outside\"}, {\"type\": \"table\", \"domain\": {\"x\": [0.45, 0.9], \"y\": [0, 0.6]}, \"columnwidth\": [52, 52], \"columnorder\": [0, 1], \"header\": {\"height\": 25, \"values\": [[\"<b>\\u540d\\u79f0</b>\"], [\"<b>\\u4e0e\\u4e0a\\u6708\\u540c\\u6bd4</b>\"]], \"line\": {\"color\": \"#000000\"}, \"align\": [\"left\", \"left\"], \"font\": {\"color\": [\"#FFFFFF\", \"#FFFFFF\"], \"size\": 14}, \"fill\": {\"color\": \"#2d5b6c\"}}, \"cells\": {\"values\": [[\"\\u5ef6\\u65f6\\u6444\\u5f71\", \"\\u6162\\u52a8\\u4f5c\\u6444\\u5f71\", \"\\u666e\\u901a\\u6444\\u50cf\"], [\"1.39%\", \"-0.68%\", \"-0.70%\"]], \"line\": {\"color\": \"#000000\"}, \"align\": [\"left\", \"left\"], \"font\": {\"color\": [\"#FFFFFF\", \"#FFFFFF\"], \"size\": 12}, \"height\": 25, \"fill\": {\"color\": [\"#68a4b9\", \"#526372\"]}}}], {\"title\": \"\\u5f55\\u50cf\\u4f7f\\u7528\\u6392\\u540d<br>\\u603b\\u4f7f\\u7528\\u6b21\\u6570:579\", \"height\": 400, \"width\": 1200, \"margin\": {\"l\": 300, \"r\": 0}, \"yaxis\": {\"ticklen\": 2}}, {\"showLink\": true, \"linkText\": \"Export to plot.ly\"})});</script>"
      ]
     },
     "metadata": {},
     "output_type": "display_data"
    }
   ],
   "source": [
    "draw_camera(cur_camera[1], last_camera[1], 400, 1200, '录像使用排名<br>总使用次数:{}'.format(cur_camera[1].sum()),\n",
    "           table_pos={'x':[0.45, 0.9], 'y':[0, 0.6]})"
   ]
  },
  {
   "cell_type": "code",
   "execution_count": 20,
   "metadata": {
    "ExecuteTime": {
     "end_time": "2018-05-18T03:55:36.170043Z",
     "start_time": "2018-05-18T03:55:36.157742Z"
    }
   },
   "outputs": [
    {
     "data": {
      "application/vnd.plotly.v1+json": {
       "data": [
        {
         "orientation": "h",
         "text": [
          "0.0%",
          "0.2%",
          "0.2%",
          "0.4%",
          "0.5%",
          "0.8%",
          "1.0%",
          "1.1%",
          "1.5%",
          "1.8%",
          "5.0%",
          "6.2%",
          "81.4%"
         ],
         "textposition": "outside",
         "type": "bar",
         "x": [
          0,
          0.002074688796680498,
          0.002263296869105998,
          0.0036778574122972463,
          0.004715201810637495,
          0.007827235005658241,
          0.01009053187476424,
          0.010562052055827989,
          0.015088645794039984,
          0.018106374952847983,
          0.0502640513013957,
          0.061580535646925685,
          0.813749528479819
         ],
         "y": [
          "高级",
          "慢动作摄影",
          "延时摄影",
          "GIF动画",
          "心情照片",
          "夜景",
          "滤镜",
          "全景自拍",
          "全景",
          "逆光",
          "普通摄像",
          "美颜",
          "普通拍照"
         ]
        },
        {
         "cells": {
          "align": [
           "left",
           "left"
          ],
          "fill": {
           "color": [
            "#68a4b9",
            "#526372"
           ]
          },
          "font": {
           "color": [
            "#FFFFFF",
            "#FFFFFF"
           ],
           "size": 12
          },
          "height": 25,
          "line": {
           "color": "#000000"
          },
          "values": [
           [
            "GIF动画",
            "全景",
            "全景自拍",
            "夜景",
            "延时摄影",
            "心情照片",
            "慢动作摄影",
            "普通拍照",
            "普通摄像",
            "滤镜",
            "美颜",
            "逆光",
            "高级"
           ],
           [
            "-0.31%",
            "-0.24%",
            "-0.33%",
            "-0.42%",
            "0.09%",
            "-0.77%",
            "-0.01%",
            "-0.65%",
            "0.58%",
            "-0.08%",
            "1.65%",
            "0.49%",
            "0.00%"
           ]
          ]
         },
         "columnorder": [
          0,
          1
         ],
         "columnwidth": [
          52,
          52
         ],
         "domain": {
          "x": [
           0.45,
           0.9
          ],
          "y": [
           0,
           0.86
          ]
         },
         "header": {
          "align": [
           "left",
           "left"
          ],
          "fill": {
           "color": "#2d5b6c"
          },
          "font": {
           "color": [
            "#FFFFFF",
            "#FFFFFF"
           ],
           "size": 14
          },
          "height": 25,
          "line": {
           "color": "#000000"
          },
          "values": [
           [
            "<b>名称</b>"
           ],
           [
            "<b>与上月同比</b>"
           ]
          ]
         },
         "type": "table"
        }
       ],
       "layout": {
        "height": 600,
        "margin": {
         "l": 300,
         "r": 0
        },
        "title": "相机使用排名<br>总使用次数:10604",
        "width": 1200,
        "yaxis": {
         "ticklen": 2
        }
       }
      },
      "text/html": [
       "<div id=\"6210d1b1-d16b-48fe-a75f-f4f810ea8ae5\" style=\"height: 600px; width: 1200px;\" class=\"plotly-graph-div\"></div><script type=\"text/javascript\">require([\"plotly\"], function(Plotly) { window.PLOTLYENV=window.PLOTLYENV || {};window.PLOTLYENV.BASE_URL=\"https://plot.ly\";Plotly.newPlot(\"6210d1b1-d16b-48fe-a75f-f4f810ea8ae5\", [{\"type\": \"bar\", \"y\": [\"\\u9ad8\\u7ea7\", \"\\u6162\\u52a8\\u4f5c\\u6444\\u5f71\", \"\\u5ef6\\u65f6\\u6444\\u5f71\", \"GIF\\u52a8\\u753b\", \"\\u5fc3\\u60c5\\u7167\\u7247\", \"\\u591c\\u666f\", \"\\u6ee4\\u955c\", \"\\u5168\\u666f\\u81ea\\u62cd\", \"\\u5168\\u666f\", \"\\u9006\\u5149\", \"\\u666e\\u901a\\u6444\\u50cf\", \"\\u7f8e\\u989c\", \"\\u666e\\u901a\\u62cd\\u7167\"], \"x\": [0.0, 0.002074688796680498, 0.002263296869105998, 0.0036778574122972463, 0.004715201810637495, 0.007827235005658241, 0.01009053187476424, 0.010562052055827989, 0.015088645794039984, 0.018106374952847983, 0.0502640513013957, 0.061580535646925685, 0.813749528479819], \"orientation\": \"h\", \"text\": [\"0.0%\", \"0.2%\", \"0.2%\", \"0.4%\", \"0.5%\", \"0.8%\", \"1.0%\", \"1.1%\", \"1.5%\", \"1.8%\", \"5.0%\", \"6.2%\", \"81.4%\"], \"textposition\": \"outside\"}, {\"type\": \"table\", \"domain\": {\"x\": [0.45, 0.9], \"y\": [0, 0.86]}, \"columnwidth\": [52, 52], \"columnorder\": [0, 1], \"header\": {\"height\": 25, \"values\": [[\"<b>\\u540d\\u79f0</b>\"], [\"<b>\\u4e0e\\u4e0a\\u6708\\u540c\\u6bd4</b>\"]], \"line\": {\"color\": \"#000000\"}, \"align\": [\"left\", \"left\"], \"font\": {\"color\": [\"#FFFFFF\", \"#FFFFFF\"], \"size\": 14}, \"fill\": {\"color\": \"#2d5b6c\"}}, \"cells\": {\"values\": [[\"GIF\\u52a8\\u753b\", \"\\u5168\\u666f\", \"\\u5168\\u666f\\u81ea\\u62cd\", \"\\u591c\\u666f\", \"\\u5ef6\\u65f6\\u6444\\u5f71\", \"\\u5fc3\\u60c5\\u7167\\u7247\", \"\\u6162\\u52a8\\u4f5c\\u6444\\u5f71\", \"\\u666e\\u901a\\u62cd\\u7167\", \"\\u666e\\u901a\\u6444\\u50cf\", \"\\u6ee4\\u955c\", \"\\u7f8e\\u989c\", \"\\u9006\\u5149\", \"\\u9ad8\\u7ea7\"], [\"-0.31%\", \"-0.24%\", \"-0.33%\", \"-0.42%\", \"0.09%\", \"-0.77%\", \"-0.01%\", \"-0.65%\", \"0.58%\", \"-0.08%\", \"1.65%\", \"0.49%\", \"0.00%\"]], \"line\": {\"color\": \"#000000\"}, \"align\": [\"left\", \"left\"], \"font\": {\"color\": [\"#FFFFFF\", \"#FFFFFF\"], \"size\": 12}, \"height\": 25, \"fill\": {\"color\": [\"#68a4b9\", \"#526372\"]}}}], {\"title\": \"\\u76f8\\u673a\\u4f7f\\u7528\\u6392\\u540d<br>\\u603b\\u4f7f\\u7528\\u6b21\\u6570:10604\", \"height\": 600, \"width\": 1200, \"margin\": {\"l\": 300, \"r\": 0}, \"yaxis\": {\"ticklen\": 2}}, {\"showLink\": true, \"linkText\": \"Export to plot.ly\"})});</script>"
      ],
      "text/vnd.plotly.v1+html": [
       "<div id=\"6210d1b1-d16b-48fe-a75f-f4f810ea8ae5\" style=\"height: 600px; width: 1200px;\" class=\"plotly-graph-div\"></div><script type=\"text/javascript\">require([\"plotly\"], function(Plotly) { window.PLOTLYENV=window.PLOTLYENV || {};window.PLOTLYENV.BASE_URL=\"https://plot.ly\";Plotly.newPlot(\"6210d1b1-d16b-48fe-a75f-f4f810ea8ae5\", [{\"type\": \"bar\", \"y\": [\"\\u9ad8\\u7ea7\", \"\\u6162\\u52a8\\u4f5c\\u6444\\u5f71\", \"\\u5ef6\\u65f6\\u6444\\u5f71\", \"GIF\\u52a8\\u753b\", \"\\u5fc3\\u60c5\\u7167\\u7247\", \"\\u591c\\u666f\", \"\\u6ee4\\u955c\", \"\\u5168\\u666f\\u81ea\\u62cd\", \"\\u5168\\u666f\", \"\\u9006\\u5149\", \"\\u666e\\u901a\\u6444\\u50cf\", \"\\u7f8e\\u989c\", \"\\u666e\\u901a\\u62cd\\u7167\"], \"x\": [0.0, 0.002074688796680498, 0.002263296869105998, 0.0036778574122972463, 0.004715201810637495, 0.007827235005658241, 0.01009053187476424, 0.010562052055827989, 0.015088645794039984, 0.018106374952847983, 0.0502640513013957, 0.061580535646925685, 0.813749528479819], \"orientation\": \"h\", \"text\": [\"0.0%\", \"0.2%\", \"0.2%\", \"0.4%\", \"0.5%\", \"0.8%\", \"1.0%\", \"1.1%\", \"1.5%\", \"1.8%\", \"5.0%\", \"6.2%\", \"81.4%\"], \"textposition\": \"outside\"}, {\"type\": \"table\", \"domain\": {\"x\": [0.45, 0.9], \"y\": [0, 0.86]}, \"columnwidth\": [52, 52], \"columnorder\": [0, 1], \"header\": {\"height\": 25, \"values\": [[\"<b>\\u540d\\u79f0</b>\"], [\"<b>\\u4e0e\\u4e0a\\u6708\\u540c\\u6bd4</b>\"]], \"line\": {\"color\": \"#000000\"}, \"align\": [\"left\", \"left\"], \"font\": {\"color\": [\"#FFFFFF\", \"#FFFFFF\"], \"size\": 14}, \"fill\": {\"color\": \"#2d5b6c\"}}, \"cells\": {\"values\": [[\"GIF\\u52a8\\u753b\", \"\\u5168\\u666f\", \"\\u5168\\u666f\\u81ea\\u62cd\", \"\\u591c\\u666f\", \"\\u5ef6\\u65f6\\u6444\\u5f71\", \"\\u5fc3\\u60c5\\u7167\\u7247\", \"\\u6162\\u52a8\\u4f5c\\u6444\\u5f71\", \"\\u666e\\u901a\\u62cd\\u7167\", \"\\u666e\\u901a\\u6444\\u50cf\", \"\\u6ee4\\u955c\", \"\\u7f8e\\u989c\", \"\\u9006\\u5149\", \"\\u9ad8\\u7ea7\"], [\"-0.31%\", \"-0.24%\", \"-0.33%\", \"-0.42%\", \"0.09%\", \"-0.77%\", \"-0.01%\", \"-0.65%\", \"0.58%\", \"-0.08%\", \"1.65%\", \"0.49%\", \"0.00%\"]], \"line\": {\"color\": \"#000000\"}, \"align\": [\"left\", \"left\"], \"font\": {\"color\": [\"#FFFFFF\", \"#FFFFFF\"], \"size\": 12}, \"height\": 25, \"fill\": {\"color\": [\"#68a4b9\", \"#526372\"]}}}], {\"title\": \"\\u76f8\\u673a\\u4f7f\\u7528\\u6392\\u540d<br>\\u603b\\u4f7f\\u7528\\u6b21\\u6570:10604\", \"height\": 600, \"width\": 1200, \"margin\": {\"l\": 300, \"r\": 0}, \"yaxis\": {\"ticklen\": 2}}, {\"showLink\": true, \"linkText\": \"Export to plot.ly\"})});</script>"
      ]
     },
     "metadata": {},
     "output_type": "display_data"
    }
   ],
   "source": [
    "draw_camera(cur_camera[2], last_camera[2], 600, 1200, '相机使用排名<br>总使用次数:{}'.format(cur_camera[2].sum()))"
   ]
  },
  {
   "cell_type": "markdown",
   "metadata": {
    "collapsed": true
   },
   "source": [
    "### 销量统计"
   ]
  },
  {
   "cell_type": "code",
   "execution_count": 21,
   "metadata": {
    "ExecuteTime": {
     "end_time": "2018-05-18T03:55:36.176491Z",
     "start_time": "2018-05-18T03:55:36.172823Z"
    }
   },
   "outputs": [],
   "source": [
    "#valid_data.groupby(['IMEI', 'wallTime']).size()"
   ]
  },
  {
   "cell_type": "code",
   "execution_count": 22,
   "metadata": {
    "ExecuteTime": {
     "end_time": "2018-05-18T03:55:36.367891Z",
     "start_time": "2018-05-18T03:55:36.179417Z"
    },
    "collapsed": true
   },
   "outputs": [],
   "source": [
    "imeis = len(df418['IMEI'].unique())\n",
    "register = valid_data.groupby(['IMEI', 'registerTime']).size()\n",
    "register_data = {}\n",
    "\n",
    "for imei, group in register.reset_index().groupby(['IMEI']):\n",
    "    register_date = datetime.datetime.fromtimestamp(group.iloc[-1]['registerTime'])\n",
    "    register_data[imei] = register_date"
   ]
  },
  {
   "cell_type": "code",
   "execution_count": 23,
   "metadata": {
    "ExecuteTime": {
     "end_time": "2018-05-18T03:55:36.372932Z",
     "start_time": "2018-05-18T03:55:36.369792Z"
    },
    "collapsed": true
   },
   "outputs": [],
   "source": [
    "psd = pd.DataFrame.from_dict(register_data, orient='index')"
   ]
  },
  {
   "cell_type": "code",
   "execution_count": 24,
   "metadata": {
    "ExecuteTime": {
     "end_time": "2018-05-18T03:55:36.379942Z",
     "start_time": "2018-05-18T03:55:36.375235Z"
    },
    "collapsed": true
   },
   "outputs": [],
   "source": [
    "register_count = psd.groupby([0]).size()"
   ]
  },
  {
   "cell_type": "code",
   "execution_count": 25,
   "metadata": {
    "ExecuteTime": {
     "end_time": "2018-05-18T03:55:36.388439Z",
     "start_time": "2018-05-18T03:55:36.381884Z"
    },
    "collapsed": true
   },
   "outputs": [],
   "source": [
    "cc = register_count.resample('D').sum().fillna(0)"
   ]
  },
  {
   "cell_type": "code",
   "execution_count": 26,
   "metadata": {
    "ExecuteTime": {
     "end_time": "2018-05-18T03:55:36.394879Z",
     "start_time": "2018-05-18T03:55:36.390221Z"
    },
    "collapsed": true
   },
   "outputs": [],
   "source": [
    "paper_bgcolor='#242640'\n",
    "plot_bgcolor='#242640'\n",
    "paper_bgcolor='#FFFFFF'\n",
    "plot_bgcolor='#FFFFFF'\n",
    "text_color = '#000000'\n",
    "x_color = '#000000'\n",
    "y_color = '#000000'\n",
    "title_color = '#000000'\n",
    "legend_color = '#000000'"
   ]
  },
  {
   "cell_type": "code",
   "execution_count": 27,
   "metadata": {
    "ExecuteTime": {
     "end_time": "2018-05-18T03:55:36.404422Z",
     "start_time": "2018-05-18T03:55:36.396890Z"
    },
    "collapsed": true
   },
   "outputs": [],
   "source": [
    "bandxaxis = go.XAxis(\n",
    "        type='date',\n",
    "        #range=[(created_by_day.index[start] - 1).strftime('%y-%m-%d'),\n",
    "        #       (created_by_day.index[-1] + 1).strftime('%y-%m-%d'),],\n",
    "        ticks=\"outside\", \n",
    "        showticklabels=True,\n",
    "        ticktext=list(cc.index.strftime('%m-%d')),\n",
    "        tickvals=list(cc.index.strftime('%y-%m-%d')),\n",
    "        tickfont=dict(size=11),\n",
    "        #tickfont=dict(size=11,color='#B9B9C3'),\n",
    "        ticklen=10,showgrid=True,\n",
    "        #color='#FFFFFF'\n",
    "    )"
   ]
  },
  {
   "cell_type": "code",
   "execution_count": 28,
   "metadata": {
    "ExecuteTime": {
     "end_time": "2018-05-18T03:55:36.409225Z",
     "start_time": "2018-05-18T03:55:36.405940Z"
    },
    "collapsed": true
   },
   "outputs": [],
   "source": [
    "data=[go.Bar(\n",
    "        x = cc.index,\n",
    "        y = cc.values,\n",
    "        text=cc.values, \n",
    "        textposition='outside',)\n",
    "        #marker=dict(color='#7D858C')), \n",
    "]\n"
   ]
  },
  {
   "cell_type": "code",
   "execution_count": 29,
   "metadata": {
    "ExecuteTime": {
     "end_time": "2018-05-18T03:55:36.431438Z",
     "start_time": "2018-05-18T03:55:36.411132Z"
    }
   },
   "outputs": [
    {
     "data": {
      "application/vnd.plotly.v1+json": {
       "data": [
        {
         "text": [
          118,
          2,
          0,
          1,
          2,
          0,
          0,
          0,
          0,
          1,
          0,
          0,
          0,
          0,
          0,
          1,
          0,
          0,
          0,
          0,
          0,
          0,
          0,
          0,
          0,
          0,
          0,
          0,
          0,
          0,
          0,
          0,
          0,
          0,
          0,
          0,
          0,
          0,
          0,
          0,
          0,
          0,
          0,
          0,
          0,
          0,
          0,
          0,
          0,
          1,
          1,
          0,
          0,
          0,
          0,
          0,
          0,
          0,
          0,
          0,
          0,
          1,
          1,
          0,
          0,
          0,
          1,
          0,
          0,
          0,
          1,
          1,
          0,
          0,
          0,
          0,
          0,
          10,
          10,
          4,
          2,
          6,
          2,
          3,
          4,
          0,
          0,
          3,
          3,
          1,
          6,
          2,
          6,
          6,
          7,
          7,
          4,
          3,
          8,
          5,
          6,
          7,
          8,
          6,
          2,
          8,
          11,
          7,
          7,
          10,
          6,
          2,
          5,
          14,
          7,
          5,
          8,
          10,
          9,
          2,
          3,
          3,
          2,
          11,
          7,
          3,
          7,
          2,
          2,
          5,
          7,
          3,
          7,
          12,
          4,
          4,
          5,
          5
         ],
         "textposition": "outside",
         "type": "bar",
         "x": [
          "2018-01-01",
          "2018-01-02",
          "2018-01-03",
          "2018-01-04",
          "2018-01-05",
          "2018-01-06",
          "2018-01-07",
          "2018-01-08",
          "2018-01-09",
          "2018-01-10",
          "2018-01-11",
          "2018-01-12",
          "2018-01-13",
          "2018-01-14",
          "2018-01-15",
          "2018-01-16",
          "2018-01-17",
          "2018-01-18",
          "2018-01-19",
          "2018-01-20",
          "2018-01-21",
          "2018-01-22",
          "2018-01-23",
          "2018-01-24",
          "2018-01-25",
          "2018-01-26",
          "2018-01-27",
          "2018-01-28",
          "2018-01-29",
          "2018-01-30",
          "2018-01-31",
          "2018-02-01",
          "2018-02-02",
          "2018-02-03",
          "2018-02-04",
          "2018-02-05",
          "2018-02-06",
          "2018-02-07",
          "2018-02-08",
          "2018-02-09",
          "2018-02-10",
          "2018-02-11",
          "2018-02-12",
          "2018-02-13",
          "2018-02-14",
          "2018-02-15",
          "2018-02-16",
          "2018-02-17",
          "2018-02-18",
          "2018-02-19",
          "2018-02-20",
          "2018-02-21",
          "2018-02-22",
          "2018-02-23",
          "2018-02-24",
          "2018-02-25",
          "2018-02-26",
          "2018-02-27",
          "2018-02-28",
          "2018-03-01",
          "2018-03-02",
          "2018-03-03",
          "2018-03-04",
          "2018-03-05",
          "2018-03-06",
          "2018-03-07",
          "2018-03-08",
          "2018-03-09",
          "2018-03-10",
          "2018-03-11",
          "2018-03-12",
          "2018-03-13",
          "2018-03-14",
          "2018-03-15",
          "2018-03-16",
          "2018-03-17",
          "2018-03-18",
          "2018-03-19",
          "2018-03-20",
          "2018-03-21",
          "2018-03-22",
          "2018-03-23",
          "2018-03-24",
          "2018-03-25",
          "2018-03-26",
          "2018-03-27",
          "2018-03-28",
          "2018-03-29",
          "2018-03-30",
          "2018-03-31",
          "2018-04-01",
          "2018-04-02",
          "2018-04-03",
          "2018-04-04",
          "2018-04-05",
          "2018-04-06",
          "2018-04-07",
          "2018-04-08",
          "2018-04-09",
          "2018-04-10",
          "2018-04-11",
          "2018-04-12",
          "2018-04-13",
          "2018-04-14",
          "2018-04-15",
          "2018-04-16",
          "2018-04-17",
          "2018-04-18",
          "2018-04-19",
          "2018-04-20",
          "2018-04-21",
          "2018-04-22",
          "2018-04-23",
          "2018-04-24",
          "2018-04-25",
          "2018-04-26",
          "2018-04-27",
          "2018-04-28",
          "2018-04-29",
          "2018-04-30",
          "2018-05-01",
          "2018-05-02",
          "2018-05-03",
          "2018-05-04",
          "2018-05-05",
          "2018-05-06",
          "2018-05-07",
          "2018-05-08",
          "2018-05-09",
          "2018-05-10",
          "2018-05-11",
          "2018-05-12",
          "2018-05-13",
          "2018-05-14",
          "2018-05-15",
          "2018-05-16",
          "2018-05-17",
          "2018-05-18"
         ],
         "y": [
          118,
          2,
          0,
          1,
          2,
          0,
          0,
          0,
          0,
          1,
          0,
          0,
          0,
          0,
          0,
          1,
          0,
          0,
          0,
          0,
          0,
          0,
          0,
          0,
          0,
          0,
          0,
          0,
          0,
          0,
          0,
          0,
          0,
          0,
          0,
          0,
          0,
          0,
          0,
          0,
          0,
          0,
          0,
          0,
          0,
          0,
          0,
          0,
          0,
          1,
          1,
          0,
          0,
          0,
          0,
          0,
          0,
          0,
          0,
          0,
          0,
          1,
          1,
          0,
          0,
          0,
          1,
          0,
          0,
          0,
          1,
          1,
          0,
          0,
          0,
          0,
          0,
          10,
          10,
          4,
          2,
          6,
          2,
          3,
          4,
          0,
          0,
          3,
          3,
          1,
          6,
          2,
          6,
          6,
          7,
          7,
          4,
          3,
          8,
          5,
          6,
          7,
          8,
          6,
          2,
          8,
          11,
          7,
          7,
          10,
          6,
          2,
          5,
          14,
          7,
          5,
          8,
          10,
          9,
          2,
          3,
          3,
          2,
          11,
          7,
          3,
          7,
          2,
          2,
          5,
          7,
          3,
          7,
          12,
          4,
          4,
          5,
          5
         ]
        }
       ],
       "layout": {
        "bargap": 0.1,
        "height": 1200,
        "legend": {
         "font": {
          "size": 16
         },
         "x": 0.1
        },
        "title": "销量趋势图<br>总数:337",
        "titlefont": {
         "color": "#000000",
         "size": 25
        },
        "width": 1600,
        "xaxis": {
         "showgrid": true,
         "showticklabels": true,
         "tickfont": {
          "size": 11
         },
         "ticklen": 10,
         "ticks": "outside",
         "ticktext": [
          "01-01",
          "01-02",
          "01-03",
          "01-04",
          "01-05",
          "01-06",
          "01-07",
          "01-08",
          "01-09",
          "01-10",
          "01-11",
          "01-12",
          "01-13",
          "01-14",
          "01-15",
          "01-16",
          "01-17",
          "01-18",
          "01-19",
          "01-20",
          "01-21",
          "01-22",
          "01-23",
          "01-24",
          "01-25",
          "01-26",
          "01-27",
          "01-28",
          "01-29",
          "01-30",
          "01-31",
          "02-01",
          "02-02",
          "02-03",
          "02-04",
          "02-05",
          "02-06",
          "02-07",
          "02-08",
          "02-09",
          "02-10",
          "02-11",
          "02-12",
          "02-13",
          "02-14",
          "02-15",
          "02-16",
          "02-17",
          "02-18",
          "02-19",
          "02-20",
          "02-21",
          "02-22",
          "02-23",
          "02-24",
          "02-25",
          "02-26",
          "02-27",
          "02-28",
          "03-01",
          "03-02",
          "03-03",
          "03-04",
          "03-05",
          "03-06",
          "03-07",
          "03-08",
          "03-09",
          "03-10",
          "03-11",
          "03-12",
          "03-13",
          "03-14",
          "03-15",
          "03-16",
          "03-17",
          "03-18",
          "03-19",
          "03-20",
          "03-21",
          "03-22",
          "03-23",
          "03-24",
          "03-25",
          "03-26",
          "03-27",
          "03-28",
          "03-29",
          "03-30",
          "03-31",
          "04-01",
          "04-02",
          "04-03",
          "04-04",
          "04-05",
          "04-06",
          "04-07",
          "04-08",
          "04-09",
          "04-10",
          "04-11",
          "04-12",
          "04-13",
          "04-14",
          "04-15",
          "04-16",
          "04-17",
          "04-18",
          "04-19",
          "04-20",
          "04-21",
          "04-22",
          "04-23",
          "04-24",
          "04-25",
          "04-26",
          "04-27",
          "04-28",
          "04-29",
          "04-30",
          "05-01",
          "05-02",
          "05-03",
          "05-04",
          "05-05",
          "05-06",
          "05-07",
          "05-08",
          "05-09",
          "05-10",
          "05-11",
          "05-12",
          "05-13",
          "05-14",
          "05-15",
          "05-16",
          "05-17",
          "05-18"
         ],
         "tickvals": [
          "18-01-01",
          "18-01-02",
          "18-01-03",
          "18-01-04",
          "18-01-05",
          "18-01-06",
          "18-01-07",
          "18-01-08",
          "18-01-09",
          "18-01-10",
          "18-01-11",
          "18-01-12",
          "18-01-13",
          "18-01-14",
          "18-01-15",
          "18-01-16",
          "18-01-17",
          "18-01-18",
          "18-01-19",
          "18-01-20",
          "18-01-21",
          "18-01-22",
          "18-01-23",
          "18-01-24",
          "18-01-25",
          "18-01-26",
          "18-01-27",
          "18-01-28",
          "18-01-29",
          "18-01-30",
          "18-01-31",
          "18-02-01",
          "18-02-02",
          "18-02-03",
          "18-02-04",
          "18-02-05",
          "18-02-06",
          "18-02-07",
          "18-02-08",
          "18-02-09",
          "18-02-10",
          "18-02-11",
          "18-02-12",
          "18-02-13",
          "18-02-14",
          "18-02-15",
          "18-02-16",
          "18-02-17",
          "18-02-18",
          "18-02-19",
          "18-02-20",
          "18-02-21",
          "18-02-22",
          "18-02-23",
          "18-02-24",
          "18-02-25",
          "18-02-26",
          "18-02-27",
          "18-02-28",
          "18-03-01",
          "18-03-02",
          "18-03-03",
          "18-03-04",
          "18-03-05",
          "18-03-06",
          "18-03-07",
          "18-03-08",
          "18-03-09",
          "18-03-10",
          "18-03-11",
          "18-03-12",
          "18-03-13",
          "18-03-14",
          "18-03-15",
          "18-03-16",
          "18-03-17",
          "18-03-18",
          "18-03-19",
          "18-03-20",
          "18-03-21",
          "18-03-22",
          "18-03-23",
          "18-03-24",
          "18-03-25",
          "18-03-26",
          "18-03-27",
          "18-03-28",
          "18-03-29",
          "18-03-30",
          "18-03-31",
          "18-04-01",
          "18-04-02",
          "18-04-03",
          "18-04-04",
          "18-04-05",
          "18-04-06",
          "18-04-07",
          "18-04-08",
          "18-04-09",
          "18-04-10",
          "18-04-11",
          "18-04-12",
          "18-04-13",
          "18-04-14",
          "18-04-15",
          "18-04-16",
          "18-04-17",
          "18-04-18",
          "18-04-19",
          "18-04-20",
          "18-04-21",
          "18-04-22",
          "18-04-23",
          "18-04-24",
          "18-04-25",
          "18-04-26",
          "18-04-27",
          "18-04-28",
          "18-04-29",
          "18-04-30",
          "18-05-01",
          "18-05-02",
          "18-05-03",
          "18-05-04",
          "18-05-05",
          "18-05-06",
          "18-05-07",
          "18-05-08",
          "18-05-09",
          "18-05-10",
          "18-05-11",
          "18-05-12",
          "18-05-13",
          "18-05-14",
          "18-05-15",
          "18-05-16",
          "18-05-17",
          "18-05-18"
         ],
         "type": "date"
        },
        "yaxis": {
         "ticklen": 10
        }
       }
      },
      "text/html": [
       "<div id=\"943baa2e-62ed-401b-b9f3-8ee8a45d6f9e\" style=\"height: 1200px; width: 1600px;\" class=\"plotly-graph-div\"></div><script type=\"text/javascript\">require([\"plotly\"], function(Plotly) { window.PLOTLYENV=window.PLOTLYENV || {};window.PLOTLYENV.BASE_URL=\"https://plot.ly\";Plotly.newPlot(\"943baa2e-62ed-401b-b9f3-8ee8a45d6f9e\", [{\"type\": \"bar\", \"x\": [\"2018-01-01\", \"2018-01-02\", \"2018-01-03\", \"2018-01-04\", \"2018-01-05\", \"2018-01-06\", \"2018-01-07\", \"2018-01-08\", \"2018-01-09\", \"2018-01-10\", \"2018-01-11\", \"2018-01-12\", \"2018-01-13\", \"2018-01-14\", \"2018-01-15\", \"2018-01-16\", \"2018-01-17\", \"2018-01-18\", \"2018-01-19\", \"2018-01-20\", \"2018-01-21\", \"2018-01-22\", \"2018-01-23\", \"2018-01-24\", \"2018-01-25\", \"2018-01-26\", \"2018-01-27\", \"2018-01-28\", \"2018-01-29\", \"2018-01-30\", \"2018-01-31\", \"2018-02-01\", \"2018-02-02\", \"2018-02-03\", \"2018-02-04\", \"2018-02-05\", \"2018-02-06\", \"2018-02-07\", \"2018-02-08\", \"2018-02-09\", \"2018-02-10\", \"2018-02-11\", \"2018-02-12\", \"2018-02-13\", \"2018-02-14\", \"2018-02-15\", \"2018-02-16\", \"2018-02-17\", \"2018-02-18\", \"2018-02-19\", \"2018-02-20\", \"2018-02-21\", \"2018-02-22\", \"2018-02-23\", \"2018-02-24\", \"2018-02-25\", \"2018-02-26\", \"2018-02-27\", \"2018-02-28\", \"2018-03-01\", \"2018-03-02\", \"2018-03-03\", \"2018-03-04\", \"2018-03-05\", \"2018-03-06\", \"2018-03-07\", \"2018-03-08\", \"2018-03-09\", \"2018-03-10\", \"2018-03-11\", \"2018-03-12\", \"2018-03-13\", \"2018-03-14\", \"2018-03-15\", \"2018-03-16\", \"2018-03-17\", \"2018-03-18\", \"2018-03-19\", \"2018-03-20\", \"2018-03-21\", \"2018-03-22\", \"2018-03-23\", \"2018-03-24\", \"2018-03-25\", \"2018-03-26\", \"2018-03-27\", \"2018-03-28\", \"2018-03-29\", \"2018-03-30\", \"2018-03-31\", \"2018-04-01\", \"2018-04-02\", \"2018-04-03\", \"2018-04-04\", \"2018-04-05\", \"2018-04-06\", \"2018-04-07\", \"2018-04-08\", \"2018-04-09\", \"2018-04-10\", \"2018-04-11\", \"2018-04-12\", \"2018-04-13\", \"2018-04-14\", \"2018-04-15\", \"2018-04-16\", \"2018-04-17\", \"2018-04-18\", \"2018-04-19\", \"2018-04-20\", \"2018-04-21\", \"2018-04-22\", \"2018-04-23\", \"2018-04-24\", \"2018-04-25\", \"2018-04-26\", \"2018-04-27\", \"2018-04-28\", \"2018-04-29\", \"2018-04-30\", \"2018-05-01\", \"2018-05-02\", \"2018-05-03\", \"2018-05-04\", \"2018-05-05\", \"2018-05-06\", \"2018-05-07\", \"2018-05-08\", \"2018-05-09\", \"2018-05-10\", \"2018-05-11\", \"2018-05-12\", \"2018-05-13\", \"2018-05-14\", \"2018-05-15\", \"2018-05-16\", \"2018-05-17\", \"2018-05-18\"], \"y\": [118.0, 2.0, 0.0, 1.0, 2.0, 0.0, 0.0, 0.0, 0.0, 1.0, 0.0, 0.0, 0.0, 0.0, 0.0, 1.0, 0.0, 0.0, 0.0, 0.0, 0.0, 0.0, 0.0, 0.0, 0.0, 0.0, 0.0, 0.0, 0.0, 0.0, 0.0, 0.0, 0.0, 0.0, 0.0, 0.0, 0.0, 0.0, 0.0, 0.0, 0.0, 0.0, 0.0, 0.0, 0.0, 0.0, 0.0, 0.0, 0.0, 1.0, 1.0, 0.0, 0.0, 0.0, 0.0, 0.0, 0.0, 0.0, 0.0, 0.0, 0.0, 1.0, 1.0, 0.0, 0.0, 0.0, 1.0, 0.0, 0.0, 0.0, 1.0, 1.0, 0.0, 0.0, 0.0, 0.0, 0.0, 10.0, 10.0, 4.0, 2.0, 6.0, 2.0, 3.0, 4.0, 0.0, 0.0, 3.0, 3.0, 1.0, 6.0, 2.0, 6.0, 6.0, 7.0, 7.0, 4.0, 3.0, 8.0, 5.0, 6.0, 7.0, 8.0, 6.0, 2.0, 8.0, 11.0, 7.0, 7.0, 10.0, 6.0, 2.0, 5.0, 14.0, 7.0, 5.0, 8.0, 10.0, 9.0, 2.0, 3.0, 3.0, 2.0, 11.0, 7.0, 3.0, 7.0, 2.0, 2.0, 5.0, 7.0, 3.0, 7.0, 12.0, 4.0, 4.0, 5.0, 5.0], \"text\": [118.0, 2.0, 0.0, 1.0, 2.0, 0.0, 0.0, 0.0, 0.0, 1.0, 0.0, 0.0, 0.0, 0.0, 0.0, 1.0, 0.0, 0.0, 0.0, 0.0, 0.0, 0.0, 0.0, 0.0, 0.0, 0.0, 0.0, 0.0, 0.0, 0.0, 0.0, 0.0, 0.0, 0.0, 0.0, 0.0, 0.0, 0.0, 0.0, 0.0, 0.0, 0.0, 0.0, 0.0, 0.0, 0.0, 0.0, 0.0, 0.0, 1.0, 1.0, 0.0, 0.0, 0.0, 0.0, 0.0, 0.0, 0.0, 0.0, 0.0, 0.0, 1.0, 1.0, 0.0, 0.0, 0.0, 1.0, 0.0, 0.0, 0.0, 1.0, 1.0, 0.0, 0.0, 0.0, 0.0, 0.0, 10.0, 10.0, 4.0, 2.0, 6.0, 2.0, 3.0, 4.0, 0.0, 0.0, 3.0, 3.0, 1.0, 6.0, 2.0, 6.0, 6.0, 7.0, 7.0, 4.0, 3.0, 8.0, 5.0, 6.0, 7.0, 8.0, 6.0, 2.0, 8.0, 11.0, 7.0, 7.0, 10.0, 6.0, 2.0, 5.0, 14.0, 7.0, 5.0, 8.0, 10.0, 9.0, 2.0, 3.0, 3.0, 2.0, 11.0, 7.0, 3.0, 7.0, 2.0, 2.0, 5.0, 7.0, 3.0, 7.0, 12.0, 4.0, 4.0, 5.0, 5.0], \"textposition\": \"outside\"}], {\"title\": \"\\u9500\\u91cf\\u8d8b\\u52bf\\u56fe<br>\\u603b\\u6570:337\", \"titlefont\": {\"color\": \"#000000\", \"size\": 25}, \"height\": 1200, \"width\": 1600, \"bargap\": 0.1, \"xaxis\": {\"type\": \"date\", \"ticks\": \"outside\", \"showticklabels\": true, \"ticktext\": [\"01-01\", \"01-02\", \"01-03\", \"01-04\", \"01-05\", \"01-06\", \"01-07\", \"01-08\", \"01-09\", \"01-10\", \"01-11\", \"01-12\", \"01-13\", \"01-14\", \"01-15\", \"01-16\", \"01-17\", \"01-18\", \"01-19\", \"01-20\", \"01-21\", \"01-22\", \"01-23\", \"01-24\", \"01-25\", \"01-26\", \"01-27\", \"01-28\", \"01-29\", \"01-30\", \"01-31\", \"02-01\", \"02-02\", \"02-03\", \"02-04\", \"02-05\", \"02-06\", \"02-07\", \"02-08\", \"02-09\", \"02-10\", \"02-11\", \"02-12\", \"02-13\", \"02-14\", \"02-15\", \"02-16\", \"02-17\", \"02-18\", \"02-19\", \"02-20\", \"02-21\", \"02-22\", \"02-23\", \"02-24\", \"02-25\", \"02-26\", \"02-27\", \"02-28\", \"03-01\", \"03-02\", \"03-03\", \"03-04\", \"03-05\", \"03-06\", \"03-07\", \"03-08\", \"03-09\", \"03-10\", \"03-11\", \"03-12\", \"03-13\", \"03-14\", \"03-15\", \"03-16\", \"03-17\", \"03-18\", \"03-19\", \"03-20\", \"03-21\", \"03-22\", \"03-23\", \"03-24\", \"03-25\", \"03-26\", \"03-27\", \"03-28\", \"03-29\", \"03-30\", \"03-31\", \"04-01\", \"04-02\", \"04-03\", \"04-04\", \"04-05\", \"04-06\", \"04-07\", \"04-08\", \"04-09\", \"04-10\", \"04-11\", \"04-12\", \"04-13\", \"04-14\", \"04-15\", \"04-16\", \"04-17\", \"04-18\", \"04-19\", \"04-20\", \"04-21\", \"04-22\", \"04-23\", \"04-24\", \"04-25\", \"04-26\", \"04-27\", \"04-28\", \"04-29\", \"04-30\", \"05-01\", \"05-02\", \"05-03\", \"05-04\", \"05-05\", \"05-06\", \"05-07\", \"05-08\", \"05-09\", \"05-10\", \"05-11\", \"05-12\", \"05-13\", \"05-14\", \"05-15\", \"05-16\", \"05-17\", \"05-18\"], \"tickvals\": [\"18-01-01\", \"18-01-02\", \"18-01-03\", \"18-01-04\", \"18-01-05\", \"18-01-06\", \"18-01-07\", \"18-01-08\", \"18-01-09\", \"18-01-10\", \"18-01-11\", \"18-01-12\", \"18-01-13\", \"18-01-14\", \"18-01-15\", \"18-01-16\", \"18-01-17\", \"18-01-18\", \"18-01-19\", \"18-01-20\", \"18-01-21\", \"18-01-22\", \"18-01-23\", \"18-01-24\", \"18-01-25\", \"18-01-26\", \"18-01-27\", \"18-01-28\", \"18-01-29\", \"18-01-30\", \"18-01-31\", \"18-02-01\", \"18-02-02\", \"18-02-03\", \"18-02-04\", \"18-02-05\", \"18-02-06\", \"18-02-07\", \"18-02-08\", \"18-02-09\", \"18-02-10\", \"18-02-11\", \"18-02-12\", \"18-02-13\", \"18-02-14\", \"18-02-15\", \"18-02-16\", \"18-02-17\", \"18-02-18\", \"18-02-19\", \"18-02-20\", \"18-02-21\", \"18-02-22\", \"18-02-23\", \"18-02-24\", \"18-02-25\", \"18-02-26\", \"18-02-27\", \"18-02-28\", \"18-03-01\", \"18-03-02\", \"18-03-03\", \"18-03-04\", \"18-03-05\", \"18-03-06\", \"18-03-07\", \"18-03-08\", \"18-03-09\", \"18-03-10\", \"18-03-11\", \"18-03-12\", \"18-03-13\", \"18-03-14\", \"18-03-15\", \"18-03-16\", \"18-03-17\", \"18-03-18\", \"18-03-19\", \"18-03-20\", \"18-03-21\", \"18-03-22\", \"18-03-23\", \"18-03-24\", \"18-03-25\", \"18-03-26\", \"18-03-27\", \"18-03-28\", \"18-03-29\", \"18-03-30\", \"18-03-31\", \"18-04-01\", \"18-04-02\", \"18-04-03\", \"18-04-04\", \"18-04-05\", \"18-04-06\", \"18-04-07\", \"18-04-08\", \"18-04-09\", \"18-04-10\", \"18-04-11\", \"18-04-12\", \"18-04-13\", \"18-04-14\", \"18-04-15\", \"18-04-16\", \"18-04-17\", \"18-04-18\", \"18-04-19\", \"18-04-20\", \"18-04-21\", \"18-04-22\", \"18-04-23\", \"18-04-24\", \"18-04-25\", \"18-04-26\", \"18-04-27\", \"18-04-28\", \"18-04-29\", \"18-04-30\", \"18-05-01\", \"18-05-02\", \"18-05-03\", \"18-05-04\", \"18-05-05\", \"18-05-06\", \"18-05-07\", \"18-05-08\", \"18-05-09\", \"18-05-10\", \"18-05-11\", \"18-05-12\", \"18-05-13\", \"18-05-14\", \"18-05-15\", \"18-05-16\", \"18-05-17\", \"18-05-18\"], \"tickfont\": {\"size\": 11}, \"ticklen\": 10, \"showgrid\": true}, \"yaxis\": {\"ticklen\": 10}, \"legend\": {\"x\": 0.1, \"font\": {\"size\": 16}}}, {\"showLink\": true, \"linkText\": \"Export to plot.ly\"})});</script>"
      ],
      "text/vnd.plotly.v1+html": [
       "<div id=\"943baa2e-62ed-401b-b9f3-8ee8a45d6f9e\" style=\"height: 1200px; width: 1600px;\" class=\"plotly-graph-div\"></div><script type=\"text/javascript\">require([\"plotly\"], function(Plotly) { window.PLOTLYENV=window.PLOTLYENV || {};window.PLOTLYENV.BASE_URL=\"https://plot.ly\";Plotly.newPlot(\"943baa2e-62ed-401b-b9f3-8ee8a45d6f9e\", [{\"type\": \"bar\", \"x\": [\"2018-01-01\", \"2018-01-02\", \"2018-01-03\", \"2018-01-04\", \"2018-01-05\", \"2018-01-06\", \"2018-01-07\", \"2018-01-08\", \"2018-01-09\", \"2018-01-10\", \"2018-01-11\", \"2018-01-12\", \"2018-01-13\", \"2018-01-14\", \"2018-01-15\", \"2018-01-16\", \"2018-01-17\", \"2018-01-18\", \"2018-01-19\", \"2018-01-20\", \"2018-01-21\", \"2018-01-22\", \"2018-01-23\", \"2018-01-24\", \"2018-01-25\", \"2018-01-26\", \"2018-01-27\", \"2018-01-28\", \"2018-01-29\", \"2018-01-30\", \"2018-01-31\", \"2018-02-01\", \"2018-02-02\", \"2018-02-03\", \"2018-02-04\", \"2018-02-05\", \"2018-02-06\", \"2018-02-07\", \"2018-02-08\", \"2018-02-09\", \"2018-02-10\", \"2018-02-11\", \"2018-02-12\", \"2018-02-13\", \"2018-02-14\", \"2018-02-15\", \"2018-02-16\", \"2018-02-17\", \"2018-02-18\", \"2018-02-19\", \"2018-02-20\", \"2018-02-21\", \"2018-02-22\", \"2018-02-23\", \"2018-02-24\", \"2018-02-25\", \"2018-02-26\", \"2018-02-27\", \"2018-02-28\", \"2018-03-01\", \"2018-03-02\", \"2018-03-03\", \"2018-03-04\", \"2018-03-05\", \"2018-03-06\", \"2018-03-07\", \"2018-03-08\", \"2018-03-09\", \"2018-03-10\", \"2018-03-11\", \"2018-03-12\", \"2018-03-13\", \"2018-03-14\", \"2018-03-15\", \"2018-03-16\", \"2018-03-17\", \"2018-03-18\", \"2018-03-19\", \"2018-03-20\", \"2018-03-21\", \"2018-03-22\", \"2018-03-23\", \"2018-03-24\", \"2018-03-25\", \"2018-03-26\", \"2018-03-27\", \"2018-03-28\", \"2018-03-29\", \"2018-03-30\", \"2018-03-31\", \"2018-04-01\", \"2018-04-02\", \"2018-04-03\", \"2018-04-04\", \"2018-04-05\", \"2018-04-06\", \"2018-04-07\", \"2018-04-08\", \"2018-04-09\", \"2018-04-10\", \"2018-04-11\", \"2018-04-12\", \"2018-04-13\", \"2018-04-14\", \"2018-04-15\", \"2018-04-16\", \"2018-04-17\", \"2018-04-18\", \"2018-04-19\", \"2018-04-20\", \"2018-04-21\", \"2018-04-22\", \"2018-04-23\", \"2018-04-24\", \"2018-04-25\", \"2018-04-26\", \"2018-04-27\", \"2018-04-28\", \"2018-04-29\", \"2018-04-30\", \"2018-05-01\", \"2018-05-02\", \"2018-05-03\", \"2018-05-04\", \"2018-05-05\", \"2018-05-06\", \"2018-05-07\", \"2018-05-08\", \"2018-05-09\", \"2018-05-10\", \"2018-05-11\", \"2018-05-12\", \"2018-05-13\", \"2018-05-14\", \"2018-05-15\", \"2018-05-16\", \"2018-05-17\", \"2018-05-18\"], \"y\": [118.0, 2.0, 0.0, 1.0, 2.0, 0.0, 0.0, 0.0, 0.0, 1.0, 0.0, 0.0, 0.0, 0.0, 0.0, 1.0, 0.0, 0.0, 0.0, 0.0, 0.0, 0.0, 0.0, 0.0, 0.0, 0.0, 0.0, 0.0, 0.0, 0.0, 0.0, 0.0, 0.0, 0.0, 0.0, 0.0, 0.0, 0.0, 0.0, 0.0, 0.0, 0.0, 0.0, 0.0, 0.0, 0.0, 0.0, 0.0, 0.0, 1.0, 1.0, 0.0, 0.0, 0.0, 0.0, 0.0, 0.0, 0.0, 0.0, 0.0, 0.0, 1.0, 1.0, 0.0, 0.0, 0.0, 1.0, 0.0, 0.0, 0.0, 1.0, 1.0, 0.0, 0.0, 0.0, 0.0, 0.0, 10.0, 10.0, 4.0, 2.0, 6.0, 2.0, 3.0, 4.0, 0.0, 0.0, 3.0, 3.0, 1.0, 6.0, 2.0, 6.0, 6.0, 7.0, 7.0, 4.0, 3.0, 8.0, 5.0, 6.0, 7.0, 8.0, 6.0, 2.0, 8.0, 11.0, 7.0, 7.0, 10.0, 6.0, 2.0, 5.0, 14.0, 7.0, 5.0, 8.0, 10.0, 9.0, 2.0, 3.0, 3.0, 2.0, 11.0, 7.0, 3.0, 7.0, 2.0, 2.0, 5.0, 7.0, 3.0, 7.0, 12.0, 4.0, 4.0, 5.0, 5.0], \"text\": [118.0, 2.0, 0.0, 1.0, 2.0, 0.0, 0.0, 0.0, 0.0, 1.0, 0.0, 0.0, 0.0, 0.0, 0.0, 1.0, 0.0, 0.0, 0.0, 0.0, 0.0, 0.0, 0.0, 0.0, 0.0, 0.0, 0.0, 0.0, 0.0, 0.0, 0.0, 0.0, 0.0, 0.0, 0.0, 0.0, 0.0, 0.0, 0.0, 0.0, 0.0, 0.0, 0.0, 0.0, 0.0, 0.0, 0.0, 0.0, 0.0, 1.0, 1.0, 0.0, 0.0, 0.0, 0.0, 0.0, 0.0, 0.0, 0.0, 0.0, 0.0, 1.0, 1.0, 0.0, 0.0, 0.0, 1.0, 0.0, 0.0, 0.0, 1.0, 1.0, 0.0, 0.0, 0.0, 0.0, 0.0, 10.0, 10.0, 4.0, 2.0, 6.0, 2.0, 3.0, 4.0, 0.0, 0.0, 3.0, 3.0, 1.0, 6.0, 2.0, 6.0, 6.0, 7.0, 7.0, 4.0, 3.0, 8.0, 5.0, 6.0, 7.0, 8.0, 6.0, 2.0, 8.0, 11.0, 7.0, 7.0, 10.0, 6.0, 2.0, 5.0, 14.0, 7.0, 5.0, 8.0, 10.0, 9.0, 2.0, 3.0, 3.0, 2.0, 11.0, 7.0, 3.0, 7.0, 2.0, 2.0, 5.0, 7.0, 3.0, 7.0, 12.0, 4.0, 4.0, 5.0, 5.0], \"textposition\": \"outside\"}], {\"title\": \"\\u9500\\u91cf\\u8d8b\\u52bf\\u56fe<br>\\u603b\\u6570:337\", \"titlefont\": {\"color\": \"#000000\", \"size\": 25}, \"height\": 1200, \"width\": 1600, \"bargap\": 0.1, \"xaxis\": {\"type\": \"date\", \"ticks\": \"outside\", \"showticklabels\": true, \"ticktext\": [\"01-01\", \"01-02\", \"01-03\", \"01-04\", \"01-05\", \"01-06\", \"01-07\", \"01-08\", \"01-09\", \"01-10\", \"01-11\", \"01-12\", \"01-13\", \"01-14\", \"01-15\", \"01-16\", \"01-17\", \"01-18\", \"01-19\", \"01-20\", \"01-21\", \"01-22\", \"01-23\", \"01-24\", \"01-25\", \"01-26\", \"01-27\", \"01-28\", \"01-29\", \"01-30\", \"01-31\", \"02-01\", \"02-02\", \"02-03\", \"02-04\", \"02-05\", \"02-06\", \"02-07\", \"02-08\", \"02-09\", \"02-10\", \"02-11\", \"02-12\", \"02-13\", \"02-14\", \"02-15\", \"02-16\", \"02-17\", \"02-18\", \"02-19\", \"02-20\", \"02-21\", \"02-22\", \"02-23\", \"02-24\", \"02-25\", \"02-26\", \"02-27\", \"02-28\", \"03-01\", \"03-02\", \"03-03\", \"03-04\", \"03-05\", \"03-06\", \"03-07\", \"03-08\", \"03-09\", \"03-10\", \"03-11\", \"03-12\", \"03-13\", \"03-14\", \"03-15\", \"03-16\", \"03-17\", \"03-18\", \"03-19\", \"03-20\", \"03-21\", \"03-22\", \"03-23\", \"03-24\", \"03-25\", \"03-26\", \"03-27\", \"03-28\", \"03-29\", \"03-30\", \"03-31\", \"04-01\", \"04-02\", \"04-03\", \"04-04\", \"04-05\", \"04-06\", \"04-07\", \"04-08\", \"04-09\", \"04-10\", \"04-11\", \"04-12\", \"04-13\", \"04-14\", \"04-15\", \"04-16\", \"04-17\", \"04-18\", \"04-19\", \"04-20\", \"04-21\", \"04-22\", \"04-23\", \"04-24\", \"04-25\", \"04-26\", \"04-27\", \"04-28\", \"04-29\", \"04-30\", \"05-01\", \"05-02\", \"05-03\", \"05-04\", \"05-05\", \"05-06\", \"05-07\", \"05-08\", \"05-09\", \"05-10\", \"05-11\", \"05-12\", \"05-13\", \"05-14\", \"05-15\", \"05-16\", \"05-17\", \"05-18\"], \"tickvals\": [\"18-01-01\", \"18-01-02\", \"18-01-03\", \"18-01-04\", \"18-01-05\", \"18-01-06\", \"18-01-07\", \"18-01-08\", \"18-01-09\", \"18-01-10\", \"18-01-11\", \"18-01-12\", \"18-01-13\", \"18-01-14\", \"18-01-15\", \"18-01-16\", \"18-01-17\", \"18-01-18\", \"18-01-19\", \"18-01-20\", \"18-01-21\", \"18-01-22\", \"18-01-23\", \"18-01-24\", \"18-01-25\", \"18-01-26\", \"18-01-27\", \"18-01-28\", \"18-01-29\", \"18-01-30\", \"18-01-31\", \"18-02-01\", \"18-02-02\", \"18-02-03\", \"18-02-04\", \"18-02-05\", \"18-02-06\", \"18-02-07\", \"18-02-08\", \"18-02-09\", \"18-02-10\", \"18-02-11\", \"18-02-12\", \"18-02-13\", \"18-02-14\", \"18-02-15\", \"18-02-16\", \"18-02-17\", \"18-02-18\", \"18-02-19\", \"18-02-20\", \"18-02-21\", \"18-02-22\", \"18-02-23\", \"18-02-24\", \"18-02-25\", \"18-02-26\", \"18-02-27\", \"18-02-28\", \"18-03-01\", \"18-03-02\", \"18-03-03\", \"18-03-04\", \"18-03-05\", \"18-03-06\", \"18-03-07\", \"18-03-08\", \"18-03-09\", \"18-03-10\", \"18-03-11\", \"18-03-12\", \"18-03-13\", \"18-03-14\", \"18-03-15\", \"18-03-16\", \"18-03-17\", \"18-03-18\", \"18-03-19\", \"18-03-20\", \"18-03-21\", \"18-03-22\", \"18-03-23\", \"18-03-24\", \"18-03-25\", \"18-03-26\", \"18-03-27\", \"18-03-28\", \"18-03-29\", \"18-03-30\", \"18-03-31\", \"18-04-01\", \"18-04-02\", \"18-04-03\", \"18-04-04\", \"18-04-05\", \"18-04-06\", \"18-04-07\", \"18-04-08\", \"18-04-09\", \"18-04-10\", \"18-04-11\", \"18-04-12\", \"18-04-13\", \"18-04-14\", \"18-04-15\", \"18-04-16\", \"18-04-17\", \"18-04-18\", \"18-04-19\", \"18-04-20\", \"18-04-21\", \"18-04-22\", \"18-04-23\", \"18-04-24\", \"18-04-25\", \"18-04-26\", \"18-04-27\", \"18-04-28\", \"18-04-29\", \"18-04-30\", \"18-05-01\", \"18-05-02\", \"18-05-03\", \"18-05-04\", \"18-05-05\", \"18-05-06\", \"18-05-07\", \"18-05-08\", \"18-05-09\", \"18-05-10\", \"18-05-11\", \"18-05-12\", \"18-05-13\", \"18-05-14\", \"18-05-15\", \"18-05-16\", \"18-05-17\", \"18-05-18\"], \"tickfont\": {\"size\": 11}, \"ticklen\": 10, \"showgrid\": true}, \"yaxis\": {\"ticklen\": 10}, \"legend\": {\"x\": 0.1, \"font\": {\"size\": 16}}}, {\"showLink\": true, \"linkText\": \"Export to plot.ly\"})});</script>"
      ]
     },
     "metadata": {},
     "output_type": "display_data"
    }
   ],
   "source": [
    "layout = go.Layout(\n",
    "    title='销量趋势图<br>总数:' + str(imeis),\n",
    "    titlefont=dict(color=title_color,size=25),\n",
    "    height=1200,\n",
    "    width=1600,\n",
    "    bargap=0.1,\n",
    "    xaxis = bandxaxis,\n",
    "    yaxis = dict(ticklen=10),\n",
    "    #bargroupgap=0.05,\n",
    "    #paper_bgcolor=paper_bgcolor,\n",
    "    #plot_bgcolor=plot_bgcolor,\n",
    "    legend=dict(\n",
    "        x=0.1,\n",
    "        font=dict(size=16),\n",
    "    )\n",
    ")\n",
    "\n",
    "fig = go.Figure(data=data,layout=layout)\n",
    "py.iplot(fig)"
   ]
  },
  {
   "cell_type": "code",
   "execution_count": 35,
   "metadata": {
    "ExecuteTime": {
     "end_time": "2018-05-18T06:49:51.615560Z",
     "start_time": "2018-05-18T06:49:51.571116Z"
    }
   },
   "outputs": [
    {
     "data": {
      "application/vnd.plotly.v1+json": {
       "data": [
        {
         "type": "scatter",
         "x": [
          0,
          0.5,
          1,
          2,
          2.2
         ],
         "y": [
          1.23,
          2.5,
          0.42,
          3,
          1
         ]
        }
       ],
       "layout": {
        "images": [
         {
          "sizex": 0.1,
          "sizey": 0.1,
          "source": "https://lh3.googleusercontent.com/ZZPdzvlpK9r_Df9C3M7j1rNRi7hhHRvPhlklJ3lfi5jk86Jd1s0Y5wcQ1QgbVaAP5Q=s360-rw",
          "x": 0,
          "xanchor": "right",
          "xref": "paper",
          "y": 1,
          "yanchor": "top",
          "yref": "paper"
         },
         {
          "sizex": 1,
          "sizey": 1,
          "source": "https://lh3.googleusercontent.com/ZZPdzvlpK9r_Df9C3M7j1rNRi7hhHRvPhlklJ3lfi5jk86Jd1s0Y5wcQ1QgbVaAP5Q=s360-rw",
          "x": 1.5,
          "xanchor": "right",
          "xref": "x",
          "y": 2,
          "yanchor": "bottom",
          "yref": "y"
         },
         {
          "layer": "below",
          "opacity": 0.4,
          "sizex": 0.3,
          "sizey": 0.5,
          "sizing": "stretch",
          "source": "https://lh3.googleusercontent.com/ZZPdzvlpK9r_Df9C3M7j1rNRi7hhHRvPhlklJ3lfi5jk86Jd1s0Y5wcQ1QgbVaAP5Q=s360-rw",
          "x": 2,
          "xref": "x",
          "y": 1,
          "yref": "y"
         },
         {
          "opacity": 1,
          "sizex": 0.5,
          "sizey": 1,
          "source": "https://lh3.googleusercontent.com/ZZPdzvlpK9r_Df9C3M7j1rNRi7hhHRvPhlklJ3lfi5jk86Jd1s0Y5wcQ1QgbVaAP5Q=s360-rw",
          "x": 3,
          "xanchor": "right",
          "xref": "x",
          "y": 0,
          "yanchor": "middle",
          "yref": "paper"
         }
        ]
       }
      },
      "text/html": [
       "<div id=\"4ade9f12-b14e-40be-90aa-966da8c5cae9\" style=\"height: 525px; width: 100%;\" class=\"plotly-graph-div\"></div><script type=\"text/javascript\">require([\"plotly\"], function(Plotly) { window.PLOTLYENV=window.PLOTLYENV || {};window.PLOTLYENV.BASE_URL=\"https://plot.ly\";Plotly.newPlot(\"4ade9f12-b14e-40be-90aa-966da8c5cae9\", [{\"type\": \"scatter\", \"x\": [0, 0.5, 1, 2, 2.2], \"y\": [1.23, 2.5, 0.42, 3, 1]}], {\"images\": [{\"source\": \"https://lh3.googleusercontent.com/ZZPdzvlpK9r_Df9C3M7j1rNRi7hhHRvPhlklJ3lfi5jk86Jd1s0Y5wcQ1QgbVaAP5Q=s360-rw\", \"xref\": \"paper\", \"yref\": \"paper\", \"x\": 0, \"y\": 1, \"sizex\": 0.1, \"sizey\": 0.1, \"xanchor\": \"right\", \"yanchor\": \"top\"}, {\"source\": \"https://lh3.googleusercontent.com/ZZPdzvlpK9r_Df9C3M7j1rNRi7hhHRvPhlklJ3lfi5jk86Jd1s0Y5wcQ1QgbVaAP5Q=s360-rw\", \"xref\": \"x\", \"yref\": \"y\", \"x\": 1.5, \"y\": 2, \"sizex\": 1, \"sizey\": 1, \"xanchor\": \"right\", \"yanchor\": \"bottom\"}, {\"source\": \"https://lh3.googleusercontent.com/ZZPdzvlpK9r_Df9C3M7j1rNRi7hhHRvPhlklJ3lfi5jk86Jd1s0Y5wcQ1QgbVaAP5Q=s360-rw\", \"xref\": \"x\", \"yref\": \"y\", \"x\": 2, \"y\": 1, \"sizex\": 0.3, \"sizey\": 0.5, \"sizing\": \"stretch\", \"opacity\": 0.4, \"layer\": \"below\"}, {\"source\": \"https://lh3.googleusercontent.com/ZZPdzvlpK9r_Df9C3M7j1rNRi7hhHRvPhlklJ3lfi5jk86Jd1s0Y5wcQ1QgbVaAP5Q=s360-rw\", \"xref\": \"x\", \"yref\": \"paper\", \"x\": 3, \"y\": 0, \"sizex\": 0.5, \"sizey\": 1, \"opacity\": 1, \"xanchor\": \"right\", \"yanchor\": \"middle\"}]}, {\"showLink\": true, \"linkText\": \"Export to plot.ly\"})});</script>"
      ],
      "text/vnd.plotly.v1+html": [
       "<div id=\"4ade9f12-b14e-40be-90aa-966da8c5cae9\" style=\"height: 525px; width: 100%;\" class=\"plotly-graph-div\"></div><script type=\"text/javascript\">require([\"plotly\"], function(Plotly) { window.PLOTLYENV=window.PLOTLYENV || {};window.PLOTLYENV.BASE_URL=\"https://plot.ly\";Plotly.newPlot(\"4ade9f12-b14e-40be-90aa-966da8c5cae9\", [{\"type\": \"scatter\", \"x\": [0, 0.5, 1, 2, 2.2], \"y\": [1.23, 2.5, 0.42, 3, 1]}], {\"images\": [{\"source\": \"https://lh3.googleusercontent.com/ZZPdzvlpK9r_Df9C3M7j1rNRi7hhHRvPhlklJ3lfi5jk86Jd1s0Y5wcQ1QgbVaAP5Q=s360-rw\", \"xref\": \"paper\", \"yref\": \"paper\", \"x\": 0, \"y\": 1, \"sizex\": 0.1, \"sizey\": 0.1, \"xanchor\": \"right\", \"yanchor\": \"top\"}, {\"source\": \"https://lh3.googleusercontent.com/ZZPdzvlpK9r_Df9C3M7j1rNRi7hhHRvPhlklJ3lfi5jk86Jd1s0Y5wcQ1QgbVaAP5Q=s360-rw\", \"xref\": \"x\", \"yref\": \"y\", \"x\": 1.5, \"y\": 2, \"sizex\": 1, \"sizey\": 1, \"xanchor\": \"right\", \"yanchor\": \"bottom\"}, {\"source\": \"https://lh3.googleusercontent.com/ZZPdzvlpK9r_Df9C3M7j1rNRi7hhHRvPhlklJ3lfi5jk86Jd1s0Y5wcQ1QgbVaAP5Q=s360-rw\", \"xref\": \"x\", \"yref\": \"y\", \"x\": 2, \"y\": 1, \"sizex\": 0.3, \"sizey\": 0.5, \"sizing\": \"stretch\", \"opacity\": 0.4, \"layer\": \"below\"}, {\"source\": \"https://lh3.googleusercontent.com/ZZPdzvlpK9r_Df9C3M7j1rNRi7hhHRvPhlklJ3lfi5jk86Jd1s0Y5wcQ1QgbVaAP5Q=s360-rw\", \"xref\": \"x\", \"yref\": \"paper\", \"x\": 3, \"y\": 0, \"sizex\": 0.5, \"sizey\": 1, \"opacity\": 1, \"xanchor\": \"right\", \"yanchor\": \"middle\"}]}, {\"showLink\": true, \"linkText\": \"Export to plot.ly\"})});</script>"
      ]
     },
     "metadata": {},
     "output_type": "display_data"
    }
   ],
   "source": [
    "trace1= go.Scatter(x=[0,0.5,1,2,2.2],y=[1.23,2.5,0.42,3,1])\n",
    "layout= go.Layout(images= [dict(\n",
    "        source= \"https://lh3.googleusercontent.com/ZZPdzvlpK9r_Df9C3M7j1rNRi7hhHRvPhlklJ3lfi5jk86Jd1s0Y5wcQ1QgbVaAP5Q=s360-rw\",\n",
    "        xref= \"paper\",\n",
    "        yref= \"paper\",\n",
    "        x= 0,\n",
    "        y= 1,\n",
    "        sizex= 0.1,\n",
    "        sizey= 0.1,\n",
    "        xanchor= \"right\",\n",
    "        yanchor= \"top\"\n",
    "      ),dict(\n",
    "        source= \"https://lh3.googleusercontent.com/ZZPdzvlpK9r_Df9C3M7j1rNRi7hhHRvPhlklJ3lfi5jk86Jd1s0Y5wcQ1QgbVaAP5Q=s360-rw\",\n",
    "        xref=\"x\",\n",
    "        yref= \"y\",\n",
    "        x= 1.5,\n",
    "        y= 2,\n",
    "        sizex= 1,\n",
    "        sizey= 1,\n",
    "        xanchor= \"right\",\n",
    "        yanchor= \"bottom\"\n",
    "      ),\n",
    "      dict(\n",
    "        source= \"https://lh3.googleusercontent.com/ZZPdzvlpK9r_Df9C3M7j1rNRi7hhHRvPhlklJ3lfi5jk86Jd1s0Y5wcQ1QgbVaAP5Q=s360-rw\",\n",
    "        xref= \"x\",\n",
    "        yref= \"y\",\n",
    "        x= 2,\n",
    "        y= 1,\n",
    "        sizex= 0.3,\n",
    "        sizey= 0.5,\n",
    "        sizing= \"stretch\",\n",
    "        opacity= 0.4,\n",
    "        layer= \"below\"\n",
    "      ),\n",
    "      dict(\n",
    "        source= \"https://lh3.googleusercontent.com/ZZPdzvlpK9r_Df9C3M7j1rNRi7hhHRvPhlklJ3lfi5jk86Jd1s0Y5wcQ1QgbVaAP5Q=s360-rw\",\n",
    "        xref= \"x\",\n",
    "        yref= \"paper\",\n",
    "        x= 3,\n",
    "        y= 0,\n",
    "        sizex= 0.5,\n",
    "        sizey= 1,\n",
    "        opacity= 1,\n",
    "        xanchor= \"right\",\n",
    "        yanchor=\"middle\"\n",
    "      )])\n",
    "fig=go.Figure(data=[trace1],layout=layout)\n",
    "py.iplot(fig)"
   ]
  },
  {
   "cell_type": "code",
   "execution_count": null,
   "metadata": {
    "collapsed": true
   },
   "outputs": [],
   "source": []
  }
 ],
 "metadata": {
  "kernelspec": {
   "display_name": "Python 3",
   "language": "python",
   "name": "python3"
  },
  "language_info": {
   "codemirror_mode": {
    "name": "ipython",
    "version": 3
   },
   "file_extension": ".py",
   "mimetype": "text/x-python",
   "name": "python",
   "nbconvert_exporter": "python",
   "pygments_lexer": "ipython3",
   "version": "3.6.2"
  }
 },
 "nbformat": 4,
 "nbformat_minor": 2
}
