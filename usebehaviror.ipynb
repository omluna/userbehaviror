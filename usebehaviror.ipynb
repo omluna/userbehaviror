{
 "cells": [
  {
   "cell_type": "code",
   "execution_count": 1,
   "metadata": {
    "ExecuteTime": {
     "end_time": "2018-05-16T05:54:45.870730Z",
     "start_time": "2018-05-16T05:54:43.776145Z"
    }
   },
   "outputs": [
    {
     "data": {
      "text/html": [
       "<script>requirejs.config({paths: { 'plotly': ['https://cdn.plot.ly/plotly-latest.min']},});if(!window.Plotly) {{require(['plotly'],function(plotly) {window.Plotly=plotly;});}}</script>"
      ],
      "text/vnd.plotly.v1+html": [
       "<script>requirejs.config({paths: { 'plotly': ['https://cdn.plot.ly/plotly-latest.min']},});if(!window.Plotly) {{require(['plotly'],function(plotly) {window.Plotly=plotly;});}}</script>"
      ]
     },
     "metadata": {},
     "output_type": "display_data"
    }
   ],
   "source": [
    "import sys\n",
    "import pprint\n",
    "import datetime\n",
    "from tlslite.utils import keyfactory\n",
    "import pymongo\n",
    "import pprint\n",
    "import math\n",
    "import pandas as pd\n",
    "import numpy as np\n",
    "from plotly import tools\n",
    "import plotly.graph_objs as go\n",
    "import plotly.offline as py\n",
    "import os\n",
    "\n",
    "py.init_notebook_mode(connected=True)"
   ]
  },
  {
   "cell_type": "code",
   "execution_count": 3,
   "metadata": {
    "ExecuteTime": {
     "end_time": "2018-05-16T05:56:23.159501Z",
     "start_time": "2018-05-16T05:56:06.133372Z"
    }
   },
   "outputs": [
    {
     "data": {
      "text/plain": [
       "272828"
      ]
     },
     "execution_count": 3,
     "metadata": {},
     "output_type": "execute_result"
    }
   ],
   "source": [
    "client = pymongo.MongoClient('18.8.8.119')\n",
    "cydb = client.cy_useract\n",
    "\n",
    "issues = pd.DataFrame(list(cydb.useract_info.find()))\n",
    "del issues['_id']\n",
    "len(issues)\n",
    "valid_data = issues.loc[issues['IMEI'].apply(lambda x:len(x.split(';')) == 2)]"
   ]
  },
  {
   "cell_type": "code",
   "execution_count": 69,
   "metadata": {
    "ExecuteTime": {
     "end_time": "2018-05-16T07:39:31.890891Z",
     "start_time": "2018-05-16T07:39:31.854932Z"
    },
    "collapsed": true
   },
   "outputs": [],
   "source": [
    "client = pymongo.MongoClient('18.8.8.209')\n",
    "cydb = client.cy\n",
    "\n",
    "topapps = pd.DataFrame(list(cydb.topapps.find(projection={'name': 1, 'package_name':1})))\n",
    "del topapps['_id']\n",
    "\n",
    "cy_packages = pd.DataFrame(list(cydb.cy_packages.find()))\n",
    "del cy_packages['_id']"
   ]
  },
  {
   "cell_type": "code",
   "execution_count": 78,
   "metadata": {
    "ExecuteTime": {
     "end_time": "2018-05-16T07:42:10.927661Z",
     "start_time": "2018-05-16T07:42:10.923227Z"
    }
   },
   "outputs": [],
   "source": [
    "#获取包对应的应用名\n",
    "total_apps = topapps.append(cy_packages)\n",
    "total_apps_names = total_apps.set_index('package_name').to_dict()['name']"
   ]
  },
  {
   "cell_type": "code",
   "execution_count": 17,
   "metadata": {
    "ExecuteTime": {
     "end_time": "2018-05-16T06:11:13.750019Z",
     "start_time": "2018-05-16T06:11:13.746671Z"
    }
   },
   "outputs": [],
   "source": [
    "#获取3月，4月的数据\n",
    "d318 = datetime.datetime(2018, 3, 18).timestamp()\n",
    "d418 = datetime.datetime(2018, 4, 18).timestamp()\n",
    "d518 = datetime.datetime(2018, 5, 18).timestamp()\n",
    "\n",
    "df318 = valid_data[(valid_data['wallTime'] >= d318) & (valid_data['wallTime'] < d418)]\n",
    "df418 = valid_data[(valid_data['wallTime'] >= d418) & (valid_data['wallTime'] < d518)]"
   ]
  },
  {
   "cell_type": "code",
   "execution_count": 239,
   "metadata": {
    "ExecuteTime": {
     "end_time": "2018-05-17T06:36:38.833663Z",
     "start_time": "2018-05-17T06:36:38.780484Z"
    },
    "collapsed": true
   },
   "outputs": [],
   "source": [
    "imeis = len(df418['IMEI'].unique())"
   ]
  },
  {
   "cell_type": "code",
   "execution_count": 154,
   "metadata": {
    "ExecuteTime": {
     "end_time": "2018-05-16T09:46:11.200745Z",
     "start_time": "2018-05-16T09:46:11.063402Z"
    },
    "collapsed": true
   },
   "outputs": [],
   "source": [
    "total_appclick418 = df418[df418.name == 'appclick']\n",
    "total_appclick318 = df318[df318.name == 'appclick']\n",
    "\n",
    "appclick418 = total_appclick418.groupby(['attrs_packagename']).size().sort_values().truediv(len(total_appclick418))\n",
    "appclick318 = total_appclick318.groupby(['attrs_packagename']).size().sort_values().truediv(len(total_appclick318))"
   ]
  },
  {
   "cell_type": "code",
   "execution_count": null,
   "metadata": {
    "collapsed": true
   },
   "outputs": [],
   "source": [
    "top30_click = appclick418[-30:]\n",
    "others = 1 - top30_click.sum()\n",
    "top31_click = top30_click.append(pd.Series({'Others':others})).sort_values()"
   ]
  },
  {
   "cell_type": "code",
   "execution_count": 170,
   "metadata": {
    "ExecuteTime": {
     "end_time": "2018-05-16T09:58:43.517471Z",
     "start_time": "2018-05-16T09:58:43.510124Z"
    }
   },
   "outputs": [],
   "source": [
    "appclick_diff = appclick418.sub(appclick318, fill_value=0)[list(top30_click.index)]"
   ]
  },
  {
   "cell_type": "code",
   "execution_count": 211,
   "metadata": {
    "ExecuteTime": {
     "end_time": "2018-05-17T05:50:18.821804Z",
     "start_time": "2018-05-17T05:50:18.798461Z"
    },
    "collapsed": true
   },
   "outputs": [],
   "source": [
    "package_name_diff = list(appclick_diff.index)\n",
    "package_name_diff.reverse()\n",
    "\n",
    "app_name_diff = []\n",
    "for package in package_name_diff:\n",
    "    if package in total_apps_names.keys():\n",
    "        app_name_diff.append(total_apps_names[package])\n",
    "    else:\n",
    "        app_name_diff.append(package)"
   ]
  },
  {
   "cell_type": "code",
   "execution_count": 212,
   "metadata": {
    "ExecuteTime": {
     "end_time": "2018-05-17T05:50:19.981487Z",
     "start_time": "2018-05-17T05:50:19.976552Z"
    }
   },
   "outputs": [],
   "source": [
    "value_diff = list(appclick_diff.values)\n",
    "value_diff.reverse()"
   ]
  },
  {
   "cell_type": "code",
   "execution_count": 225,
   "metadata": {
    "ExecuteTime": {
     "end_time": "2018-05-17T05:53:50.931987Z",
     "start_time": "2018-05-17T05:53:50.925615Z"
    }
   },
   "outputs": [],
   "source": [
    "packages_name = []\n",
    "package_list = list(total_apps['package_name'])\n",
    "for package in top31_click.index:\n",
    "    if package in total_apps_names.keys():\n",
    "        packages_name.append(total_apps_names[package])\n",
    "    else:\n",
    "        packages_name.append(package)"
   ]
  },
  {
   "cell_type": "code",
   "execution_count": 240,
   "metadata": {
    "ExecuteTime": {
     "end_time": "2018-05-17T06:37:01.363777Z",
     "start_time": "2018-05-17T06:37:01.347998Z"
    }
   },
   "outputs": [
    {
     "data": {
      "application/vnd.plotly.v1+json": {
       "data": [
        {
         "orientation": "h",
         "text": [
          "0.37%",
          "0.38%",
          "0.38%",
          "0.41%",
          "0.45%",
          "0.45%",
          "0.45%",
          "0.47%",
          "0.55%",
          "0.57%",
          "0.70%",
          "0.87%",
          "0.95%",
          "1.04%",
          "1.16%",
          "1.23%",
          "1.28%",
          "1.46%",
          "1.72%",
          "1.80%",
          "1.98%",
          "1.99%",
          "2.90%",
          "2.93%",
          "3.38%",
          "5.12%",
          "8.14%",
          "10.45%",
          "13.19%",
          "13.50%",
          "19.71%"
         ],
         "textposition": "outside",
         "type": "bar",
         "x": [
          0.0036796020578515214,
          0.003788627304010085,
          0.0038158836155497257,
          0.0041429593540254165,
          0.004504105481925659,
          0.004510919559810569,
          0.004531361793465299,
          0.004749412285782426,
          0.005546659398316923,
          0.005730639501209498,
          0.007025314299342442,
          0.008701577459030357,
          0.009532894960989404,
          0.010357398385063542,
          0.01156349017069265,
          0.012319852815917687,
          0.012824094579401042,
          0.014636639296787162,
          0.01724643112670778,
          0.018016421927702635,
          0.019822152567203842,
          0.019910735579707677,
          0.028973459166638276,
          0.029252836359919595,
          0.033784198153384896,
          0.05115328268202105,
          0.08144867295833191,
          0.10448025620932848,
          0.13190010561820723,
          0.13499369697795638,
          0.19705631835371878
         ],
         "y": [
          "Twitter",
          "CY Change",
          "com.google.android.music",
          "com.google.android.googlequicksearchbox",
          "CY Flashlight",
          "CY Desk Clock",
          "com.careem.adma",
          "CY System manager",
          "com.nemo.vidmate",
          "CY Calculator",
          "Android Browser",
          "com.android.chrome",
          "com.tencent.mm",
          "SoundCloud - Music & Audio",
          "CY Video",
          "com.lenovo.anyshare.gps",
          "Facebook Lite",
          "CY Music",
          "Instagram",
          "com.android.vending",
          "com.google.android.youtube",
          "CY File manager",
          "Android MMS",
          "CY Camera",
          "CY Settings",
          "CY Gallery",
          "Messenger – Text and Video Chat for Free",
          "Facebook",
          "WhatsApp Messenger",
          "Others",
          "CY Contacts"
         ]
        },
        {
         "cells": {
          "align": [
           "left",
           "left"
          ],
          "fill": {
           "color": [
            "#68a4b9",
            "#526372"
           ]
          },
          "font": {
           "color": [
            "#FFFFFF",
            "#FFFFFF"
           ],
           "size": 12
          },
          "height": 25,
          "line": {
           "color": "#000000"
          },
          "values": [
           [
            "CY Contacts",
            "WhatsApp Messenger",
            "Facebook",
            "Messenger – Text and Video Chat for Free",
            "CY Gallery",
            "CY Settings",
            "CY Camera",
            "Android MMS",
            "CY File manager",
            "com.google.android.youtube",
            "com.android.vending",
            "Instagram",
            "CY Music",
            "Facebook Lite",
            "com.lenovo.anyshare.gps",
            "CY Video",
            "SoundCloud - Music & Audio",
            "com.tencent.mm",
            "com.android.chrome",
            "Android Browser",
            "CY Calculator",
            "com.nemo.vidmate",
            "CY System manager",
            "com.careem.adma",
            "CY Desk Clock",
            "CY Flashlight",
            "com.google.android.googlequicksearchbox",
            "com.google.android.music",
            "CY Change",
            "Twitter"
           ],
           [
            "-0.80%",
            "4.96%",
            "2.69%",
            "3.87%",
            "0.25%",
            "-4.12%",
            "-1.27%",
            "-0.88%",
            "-1.62%",
            "0.27%",
            "-0.95%",
            "0.45%",
            "-0.89%",
            "0.93%",
            "0.02%",
            "-0.35%",
            "0.50%",
            "-0.52%",
            "0.09%",
            "-0.45%",
            "-0.08%",
            "0.15%",
            "-0.51%",
            "-0.16%",
            "-0.32%",
            "-0.11%",
            "-0.05%",
            "0.09%",
            "-0.44%",
            "0.25%"
           ]
          ]
         },
         "columnorder": [
          0,
          1
         ],
         "columnwidth": [
          52,
          52
         ],
         "domain": {
          "x": [
           0.45,
           0.9
          ],
          "y": [
           0,
           0.8
          ]
         },
         "header": {
          "align": [
           "left",
           "left"
          ],
          "fill": {
           "color": "#2d5b6c"
          },
          "font": {
           "color": [
            "#FFFFFF",
            "#FFFFFF"
           ],
           "size": 14
          },
          "height": 25,
          "line": {
           "color": "#000000"
          },
          "values": [
           [
            "<b>名称</b>"
           ],
           [
            "<b>与上月同比</b>"
           ]
          ]
         },
         "type": "table"
        }
       ],
       "layout": {
        "height": 1200,
        "margin": {
         "l": 300,
         "r": 0
        },
        "title": "点击次数排行榜<br>总点击数:146755  设备数:325",
        "width": 1300,
        "yaxis": {
         "ticklen": 2
        }
       }
      },
      "text/html": [
       "<div id=\"646e91e9-ccc9-40d0-b131-ed7225af7106\" style=\"height: 1200px; width: 1300px;\" class=\"plotly-graph-div\"></div><script type=\"text/javascript\">require([\"plotly\"], function(Plotly) { window.PLOTLYENV=window.PLOTLYENV || {};window.PLOTLYENV.BASE_URL=\"https://plot.ly\";Plotly.newPlot(\"646e91e9-ccc9-40d0-b131-ed7225af7106\", [{\"type\": \"bar\", \"y\": [\"Twitter\", \"CY Change\", \"com.google.android.music\", \"com.google.android.googlequicksearchbox\", \"CY Flashlight\", \"CY Desk Clock\", \"com.careem.adma\", \"CY System manager\", \"com.nemo.vidmate\", \"CY Calculator\", \"Android Browser\", \"com.android.chrome\", \"com.tencent.mm\", \"SoundCloud - Music & Audio\", \"CY Video\", \"com.lenovo.anyshare.gps\", \"Facebook Lite\", \"CY Music\", \"Instagram\", \"com.android.vending\", \"com.google.android.youtube\", \"CY File manager\", \"Android MMS\", \"CY Camera\", \"CY Settings\", \"CY Gallery\", \"Messenger \\u2013 Text and Video Chat for Free\", \"Facebook\", \"WhatsApp Messenger\", \"Others\", \"CY Contacts\"], \"x\": [0.0036796020578515214, 0.003788627304010085, 0.0038158836155497257, 0.0041429593540254165, 0.004504105481925659, 0.004510919559810569, 0.004531361793465299, 0.004749412285782426, 0.005546659398316923, 0.005730639501209498, 0.007025314299342442, 0.008701577459030357, 0.009532894960989404, 0.010357398385063542, 0.01156349017069265, 0.012319852815917687, 0.012824094579401042, 0.014636639296787162, 0.01724643112670778, 0.018016421927702635, 0.019822152567203842, 0.019910735579707677, 0.028973459166638276, 0.029252836359919595, 0.033784198153384896, 0.05115328268202105, 0.08144867295833191, 0.10448025620932848, 0.13190010561820723, 0.13499369697795638, 0.19705631835371878], \"orientation\": \"h\", \"text\": [\"0.37%\", \"0.38%\", \"0.38%\", \"0.41%\", \"0.45%\", \"0.45%\", \"0.45%\", \"0.47%\", \"0.55%\", \"0.57%\", \"0.70%\", \"0.87%\", \"0.95%\", \"1.04%\", \"1.16%\", \"1.23%\", \"1.28%\", \"1.46%\", \"1.72%\", \"1.80%\", \"1.98%\", \"1.99%\", \"2.90%\", \"2.93%\", \"3.38%\", \"5.12%\", \"8.14%\", \"10.45%\", \"13.19%\", \"13.50%\", \"19.71%\"], \"textposition\": \"outside\"}, {\"type\": \"table\", \"domain\": {\"x\": [0.45, 0.9], \"y\": [0, 0.8]}, \"columnwidth\": [52, 52], \"columnorder\": [0, 1], \"header\": {\"height\": 25, \"values\": [[\"<b>\\u540d\\u79f0</b>\"], [\"<b>\\u4e0e\\u4e0a\\u6708\\u540c\\u6bd4</b>\"]], \"line\": {\"color\": \"#000000\"}, \"align\": [\"left\", \"left\"], \"font\": {\"color\": [\"#FFFFFF\", \"#FFFFFF\"], \"size\": 14}, \"fill\": {\"color\": \"#2d5b6c\"}}, \"cells\": {\"values\": [[\"CY Contacts\", \"WhatsApp Messenger\", \"Facebook\", \"Messenger \\u2013 Text and Video Chat for Free\", \"CY Gallery\", \"CY Settings\", \"CY Camera\", \"Android MMS\", \"CY File manager\", \"com.google.android.youtube\", \"com.android.vending\", \"Instagram\", \"CY Music\", \"Facebook Lite\", \"com.lenovo.anyshare.gps\", \"CY Video\", \"SoundCloud - Music & Audio\", \"com.tencent.mm\", \"com.android.chrome\", \"Android Browser\", \"CY Calculator\", \"com.nemo.vidmate\", \"CY System manager\", \"com.careem.adma\", \"CY Desk Clock\", \"CY Flashlight\", \"com.google.android.googlequicksearchbox\", \"com.google.android.music\", \"CY Change\", \"Twitter\"], [\"-0.80%\", \"4.96%\", \"2.69%\", \"3.87%\", \"0.25%\", \"-4.12%\", \"-1.27%\", \"-0.88%\", \"-1.62%\", \"0.27%\", \"-0.95%\", \"0.45%\", \"-0.89%\", \"0.93%\", \"0.02%\", \"-0.35%\", \"0.50%\", \"-0.52%\", \"0.09%\", \"-0.45%\", \"-0.08%\", \"0.15%\", \"-0.51%\", \"-0.16%\", \"-0.32%\", \"-0.11%\", \"-0.05%\", \"0.09%\", \"-0.44%\", \"0.25%\"]], \"line\": {\"color\": \"#000000\"}, \"align\": [\"left\", \"left\"], \"font\": {\"color\": [\"#FFFFFF\", \"#FFFFFF\"], \"size\": 12}, \"height\": 25, \"fill\": {\"color\": [\"#68a4b9\", \"#526372\"]}}}], {\"title\": \"\\u70b9\\u51fb\\u6b21\\u6570\\u6392\\u884c\\u699c<br>\\u603b\\u70b9\\u51fb\\u6570:146755  \\u8bbe\\u5907\\u6570:325\", \"height\": 1200, \"width\": 1300, \"margin\": {\"l\": 300, \"r\": 0}, \"yaxis\": {\"ticklen\": 2}}, {\"showLink\": true, \"linkText\": \"Export to plot.ly\"})});</script>"
      ],
      "text/vnd.plotly.v1+html": [
       "<div id=\"646e91e9-ccc9-40d0-b131-ed7225af7106\" style=\"height: 1200px; width: 1300px;\" class=\"plotly-graph-div\"></div><script type=\"text/javascript\">require([\"plotly\"], function(Plotly) { window.PLOTLYENV=window.PLOTLYENV || {};window.PLOTLYENV.BASE_URL=\"https://plot.ly\";Plotly.newPlot(\"646e91e9-ccc9-40d0-b131-ed7225af7106\", [{\"type\": \"bar\", \"y\": [\"Twitter\", \"CY Change\", \"com.google.android.music\", \"com.google.android.googlequicksearchbox\", \"CY Flashlight\", \"CY Desk Clock\", \"com.careem.adma\", \"CY System manager\", \"com.nemo.vidmate\", \"CY Calculator\", \"Android Browser\", \"com.android.chrome\", \"com.tencent.mm\", \"SoundCloud - Music & Audio\", \"CY Video\", \"com.lenovo.anyshare.gps\", \"Facebook Lite\", \"CY Music\", \"Instagram\", \"com.android.vending\", \"com.google.android.youtube\", \"CY File manager\", \"Android MMS\", \"CY Camera\", \"CY Settings\", \"CY Gallery\", \"Messenger \\u2013 Text and Video Chat for Free\", \"Facebook\", \"WhatsApp Messenger\", \"Others\", \"CY Contacts\"], \"x\": [0.0036796020578515214, 0.003788627304010085, 0.0038158836155497257, 0.0041429593540254165, 0.004504105481925659, 0.004510919559810569, 0.004531361793465299, 0.004749412285782426, 0.005546659398316923, 0.005730639501209498, 0.007025314299342442, 0.008701577459030357, 0.009532894960989404, 0.010357398385063542, 0.01156349017069265, 0.012319852815917687, 0.012824094579401042, 0.014636639296787162, 0.01724643112670778, 0.018016421927702635, 0.019822152567203842, 0.019910735579707677, 0.028973459166638276, 0.029252836359919595, 0.033784198153384896, 0.05115328268202105, 0.08144867295833191, 0.10448025620932848, 0.13190010561820723, 0.13499369697795638, 0.19705631835371878], \"orientation\": \"h\", \"text\": [\"0.37%\", \"0.38%\", \"0.38%\", \"0.41%\", \"0.45%\", \"0.45%\", \"0.45%\", \"0.47%\", \"0.55%\", \"0.57%\", \"0.70%\", \"0.87%\", \"0.95%\", \"1.04%\", \"1.16%\", \"1.23%\", \"1.28%\", \"1.46%\", \"1.72%\", \"1.80%\", \"1.98%\", \"1.99%\", \"2.90%\", \"2.93%\", \"3.38%\", \"5.12%\", \"8.14%\", \"10.45%\", \"13.19%\", \"13.50%\", \"19.71%\"], \"textposition\": \"outside\"}, {\"type\": \"table\", \"domain\": {\"x\": [0.45, 0.9], \"y\": [0, 0.8]}, \"columnwidth\": [52, 52], \"columnorder\": [0, 1], \"header\": {\"height\": 25, \"values\": [[\"<b>\\u540d\\u79f0</b>\"], [\"<b>\\u4e0e\\u4e0a\\u6708\\u540c\\u6bd4</b>\"]], \"line\": {\"color\": \"#000000\"}, \"align\": [\"left\", \"left\"], \"font\": {\"color\": [\"#FFFFFF\", \"#FFFFFF\"], \"size\": 14}, \"fill\": {\"color\": \"#2d5b6c\"}}, \"cells\": {\"values\": [[\"CY Contacts\", \"WhatsApp Messenger\", \"Facebook\", \"Messenger \\u2013 Text and Video Chat for Free\", \"CY Gallery\", \"CY Settings\", \"CY Camera\", \"Android MMS\", \"CY File manager\", \"com.google.android.youtube\", \"com.android.vending\", \"Instagram\", \"CY Music\", \"Facebook Lite\", \"com.lenovo.anyshare.gps\", \"CY Video\", \"SoundCloud - Music & Audio\", \"com.tencent.mm\", \"com.android.chrome\", \"Android Browser\", \"CY Calculator\", \"com.nemo.vidmate\", \"CY System manager\", \"com.careem.adma\", \"CY Desk Clock\", \"CY Flashlight\", \"com.google.android.googlequicksearchbox\", \"com.google.android.music\", \"CY Change\", \"Twitter\"], [\"-0.80%\", \"4.96%\", \"2.69%\", \"3.87%\", \"0.25%\", \"-4.12%\", \"-1.27%\", \"-0.88%\", \"-1.62%\", \"0.27%\", \"-0.95%\", \"0.45%\", \"-0.89%\", \"0.93%\", \"0.02%\", \"-0.35%\", \"0.50%\", \"-0.52%\", \"0.09%\", \"-0.45%\", \"-0.08%\", \"0.15%\", \"-0.51%\", \"-0.16%\", \"-0.32%\", \"-0.11%\", \"-0.05%\", \"0.09%\", \"-0.44%\", \"0.25%\"]], \"line\": {\"color\": \"#000000\"}, \"align\": [\"left\", \"left\"], \"font\": {\"color\": [\"#FFFFFF\", \"#FFFFFF\"], \"size\": 12}, \"height\": 25, \"fill\": {\"color\": [\"#68a4b9\", \"#526372\"]}}}], {\"title\": \"\\u70b9\\u51fb\\u6b21\\u6570\\u6392\\u884c\\u699c<br>\\u603b\\u70b9\\u51fb\\u6570:146755  \\u8bbe\\u5907\\u6570:325\", \"height\": 1200, \"width\": 1300, \"margin\": {\"l\": 300, \"r\": 0}, \"yaxis\": {\"ticklen\": 2}}, {\"showLink\": true, \"linkText\": \"Export to plot.ly\"})});</script>"
      ]
     },
     "metadata": {},
     "output_type": "display_data"
    }
   ],
   "source": [
    "bar_data = {}\n",
    "bar_data['y'] = packages_name\n",
    "bar_data['x'] = top31_click.values\n",
    "bar_data['text'] = top31_click.apply(lambda x:'{:.2f}%'.format(x*100)).values\n",
    "table_data = [app_name_diff, ['{:.2f}%'.format(x*100) for x in value_diff]]\n",
    "\n",
    "title = '点击次数排行榜<br>总点击数:{}  设备数:{}'.format(len(total_appclick418), imeis)\n",
    "draw_bar_table(bar_data, table_data, height=1200, width=1300, title=title)"
   ]
  },
  {
   "cell_type": "code",
   "execution_count": 233,
   "metadata": {
    "ExecuteTime": {
     "end_time": "2018-05-17T06:28:01.330969Z",
     "start_time": "2018-05-17T06:28:01.287595Z"
    },
    "collapsed": true
   },
   "outputs": [],
   "source": [
    "def draw_bar_table(bar_data, table_data, height, width, title):\n",
    "    table_trace = go.Table(\n",
    "        domain=dict(x=[0.45, 0.9],\n",
    "                    y=[0, 0.8]),\n",
    "        columnwidth = [52]*2,\n",
    "        columnorder=[0, 1],\n",
    "        header = dict(height = 25,\n",
    "                    values = [['<b>名称</b>'],['<b>与上月同比</b>'],],\n",
    "                    line = dict(color='#000000'),\n",
    "                    align = ['left'] * 2,\n",
    "                    font = dict(color=['#FFFFFF'] * 2, size=14),\n",
    "                    fill = dict(color='#2d5b6c')),\n",
    "        cells = dict(values = table_data,\n",
    "                    line = dict(color='#000000'),\n",
    "                    align = ['left'] * 2,\n",
    "                    font = dict(color=['#FFFFFF'] * 2, size=12),\n",
    "                    #format = [None]*4 + [',.2f'],\n",
    "                    #prefix = [None] * 2 + ['$', u'\\u20BF'],\n",
    "                    #suffix=[None] * 4,\n",
    "                    height = 25,\n",
    "                    fill = dict(color=['#68a4b9', '#526372']))\n",
    "    )\n",
    "\n",
    "    trace = go.Bar(y=bar_data['y'], x=bar_data['x'], orientation = 'h',\n",
    "                  text = bar_data['text'],textposition = 'outside',)\n",
    "\n",
    "    layout = go.Layout(\n",
    "        title=title,\n",
    "        height=height,\n",
    "        width=width,\n",
    "        margin=dict(l=300,r=0),\n",
    "        yaxis = dict(ticklen=2)\n",
    "    )\n",
    "\n",
    "    fig = go.Figure(data=[trace,table_trace],layout=layout)\n",
    "    py.iplot(fig)\n"
   ]
  },
  {
   "cell_type": "code",
   "execution_count": 275,
   "metadata": {
    "ExecuteTime": {
     "end_time": "2018-05-17T07:57:18.483900Z",
     "start_time": "2018-05-17T07:57:18.094773Z"
    }
   },
   "outputs": [],
   "source": [
    "imeis418 = len(df418['IMEI'].unique())\n",
    "click_by_phone418 = total_appclick418.groupby(['attrs_packagename']).size().sort_values().truediv(imeis418)\n",
    "click_by_phone418 = click_by_phone418.apply(lambda x: round(x,1))\n",
    "\n",
    "imeis318 = len(df318['IMEI'].unique())\n",
    "click_by_phone318 = total_appclick318.groupby(['attrs_packagename']).size().sort_values().truediv(imeis318)\n",
    "click_by_phone318 = click_by_phone318.apply(lambda x: round(x,1))\n",
    "\n",
    "def get_bar_table_data(cur_month, last_month, rate=True, need_other=True):\n",
    "    top30_click = cur_month[-30:]\n",
    "    others = cur_month.sum() - top30_click.sum()\n",
    "    \n",
    "    if need_other:\n",
    "        top31_click = top30_click.append(pd.Series({'Others':others})).sort_values()\n",
    "    else:\n",
    "        top31_click = top30_click\n",
    "    appclick_diff = cur_month.sub(last_month, fill_value=0)[list(top30_click.index)]\n",
    "\n",
    "    package_name_diff = list(appclick_diff.index)\n",
    "    package_name_diff.reverse()\n",
    "\n",
    "    app_name_diff = []\n",
    "    for package in package_name_diff:\n",
    "        if package in total_apps_names.keys():\n",
    "            app_name_diff.append(total_apps_names[package])\n",
    "        else:\n",
    "            app_name_diff.append(package)\n",
    "    \n",
    "    value_diff = list(appclick_diff.values)\n",
    "    value_diff.reverse()\n",
    "    \n",
    "    packages_name = []\n",
    "    package_list = list(total_apps['package_name'])\n",
    "    for package in top31_click.index:\n",
    "        if package in total_apps_names.keys():\n",
    "            packages_name.append(total_apps_names[package])\n",
    "        else:\n",
    "            packages_name.append(package)\n",
    "    \n",
    "    bar_data = {}\n",
    "    bar_data['y'] = packages_name\n",
    "    bar_data['x'] = top31_click.values\n",
    "    if rate:\n",
    "        bar_data['text'] = top31_click.apply(lambda x:'{:.2f}%'.format(x*100)).values\n",
    "        table_data = [app_name_diff, ['{:.2f}%'.format(x*100) for x in value_diff]]\n",
    "    else:\n",
    "        bar_data['text'] = top31_click.apply(lambda x:round(x,1)).values\n",
    "        table_data = [app_name_diff, [round(x,1) for x in value_diff]]\n",
    "    \n",
    "    \n",
    "    return bar_data, table_data\n",
    "    \n",
    "bar_data, table_data = get_bar_table_data(click_by_phone418, click_by_phone318, False)"
   ]
  },
  {
   "cell_type": "code",
   "execution_count": 260,
   "metadata": {
    "ExecuteTime": {
     "end_time": "2018-05-17T07:06:40.662820Z",
     "start_time": "2018-05-17T07:06:40.659881Z"
    },
    "collapsed": true
   },
   "outputs": [],
   "source": [
    "title='人均点击排名<br>总点击数:{}  设备数:{}'.format(len(total_appclick418), imeis418)"
   ]
  },
  {
   "cell_type": "code",
   "execution_count": 261,
   "metadata": {
    "ExecuteTime": {
     "end_time": "2018-05-17T07:06:41.201832Z",
     "start_time": "2018-05-17T07:06:41.190830Z"
    },
    "scrolled": true
   },
   "outputs": [
    {
     "data": {
      "application/vnd.plotly.v1+json": {
       "data": [
        {
         "orientation": "h",
         "text": [
          1.7,
          1.7,
          1.7,
          1.9,
          2,
          2,
          2,
          2.1,
          2.5,
          2.6,
          3.2,
          3.9,
          4.3,
          4.7,
          5.2,
          5.6,
          5.8,
          6.6,
          7.8,
          8.1,
          9,
          9,
          13.1,
          13.2,
          15.3,
          23.1,
          36.8,
          47.2,
          51.6,
          59.6,
          89
         ],
         "textposition": "outside",
         "type": "bar",
         "x": [
          1.7,
          1.7,
          1.7,
          1.9,
          2,
          2,
          2,
          2.1,
          2.5,
          2.6,
          3.2,
          3.9,
          4.3,
          4.7,
          5.2,
          5.6,
          5.8,
          6.6,
          7.8,
          8.1,
          9,
          9,
          13.1,
          13.2,
          15.3,
          23.1,
          36.8,
          47.2,
          51.599999999999966,
          59.6,
          89
         ],
         "y": [
          "Twitter",
          "CY Change",
          "com.google.android.music",
          "com.google.android.googlequicksearchbox",
          "CY Flashlight",
          "CY Desk Clock",
          "com.careem.adma",
          "CY System manager",
          "com.nemo.vidmate",
          "CY Calculator",
          "Android Browser",
          "com.android.chrome",
          "com.tencent.mm",
          "SoundCloud - Music & Audio",
          "CY Video",
          "com.lenovo.anyshare.gps",
          "Facebook Lite",
          "CY Music",
          "Instagram",
          "com.android.vending",
          "com.google.android.youtube",
          "CY File manager",
          "Android MMS",
          "CY Camera",
          "CY Settings",
          "CY Gallery",
          "Messenger – Text and Video Chat for Free",
          "Facebook",
          "Others",
          "WhatsApp Messenger",
          "CY Contacts"
         ]
        },
        {
         "cells": {
          "align": [
           "left",
           "left"
          ],
          "fill": {
           "color": [
            "#68a4b9",
            "#526372"
           ]
          },
          "font": {
           "color": [
            "#FFFFFF",
            "#FFFFFF"
           ],
           "size": 12
          },
          "height": 25,
          "line": {
           "color": "#000000"
          },
          "values": [
           [
            "CY Contacts",
            "WhatsApp Messenger",
            "Facebook",
            "Messenger – Text and Video Chat for Free",
            "CY Gallery",
            "CY Settings",
            "CY Camera",
            "Android MMS",
            "CY File manager",
            "com.google.android.youtube",
            "com.android.vending",
            "Instagram",
            "CY Music",
            "Facebook Lite",
            "com.lenovo.anyshare.gps",
            "CY Video",
            "SoundCloud - Music & Audio",
            "com.tencent.mm",
            "com.android.chrome",
            "Android Browser",
            "CY Calculator",
            "com.nemo.vidmate",
            "CY System manager",
            "com.careem.adma",
            "CY Desk Clock",
            "CY Flashlight",
            "com.google.android.googlequicksearchbox",
            "com.google.android.music",
            "CY Change",
            "Twitter"
           ],
           [
            27.3,
            34.9,
            23.9,
            24,
            8.5,
            -7.3,
            0.6,
            1.7,
            -1.9,
            3.8,
            -0.2,
            4,
            -0.5,
            4.7,
            2,
            0.7,
            3.1,
            -0.1,
            1.6,
            -0.3,
            0.6,
            1.3,
            -0.9,
            0.2,
            -0.3,
            0.3,
            0.5,
            0.8,
            -0.8,
            1.4
           ]
          ]
         },
         "columnorder": [
          0,
          1
         ],
         "columnwidth": [
          52,
          52
         ],
         "domain": {
          "x": [
           0.45,
           0.9
          ],
          "y": [
           0,
           0.8
          ]
         },
         "header": {
          "align": [
           "left",
           "left"
          ],
          "fill": {
           "color": "#2d5b6c"
          },
          "font": {
           "color": [
            "#FFFFFF",
            "#FFFFFF"
           ],
           "size": 14
          },
          "height": 25,
          "line": {
           "color": "#000000"
          },
          "values": [
           [
            "<b>名称</b>"
           ],
           [
            "<b>与上月同比</b>"
           ]
          ]
         },
         "type": "table"
        }
       ],
       "layout": {
        "height": 1200,
        "margin": {
         "l": 300,
         "r": 0
        },
        "title": "人均点击排名<br>总点击数:146755  设备数:325",
        "width": 1300,
        "yaxis": {
         "ticklen": 2
        }
       }
      },
      "text/html": [
       "<div id=\"074bf3a2-eb7c-48d0-8d94-472c7ab547bf\" style=\"height: 1200px; width: 1300px;\" class=\"plotly-graph-div\"></div><script type=\"text/javascript\">require([\"plotly\"], function(Plotly) { window.PLOTLYENV=window.PLOTLYENV || {};window.PLOTLYENV.BASE_URL=\"https://plot.ly\";Plotly.newPlot(\"074bf3a2-eb7c-48d0-8d94-472c7ab547bf\", [{\"type\": \"bar\", \"y\": [\"Twitter\", \"CY Change\", \"com.google.android.music\", \"com.google.android.googlequicksearchbox\", \"CY Flashlight\", \"CY Desk Clock\", \"com.careem.adma\", \"CY System manager\", \"com.nemo.vidmate\", \"CY Calculator\", \"Android Browser\", \"com.android.chrome\", \"com.tencent.mm\", \"SoundCloud - Music & Audio\", \"CY Video\", \"com.lenovo.anyshare.gps\", \"Facebook Lite\", \"CY Music\", \"Instagram\", \"com.android.vending\", \"com.google.android.youtube\", \"CY File manager\", \"Android MMS\", \"CY Camera\", \"CY Settings\", \"CY Gallery\", \"Messenger \\u2013 Text and Video Chat for Free\", \"Facebook\", \"Others\", \"WhatsApp Messenger\", \"CY Contacts\"], \"x\": [1.7, 1.7, 1.7, 1.9, 2.0, 2.0, 2.0, 2.1, 2.5, 2.6, 3.2, 3.9, 4.3, 4.7, 5.2, 5.6, 5.8, 6.6, 7.8, 8.1, 9.0, 9.0, 13.1, 13.2, 15.3, 23.1, 36.8, 47.2, 51.599999999999966, 59.6, 89.0], \"orientation\": \"h\", \"text\": [1.7, 1.7, 1.7, 1.9, 2.0, 2.0, 2.0, 2.1, 2.5, 2.6, 3.2, 3.9, 4.3, 4.7, 5.2, 5.6, 5.8, 6.6, 7.8, 8.1, 9.0, 9.0, 13.1, 13.2, 15.3, 23.1, 36.8, 47.2, 51.6, 59.6, 89.0], \"textposition\": \"outside\"}, {\"type\": \"table\", \"domain\": {\"x\": [0.45, 0.9], \"y\": [0, 0.8]}, \"columnwidth\": [52, 52], \"columnorder\": [0, 1], \"header\": {\"height\": 25, \"values\": [[\"<b>\\u540d\\u79f0</b>\"], [\"<b>\\u4e0e\\u4e0a\\u6708\\u540c\\u6bd4</b>\"]], \"line\": {\"color\": \"#000000\"}, \"align\": [\"left\", \"left\"], \"font\": {\"color\": [\"#FFFFFF\", \"#FFFFFF\"], \"size\": 14}, \"fill\": {\"color\": \"#2d5b6c\"}}, \"cells\": {\"values\": [[\"CY Contacts\", \"WhatsApp Messenger\", \"Facebook\", \"Messenger \\u2013 Text and Video Chat for Free\", \"CY Gallery\", \"CY Settings\", \"CY Camera\", \"Android MMS\", \"CY File manager\", \"com.google.android.youtube\", \"com.android.vending\", \"Instagram\", \"CY Music\", \"Facebook Lite\", \"com.lenovo.anyshare.gps\", \"CY Video\", \"SoundCloud - Music & Audio\", \"com.tencent.mm\", \"com.android.chrome\", \"Android Browser\", \"CY Calculator\", \"com.nemo.vidmate\", \"CY System manager\", \"com.careem.adma\", \"CY Desk Clock\", \"CY Flashlight\", \"com.google.android.googlequicksearchbox\", \"com.google.android.music\", \"CY Change\", \"Twitter\"], [27.3, 34.9, 23.9, 24.0, 8.5, -7.3, 0.6, 1.7, -1.9, 3.8, -0.2, 4.0, -0.5, 4.7, 2.0, 0.7, 3.1, -0.1, 1.6, -0.3, 0.6, 1.3, -0.9, 0.2, -0.3, 0.3, 0.5, 0.8, -0.8, 1.4]], \"line\": {\"color\": \"#000000\"}, \"align\": [\"left\", \"left\"], \"font\": {\"color\": [\"#FFFFFF\", \"#FFFFFF\"], \"size\": 12}, \"height\": 25, \"fill\": {\"color\": [\"#68a4b9\", \"#526372\"]}}}], {\"title\": \"\\u4eba\\u5747\\u70b9\\u51fb\\u6392\\u540d<br>\\u603b\\u70b9\\u51fb\\u6570:146755  \\u8bbe\\u5907\\u6570:325\", \"height\": 1200, \"width\": 1300, \"margin\": {\"l\": 300, \"r\": 0}, \"yaxis\": {\"ticklen\": 2}}, {\"showLink\": true, \"linkText\": \"Export to plot.ly\"})});</script>"
      ],
      "text/vnd.plotly.v1+html": [
       "<div id=\"074bf3a2-eb7c-48d0-8d94-472c7ab547bf\" style=\"height: 1200px; width: 1300px;\" class=\"plotly-graph-div\"></div><script type=\"text/javascript\">require([\"plotly\"], function(Plotly) { window.PLOTLYENV=window.PLOTLYENV || {};window.PLOTLYENV.BASE_URL=\"https://plot.ly\";Plotly.newPlot(\"074bf3a2-eb7c-48d0-8d94-472c7ab547bf\", [{\"type\": \"bar\", \"y\": [\"Twitter\", \"CY Change\", \"com.google.android.music\", \"com.google.android.googlequicksearchbox\", \"CY Flashlight\", \"CY Desk Clock\", \"com.careem.adma\", \"CY System manager\", \"com.nemo.vidmate\", \"CY Calculator\", \"Android Browser\", \"com.android.chrome\", \"com.tencent.mm\", \"SoundCloud - Music & Audio\", \"CY Video\", \"com.lenovo.anyshare.gps\", \"Facebook Lite\", \"CY Music\", \"Instagram\", \"com.android.vending\", \"com.google.android.youtube\", \"CY File manager\", \"Android MMS\", \"CY Camera\", \"CY Settings\", \"CY Gallery\", \"Messenger \\u2013 Text and Video Chat for Free\", \"Facebook\", \"Others\", \"WhatsApp Messenger\", \"CY Contacts\"], \"x\": [1.7, 1.7, 1.7, 1.9, 2.0, 2.0, 2.0, 2.1, 2.5, 2.6, 3.2, 3.9, 4.3, 4.7, 5.2, 5.6, 5.8, 6.6, 7.8, 8.1, 9.0, 9.0, 13.1, 13.2, 15.3, 23.1, 36.8, 47.2, 51.599999999999966, 59.6, 89.0], \"orientation\": \"h\", \"text\": [1.7, 1.7, 1.7, 1.9, 2.0, 2.0, 2.0, 2.1, 2.5, 2.6, 3.2, 3.9, 4.3, 4.7, 5.2, 5.6, 5.8, 6.6, 7.8, 8.1, 9.0, 9.0, 13.1, 13.2, 15.3, 23.1, 36.8, 47.2, 51.6, 59.6, 89.0], \"textposition\": \"outside\"}, {\"type\": \"table\", \"domain\": {\"x\": [0.45, 0.9], \"y\": [0, 0.8]}, \"columnwidth\": [52, 52], \"columnorder\": [0, 1], \"header\": {\"height\": 25, \"values\": [[\"<b>\\u540d\\u79f0</b>\"], [\"<b>\\u4e0e\\u4e0a\\u6708\\u540c\\u6bd4</b>\"]], \"line\": {\"color\": \"#000000\"}, \"align\": [\"left\", \"left\"], \"font\": {\"color\": [\"#FFFFFF\", \"#FFFFFF\"], \"size\": 14}, \"fill\": {\"color\": \"#2d5b6c\"}}, \"cells\": {\"values\": [[\"CY Contacts\", \"WhatsApp Messenger\", \"Facebook\", \"Messenger \\u2013 Text and Video Chat for Free\", \"CY Gallery\", \"CY Settings\", \"CY Camera\", \"Android MMS\", \"CY File manager\", \"com.google.android.youtube\", \"com.android.vending\", \"Instagram\", \"CY Music\", \"Facebook Lite\", \"com.lenovo.anyshare.gps\", \"CY Video\", \"SoundCloud - Music & Audio\", \"com.tencent.mm\", \"com.android.chrome\", \"Android Browser\", \"CY Calculator\", \"com.nemo.vidmate\", \"CY System manager\", \"com.careem.adma\", \"CY Desk Clock\", \"CY Flashlight\", \"com.google.android.googlequicksearchbox\", \"com.google.android.music\", \"CY Change\", \"Twitter\"], [27.3, 34.9, 23.9, 24.0, 8.5, -7.3, 0.6, 1.7, -1.9, 3.8, -0.2, 4.0, -0.5, 4.7, 2.0, 0.7, 3.1, -0.1, 1.6, -0.3, 0.6, 1.3, -0.9, 0.2, -0.3, 0.3, 0.5, 0.8, -0.8, 1.4]], \"line\": {\"color\": \"#000000\"}, \"align\": [\"left\", \"left\"], \"font\": {\"color\": [\"#FFFFFF\", \"#FFFFFF\"], \"size\": 12}, \"height\": 25, \"fill\": {\"color\": [\"#68a4b9\", \"#526372\"]}}}], {\"title\": \"\\u4eba\\u5747\\u70b9\\u51fb\\u6392\\u540d<br>\\u603b\\u70b9\\u51fb\\u6570:146755  \\u8bbe\\u5907\\u6570:325\", \"height\": 1200, \"width\": 1300, \"margin\": {\"l\": 300, \"r\": 0}, \"yaxis\": {\"ticklen\": 2}}, {\"showLink\": true, \"linkText\": \"Export to plot.ly\"})});</script>"
      ]
     },
     "metadata": {},
     "output_type": "display_data"
    }
   ],
   "source": [
    "draw_bar_table(bar_data, table_data, height=1200, width=1300, title=title)"
   ]
  },
  {
   "cell_type": "code",
   "execution_count": 276,
   "metadata": {
    "ExecuteTime": {
     "end_time": "2018-05-17T07:57:38.619554Z",
     "start_time": "2018-05-17T07:57:38.594375Z"
    },
    "collapsed": true
   },
   "outputs": [],
   "source": [
    "def install_rate(cur_month, last_month, label,title,height=1200,width=1200):\n",
    "    data_cur = cur_month[cur_month.name == label].groupby(['IMEI', 'attrs_packagename']).size()\n",
    "    data_last = last_month[last_month.name == label].groupby(['IMEI', 'attrs_packagename']).size()\n",
    "    \n",
    "    imeis_cur = len(cur_month['IMEI'].unique())\n",
    "    imeis_last = len(last_month['IMEI'].unique())\n",
    "    \n",
    "    package_info_cur = data_cur.reset_index()\n",
    "    total_cur = package_info_cur.groupby('attrs_packagename').size().sort_values().sum()\n",
    "    package_rate_cur = package_info_cur.groupby('attrs_packagename').size().sort_values()/imeis_cur\n",
    "    \n",
    "    package_info_last = data_last.reset_index()\n",
    "    total_last = package_info_last.groupby('attrs_packagename').size().sort_values().sum()\n",
    "    package_rate_last = package_info_last.groupby('attrs_packagename').size().sort_values()/imeis_last\n",
    "    \n",
    "    bar_data, table_data = get_bar_table_data(package_rate_cur, package_rate_last, rate=True, need_other=False)\n",
    "    \n",
    "    title= title + '<br>总次数:{}  总设备数:{}'.format(str(int(total_cur)), imeis_cur)\n",
    " \n",
    "    draw_bar_table(bar_data, table_data, height, width, title)"
   ]
  },
  {
   "cell_type": "code",
   "execution_count": 281,
   "metadata": {
    "ExecuteTime": {
     "end_time": "2018-05-17T07:59:34.731020Z",
     "start_time": "2018-05-17T07:59:34.637106Z"
    }
   },
   "outputs": [
    {
     "data": {
      "application/vnd.plotly.v1+json": {
       "data": [
        {
         "orientation": "h",
         "text": [
          "3.08%",
          "3.08%",
          "3.08%",
          "3.08%",
          "3.38%",
          "3.38%",
          "3.69%",
          "3.69%",
          "4.31%",
          "4.31%",
          "4.31%",
          "4.31%",
          "4.62%",
          "4.62%",
          "4.92%",
          "4.92%",
          "4.92%",
          "5.54%",
          "5.85%",
          "6.15%",
          "6.46%",
          "7.08%",
          "9.23%",
          "11.38%",
          "16.00%",
          "20.31%",
          "36.62%",
          "36.62%",
          "39.69%",
          "40.31%"
         ],
         "textposition": "outside",
         "type": "bar",
         "x": [
          0.03076923076923077,
          0.03076923076923077,
          0.03076923076923077,
          0.03076923076923077,
          0.033846153846153845,
          0.033846153846153845,
          0.036923076923076927,
          0.036923076923076927,
          0.043076923076923075,
          0.043076923076923075,
          0.043076923076923075,
          0.043076923076923075,
          0.046153846153846156,
          0.046153846153846156,
          0.04923076923076923,
          0.04923076923076923,
          0.04923076923076923,
          0.055384615384615386,
          0.05846153846153846,
          0.06153846153846154,
          0.06461538461538462,
          0.07076923076923076,
          0.09230769230769231,
          0.11384615384615385,
          0.16,
          0.20307692307692307,
          0.36615384615384616,
          0.36615384615384616,
          0.39692307692307693,
          0.40307692307692305
         ],
         "y": [
          "android.wm.cts.dndtargetapp",
          "com.venticake.retrica",
          "android.server.alertwindowapp",
          "android.server.alertwindowappsdk25",
          "com.dewmobile.kuaiya",
          "com.parfield.prayers.lite",
          "com.careem.acma",
          "com.linecorp.b612.android",
          "com.cam001.selfie",
          "Google Translate",
          "Google Play Games",
          "ZEDGE™ Ringtones & Wallpapers",
          "Subway Surfers",
          "Candy Crush Saga",
          "Snapchat",
          "com.tencent.mm",
          "com.olxmena.horizontal",
          "com.domobile.applock",
          "com.snaptube.premium",
          "Uber",
          "Facebook Lite",
          "imo free video calls and chat",
          "com.nemo.vidmate",
          "SoundCloud - Music & Audio",
          "Instagram",
          "com.truecaller",
          "com.lenovo.anyshare.gps",
          "Messenger – Text and Video Chat for Free",
          "Facebook",
          "WhatsApp Messenger"
         ]
        },
        {
         "cells": {
          "align": [
           "left",
           "left"
          ],
          "fill": {
           "color": [
            "#68a4b9",
            "#526372"
           ]
          },
          "font": {
           "color": [
            "#FFFFFF",
            "#FFFFFF"
           ],
           "size": 12
          },
          "height": 25,
          "line": {
           "color": "#000000"
          },
          "values": [
           [
            "WhatsApp Messenger",
            "Facebook",
            "Messenger – Text and Video Chat for Free",
            "com.lenovo.anyshare.gps",
            "com.truecaller",
            "Instagram",
            "SoundCloud - Music & Audio",
            "com.nemo.vidmate",
            "imo free video calls and chat",
            "Facebook Lite",
            "Uber",
            "com.snaptube.premium",
            "com.domobile.applock",
            "com.olxmena.horizontal",
            "com.tencent.mm",
            "Snapchat",
            "Candy Crush Saga",
            "Subway Surfers",
            "ZEDGE™ Ringtones & Wallpapers",
            "Google Play Games",
            "Google Translate",
            "com.cam001.selfie",
            "com.linecorp.b612.android",
            "com.careem.acma",
            "com.parfield.prayers.lite",
            "com.dewmobile.kuaiya",
            "android.server.alertwindowappsdk25",
            "android.server.alertwindowapp",
            "com.venticake.retrica",
            "android.wm.cts.dndtargetapp"
           ],
           [
            "-10.69%",
            "-8.51%",
            "-8.01%",
            "-4.82%",
            "3.57%",
            "-8.30%",
            "-2.16%",
            "1.66%",
            "-1.29%",
            "2.08%",
            "0.58%",
            "0.27%",
            "-0.04%",
            "-3.44%",
            "-2.65%",
            "-1.05%",
            "-0.96%",
            "-0.17%",
            "-0.07%",
            "-2.07%",
            "-0.87%",
            "2.32%",
            "-1.89%",
            "-0.69%",
            "-1.00%",
            "1.39%",
            "1.48%",
            "1.48%",
            "-2.50%",
            "1.48%"
           ]
          ]
         },
         "columnorder": [
          0,
          1
         ],
         "columnwidth": [
          52,
          52
         ],
         "domain": {
          "x": [
           0.45,
           0.9
          ],
          "y": [
           0,
           0.8
          ]
         },
         "header": {
          "align": [
           "left",
           "left"
          ],
          "fill": {
           "color": "#2d5b6c"
          },
          "font": {
           "color": [
            "#FFFFFF",
            "#FFFFFF"
           ],
           "size": 14
          },
          "height": 25,
          "line": {
           "color": "#000000"
          },
          "values": [
           [
            "<b>名称</b>"
           ],
           [
            "<b>与上月同比</b>"
           ]
          ]
         },
         "type": "table"
        }
       ],
       "layout": {
        "height": 1300,
        "margin": {
         "l": 300,
         "r": 0
        },
        "title": "安装应用覆盖率<br>总次数:3124  总设备数:325",
        "width": 1300,
        "yaxis": {
         "ticklen": 2
        }
       }
      },
      "text/html": [
       "<div id=\"8cfa1ca2-d37b-4765-8ac6-eaa3ede86061\" style=\"height: 1300px; width: 1300px;\" class=\"plotly-graph-div\"></div><script type=\"text/javascript\">require([\"plotly\"], function(Plotly) { window.PLOTLYENV=window.PLOTLYENV || {};window.PLOTLYENV.BASE_URL=\"https://plot.ly\";Plotly.newPlot(\"8cfa1ca2-d37b-4765-8ac6-eaa3ede86061\", [{\"type\": \"bar\", \"y\": [\"android.wm.cts.dndtargetapp\", \"com.venticake.retrica\", \"android.server.alertwindowapp\", \"android.server.alertwindowappsdk25\", \"com.dewmobile.kuaiya\", \"com.parfield.prayers.lite\", \"com.careem.acma\", \"com.linecorp.b612.android\", \"com.cam001.selfie\", \"Google Translate\", \"Google Play Games\", \"ZEDGE\\u2122 Ringtones & Wallpapers\", \"Subway Surfers\", \"Candy Crush Saga\", \"Snapchat\", \"com.tencent.mm\", \"com.olxmena.horizontal\", \"com.domobile.applock\", \"com.snaptube.premium\", \"Uber\", \"Facebook Lite\", \"imo free video calls and chat\", \"com.nemo.vidmate\", \"SoundCloud - Music & Audio\", \"Instagram\", \"com.truecaller\", \"com.lenovo.anyshare.gps\", \"Messenger \\u2013 Text and Video Chat for Free\", \"Facebook\", \"WhatsApp Messenger\"], \"x\": [0.03076923076923077, 0.03076923076923077, 0.03076923076923077, 0.03076923076923077, 0.033846153846153845, 0.033846153846153845, 0.036923076923076927, 0.036923076923076927, 0.043076923076923075, 0.043076923076923075, 0.043076923076923075, 0.043076923076923075, 0.046153846153846156, 0.046153846153846156, 0.04923076923076923, 0.04923076923076923, 0.04923076923076923, 0.055384615384615386, 0.05846153846153846, 0.06153846153846154, 0.06461538461538462, 0.07076923076923076, 0.09230769230769231, 0.11384615384615385, 0.16, 0.20307692307692307, 0.36615384615384616, 0.36615384615384616, 0.39692307692307693, 0.40307692307692305], \"orientation\": \"h\", \"text\": [\"3.08%\", \"3.08%\", \"3.08%\", \"3.08%\", \"3.38%\", \"3.38%\", \"3.69%\", \"3.69%\", \"4.31%\", \"4.31%\", \"4.31%\", \"4.31%\", \"4.62%\", \"4.62%\", \"4.92%\", \"4.92%\", \"4.92%\", \"5.54%\", \"5.85%\", \"6.15%\", \"6.46%\", \"7.08%\", \"9.23%\", \"11.38%\", \"16.00%\", \"20.31%\", \"36.62%\", \"36.62%\", \"39.69%\", \"40.31%\"], \"textposition\": \"outside\"}, {\"type\": \"table\", \"domain\": {\"x\": [0.45, 0.9], \"y\": [0, 0.8]}, \"columnwidth\": [52, 52], \"columnorder\": [0, 1], \"header\": {\"height\": 25, \"values\": [[\"<b>\\u540d\\u79f0</b>\"], [\"<b>\\u4e0e\\u4e0a\\u6708\\u540c\\u6bd4</b>\"]], \"line\": {\"color\": \"#000000\"}, \"align\": [\"left\", \"left\"], \"font\": {\"color\": [\"#FFFFFF\", \"#FFFFFF\"], \"size\": 14}, \"fill\": {\"color\": \"#2d5b6c\"}}, \"cells\": {\"values\": [[\"WhatsApp Messenger\", \"Facebook\", \"Messenger \\u2013 Text and Video Chat for Free\", \"com.lenovo.anyshare.gps\", \"com.truecaller\", \"Instagram\", \"SoundCloud - Music & Audio\", \"com.nemo.vidmate\", \"imo free video calls and chat\", \"Facebook Lite\", \"Uber\", \"com.snaptube.premium\", \"com.domobile.applock\", \"com.olxmena.horizontal\", \"com.tencent.mm\", \"Snapchat\", \"Candy Crush Saga\", \"Subway Surfers\", \"ZEDGE\\u2122 Ringtones & Wallpapers\", \"Google Play Games\", \"Google Translate\", \"com.cam001.selfie\", \"com.linecorp.b612.android\", \"com.careem.acma\", \"com.parfield.prayers.lite\", \"com.dewmobile.kuaiya\", \"android.server.alertwindowappsdk25\", \"android.server.alertwindowapp\", \"com.venticake.retrica\", \"android.wm.cts.dndtargetapp\"], [\"-10.69%\", \"-8.51%\", \"-8.01%\", \"-4.82%\", \"3.57%\", \"-8.30%\", \"-2.16%\", \"1.66%\", \"-1.29%\", \"2.08%\", \"0.58%\", \"0.27%\", \"-0.04%\", \"-3.44%\", \"-2.65%\", \"-1.05%\", \"-0.96%\", \"-0.17%\", \"-0.07%\", \"-2.07%\", \"-0.87%\", \"2.32%\", \"-1.89%\", \"-0.69%\", \"-1.00%\", \"1.39%\", \"1.48%\", \"1.48%\", \"-2.50%\", \"1.48%\"]], \"line\": {\"color\": \"#000000\"}, \"align\": [\"left\", \"left\"], \"font\": {\"color\": [\"#FFFFFF\", \"#FFFFFF\"], \"size\": 12}, \"height\": 25, \"fill\": {\"color\": [\"#68a4b9\", \"#526372\"]}}}], {\"title\": \"\\u5b89\\u88c5\\u5e94\\u7528\\u8986\\u76d6\\u7387<br>\\u603b\\u6b21\\u6570:3124  \\u603b\\u8bbe\\u5907\\u6570:325\", \"height\": 1300, \"width\": 1300, \"margin\": {\"l\": 300, \"r\": 0}, \"yaxis\": {\"ticklen\": 2}}, {\"showLink\": true, \"linkText\": \"Export to plot.ly\"})});</script>"
      ],
      "text/vnd.plotly.v1+html": [
       "<div id=\"8cfa1ca2-d37b-4765-8ac6-eaa3ede86061\" style=\"height: 1300px; width: 1300px;\" class=\"plotly-graph-div\"></div><script type=\"text/javascript\">require([\"plotly\"], function(Plotly) { window.PLOTLYENV=window.PLOTLYENV || {};window.PLOTLYENV.BASE_URL=\"https://plot.ly\";Plotly.newPlot(\"8cfa1ca2-d37b-4765-8ac6-eaa3ede86061\", [{\"type\": \"bar\", \"y\": [\"android.wm.cts.dndtargetapp\", \"com.venticake.retrica\", \"android.server.alertwindowapp\", \"android.server.alertwindowappsdk25\", \"com.dewmobile.kuaiya\", \"com.parfield.prayers.lite\", \"com.careem.acma\", \"com.linecorp.b612.android\", \"com.cam001.selfie\", \"Google Translate\", \"Google Play Games\", \"ZEDGE\\u2122 Ringtones & Wallpapers\", \"Subway Surfers\", \"Candy Crush Saga\", \"Snapchat\", \"com.tencent.mm\", \"com.olxmena.horizontal\", \"com.domobile.applock\", \"com.snaptube.premium\", \"Uber\", \"Facebook Lite\", \"imo free video calls and chat\", \"com.nemo.vidmate\", \"SoundCloud - Music & Audio\", \"Instagram\", \"com.truecaller\", \"com.lenovo.anyshare.gps\", \"Messenger \\u2013 Text and Video Chat for Free\", \"Facebook\", \"WhatsApp Messenger\"], \"x\": [0.03076923076923077, 0.03076923076923077, 0.03076923076923077, 0.03076923076923077, 0.033846153846153845, 0.033846153846153845, 0.036923076923076927, 0.036923076923076927, 0.043076923076923075, 0.043076923076923075, 0.043076923076923075, 0.043076923076923075, 0.046153846153846156, 0.046153846153846156, 0.04923076923076923, 0.04923076923076923, 0.04923076923076923, 0.055384615384615386, 0.05846153846153846, 0.06153846153846154, 0.06461538461538462, 0.07076923076923076, 0.09230769230769231, 0.11384615384615385, 0.16, 0.20307692307692307, 0.36615384615384616, 0.36615384615384616, 0.39692307692307693, 0.40307692307692305], \"orientation\": \"h\", \"text\": [\"3.08%\", \"3.08%\", \"3.08%\", \"3.08%\", \"3.38%\", \"3.38%\", \"3.69%\", \"3.69%\", \"4.31%\", \"4.31%\", \"4.31%\", \"4.31%\", \"4.62%\", \"4.62%\", \"4.92%\", \"4.92%\", \"4.92%\", \"5.54%\", \"5.85%\", \"6.15%\", \"6.46%\", \"7.08%\", \"9.23%\", \"11.38%\", \"16.00%\", \"20.31%\", \"36.62%\", \"36.62%\", \"39.69%\", \"40.31%\"], \"textposition\": \"outside\"}, {\"type\": \"table\", \"domain\": {\"x\": [0.45, 0.9], \"y\": [0, 0.8]}, \"columnwidth\": [52, 52], \"columnorder\": [0, 1], \"header\": {\"height\": 25, \"values\": [[\"<b>\\u540d\\u79f0</b>\"], [\"<b>\\u4e0e\\u4e0a\\u6708\\u540c\\u6bd4</b>\"]], \"line\": {\"color\": \"#000000\"}, \"align\": [\"left\", \"left\"], \"font\": {\"color\": [\"#FFFFFF\", \"#FFFFFF\"], \"size\": 14}, \"fill\": {\"color\": \"#2d5b6c\"}}, \"cells\": {\"values\": [[\"WhatsApp Messenger\", \"Facebook\", \"Messenger \\u2013 Text and Video Chat for Free\", \"com.lenovo.anyshare.gps\", \"com.truecaller\", \"Instagram\", \"SoundCloud - Music & Audio\", \"com.nemo.vidmate\", \"imo free video calls and chat\", \"Facebook Lite\", \"Uber\", \"com.snaptube.premium\", \"com.domobile.applock\", \"com.olxmena.horizontal\", \"com.tencent.mm\", \"Snapchat\", \"Candy Crush Saga\", \"Subway Surfers\", \"ZEDGE\\u2122 Ringtones & Wallpapers\", \"Google Play Games\", \"Google Translate\", \"com.cam001.selfie\", \"com.linecorp.b612.android\", \"com.careem.acma\", \"com.parfield.prayers.lite\", \"com.dewmobile.kuaiya\", \"android.server.alertwindowappsdk25\", \"android.server.alertwindowapp\", \"com.venticake.retrica\", \"android.wm.cts.dndtargetapp\"], [\"-10.69%\", \"-8.51%\", \"-8.01%\", \"-4.82%\", \"3.57%\", \"-8.30%\", \"-2.16%\", \"1.66%\", \"-1.29%\", \"2.08%\", \"0.58%\", \"0.27%\", \"-0.04%\", \"-3.44%\", \"-2.65%\", \"-1.05%\", \"-0.96%\", \"-0.17%\", \"-0.07%\", \"-2.07%\", \"-0.87%\", \"2.32%\", \"-1.89%\", \"-0.69%\", \"-1.00%\", \"1.39%\", \"1.48%\", \"1.48%\", \"-2.50%\", \"1.48%\"]], \"line\": {\"color\": \"#000000\"}, \"align\": [\"left\", \"left\"], \"font\": {\"color\": [\"#FFFFFF\", \"#FFFFFF\"], \"size\": 12}, \"height\": 25, \"fill\": {\"color\": [\"#68a4b9\", \"#526372\"]}}}], {\"title\": \"\\u5b89\\u88c5\\u5e94\\u7528\\u8986\\u76d6\\u7387<br>\\u603b\\u6b21\\u6570:3124  \\u603b\\u8bbe\\u5907\\u6570:325\", \"height\": 1300, \"width\": 1300, \"margin\": {\"l\": 300, \"r\": 0}, \"yaxis\": {\"ticklen\": 2}}, {\"showLink\": true, \"linkText\": \"Export to plot.ly\"})});</script>"
      ]
     },
     "metadata": {},
     "output_type": "display_data"
    }
   ],
   "source": [
    "install_rate(df418, df318, 'appinstall', '安装应用覆盖率', height=1300,width=1300)"
   ]
  },
  {
   "cell_type": "code",
   "execution_count": 282,
   "metadata": {
    "ExecuteTime": {
     "end_time": "2018-05-17T08:00:41.219689Z",
     "start_time": "2018-05-17T08:00:41.107609Z"
    }
   },
   "outputs": [
    {
     "data": {
      "application/vnd.plotly.v1+json": {
       "data": [
        {
         "orientation": "h",
         "text": [
          "1.54%",
          "1.85%",
          "1.85%",
          "1.85%",
          "1.85%",
          "1.85%",
          "1.85%",
          "1.85%",
          "1.85%",
          "1.85%",
          "1.85%",
          "1.85%",
          "1.85%",
          "1.85%",
          "2.15%",
          "2.46%",
          "2.46%",
          "2.46%",
          "2.77%",
          "3.08%",
          "3.08%",
          "3.08%",
          "3.08%",
          "3.08%",
          "3.08%",
          "4.31%",
          "4.62%",
          "4.62%",
          "6.77%",
          "8.92%"
         ],
         "textposition": "outside",
         "type": "bar",
         "x": [
          0.015384615384615385,
          0.018461538461538463,
          0.018461538461538463,
          0.018461538461538463,
          0.018461538461538463,
          0.018461538461538463,
          0.018461538461538463,
          0.018461538461538463,
          0.018461538461538463,
          0.018461538461538463,
          0.018461538461538463,
          0.018461538461538463,
          0.018461538461538463,
          0.018461538461538463,
          0.021538461538461538,
          0.024615384615384615,
          0.024615384615384615,
          0.024615384615384615,
          0.027692307692307693,
          0.03076923076923077,
          0.03076923076923077,
          0.03076923076923077,
          0.03076923076923077,
          0.03076923076923077,
          0.03076923076923077,
          0.043076923076923075,
          0.046153846153846156,
          0.046153846153846156,
          0.06769230769230769,
          0.08923076923076922
         ],
         "y": [
          "com.google.android.apps.docs",
          "com.truecaller",
          "com.android.cts.splitapp",
          "com.tencent.mm",
          "android.cpptools.app",
          "android.abioverride.app",
          "com.google.android.youtube",
          "copydata.cloneit",
          "com.android.cts.launcherapps.simplepremapp",
          "com.android.cts.devicepolicy.autofillapp",
          "android.test.app",
          "android.theme.app",
          "android.trustedvoice.app",
          "com.android.gputest",
          "com.domobile.applock",
          "android.autofillservice.cts",
          "com.android.cts.managedprofile",
          "Facebook Lite",
          "android.server.translucentapp",
          "android.wm.cts.dndsourceapp",
          "android.wm.cts.dndtargetapp",
          "com.android.cts.launcherapps.simpleapp",
          "android.wm.cts.dndtargetappsdk23",
          "android.server.alertwindowappsdk25",
          "android.server.alertwindowapp",
          "Messenger – Text and Video Chat for Free",
          "WhatsApp Messenger",
          "Facebook",
          "com.google.android.videos",
          "com.lenovo.anyshare.gps"
         ]
        },
        {
         "cells": {
          "align": [
           "left",
           "left"
          ],
          "fill": {
           "color": [
            "#68a4b9",
            "#526372"
           ]
          },
          "font": {
           "color": [
            "#FFFFFF",
            "#FFFFFF"
           ],
           "size": 12
          },
          "height": 25,
          "line": {
           "color": "#000000"
          },
          "values": [
           [
            "com.lenovo.anyshare.gps",
            "com.google.android.videos",
            "Facebook",
            "WhatsApp Messenger",
            "Messenger – Text and Video Chat for Free",
            "android.server.alertwindowapp",
            "android.server.alertwindowappsdk25",
            "android.wm.cts.dndtargetappsdk23",
            "com.android.cts.launcherapps.simpleapp",
            "android.wm.cts.dndtargetapp",
            "android.wm.cts.dndsourceapp",
            "android.server.translucentapp",
            "Facebook Lite",
            "com.android.cts.managedprofile",
            "android.autofillservice.cts",
            "com.domobile.applock",
            "com.android.gputest",
            "android.trustedvoice.app",
            "android.theme.app",
            "android.test.app",
            "com.android.cts.devicepolicy.autofillapp",
            "com.android.cts.launcherapps.simplepremapp",
            "copydata.cloneit",
            "com.google.android.youtube",
            "android.abioverride.app",
            "android.cpptools.app",
            "com.tencent.mm",
            "com.android.cts.splitapp",
            "com.truecaller",
            "com.google.android.apps.docs"
           ],
           [
            "-0.24%",
            "-9.96%",
            "2.22%",
            "2.22%",
            "1.52%",
            "1.48%",
            "1.48%",
            "1.48%",
            "1.48%",
            "1.48%",
            "1.48%",
            "1.57%",
            "0.87%",
            "0.87%",
            "1.66%",
            "0.96%",
            "1.05%",
            "1.45%",
            "1.05%",
            "1.05%",
            "1.45%",
            "1.45%",
            "1.45%",
            "-0.54%",
            "1.05%",
            "1.05%",
            "0.65%",
            "1.05%",
            "-0.15%",
            "-0.45%"
           ]
          ]
         },
         "columnorder": [
          0,
          1
         ],
         "columnwidth": [
          52,
          52
         ],
         "domain": {
          "x": [
           0.45,
           0.9
          ],
          "y": [
           0,
           0.8
          ]
         },
         "header": {
          "align": [
           "left",
           "left"
          ],
          "fill": {
           "color": "#2d5b6c"
          },
          "font": {
           "color": [
            "#FFFFFF",
            "#FFFFFF"
           ],
           "size": 14
          },
          "height": 25,
          "line": {
           "color": "#000000"
          },
          "values": [
           [
            "<b>名称</b>"
           ],
           [
            "<b>与上月同比</b>"
           ]
          ]
         },
         "type": "table"
        }
       ],
       "layout": {
        "height": 1300,
        "margin": {
         "l": 300,
         "r": 0
        },
        "title": "卸载应用排行榜<br>总次数:1187  总设备数:325",
        "width": 1300,
        "yaxis": {
         "ticklen": 2
        }
       }
      },
      "text/html": [
       "<div id=\"7157f92e-f6c1-4528-894a-ff02fc1648d6\" style=\"height: 1300px; width: 1300px;\" class=\"plotly-graph-div\"></div><script type=\"text/javascript\">require([\"plotly\"], function(Plotly) { window.PLOTLYENV=window.PLOTLYENV || {};window.PLOTLYENV.BASE_URL=\"https://plot.ly\";Plotly.newPlot(\"7157f92e-f6c1-4528-894a-ff02fc1648d6\", [{\"type\": \"bar\", \"y\": [\"com.google.android.apps.docs\", \"com.truecaller\", \"com.android.cts.splitapp\", \"com.tencent.mm\", \"android.cpptools.app\", \"android.abioverride.app\", \"com.google.android.youtube\", \"copydata.cloneit\", \"com.android.cts.launcherapps.simplepremapp\", \"com.android.cts.devicepolicy.autofillapp\", \"android.test.app\", \"android.theme.app\", \"android.trustedvoice.app\", \"com.android.gputest\", \"com.domobile.applock\", \"android.autofillservice.cts\", \"com.android.cts.managedprofile\", \"Facebook Lite\", \"android.server.translucentapp\", \"android.wm.cts.dndsourceapp\", \"android.wm.cts.dndtargetapp\", \"com.android.cts.launcherapps.simpleapp\", \"android.wm.cts.dndtargetappsdk23\", \"android.server.alertwindowappsdk25\", \"android.server.alertwindowapp\", \"Messenger \\u2013 Text and Video Chat for Free\", \"WhatsApp Messenger\", \"Facebook\", \"com.google.android.videos\", \"com.lenovo.anyshare.gps\"], \"x\": [0.015384615384615385, 0.018461538461538463, 0.018461538461538463, 0.018461538461538463, 0.018461538461538463, 0.018461538461538463, 0.018461538461538463, 0.018461538461538463, 0.018461538461538463, 0.018461538461538463, 0.018461538461538463, 0.018461538461538463, 0.018461538461538463, 0.018461538461538463, 0.021538461538461538, 0.024615384615384615, 0.024615384615384615, 0.024615384615384615, 0.027692307692307693, 0.03076923076923077, 0.03076923076923077, 0.03076923076923077, 0.03076923076923077, 0.03076923076923077, 0.03076923076923077, 0.043076923076923075, 0.046153846153846156, 0.046153846153846156, 0.06769230769230769, 0.08923076923076922], \"orientation\": \"h\", \"text\": [\"1.54%\", \"1.85%\", \"1.85%\", \"1.85%\", \"1.85%\", \"1.85%\", \"1.85%\", \"1.85%\", \"1.85%\", \"1.85%\", \"1.85%\", \"1.85%\", \"1.85%\", \"1.85%\", \"2.15%\", \"2.46%\", \"2.46%\", \"2.46%\", \"2.77%\", \"3.08%\", \"3.08%\", \"3.08%\", \"3.08%\", \"3.08%\", \"3.08%\", \"4.31%\", \"4.62%\", \"4.62%\", \"6.77%\", \"8.92%\"], \"textposition\": \"outside\"}, {\"type\": \"table\", \"domain\": {\"x\": [0.45, 0.9], \"y\": [0, 0.8]}, \"columnwidth\": [52, 52], \"columnorder\": [0, 1], \"header\": {\"height\": 25, \"values\": [[\"<b>\\u540d\\u79f0</b>\"], [\"<b>\\u4e0e\\u4e0a\\u6708\\u540c\\u6bd4</b>\"]], \"line\": {\"color\": \"#000000\"}, \"align\": [\"left\", \"left\"], \"font\": {\"color\": [\"#FFFFFF\", \"#FFFFFF\"], \"size\": 14}, \"fill\": {\"color\": \"#2d5b6c\"}}, \"cells\": {\"values\": [[\"com.lenovo.anyshare.gps\", \"com.google.android.videos\", \"Facebook\", \"WhatsApp Messenger\", \"Messenger \\u2013 Text and Video Chat for Free\", \"android.server.alertwindowapp\", \"android.server.alertwindowappsdk25\", \"android.wm.cts.dndtargetappsdk23\", \"com.android.cts.launcherapps.simpleapp\", \"android.wm.cts.dndtargetapp\", \"android.wm.cts.dndsourceapp\", \"android.server.translucentapp\", \"Facebook Lite\", \"com.android.cts.managedprofile\", \"android.autofillservice.cts\", \"com.domobile.applock\", \"com.android.gputest\", \"android.trustedvoice.app\", \"android.theme.app\", \"android.test.app\", \"com.android.cts.devicepolicy.autofillapp\", \"com.android.cts.launcherapps.simplepremapp\", \"copydata.cloneit\", \"com.google.android.youtube\", \"android.abioverride.app\", \"android.cpptools.app\", \"com.tencent.mm\", \"com.android.cts.splitapp\", \"com.truecaller\", \"com.google.android.apps.docs\"], [\"-0.24%\", \"-9.96%\", \"2.22%\", \"2.22%\", \"1.52%\", \"1.48%\", \"1.48%\", \"1.48%\", \"1.48%\", \"1.48%\", \"1.48%\", \"1.57%\", \"0.87%\", \"0.87%\", \"1.66%\", \"0.96%\", \"1.05%\", \"1.45%\", \"1.05%\", \"1.05%\", \"1.45%\", \"1.45%\", \"1.45%\", \"-0.54%\", \"1.05%\", \"1.05%\", \"0.65%\", \"1.05%\", \"-0.15%\", \"-0.45%\"]], \"line\": {\"color\": \"#000000\"}, \"align\": [\"left\", \"left\"], \"font\": {\"color\": [\"#FFFFFF\", \"#FFFFFF\"], \"size\": 12}, \"height\": 25, \"fill\": {\"color\": [\"#68a4b9\", \"#526372\"]}}}], {\"title\": \"\\u5378\\u8f7d\\u5e94\\u7528\\u6392\\u884c\\u699c<br>\\u603b\\u6b21\\u6570:1187  \\u603b\\u8bbe\\u5907\\u6570:325\", \"height\": 1300, \"width\": 1300, \"margin\": {\"l\": 300, \"r\": 0}, \"yaxis\": {\"ticklen\": 2}}, {\"showLink\": true, \"linkText\": \"Export to plot.ly\"})});</script>"
      ],
      "text/vnd.plotly.v1+html": [
       "<div id=\"7157f92e-f6c1-4528-894a-ff02fc1648d6\" style=\"height: 1300px; width: 1300px;\" class=\"plotly-graph-div\"></div><script type=\"text/javascript\">require([\"plotly\"], function(Plotly) { window.PLOTLYENV=window.PLOTLYENV || {};window.PLOTLYENV.BASE_URL=\"https://plot.ly\";Plotly.newPlot(\"7157f92e-f6c1-4528-894a-ff02fc1648d6\", [{\"type\": \"bar\", \"y\": [\"com.google.android.apps.docs\", \"com.truecaller\", \"com.android.cts.splitapp\", \"com.tencent.mm\", \"android.cpptools.app\", \"android.abioverride.app\", \"com.google.android.youtube\", \"copydata.cloneit\", \"com.android.cts.launcherapps.simplepremapp\", \"com.android.cts.devicepolicy.autofillapp\", \"android.test.app\", \"android.theme.app\", \"android.trustedvoice.app\", \"com.android.gputest\", \"com.domobile.applock\", \"android.autofillservice.cts\", \"com.android.cts.managedprofile\", \"Facebook Lite\", \"android.server.translucentapp\", \"android.wm.cts.dndsourceapp\", \"android.wm.cts.dndtargetapp\", \"com.android.cts.launcherapps.simpleapp\", \"android.wm.cts.dndtargetappsdk23\", \"android.server.alertwindowappsdk25\", \"android.server.alertwindowapp\", \"Messenger \\u2013 Text and Video Chat for Free\", \"WhatsApp Messenger\", \"Facebook\", \"com.google.android.videos\", \"com.lenovo.anyshare.gps\"], \"x\": [0.015384615384615385, 0.018461538461538463, 0.018461538461538463, 0.018461538461538463, 0.018461538461538463, 0.018461538461538463, 0.018461538461538463, 0.018461538461538463, 0.018461538461538463, 0.018461538461538463, 0.018461538461538463, 0.018461538461538463, 0.018461538461538463, 0.018461538461538463, 0.021538461538461538, 0.024615384615384615, 0.024615384615384615, 0.024615384615384615, 0.027692307692307693, 0.03076923076923077, 0.03076923076923077, 0.03076923076923077, 0.03076923076923077, 0.03076923076923077, 0.03076923076923077, 0.043076923076923075, 0.046153846153846156, 0.046153846153846156, 0.06769230769230769, 0.08923076923076922], \"orientation\": \"h\", \"text\": [\"1.54%\", \"1.85%\", \"1.85%\", \"1.85%\", \"1.85%\", \"1.85%\", \"1.85%\", \"1.85%\", \"1.85%\", \"1.85%\", \"1.85%\", \"1.85%\", \"1.85%\", \"1.85%\", \"2.15%\", \"2.46%\", \"2.46%\", \"2.46%\", \"2.77%\", \"3.08%\", \"3.08%\", \"3.08%\", \"3.08%\", \"3.08%\", \"3.08%\", \"4.31%\", \"4.62%\", \"4.62%\", \"6.77%\", \"8.92%\"], \"textposition\": \"outside\"}, {\"type\": \"table\", \"domain\": {\"x\": [0.45, 0.9], \"y\": [0, 0.8]}, \"columnwidth\": [52, 52], \"columnorder\": [0, 1], \"header\": {\"height\": 25, \"values\": [[\"<b>\\u540d\\u79f0</b>\"], [\"<b>\\u4e0e\\u4e0a\\u6708\\u540c\\u6bd4</b>\"]], \"line\": {\"color\": \"#000000\"}, \"align\": [\"left\", \"left\"], \"font\": {\"color\": [\"#FFFFFF\", \"#FFFFFF\"], \"size\": 14}, \"fill\": {\"color\": \"#2d5b6c\"}}, \"cells\": {\"values\": [[\"com.lenovo.anyshare.gps\", \"com.google.android.videos\", \"Facebook\", \"WhatsApp Messenger\", \"Messenger \\u2013 Text and Video Chat for Free\", \"android.server.alertwindowapp\", \"android.server.alertwindowappsdk25\", \"android.wm.cts.dndtargetappsdk23\", \"com.android.cts.launcherapps.simpleapp\", \"android.wm.cts.dndtargetapp\", \"android.wm.cts.dndsourceapp\", \"android.server.translucentapp\", \"Facebook Lite\", \"com.android.cts.managedprofile\", \"android.autofillservice.cts\", \"com.domobile.applock\", \"com.android.gputest\", \"android.trustedvoice.app\", \"android.theme.app\", \"android.test.app\", \"com.android.cts.devicepolicy.autofillapp\", \"com.android.cts.launcherapps.simplepremapp\", \"copydata.cloneit\", \"com.google.android.youtube\", \"android.abioverride.app\", \"android.cpptools.app\", \"com.tencent.mm\", \"com.android.cts.splitapp\", \"com.truecaller\", \"com.google.android.apps.docs\"], [\"-0.24%\", \"-9.96%\", \"2.22%\", \"2.22%\", \"1.52%\", \"1.48%\", \"1.48%\", \"1.48%\", \"1.48%\", \"1.48%\", \"1.48%\", \"1.57%\", \"0.87%\", \"0.87%\", \"1.66%\", \"0.96%\", \"1.05%\", \"1.45%\", \"1.05%\", \"1.05%\", \"1.45%\", \"1.45%\", \"1.45%\", \"-0.54%\", \"1.05%\", \"1.05%\", \"0.65%\", \"1.05%\", \"-0.15%\", \"-0.45%\"]], \"line\": {\"color\": \"#000000\"}, \"align\": [\"left\", \"left\"], \"font\": {\"color\": [\"#FFFFFF\", \"#FFFFFF\"], \"size\": 12}, \"height\": 25, \"fill\": {\"color\": [\"#68a4b9\", \"#526372\"]}}}], {\"title\": \"\\u5378\\u8f7d\\u5e94\\u7528\\u6392\\u884c\\u699c<br>\\u603b\\u6b21\\u6570:1187  \\u603b\\u8bbe\\u5907\\u6570:325\", \"height\": 1300, \"width\": 1300, \"margin\": {\"l\": 300, \"r\": 0}, \"yaxis\": {\"ticklen\": 2}}, {\"showLink\": true, \"linkText\": \"Export to plot.ly\"})});</script>"
      ]
     },
     "metadata": {},
     "output_type": "display_data"
    }
   ],
   "source": [
    "install_rate(df418, df318,'appremove', '卸载应用排行榜',height=1300,width=1300)"
   ]
  },
  {
   "cell_type": "markdown",
   "metadata": {},
   "source": [
    "### Camera 应用 "
   ]
  },
  {
   "cell_type": "code",
   "execution_count": 284,
   "metadata": {
    "ExecuteTime": {
     "end_time": "2018-05-17T09:13:40.484157Z",
     "start_time": "2018-05-17T09:13:40.475746Z"
    },
    "collapsed": true
   },
   "outputs": [],
   "source": [
    "chinese_name_photos = {'photo':'普通拍照', 'panorama':'全景', 'facebeauty':'美颜', 'hdr':'逆光', 'nightvideo':'夜景',\n",
    "                'selfiepanorama':'全景自拍', 'polaroid':'心情照片','gifshot':'GIF动画','profession':'高级', 'arcfilter':'滤镜'}\n",
    "chinese_name_videos = {'video':'普通摄像','slowmotion':'慢动作摄影', 'timelapse':'延时摄影'}"
   ]
  },
  {
   "cell_type": "code",
   "execution_count": 298,
   "metadata": {
    "ExecuteTime": {
     "end_time": "2018-05-17T09:24:36.559259Z",
     "start_time": "2018-05-17T09:24:36.445850Z"
    }
   },
   "outputs": [],
   "source": [
    "takephoto_data_cur = df418[df418['name'] == 'TakePhoto']\n",
    "video_data_cur = df418[df418['name'] == 'Video']\n",
    "\n",
    "total_camera_cur = len(takephoto_data_cur)\n",
    "total_video_cur = len(video_data_cur)\n",
    "total_used_cur = (len(takephoto_data_cur) + len(video_data_cur))\n",
    "\n",
    "capturemode_cur = takephoto_data_cur.groupby(['attrs_Capturemode']).size().sort_values()\n",
    "\n",
    "capture_dict_cur = {}\n",
    "total_camera_dict_cur = {}\n",
    "for p in chinese_name_photos:\n",
    "    if p in capturemode_cur.index:\n",
    "        capture_dict_cur[chinese_name_photos[p]] = capturemode_cur[p]\n",
    "        total_camera_dict_cur[chinese_name_videos[p]] = capturemode_cur[p]\n",
    "    else:\n",
    "        total_camera_dict_cur[chinese_name_videos[p]] = 0\n",
    "        capture_dict_cur[chinese_name_photos[p]] = 0\n",
    "\n",
    "capture_chinese_data = pd.Series(capture_dict_cur).sort_values()\n",
    "\n",
    "video_mode = video_data_cur.groupby(['attrs_Videomode']).size().sort_values()\n",
    "video_dict_cur = {}\n",
    "for p in chinese_name_videos:\n",
    "    if p in video_mode.index:\n",
    "        video_dict_cur[chinese_name_videos[p]] = video_mode[p]\n",
    "        total_camera_dict_cur[chinese_name_videos[p]] = video_mode[p]\n",
    "    else:\n",
    "        capture_dict_cur[chinese_name_videos[p]] = 0\n",
    "        total_camera_dict_cur[chinese_name_videos[p]] = 0\n",
    "\n",
    "video_chinese_data = pd.Series(video_dict_cur).sort_values()"
   ]
  },
  {
   "cell_type": "code",
   "execution_count": 304,
   "metadata": {
    "ExecuteTime": {
     "end_time": "2018-05-17T09:34:50.680151Z",
     "start_time": "2018-05-17T09:34:50.622604Z"
    },
    "collapsed": true
   },
   "outputs": [],
   "source": [
    "def get_camera_data(df):\n",
    "    takephoto_data_cur = df[df['name'] == 'TakePhoto']\n",
    "    video_data_cur = df[df['name'] == 'Video']\n",
    "\n",
    "    total_camera_cur = len(takephoto_data_cur)\n",
    "    total_video_cur = len(video_data_cur)\n",
    "    total_used_cur = (len(takephoto_data_cur) + len(video_data_cur))\n",
    "\n",
    "    capturemode_cur = takephoto_data_cur.groupby(['attrs_Capturemode']).size().sort_values()\n",
    "\n",
    "    capture_dict_cur = {}\n",
    "    total_camera_dict_cur = {}\n",
    "    for p in chinese_name_photos:\n",
    "        if p in capturemode_cur.index:\n",
    "            capture_dict_cur[chinese_name_photos[p]] = capturemode_cur[p]\n",
    "            total_camera_dict_cur[chinese_name_photos[p]] = capturemode_cur[p]\n",
    "        else:\n",
    "            total_camera_dict_cur[chinese_name_photos[p]] = 0\n",
    "            capture_dict_cur[chinese_name_photos[p]] = 0\n",
    "\n",
    "    capture_chinese_data = pd.Series(capture_dict_cur).sort_values()\n",
    "\n",
    "    video_mode = video_data_cur.groupby(['attrs_Videomode']).size().sort_values()\n",
    "    video_dict_cur = {}\n",
    "    for p in chinese_name_videos:\n",
    "        if p in video_mode.index:\n",
    "            video_dict_cur[chinese_name_videos[p]] = video_mode[p]\n",
    "            total_camera_dict_cur[chinese_name_videos[p]] = video_mode[p]\n",
    "        else:\n",
    "            capture_dict_cur[chinese_name_videos[p]] = 0\n",
    "            total_camera_dict_cur[chinese_name_videos[p]] = 0\n",
    "\n",
    "    video_chinese_data = pd.Series(video_dict_cur).sort_values()\n",
    "    total_chinese_data = pd.Series(total_camera_dict_cur).sort_values()\n",
    "    \n",
    "    return [capture_chinese_data,video_chinese_data,total_chinese_data]"
   ]
  },
  {
   "cell_type": "code",
   "execution_count": 305,
   "metadata": {
    "ExecuteTime": {
     "end_time": "2018-05-17T09:34:51.624962Z",
     "start_time": "2018-05-17T09:34:51.566830Z"
    }
   },
   "outputs": [],
   "source": [
    "cur_camera = get_camera_data(df418)"
   ]
  },
  {
   "cell_type": "code",
   "execution_count": 309,
   "metadata": {
    "ExecuteTime": {
     "end_time": "2018-05-17T09:35:23.511885Z",
     "start_time": "2018-05-17T09:35:23.289341Z"
    }
   },
   "outputs": [],
   "source": [
    "last_camera = get_camera_data(df318)"
   ]
  },
  {
   "cell_type": "code",
   "execution_count": 312,
   "metadata": {
    "ExecuteTime": {
     "end_time": "2018-05-17T09:36:01.501085Z",
     "start_time": "2018-05-17T09:36:01.495996Z"
    }
   },
   "outputs": [
    {
     "data": {
      "text/plain": [
       "6034"
      ]
     },
     "execution_count": 312,
     "metadata": {},
     "output_type": "execute_result"
    }
   ],
   "source": [
    "last_camera[2].sum()"
   ]
  },
  {
   "cell_type": "code",
   "execution_count": 55,
   "metadata": {
    "ExecuteTime": {
     "end_time": "2018-04-19T10:17:49.090020Z",
     "start_time": "2018-04-19T10:17:49.075807Z"
    }
   },
   "outputs": [
    {
     "data": {
      "application/vnd.plotly.v1+json": {
       "data": [
        {
         "orientation": "h",
         "text": [
          "0.0%",
          "0.8%",
          "1.2%",
          "1.4%",
          "1.4%",
          "1.5%",
          "1.7%",
          "2.0%",
          "5.1%",
          "84.9%"
         ],
         "textposition": "outside",
         "type": "bar",
         "x": [
          0,
          40,
          63,
          71,
          73,
          74,
          84,
          103,
          259,
          4321
         ],
         "y": [
          "高级",
          "GIF动画",
          "滤镜",
          "夜景",
          "心情照片",
          "逆光",
          "全景自拍",
          "全景",
          "美颜",
          "普通拍照"
         ]
        }
       ],
       "layout": {
        "height": 400,
        "margin": {
         "l": 120
        },
        "title": "拍照使用排名<br>总使用次数:5088",
        "width": 1200,
        "yaxis": {
         "ticklen": 10
        }
       }
      },
      "text/html": [
       "<div id=\"77202b65-a0ea-4b0c-81cd-74bf3e47cffd\" style=\"height: 400px; width: 1200px;\" class=\"plotly-graph-div\"></div><script type=\"text/javascript\">require([\"plotly\"], function(Plotly) { window.PLOTLYENV=window.PLOTLYENV || {};window.PLOTLYENV.BASE_URL=\"https://plot.ly\";Plotly.newPlot(\"77202b65-a0ea-4b0c-81cd-74bf3e47cffd\", [{\"type\": \"bar\", \"y\": [\"\\u9ad8\\u7ea7\", \"GIF\\u52a8\\u753b\", \"\\u6ee4\\u955c\", \"\\u591c\\u666f\", \"\\u5fc3\\u60c5\\u7167\\u7247\", \"\\u9006\\u5149\", \"\\u5168\\u666f\\u81ea\\u62cd\", \"\\u5168\\u666f\", \"\\u7f8e\\u989c\", \"\\u666e\\u901a\\u62cd\\u7167\"], \"x\": [0, 40, 63, 71, 73, 74, 84, 103, 259, 4321], \"orientation\": \"h\", \"text\": [\"0.0%\", \"0.8%\", \"1.2%\", \"1.4%\", \"1.4%\", \"1.5%\", \"1.7%\", \"2.0%\", \"5.1%\", \"84.9%\"], \"textposition\": \"outside\"}], {\"title\": \"\\u62cd\\u7167\\u4f7f\\u7528\\u6392\\u540d<br>\\u603b\\u4f7f\\u7528\\u6b21\\u6570:5088\", \"height\": 400, \"width\": 1200, \"margin\": {\"l\": 120}, \"yaxis\": {\"ticklen\": 10}}, {\"showLink\": true, \"linkText\": \"Export to plot.ly\"})});</script>"
      ],
      "text/vnd.plotly.v1+html": [
       "<div id=\"77202b65-a0ea-4b0c-81cd-74bf3e47cffd\" style=\"height: 400px; width: 1200px;\" class=\"plotly-graph-div\"></div><script type=\"text/javascript\">require([\"plotly\"], function(Plotly) { window.PLOTLYENV=window.PLOTLYENV || {};window.PLOTLYENV.BASE_URL=\"https://plot.ly\";Plotly.newPlot(\"77202b65-a0ea-4b0c-81cd-74bf3e47cffd\", [{\"type\": \"bar\", \"y\": [\"\\u9ad8\\u7ea7\", \"GIF\\u52a8\\u753b\", \"\\u6ee4\\u955c\", \"\\u591c\\u666f\", \"\\u5fc3\\u60c5\\u7167\\u7247\", \"\\u9006\\u5149\", \"\\u5168\\u666f\\u81ea\\u62cd\", \"\\u5168\\u666f\", \"\\u7f8e\\u989c\", \"\\u666e\\u901a\\u62cd\\u7167\"], \"x\": [0, 40, 63, 71, 73, 74, 84, 103, 259, 4321], \"orientation\": \"h\", \"text\": [\"0.0%\", \"0.8%\", \"1.2%\", \"1.4%\", \"1.4%\", \"1.5%\", \"1.7%\", \"2.0%\", \"5.1%\", \"84.9%\"], \"textposition\": \"outside\"}], {\"title\": \"\\u62cd\\u7167\\u4f7f\\u7528\\u6392\\u540d<br>\\u603b\\u4f7f\\u7528\\u6b21\\u6570:5088\", \"height\": 400, \"width\": 1200, \"margin\": {\"l\": 120}, \"yaxis\": {\"ticklen\": 10}}, {\"showLink\": true, \"linkText\": \"Export to plot.ly\"})});</script>"
      ]
     },
     "metadata": {},
     "output_type": "display_data"
    }
   ],
   "source": [
    "trace = go.Bar(y=camera_data.index, x=camera_data.values, orientation = 'h',\n",
    "                 text = camera_data.apply(lambda x:'{:.1f}%'.format(x*100/total_camera)).values,textposition = 'outside',)\n",
    "\n",
    "layout = go.Layout(\n",
    "    title='拍照使用排名<br>总使用次数:{}'.format(total_camera),\n",
    "    height=400,\n",
    "    width=1200,\n",
    "    margin=dict(l=120),\n",
    "    yaxis = dict(ticklen=10)\n",
    ")\n",
    "\n",
    "fig = go.Figure(data=[trace],layout=layout)\n",
    "py.iplot(fig)"
   ]
  },
  {
   "cell_type": "code",
   "execution_count": 291,
   "metadata": {
    "ExecuteTime": {
     "end_time": "2018-05-17T09:21:23.222931Z",
     "start_time": "2018-05-17T09:21:23.213489Z"
    }
   },
   "outputs": [],
   "source": []
  },
  {
   "cell_type": "code",
   "execution_count": 295,
   "metadata": {
    "ExecuteTime": {
     "end_time": "2018-05-17T09:23:17.140152Z",
     "start_time": "2018-05-17T09:23:17.134941Z"
    }
   },
   "outputs": [
    {
     "data": {
      "text/plain": [
       "{'GIF动画': 39,\n",
       " '全景': 154,\n",
       " '全景自拍': 104,\n",
       " '夜景': 75,\n",
       " '延时摄影': 23,\n",
       " '心情照片': 42,\n",
       " '慢动作摄影': 22,\n",
       " '普通拍照': 7913,\n",
       " '普通摄像': 478,\n",
       " '滤镜': 73,\n",
       " '美颜': 619,\n",
       " '逆光': 186,\n",
       " '高级': 0}"
      ]
     },
     "execution_count": 295,
     "metadata": {},
     "output_type": "execute_result"
    }
   ],
   "source": [
    "capture_dict_cur"
   ]
  },
  {
   "cell_type": "code",
   "execution_count": 50,
   "metadata": {
    "ExecuteTime": {
     "end_time": "2018-04-19T10:13:45.800216Z",
     "start_time": "2018-04-19T10:13:45.785242Z"
    },
    "scrolled": true
   },
   "outputs": [
    {
     "data": {
      "application/vnd.plotly.v1+json": {
       "data": [
        {
         "orientation": "h",
         "text": [
          "3.1%",
          "5.8%",
          "91.1%"
         ],
         "textposition": "outside",
         "type": "bar",
         "x": [
          8,
          15,
          236
         ],
         "y": [
          "延时摄影",
          "慢动作摄影",
          "普通摄像"
         ]
        }
       ],
       "layout": {
        "height": 250,
        "margin": {
         "l": 120
        },
        "title": "VideoMode排名<br>总使用次数:259",
        "width": 1200,
        "yaxis": {
         "ticklen": 10
        }
       }
      },
      "text/html": [
       "<div id=\"e3a1d05b-aafb-446a-9b4a-7f8a260084dd\" style=\"height: 250px; width: 1200px;\" class=\"plotly-graph-div\"></div><script type=\"text/javascript\">require([\"plotly\"], function(Plotly) { window.PLOTLYENV=window.PLOTLYENV || {};window.PLOTLYENV.BASE_URL=\"https://plot.ly\";Plotly.newPlot(\"e3a1d05b-aafb-446a-9b4a-7f8a260084dd\", [{\"type\": \"bar\", \"y\": [\"\\u5ef6\\u65f6\\u6444\\u5f71\", \"\\u6162\\u52a8\\u4f5c\\u6444\\u5f71\", \"\\u666e\\u901a\\u6444\\u50cf\"], \"x\": [8, 15, 236], \"orientation\": \"h\", \"text\": [\"3.1%\", \"5.8%\", \"91.1%\"], \"textposition\": \"outside\"}], {\"title\": \"VideoMode\\u6392\\u540d<br>\\u603b\\u4f7f\\u7528\\u6b21\\u6570:259\", \"height\": 250, \"width\": 1200, \"margin\": {\"l\": 120}, \"yaxis\": {\"ticklen\": 10}}, {\"showLink\": true, \"linkText\": \"Export to plot.ly\"})});</script>"
      ],
      "text/vnd.plotly.v1+html": [
       "<div id=\"e3a1d05b-aafb-446a-9b4a-7f8a260084dd\" style=\"height: 250px; width: 1200px;\" class=\"plotly-graph-div\"></div><script type=\"text/javascript\">require([\"plotly\"], function(Plotly) { window.PLOTLYENV=window.PLOTLYENV || {};window.PLOTLYENV.BASE_URL=\"https://plot.ly\";Plotly.newPlot(\"e3a1d05b-aafb-446a-9b4a-7f8a260084dd\", [{\"type\": \"bar\", \"y\": [\"\\u5ef6\\u65f6\\u6444\\u5f71\", \"\\u6162\\u52a8\\u4f5c\\u6444\\u5f71\", \"\\u666e\\u901a\\u6444\\u50cf\"], \"x\": [8, 15, 236], \"orientation\": \"h\", \"text\": [\"3.1%\", \"5.8%\", \"91.1%\"], \"textposition\": \"outside\"}], {\"title\": \"VideoMode\\u6392\\u540d<br>\\u603b\\u4f7f\\u7528\\u6b21\\u6570:259\", \"height\": 250, \"width\": 1200, \"margin\": {\"l\": 120}, \"yaxis\": {\"ticklen\": 10}}, {\"showLink\": true, \"linkText\": \"Export to plot.ly\"})});</script>"
      ]
     },
     "metadata": {},
     "output_type": "display_data"
    }
   ],
   "source": [
    "\n",
    "trace = go.Bar(y=video_chinese_data.index, x=video_chinese_data.values, orientation = 'h',\n",
    "                  text = video_mode.apply(lambda x:'{:.1f}%'.format(x*100/total_video)).values,textposition = 'outside',)\n",
    "\n",
    "layout = go.Layout(\n",
    "    title='VideoMode排名<br>总使用次数:{}'.format(total_video),\n",
    "    height=250,\n",
    "    width=1200,\n",
    "    margin=dict(l=120),\n",
    "    yaxis = dict(ticklen=10)\n",
    ")\n",
    "\n",
    "fig = go.Figure(data=[trace],layout=layout)\n",
    "py.iplot(fig)"
   ]
  },
  {
   "cell_type": "code",
   "execution_count": 51,
   "metadata": {
    "ExecuteTime": {
     "end_time": "2018-04-19T10:16:35.260087Z",
     "start_time": "2018-04-19T10:16:35.256149Z"
    },
    "collapsed": true
   },
   "outputs": [],
   "source": [
    "camera_data = pd.Series(capture_dict).sort_values()"
   ]
  },
  {
   "cell_type": "code",
   "execution_count": 52,
   "metadata": {
    "ExecuteTime": {
     "end_time": "2018-04-19T10:16:47.247408Z",
     "start_time": "2018-04-19T10:16:47.232947Z"
    },
    "scrolled": true
   },
   "outputs": [
    {
     "data": {
      "application/vnd.plotly.v1+json": {
       "data": [
        {
         "orientation": "h",
         "text": [
          "0.0%",
          "0.1%",
          "0.3%",
          "0.7%",
          "1.2%",
          "1.3%",
          "1.4%",
          "1.4%",
          "1.6%",
          "1.9%",
          "4.4%",
          "4.8%",
          "80.8%"
         ],
         "textposition": "outside",
         "type": "bar",
         "x": [
          0,
          8,
          15,
          40,
          63,
          71,
          73,
          74,
          84,
          103,
          236,
          259,
          4321
         ],
         "y": [
          "高级",
          "延时摄影",
          "慢动作摄影",
          "GIF动画",
          "滤镜",
          "夜景",
          "心情照片",
          "逆光",
          "全景自拍",
          "全景",
          "普通摄像",
          "美颜",
          "普通拍照"
         ]
        }
       ],
       "layout": {
        "height": 400,
        "margin": {
         "l": 120
        },
        "title": "相机使用排名<br>总使用次数:5347",
        "width": 1200,
        "yaxis": {
         "ticklen": 10
        }
       }
      },
      "text/html": [
       "<div id=\"1ae6b0d8-06cd-4f2a-b6e3-11dd447291b0\" style=\"height: 400px; width: 1200px;\" class=\"plotly-graph-div\"></div><script type=\"text/javascript\">require([\"plotly\"], function(Plotly) { window.PLOTLYENV=window.PLOTLYENV || {};window.PLOTLYENV.BASE_URL=\"https://plot.ly\";Plotly.newPlot(\"1ae6b0d8-06cd-4f2a-b6e3-11dd447291b0\", [{\"type\": \"bar\", \"y\": [\"\\u9ad8\\u7ea7\", \"\\u5ef6\\u65f6\\u6444\\u5f71\", \"\\u6162\\u52a8\\u4f5c\\u6444\\u5f71\", \"GIF\\u52a8\\u753b\", \"\\u6ee4\\u955c\", \"\\u591c\\u666f\", \"\\u5fc3\\u60c5\\u7167\\u7247\", \"\\u9006\\u5149\", \"\\u5168\\u666f\\u81ea\\u62cd\", \"\\u5168\\u666f\", \"\\u666e\\u901a\\u6444\\u50cf\", \"\\u7f8e\\u989c\", \"\\u666e\\u901a\\u62cd\\u7167\"], \"x\": [0, 8, 15, 40, 63, 71, 73, 74, 84, 103, 236, 259, 4321], \"orientation\": \"h\", \"text\": [\"0.0%\", \"0.1%\", \"0.3%\", \"0.7%\", \"1.2%\", \"1.3%\", \"1.4%\", \"1.4%\", \"1.6%\", \"1.9%\", \"4.4%\", \"4.8%\", \"80.8%\"], \"textposition\": \"outside\"}], {\"title\": \"\\u76f8\\u673a\\u4f7f\\u7528\\u6392\\u540d<br>\\u603b\\u4f7f\\u7528\\u6b21\\u6570:5347\", \"height\": 400, \"width\": 1200, \"margin\": {\"l\": 120}, \"yaxis\": {\"ticklen\": 10}}, {\"showLink\": true, \"linkText\": \"Export to plot.ly\"})});</script>"
      ],
      "text/vnd.plotly.v1+html": [
       "<div id=\"1ae6b0d8-06cd-4f2a-b6e3-11dd447291b0\" style=\"height: 400px; width: 1200px;\" class=\"plotly-graph-div\"></div><script type=\"text/javascript\">require([\"plotly\"], function(Plotly) { window.PLOTLYENV=window.PLOTLYENV || {};window.PLOTLYENV.BASE_URL=\"https://plot.ly\";Plotly.newPlot(\"1ae6b0d8-06cd-4f2a-b6e3-11dd447291b0\", [{\"type\": \"bar\", \"y\": [\"\\u9ad8\\u7ea7\", \"\\u5ef6\\u65f6\\u6444\\u5f71\", \"\\u6162\\u52a8\\u4f5c\\u6444\\u5f71\", \"GIF\\u52a8\\u753b\", \"\\u6ee4\\u955c\", \"\\u591c\\u666f\", \"\\u5fc3\\u60c5\\u7167\\u7247\", \"\\u9006\\u5149\", \"\\u5168\\u666f\\u81ea\\u62cd\", \"\\u5168\\u666f\", \"\\u666e\\u901a\\u6444\\u50cf\", \"\\u7f8e\\u989c\", \"\\u666e\\u901a\\u62cd\\u7167\"], \"x\": [0, 8, 15, 40, 63, 71, 73, 74, 84, 103, 236, 259, 4321], \"orientation\": \"h\", \"text\": [\"0.0%\", \"0.1%\", \"0.3%\", \"0.7%\", \"1.2%\", \"1.3%\", \"1.4%\", \"1.4%\", \"1.6%\", \"1.9%\", \"4.4%\", \"4.8%\", \"80.8%\"], \"textposition\": \"outside\"}], {\"title\": \"\\u76f8\\u673a\\u4f7f\\u7528\\u6392\\u540d<br>\\u603b\\u4f7f\\u7528\\u6b21\\u6570:5347\", \"height\": 400, \"width\": 1200, \"margin\": {\"l\": 120}, \"yaxis\": {\"ticklen\": 10}}, {\"showLink\": true, \"linkText\": \"Export to plot.ly\"})});</script>"
      ]
     },
     "metadata": {},
     "output_type": "display_data"
    }
   ],
   "source": [
    "trace = go.Bar(y=camera_data.index, x=camera_data.values, orientation = 'h',\n",
    "                 text = camera_data.apply(lambda x:'{:.1f}%'.format(x*100/total_used)).values,textposition = 'outside',)\n",
    "\n",
    "layout = go.Layout(\n",
    "    title='相机使用排名<br>总使用次数:{}'.format(total_used),\n",
    "    height=400,\n",
    "    width=1200,\n",
    "    margin=dict(l=120),\n",
    "    yaxis = dict(ticklen=10)\n",
    ")\n",
    "\n",
    "fig = go.Figure(data=[trace],layout=layout)\n",
    "py.iplot(fig)"
   ]
  },
  {
   "cell_type": "markdown",
   "metadata": {
    "collapsed": true
   },
   "source": [
    "### 销量统计"
   ]
  },
  {
   "cell_type": "code",
   "execution_count": null,
   "metadata": {
    "collapsed": true
   },
   "outputs": [],
   "source": [
    "valid_data.groupby(['IMEI', 'wallTime']).size()"
   ]
  },
  {
   "cell_type": "code",
   "execution_count": 57,
   "metadata": {
    "ExecuteTime": {
     "end_time": "2018-04-19T10:20:55.689996Z",
     "start_time": "2018-04-19T10:20:55.541629Z"
    },
    "collapsed": true
   },
   "outputs": [],
   "source": [
    "register = valid_data.groupby(['IMEI', 'registerTime']).size()"
   ]
  },
  {
   "cell_type": "code",
   "execution_count": 58,
   "metadata": {
    "ExecuteTime": {
     "end_time": "2018-04-19T10:20:59.792111Z",
     "start_time": "2018-04-19T10:20:59.786917Z"
    },
    "collapsed": true
   },
   "outputs": [],
   "source": [
    "register_data = {}"
   ]
  },
  {
   "cell_type": "code",
   "execution_count": 59,
   "metadata": {
    "ExecuteTime": {
     "end_time": "2018-04-19T10:21:01.141890Z",
     "start_time": "2018-04-19T10:21:01.017131Z"
    },
    "collapsed": true
   },
   "outputs": [],
   "source": [
    "for imei, group in register.reset_index().groupby(['IMEI']):\n",
    "    register_date = datetime.datetime.fromtimestamp(group.iloc[-1]['registerTime'])\n",
    "    register_data[imei] = register_date"
   ]
  },
  {
   "cell_type": "code",
   "execution_count": 60,
   "metadata": {
    "ExecuteTime": {
     "end_time": "2018-04-19T10:21:02.210432Z",
     "start_time": "2018-04-19T10:21:02.201589Z"
    },
    "collapsed": true
   },
   "outputs": [],
   "source": [
    "psd = pd.DataFrame.from_dict(register_data, orient='index')"
   ]
  },
  {
   "cell_type": "code",
   "execution_count": 61,
   "metadata": {
    "ExecuteTime": {
     "end_time": "2018-04-19T10:21:03.155659Z",
     "start_time": "2018-04-19T10:21:03.149329Z"
    }
   },
   "outputs": [
    {
     "data": {
      "text/plain": [
       "256"
      ]
     },
     "execution_count": 61,
     "metadata": {},
     "output_type": "execute_result"
    }
   ],
   "source": [
    "len(psd.index)"
   ]
  },
  {
   "cell_type": "code",
   "execution_count": 62,
   "metadata": {
    "ExecuteTime": {
     "end_time": "2018-04-19T10:21:08.384935Z",
     "start_time": "2018-04-19T10:21:08.359489Z"
    },
    "collapsed": true
   },
   "outputs": [],
   "source": [
    "register_count = psd.groupby([0]).size()"
   ]
  },
  {
   "cell_type": "code",
   "execution_count": 63,
   "metadata": {
    "ExecuteTime": {
     "end_time": "2018-04-19T10:21:09.689845Z",
     "start_time": "2018-04-19T10:21:09.670231Z"
    },
    "collapsed": true
   },
   "outputs": [],
   "source": [
    "cc = register_count.resample('D').sum().fillna(0)"
   ]
  },
  {
   "cell_type": "code",
   "execution_count": 64,
   "metadata": {
    "ExecuteTime": {
     "end_time": "2018-04-19T10:21:10.698023Z",
     "start_time": "2018-04-19T10:21:10.691483Z"
    },
    "collapsed": true
   },
   "outputs": [],
   "source": [
    "paper_bgcolor='#242640'\n",
    "plot_bgcolor='#242640'\n",
    "paper_bgcolor='#FFFFFF'\n",
    "plot_bgcolor='#FFFFFF'\n",
    "text_color = '#000000'\n",
    "x_color = '#000000'\n",
    "y_color = '#000000'\n",
    "title_color = '#000000'\n",
    "legend_color = '#000000'"
   ]
  },
  {
   "cell_type": "code",
   "execution_count": 65,
   "metadata": {
    "ExecuteTime": {
     "end_time": "2018-04-19T10:21:11.306432Z",
     "start_time": "2018-04-19T10:21:11.293050Z"
    },
    "collapsed": true
   },
   "outputs": [],
   "source": [
    "bandxaxis = go.XAxis(\n",
    "        type='date',\n",
    "        #range=[(created_by_day.index[start] - 1).strftime('%y-%m-%d'),\n",
    "        #       (created_by_day.index[-1] + 1).strftime('%y-%m-%d'),],\n",
    "        ticks=\"outside\", \n",
    "        showticklabels=True,\n",
    "        ticktext=list(cc.index.strftime('%m-%d')),\n",
    "        tickvals=list(cc.index.strftime('%y-%m-%d')),\n",
    "        tickfont=dict(size=11),\n",
    "        #tickfont=dict(size=11,color='#B9B9C3'),\n",
    "        ticklen=10,showgrid=True,\n",
    "        #color='#FFFFFF'\n",
    "    )"
   ]
  },
  {
   "cell_type": "code",
   "execution_count": null,
   "metadata": {
    "ExecuteTime": {
     "end_time": "2018-04-19T10:21:12.663982Z",
     "start_time": "2018-04-19T10:21:12.291797Z"
    },
    "collapsed": true
   },
   "outputs": [],
   "source": []
  },
  {
   "cell_type": "code",
   "execution_count": 74,
   "metadata": {
    "ExecuteTime": {
     "end_time": "2018-04-20T01:36:19.990526Z",
     "start_time": "2018-04-20T01:36:19.974882Z"
    },
    "collapsed": true
   },
   "outputs": [],
   "source": [
    "data=[go.Bar(\n",
    "        x = cc.index,\n",
    "        y = cc.values,\n",
    "        text=cc.values, \n",
    "        textposition='outside',\n",
    "        name = '每日提交数',)\n",
    "        #marker=dict(color='#7D858C')), \n",
    "]\n"
   ]
  },
  {
   "cell_type": "code",
   "execution_count": 75,
   "metadata": {
    "ExecuteTime": {
     "end_time": "2018-04-20T01:36:21.006374Z",
     "start_time": "2018-04-20T01:36:20.965666Z"
    }
   },
   "outputs": [
    {
     "data": {
      "application/vnd.plotly.v1+json": {
       "data": [
        {
         "name": "每日提交数",
         "text": [
          67,
          1,
          0,
          0,
          1,
          0,
          0,
          0,
          0,
          0,
          0,
          0,
          0,
          0,
          0,
          0,
          0,
          0,
          0,
          0,
          0,
          0,
          0,
          0,
          0,
          0,
          0,
          0,
          0,
          0,
          0,
          0,
          0,
          0,
          0,
          0,
          0,
          0,
          0,
          0,
          0,
          0,
          0,
          0,
          0,
          0,
          0,
          0,
          0,
          1,
          1,
          0,
          0,
          0,
          0,
          0,
          0,
          0,
          0,
          0,
          0,
          1,
          1,
          0,
          0,
          0,
          1,
          0,
          0,
          0,
          1,
          1,
          0,
          0,
          0,
          0,
          0,
          10,
          12,
          4,
          3,
          6,
          3,
          3,
          4,
          2,
          0,
          3,
          4,
          1,
          6,
          2,
          7,
          9,
          5,
          10,
          4,
          3,
          11,
          7,
          6,
          9,
          10,
          6,
          4,
          10,
          10,
          6
         ],
         "textposition": "outside",
         "type": "bar",
         "x": [
          "2018-01-01",
          "2018-01-02",
          "2018-01-03",
          "2018-01-04",
          "2018-01-05",
          "2018-01-06",
          "2018-01-07",
          "2018-01-08",
          "2018-01-09",
          "2018-01-10",
          "2018-01-11",
          "2018-01-12",
          "2018-01-13",
          "2018-01-14",
          "2018-01-15",
          "2018-01-16",
          "2018-01-17",
          "2018-01-18",
          "2018-01-19",
          "2018-01-20",
          "2018-01-21",
          "2018-01-22",
          "2018-01-23",
          "2018-01-24",
          "2018-01-25",
          "2018-01-26",
          "2018-01-27",
          "2018-01-28",
          "2018-01-29",
          "2018-01-30",
          "2018-01-31",
          "2018-02-01",
          "2018-02-02",
          "2018-02-03",
          "2018-02-04",
          "2018-02-05",
          "2018-02-06",
          "2018-02-07",
          "2018-02-08",
          "2018-02-09",
          "2018-02-10",
          "2018-02-11",
          "2018-02-12",
          "2018-02-13",
          "2018-02-14",
          "2018-02-15",
          "2018-02-16",
          "2018-02-17",
          "2018-02-18",
          "2018-02-19",
          "2018-02-20",
          "2018-02-21",
          "2018-02-22",
          "2018-02-23",
          "2018-02-24",
          "2018-02-25",
          "2018-02-26",
          "2018-02-27",
          "2018-02-28",
          "2018-03-01",
          "2018-03-02",
          "2018-03-03",
          "2018-03-04",
          "2018-03-05",
          "2018-03-06",
          "2018-03-07",
          "2018-03-08",
          "2018-03-09",
          "2018-03-10",
          "2018-03-11",
          "2018-03-12",
          "2018-03-13",
          "2018-03-14",
          "2018-03-15",
          "2018-03-16",
          "2018-03-17",
          "2018-03-18",
          "2018-03-19",
          "2018-03-20",
          "2018-03-21",
          "2018-03-22",
          "2018-03-23",
          "2018-03-24",
          "2018-03-25",
          "2018-03-26",
          "2018-03-27",
          "2018-03-28",
          "2018-03-29",
          "2018-03-30",
          "2018-03-31",
          "2018-04-01",
          "2018-04-02",
          "2018-04-03",
          "2018-04-04",
          "2018-04-05",
          "2018-04-06",
          "2018-04-07",
          "2018-04-08",
          "2018-04-09",
          "2018-04-10",
          "2018-04-11",
          "2018-04-12",
          "2018-04-13",
          "2018-04-14",
          "2018-04-15",
          "2018-04-16",
          "2018-04-17",
          "2018-04-18"
         ],
         "y": [
          67,
          1,
          0,
          0,
          1,
          0,
          0,
          0,
          0,
          0,
          0,
          0,
          0,
          0,
          0,
          0,
          0,
          0,
          0,
          0,
          0,
          0,
          0,
          0,
          0,
          0,
          0,
          0,
          0,
          0,
          0,
          0,
          0,
          0,
          0,
          0,
          0,
          0,
          0,
          0,
          0,
          0,
          0,
          0,
          0,
          0,
          0,
          0,
          0,
          1,
          1,
          0,
          0,
          0,
          0,
          0,
          0,
          0,
          0,
          0,
          0,
          1,
          1,
          0,
          0,
          0,
          1,
          0,
          0,
          0,
          1,
          1,
          0,
          0,
          0,
          0,
          0,
          10,
          12,
          4,
          3,
          6,
          3,
          3,
          4,
          2,
          0,
          3,
          4,
          1,
          6,
          2,
          7,
          9,
          5,
          10,
          4,
          3,
          11,
          7,
          6,
          9,
          10,
          6,
          4,
          10,
          10,
          6
         ]
        }
       ],
       "layout": {
        "bargap": 0.1,
        "height": 1200,
        "legend": {
         "font": {
          "size": 16
         },
         "x": 0.1
        },
        "title": "销量趋势图<br>总数:256",
        "titlefont": {
         "color": "#000000",
         "size": 25
        },
        "width": 1600,
        "xaxis": {
         "showgrid": true,
         "showticklabels": true,
         "tickfont": {
          "size": 11
         },
         "ticklen": 10,
         "ticks": "outside",
         "ticktext": [
          "01-01",
          "01-02",
          "01-03",
          "01-04",
          "01-05",
          "01-06",
          "01-07",
          "01-08",
          "01-09",
          "01-10",
          "01-11",
          "01-12",
          "01-13",
          "01-14",
          "01-15",
          "01-16",
          "01-17",
          "01-18",
          "01-19",
          "01-20",
          "01-21",
          "01-22",
          "01-23",
          "01-24",
          "01-25",
          "01-26",
          "01-27",
          "01-28",
          "01-29",
          "01-30",
          "01-31",
          "02-01",
          "02-02",
          "02-03",
          "02-04",
          "02-05",
          "02-06",
          "02-07",
          "02-08",
          "02-09",
          "02-10",
          "02-11",
          "02-12",
          "02-13",
          "02-14",
          "02-15",
          "02-16",
          "02-17",
          "02-18",
          "02-19",
          "02-20",
          "02-21",
          "02-22",
          "02-23",
          "02-24",
          "02-25",
          "02-26",
          "02-27",
          "02-28",
          "03-01",
          "03-02",
          "03-03",
          "03-04",
          "03-05",
          "03-06",
          "03-07",
          "03-08",
          "03-09",
          "03-10",
          "03-11",
          "03-12",
          "03-13",
          "03-14",
          "03-15",
          "03-16",
          "03-17",
          "03-18",
          "03-19",
          "03-20",
          "03-21",
          "03-22",
          "03-23",
          "03-24",
          "03-25",
          "03-26",
          "03-27",
          "03-28",
          "03-29",
          "03-30",
          "03-31",
          "04-01",
          "04-02",
          "04-03",
          "04-04",
          "04-05",
          "04-06",
          "04-07",
          "04-08",
          "04-09",
          "04-10",
          "04-11",
          "04-12",
          "04-13",
          "04-14",
          "04-15",
          "04-16",
          "04-17",
          "04-18"
         ],
         "tickvals": [
          "18-01-01",
          "18-01-02",
          "18-01-03",
          "18-01-04",
          "18-01-05",
          "18-01-06",
          "18-01-07",
          "18-01-08",
          "18-01-09",
          "18-01-10",
          "18-01-11",
          "18-01-12",
          "18-01-13",
          "18-01-14",
          "18-01-15",
          "18-01-16",
          "18-01-17",
          "18-01-18",
          "18-01-19",
          "18-01-20",
          "18-01-21",
          "18-01-22",
          "18-01-23",
          "18-01-24",
          "18-01-25",
          "18-01-26",
          "18-01-27",
          "18-01-28",
          "18-01-29",
          "18-01-30",
          "18-01-31",
          "18-02-01",
          "18-02-02",
          "18-02-03",
          "18-02-04",
          "18-02-05",
          "18-02-06",
          "18-02-07",
          "18-02-08",
          "18-02-09",
          "18-02-10",
          "18-02-11",
          "18-02-12",
          "18-02-13",
          "18-02-14",
          "18-02-15",
          "18-02-16",
          "18-02-17",
          "18-02-18",
          "18-02-19",
          "18-02-20",
          "18-02-21",
          "18-02-22",
          "18-02-23",
          "18-02-24",
          "18-02-25",
          "18-02-26",
          "18-02-27",
          "18-02-28",
          "18-03-01",
          "18-03-02",
          "18-03-03",
          "18-03-04",
          "18-03-05",
          "18-03-06",
          "18-03-07",
          "18-03-08",
          "18-03-09",
          "18-03-10",
          "18-03-11",
          "18-03-12",
          "18-03-13",
          "18-03-14",
          "18-03-15",
          "18-03-16",
          "18-03-17",
          "18-03-18",
          "18-03-19",
          "18-03-20",
          "18-03-21",
          "18-03-22",
          "18-03-23",
          "18-03-24",
          "18-03-25",
          "18-03-26",
          "18-03-27",
          "18-03-28",
          "18-03-29",
          "18-03-30",
          "18-03-31",
          "18-04-01",
          "18-04-02",
          "18-04-03",
          "18-04-04",
          "18-04-05",
          "18-04-06",
          "18-04-07",
          "18-04-08",
          "18-04-09",
          "18-04-10",
          "18-04-11",
          "18-04-12",
          "18-04-13",
          "18-04-14",
          "18-04-15",
          "18-04-16",
          "18-04-17",
          "18-04-18"
         ],
         "type": "date"
        },
        "yaxis": {
         "ticklen": 10
        }
       }
      },
      "text/html": [
       "<div id=\"c7879c93-7044-48e0-af0c-b8c3d2376e98\" style=\"height: 1200px; width: 1600px;\" class=\"plotly-graph-div\"></div><script type=\"text/javascript\">require([\"plotly\"], function(Plotly) { window.PLOTLYENV=window.PLOTLYENV || {};window.PLOTLYENV.BASE_URL=\"https://plot.ly\";Plotly.newPlot(\"c7879c93-7044-48e0-af0c-b8c3d2376e98\", [{\"type\": \"bar\", \"x\": [\"2018-01-01\", \"2018-01-02\", \"2018-01-03\", \"2018-01-04\", \"2018-01-05\", \"2018-01-06\", \"2018-01-07\", \"2018-01-08\", \"2018-01-09\", \"2018-01-10\", \"2018-01-11\", \"2018-01-12\", \"2018-01-13\", \"2018-01-14\", \"2018-01-15\", \"2018-01-16\", \"2018-01-17\", \"2018-01-18\", \"2018-01-19\", \"2018-01-20\", \"2018-01-21\", \"2018-01-22\", \"2018-01-23\", \"2018-01-24\", \"2018-01-25\", \"2018-01-26\", \"2018-01-27\", \"2018-01-28\", \"2018-01-29\", \"2018-01-30\", \"2018-01-31\", \"2018-02-01\", \"2018-02-02\", \"2018-02-03\", \"2018-02-04\", \"2018-02-05\", \"2018-02-06\", \"2018-02-07\", \"2018-02-08\", \"2018-02-09\", \"2018-02-10\", \"2018-02-11\", \"2018-02-12\", \"2018-02-13\", \"2018-02-14\", \"2018-02-15\", \"2018-02-16\", \"2018-02-17\", \"2018-02-18\", \"2018-02-19\", \"2018-02-20\", \"2018-02-21\", \"2018-02-22\", \"2018-02-23\", \"2018-02-24\", \"2018-02-25\", \"2018-02-26\", \"2018-02-27\", \"2018-02-28\", \"2018-03-01\", \"2018-03-02\", \"2018-03-03\", \"2018-03-04\", \"2018-03-05\", \"2018-03-06\", \"2018-03-07\", \"2018-03-08\", \"2018-03-09\", \"2018-03-10\", \"2018-03-11\", \"2018-03-12\", \"2018-03-13\", \"2018-03-14\", \"2018-03-15\", \"2018-03-16\", \"2018-03-17\", \"2018-03-18\", \"2018-03-19\", \"2018-03-20\", \"2018-03-21\", \"2018-03-22\", \"2018-03-23\", \"2018-03-24\", \"2018-03-25\", \"2018-03-26\", \"2018-03-27\", \"2018-03-28\", \"2018-03-29\", \"2018-03-30\", \"2018-03-31\", \"2018-04-01\", \"2018-04-02\", \"2018-04-03\", \"2018-04-04\", \"2018-04-05\", \"2018-04-06\", \"2018-04-07\", \"2018-04-08\", \"2018-04-09\", \"2018-04-10\", \"2018-04-11\", \"2018-04-12\", \"2018-04-13\", \"2018-04-14\", \"2018-04-15\", \"2018-04-16\", \"2018-04-17\", \"2018-04-18\"], \"y\": [67.0, 1.0, 0.0, 0.0, 1.0, 0.0, 0.0, 0.0, 0.0, 0.0, 0.0, 0.0, 0.0, 0.0, 0.0, 0.0, 0.0, 0.0, 0.0, 0.0, 0.0, 0.0, 0.0, 0.0, 0.0, 0.0, 0.0, 0.0, 0.0, 0.0, 0.0, 0.0, 0.0, 0.0, 0.0, 0.0, 0.0, 0.0, 0.0, 0.0, 0.0, 0.0, 0.0, 0.0, 0.0, 0.0, 0.0, 0.0, 0.0, 1.0, 1.0, 0.0, 0.0, 0.0, 0.0, 0.0, 0.0, 0.0, 0.0, 0.0, 0.0, 1.0, 1.0, 0.0, 0.0, 0.0, 1.0, 0.0, 0.0, 0.0, 1.0, 1.0, 0.0, 0.0, 0.0, 0.0, 0.0, 10.0, 12.0, 4.0, 3.0, 6.0, 3.0, 3.0, 4.0, 2.0, 0.0, 3.0, 4.0, 1.0, 6.0, 2.0, 7.0, 9.0, 5.0, 10.0, 4.0, 3.0, 11.0, 7.0, 6.0, 9.0, 10.0, 6.0, 4.0, 10.0, 10.0, 6.0], \"text\": [67.0, 1.0, 0.0, 0.0, 1.0, 0.0, 0.0, 0.0, 0.0, 0.0, 0.0, 0.0, 0.0, 0.0, 0.0, 0.0, 0.0, 0.0, 0.0, 0.0, 0.0, 0.0, 0.0, 0.0, 0.0, 0.0, 0.0, 0.0, 0.0, 0.0, 0.0, 0.0, 0.0, 0.0, 0.0, 0.0, 0.0, 0.0, 0.0, 0.0, 0.0, 0.0, 0.0, 0.0, 0.0, 0.0, 0.0, 0.0, 0.0, 1.0, 1.0, 0.0, 0.0, 0.0, 0.0, 0.0, 0.0, 0.0, 0.0, 0.0, 0.0, 1.0, 1.0, 0.0, 0.0, 0.0, 1.0, 0.0, 0.0, 0.0, 1.0, 1.0, 0.0, 0.0, 0.0, 0.0, 0.0, 10.0, 12.0, 4.0, 3.0, 6.0, 3.0, 3.0, 4.0, 2.0, 0.0, 3.0, 4.0, 1.0, 6.0, 2.0, 7.0, 9.0, 5.0, 10.0, 4.0, 3.0, 11.0, 7.0, 6.0, 9.0, 10.0, 6.0, 4.0, 10.0, 10.0, 6.0], \"textposition\": \"outside\", \"name\": \"\\u6bcf\\u65e5\\u63d0\\u4ea4\\u6570\"}], {\"title\": \"\\u9500\\u91cf\\u8d8b\\u52bf\\u56fe<br>\\u603b\\u6570:256\", \"titlefont\": {\"color\": \"#000000\", \"size\": 25}, \"height\": 1200, \"width\": 1600, \"bargap\": 0.1, \"xaxis\": {\"type\": \"date\", \"ticks\": \"outside\", \"showticklabels\": true, \"ticktext\": [\"01-01\", \"01-02\", \"01-03\", \"01-04\", \"01-05\", \"01-06\", \"01-07\", \"01-08\", \"01-09\", \"01-10\", \"01-11\", \"01-12\", \"01-13\", \"01-14\", \"01-15\", \"01-16\", \"01-17\", \"01-18\", \"01-19\", \"01-20\", \"01-21\", \"01-22\", \"01-23\", \"01-24\", \"01-25\", \"01-26\", \"01-27\", \"01-28\", \"01-29\", \"01-30\", \"01-31\", \"02-01\", \"02-02\", \"02-03\", \"02-04\", \"02-05\", \"02-06\", \"02-07\", \"02-08\", \"02-09\", \"02-10\", \"02-11\", \"02-12\", \"02-13\", \"02-14\", \"02-15\", \"02-16\", \"02-17\", \"02-18\", \"02-19\", \"02-20\", \"02-21\", \"02-22\", \"02-23\", \"02-24\", \"02-25\", \"02-26\", \"02-27\", \"02-28\", \"03-01\", \"03-02\", \"03-03\", \"03-04\", \"03-05\", \"03-06\", \"03-07\", \"03-08\", \"03-09\", \"03-10\", \"03-11\", \"03-12\", \"03-13\", \"03-14\", \"03-15\", \"03-16\", \"03-17\", \"03-18\", \"03-19\", \"03-20\", \"03-21\", \"03-22\", \"03-23\", \"03-24\", \"03-25\", \"03-26\", \"03-27\", \"03-28\", \"03-29\", \"03-30\", \"03-31\", \"04-01\", \"04-02\", \"04-03\", \"04-04\", \"04-05\", \"04-06\", \"04-07\", \"04-08\", \"04-09\", \"04-10\", \"04-11\", \"04-12\", \"04-13\", \"04-14\", \"04-15\", \"04-16\", \"04-17\", \"04-18\"], \"tickvals\": [\"18-01-01\", \"18-01-02\", \"18-01-03\", \"18-01-04\", \"18-01-05\", \"18-01-06\", \"18-01-07\", \"18-01-08\", \"18-01-09\", \"18-01-10\", \"18-01-11\", \"18-01-12\", \"18-01-13\", \"18-01-14\", \"18-01-15\", \"18-01-16\", \"18-01-17\", \"18-01-18\", \"18-01-19\", \"18-01-20\", \"18-01-21\", \"18-01-22\", \"18-01-23\", \"18-01-24\", \"18-01-25\", \"18-01-26\", \"18-01-27\", \"18-01-28\", \"18-01-29\", \"18-01-30\", \"18-01-31\", \"18-02-01\", \"18-02-02\", \"18-02-03\", \"18-02-04\", \"18-02-05\", \"18-02-06\", \"18-02-07\", \"18-02-08\", \"18-02-09\", \"18-02-10\", \"18-02-11\", \"18-02-12\", \"18-02-13\", \"18-02-14\", \"18-02-15\", \"18-02-16\", \"18-02-17\", \"18-02-18\", \"18-02-19\", \"18-02-20\", \"18-02-21\", \"18-02-22\", \"18-02-23\", \"18-02-24\", \"18-02-25\", \"18-02-26\", \"18-02-27\", \"18-02-28\", \"18-03-01\", \"18-03-02\", \"18-03-03\", \"18-03-04\", \"18-03-05\", \"18-03-06\", \"18-03-07\", \"18-03-08\", \"18-03-09\", \"18-03-10\", \"18-03-11\", \"18-03-12\", \"18-03-13\", \"18-03-14\", \"18-03-15\", \"18-03-16\", \"18-03-17\", \"18-03-18\", \"18-03-19\", \"18-03-20\", \"18-03-21\", \"18-03-22\", \"18-03-23\", \"18-03-24\", \"18-03-25\", \"18-03-26\", \"18-03-27\", \"18-03-28\", \"18-03-29\", \"18-03-30\", \"18-03-31\", \"18-04-01\", \"18-04-02\", \"18-04-03\", \"18-04-04\", \"18-04-05\", \"18-04-06\", \"18-04-07\", \"18-04-08\", \"18-04-09\", \"18-04-10\", \"18-04-11\", \"18-04-12\", \"18-04-13\", \"18-04-14\", \"18-04-15\", \"18-04-16\", \"18-04-17\", \"18-04-18\"], \"tickfont\": {\"size\": 11}, \"ticklen\": 10, \"showgrid\": true}, \"yaxis\": {\"ticklen\": 10}, \"legend\": {\"x\": 0.1, \"font\": {\"size\": 16}}}, {\"showLink\": true, \"linkText\": \"Export to plot.ly\"})});</script>"
      ],
      "text/vnd.plotly.v1+html": [
       "<div id=\"c7879c93-7044-48e0-af0c-b8c3d2376e98\" style=\"height: 1200px; width: 1600px;\" class=\"plotly-graph-div\"></div><script type=\"text/javascript\">require([\"plotly\"], function(Plotly) { window.PLOTLYENV=window.PLOTLYENV || {};window.PLOTLYENV.BASE_URL=\"https://plot.ly\";Plotly.newPlot(\"c7879c93-7044-48e0-af0c-b8c3d2376e98\", [{\"type\": \"bar\", \"x\": [\"2018-01-01\", \"2018-01-02\", \"2018-01-03\", \"2018-01-04\", \"2018-01-05\", \"2018-01-06\", \"2018-01-07\", \"2018-01-08\", \"2018-01-09\", \"2018-01-10\", \"2018-01-11\", \"2018-01-12\", \"2018-01-13\", \"2018-01-14\", \"2018-01-15\", \"2018-01-16\", \"2018-01-17\", \"2018-01-18\", \"2018-01-19\", \"2018-01-20\", \"2018-01-21\", \"2018-01-22\", \"2018-01-23\", \"2018-01-24\", \"2018-01-25\", \"2018-01-26\", \"2018-01-27\", \"2018-01-28\", \"2018-01-29\", \"2018-01-30\", \"2018-01-31\", \"2018-02-01\", \"2018-02-02\", \"2018-02-03\", \"2018-02-04\", \"2018-02-05\", \"2018-02-06\", \"2018-02-07\", \"2018-02-08\", \"2018-02-09\", \"2018-02-10\", \"2018-02-11\", \"2018-02-12\", \"2018-02-13\", \"2018-02-14\", \"2018-02-15\", \"2018-02-16\", \"2018-02-17\", \"2018-02-18\", \"2018-02-19\", \"2018-02-20\", \"2018-02-21\", \"2018-02-22\", \"2018-02-23\", \"2018-02-24\", \"2018-02-25\", \"2018-02-26\", \"2018-02-27\", \"2018-02-28\", \"2018-03-01\", \"2018-03-02\", \"2018-03-03\", \"2018-03-04\", \"2018-03-05\", \"2018-03-06\", \"2018-03-07\", \"2018-03-08\", \"2018-03-09\", \"2018-03-10\", \"2018-03-11\", \"2018-03-12\", \"2018-03-13\", \"2018-03-14\", \"2018-03-15\", \"2018-03-16\", \"2018-03-17\", \"2018-03-18\", \"2018-03-19\", \"2018-03-20\", \"2018-03-21\", \"2018-03-22\", \"2018-03-23\", \"2018-03-24\", \"2018-03-25\", \"2018-03-26\", \"2018-03-27\", \"2018-03-28\", \"2018-03-29\", \"2018-03-30\", \"2018-03-31\", \"2018-04-01\", \"2018-04-02\", \"2018-04-03\", \"2018-04-04\", \"2018-04-05\", \"2018-04-06\", \"2018-04-07\", \"2018-04-08\", \"2018-04-09\", \"2018-04-10\", \"2018-04-11\", \"2018-04-12\", \"2018-04-13\", \"2018-04-14\", \"2018-04-15\", \"2018-04-16\", \"2018-04-17\", \"2018-04-18\"], \"y\": [67.0, 1.0, 0.0, 0.0, 1.0, 0.0, 0.0, 0.0, 0.0, 0.0, 0.0, 0.0, 0.0, 0.0, 0.0, 0.0, 0.0, 0.0, 0.0, 0.0, 0.0, 0.0, 0.0, 0.0, 0.0, 0.0, 0.0, 0.0, 0.0, 0.0, 0.0, 0.0, 0.0, 0.0, 0.0, 0.0, 0.0, 0.0, 0.0, 0.0, 0.0, 0.0, 0.0, 0.0, 0.0, 0.0, 0.0, 0.0, 0.0, 1.0, 1.0, 0.0, 0.0, 0.0, 0.0, 0.0, 0.0, 0.0, 0.0, 0.0, 0.0, 1.0, 1.0, 0.0, 0.0, 0.0, 1.0, 0.0, 0.0, 0.0, 1.0, 1.0, 0.0, 0.0, 0.0, 0.0, 0.0, 10.0, 12.0, 4.0, 3.0, 6.0, 3.0, 3.0, 4.0, 2.0, 0.0, 3.0, 4.0, 1.0, 6.0, 2.0, 7.0, 9.0, 5.0, 10.0, 4.0, 3.0, 11.0, 7.0, 6.0, 9.0, 10.0, 6.0, 4.0, 10.0, 10.0, 6.0], \"text\": [67.0, 1.0, 0.0, 0.0, 1.0, 0.0, 0.0, 0.0, 0.0, 0.0, 0.0, 0.0, 0.0, 0.0, 0.0, 0.0, 0.0, 0.0, 0.0, 0.0, 0.0, 0.0, 0.0, 0.0, 0.0, 0.0, 0.0, 0.0, 0.0, 0.0, 0.0, 0.0, 0.0, 0.0, 0.0, 0.0, 0.0, 0.0, 0.0, 0.0, 0.0, 0.0, 0.0, 0.0, 0.0, 0.0, 0.0, 0.0, 0.0, 1.0, 1.0, 0.0, 0.0, 0.0, 0.0, 0.0, 0.0, 0.0, 0.0, 0.0, 0.0, 1.0, 1.0, 0.0, 0.0, 0.0, 1.0, 0.0, 0.0, 0.0, 1.0, 1.0, 0.0, 0.0, 0.0, 0.0, 0.0, 10.0, 12.0, 4.0, 3.0, 6.0, 3.0, 3.0, 4.0, 2.0, 0.0, 3.0, 4.0, 1.0, 6.0, 2.0, 7.0, 9.0, 5.0, 10.0, 4.0, 3.0, 11.0, 7.0, 6.0, 9.0, 10.0, 6.0, 4.0, 10.0, 10.0, 6.0], \"textposition\": \"outside\", \"name\": \"\\u6bcf\\u65e5\\u63d0\\u4ea4\\u6570\"}], {\"title\": \"\\u9500\\u91cf\\u8d8b\\u52bf\\u56fe<br>\\u603b\\u6570:256\", \"titlefont\": {\"color\": \"#000000\", \"size\": 25}, \"height\": 1200, \"width\": 1600, \"bargap\": 0.1, \"xaxis\": {\"type\": \"date\", \"ticks\": \"outside\", \"showticklabels\": true, \"ticktext\": [\"01-01\", \"01-02\", \"01-03\", \"01-04\", \"01-05\", \"01-06\", \"01-07\", \"01-08\", \"01-09\", \"01-10\", \"01-11\", \"01-12\", \"01-13\", \"01-14\", \"01-15\", \"01-16\", \"01-17\", \"01-18\", \"01-19\", \"01-20\", \"01-21\", \"01-22\", \"01-23\", \"01-24\", \"01-25\", \"01-26\", \"01-27\", \"01-28\", \"01-29\", \"01-30\", \"01-31\", \"02-01\", \"02-02\", \"02-03\", \"02-04\", \"02-05\", \"02-06\", \"02-07\", \"02-08\", \"02-09\", \"02-10\", \"02-11\", \"02-12\", \"02-13\", \"02-14\", \"02-15\", \"02-16\", \"02-17\", \"02-18\", \"02-19\", \"02-20\", \"02-21\", \"02-22\", \"02-23\", \"02-24\", \"02-25\", \"02-26\", \"02-27\", \"02-28\", \"03-01\", \"03-02\", \"03-03\", \"03-04\", \"03-05\", \"03-06\", \"03-07\", \"03-08\", \"03-09\", \"03-10\", \"03-11\", \"03-12\", \"03-13\", \"03-14\", \"03-15\", \"03-16\", \"03-17\", \"03-18\", \"03-19\", \"03-20\", \"03-21\", \"03-22\", \"03-23\", \"03-24\", \"03-25\", \"03-26\", \"03-27\", \"03-28\", \"03-29\", \"03-30\", \"03-31\", \"04-01\", \"04-02\", \"04-03\", \"04-04\", \"04-05\", \"04-06\", \"04-07\", \"04-08\", \"04-09\", \"04-10\", \"04-11\", \"04-12\", \"04-13\", \"04-14\", \"04-15\", \"04-16\", \"04-17\", \"04-18\"], \"tickvals\": [\"18-01-01\", \"18-01-02\", \"18-01-03\", \"18-01-04\", \"18-01-05\", \"18-01-06\", \"18-01-07\", \"18-01-08\", \"18-01-09\", \"18-01-10\", \"18-01-11\", \"18-01-12\", \"18-01-13\", \"18-01-14\", \"18-01-15\", \"18-01-16\", \"18-01-17\", \"18-01-18\", \"18-01-19\", \"18-01-20\", \"18-01-21\", \"18-01-22\", \"18-01-23\", \"18-01-24\", \"18-01-25\", \"18-01-26\", \"18-01-27\", \"18-01-28\", \"18-01-29\", \"18-01-30\", \"18-01-31\", \"18-02-01\", \"18-02-02\", \"18-02-03\", \"18-02-04\", \"18-02-05\", \"18-02-06\", \"18-02-07\", \"18-02-08\", \"18-02-09\", \"18-02-10\", \"18-02-11\", \"18-02-12\", \"18-02-13\", \"18-02-14\", \"18-02-15\", \"18-02-16\", \"18-02-17\", \"18-02-18\", \"18-02-19\", \"18-02-20\", \"18-02-21\", \"18-02-22\", \"18-02-23\", \"18-02-24\", \"18-02-25\", \"18-02-26\", \"18-02-27\", \"18-02-28\", \"18-03-01\", \"18-03-02\", \"18-03-03\", \"18-03-04\", \"18-03-05\", \"18-03-06\", \"18-03-07\", \"18-03-08\", \"18-03-09\", \"18-03-10\", \"18-03-11\", \"18-03-12\", \"18-03-13\", \"18-03-14\", \"18-03-15\", \"18-03-16\", \"18-03-17\", \"18-03-18\", \"18-03-19\", \"18-03-20\", \"18-03-21\", \"18-03-22\", \"18-03-23\", \"18-03-24\", \"18-03-25\", \"18-03-26\", \"18-03-27\", \"18-03-28\", \"18-03-29\", \"18-03-30\", \"18-03-31\", \"18-04-01\", \"18-04-02\", \"18-04-03\", \"18-04-04\", \"18-04-05\", \"18-04-06\", \"18-04-07\", \"18-04-08\", \"18-04-09\", \"18-04-10\", \"18-04-11\", \"18-04-12\", \"18-04-13\", \"18-04-14\", \"18-04-15\", \"18-04-16\", \"18-04-17\", \"18-04-18\"], \"tickfont\": {\"size\": 11}, \"ticklen\": 10, \"showgrid\": true}, \"yaxis\": {\"ticklen\": 10}, \"legend\": {\"x\": 0.1, \"font\": {\"size\": 16}}}, {\"showLink\": true, \"linkText\": \"Export to plot.ly\"})});</script>"
      ]
     },
     "metadata": {},
     "output_type": "display_data"
    }
   ],
   "source": [
    "layout = go.Layout(\n",
    "    title='销量趋势图<br>总数:' + str(imeis),\n",
    "    titlefont=dict(color=title_color,size=25),\n",
    "    height=1200,\n",
    "    width=1600,\n",
    "    bargap=0.1,\n",
    "    xaxis = bandxaxis,\n",
    "    yaxis = dict(ticklen=10),\n",
    "    #bargroupgap=0.05,\n",
    "    #paper_bgcolor=paper_bgcolor,\n",
    "    #plot_bgcolor=plot_bgcolor,\n",
    "    legend=dict(\n",
    "        x=0.1,\n",
    "        font=dict(size=16),\n",
    "    )\n",
    ")\n",
    "\n",
    "fig = go.Figure(data=data,layout=layout)\n",
    "py.iplot(fig)"
   ]
  },
  {
   "cell_type": "code",
   "execution_count": null,
   "metadata": {
    "collapsed": true
   },
   "outputs": [],
   "source": []
  }
 ],
 "metadata": {
  "kernelspec": {
   "display_name": "Python 3",
   "language": "python",
   "name": "python3"
  },
  "language_info": {
   "codemirror_mode": {
    "name": "ipython",
    "version": 3
   },
   "file_extension": ".py",
   "mimetype": "text/x-python",
   "name": "python",
   "nbconvert_exporter": "python",
   "pygments_lexer": "ipython3",
   "version": "3.6.2"
  }
 },
 "nbformat": 4,
 "nbformat_minor": 2
}
