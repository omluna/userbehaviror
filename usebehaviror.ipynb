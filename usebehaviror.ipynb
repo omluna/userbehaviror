{
 "cells": [
  {
   "cell_type": "code",
   "execution_count": 35,
   "metadata": {
    "ExecuteTime": {
     "end_time": "2018-06-29T02:12:03.337541Z",
     "start_time": "2018-06-29T02:12:03.317915Z"
    }
   },
   "outputs": [
    {
     "data": {
      "text/html": [
       "<script>requirejs.config({paths: { 'plotly': ['https://cdn.plot.ly/plotly-latest.min']},});if(!window.Plotly) {{require(['plotly'],function(plotly) {window.Plotly=plotly;});}}</script>"
      ],
      "text/vnd.plotly.v1+html": [
       "<script>requirejs.config({paths: { 'plotly': ['https://cdn.plot.ly/plotly-latest.min']},});if(!window.Plotly) {{require(['plotly'],function(plotly) {window.Plotly=plotly;});}}</script>"
      ]
     },
     "metadata": {},
     "output_type": "display_data"
    }
   ],
   "source": [
    "import sys\n",
    "import pprint\n",
    "import datetime\n",
    "from tlslite.utils import keyfactory\n",
    "import pymongo\n",
    "import pprint\n",
    "import math\n",
    "import pandas as pd\n",
    "import numpy as np\n",
    "from plotly import tools\n",
    "import plotly.graph_objs as go\n",
    "import plotly.offline as py\n",
    "import os\n",
    "import requests\n",
    "import time\n",
    "from bs4 import BeautifulSoup\n",
    "\n",
    "py.init_notebook_mode(connected=True)"
   ]
  },
  {
   "cell_type": "code",
   "execution_count": 5,
   "metadata": {
    "ExecuteTime": {
     "end_time": "2018-06-29T01:42:52.948172Z",
     "start_time": "2018-06-29T01:42:16.106657Z"
    },
    "collapsed": true
   },
   "outputs": [],
   "source": [
    "client = pymongo.MongoClient('18.8.8.120')\n",
    "cydb = client.cy_useract\n",
    "issues = pd.DataFrame(list(cydb.useract_info.find()))\n",
    "del issues['_id']\n",
    "len(issues)\n",
    "valid_data = issues.loc[issues['IMEI'].apply(lambda x:len(x.split(';')) == 2)]\n",
    "\n",
    "client = pymongo.MongoClient('18.8.8.209')\n",
    "cydb = client.cy\n",
    "#topapps = pd.DataFrame(list(cydb.topapps.find(projection={'name': 1, 'package_name':1})))\n",
    "#del topapps['_id']\n",
    "#cy_packages = pd.DataFrame(list(cydb.cy_packages.find()))\n",
    "#del cy_packages['_id']"
   ]
  },
  {
   "cell_type": "code",
   "execution_count": 13,
   "metadata": {
    "ExecuteTime": {
     "end_time": "2018-06-29T01:53:45.573702Z",
     "start_time": "2018-06-29T01:53:45.567809Z"
    }
   },
   "outputs": [
    {
     "data": {
      "text/plain": [
       "573451"
      ]
     },
     "execution_count": 13,
     "metadata": {},
     "output_type": "execute_result"
    }
   ],
   "source": [
    "len(issues)"
   ]
  },
  {
   "cell_type": "code",
   "execution_count": 31,
   "metadata": {
    "ExecuteTime": {
     "end_time": "2018-06-29T02:08:35.201951Z",
     "start_time": "2018-06-29T02:08:35.179596Z"
    },
    "collapsed": true
   },
   "outputs": [],
   "source": [
    "#获取包对应的应用名\n",
    "total_apps = pd.DataFrame(list(cydb.package2name.find(projection={'_id':0, 'name': 1, 'package_name':1})))\n",
    "total_apps_names = total_apps.set_index('package_name').to_dict()['name']"
   ]
  },
  {
   "cell_type": "code",
   "execution_count": 6,
   "metadata": {
    "ExecuteTime": {
     "end_time": "2018-06-29T01:53:12.442300Z",
     "start_time": "2018-06-29T01:53:11.094405Z"
    },
    "collapsed": true
   },
   "outputs": [],
   "source": [
    "#获取3月，4月的数据\n",
    "last_2month = datetime.datetime(2018, 4, 18).timestamp()\n",
    "last_month = datetime.datetime(2018, 5, 18).timestamp()\n",
    "cur_month = datetime.datetime(2018, 6, 18).timestamp()\n",
    "\n",
    "df_last_month = valid_data[(valid_data['wallTime'] >= last_2month) & (valid_data['wallTime'] < last_month)]\n",
    "df_cur_month = valid_data[(valid_data['wallTime'] >= last_month) & (valid_data['wallTime'] < cur_month)]"
   ]
  },
  {
   "cell_type": "code",
   "execution_count": 7,
   "metadata": {
    "ExecuteTime": {
     "end_time": "2018-06-29T01:53:15.139179Z",
     "start_time": "2018-06-29T01:53:15.116384Z"
    },
    "collapsed": true,
    "scrolled": true
   },
   "outputs": [],
   "source": [
    "###获取包名\n",
    "def get_name_from_google(package_name):\n",
    "    name = 'Not Found'\n",
    "    url = \"https://play.google.com/store/apps/details\"\n",
    "    querystring = {\"id\":package_name}\n",
    "\n",
    "    headers = {\n",
    "        'accept': \"text/html,application/xhtml+xml,application/xml;q=0.9,image/webp,image/apng,*/*;q=0.8\",\n",
    "        'accept-encoding': \"gzip, deflate, br\",\n",
    "        'accept-language': \"zh-CN,zh;q=0.9,en;q=0.8,zh-TW;q=0.7\",\n",
    "        'upgrade-insecure-requests': \"1\",\n",
    "        'cookie': 'SID=DAaVKqDYVfUDOvDttkKw4L9_fFoj3k4amZyPFCJv2-JrhZoD2gLvVPLqDS9ipsTYjwXWmw.; HSID=Az021_6ePZogKY8cM; SSID=ACpzbNvy8_x8Vnybk; APISID=7S1tb3ZsgGv_bYvR/ACjOTyZPnt4umXRCq; SAPISID=xjIFc_YmAa63ey27/AmEbiR4E6aujvkXPS; NID=130=ab4LxWGm30bUFH_KitKmxCkBbExye2K9qU5VTdygb49TBNA1a8pN4jyad6LYrAPvhIpVO6_iNDLTOJuWxrwzgPd3qCm6uC6LFx8txajCZp-xDO7tdQIGf_eQYLM_BVGPdAQ47Oa2WUX_9DshsR3iJItArmKVShCwPvA2HCFO6XLBDaHjyRpXAhPrYKZfGIQ0PVYRkT8hBjzDCtPM4VcHKbSmMi0SCQ1dVGJDTKbALIYYCBwODH_mQsStZA4FHzSzT71NG-xMPONgrzmi9h6Nm1Xo; OGPC=19005936-1:; S=billing-ui-v3=H2iK8QW8I6T65a977LlFh58Un3NygpND:billing-ui-v3-efe=H2iK8QW8I6T65a977LlFh58Un3NygpND; SIDCC=AEfoLebYzi5VJ4REqjhIorMwY7WG7kadx86R29vcphaujmkiGT8I2tDqnP5_VwSYG_kLoRECJg; 1P_JAR=2018-5-18-7',\n",
    "        'user-agent': \"Mozilla/5.0 (Macintosh; Intel Mac OS X 10_13_4) AppleWebKit/537.36  \\\n",
    "        (KHTML, like Gecko) Chrome/65.0.3325.181 Safari/537.36\",\n",
    "        'x-client-data': \"CKe1yQEIibbJAQiltskBCMG2yQEIq5jKAQipncoBCN6eygEIqKPKARiSo8oB\",\n",
    "        'cache-control': \"no-cache\",\n",
    "        }\n",
    "\n",
    "    response = requests.request(\"GET\", url, headers=headers, params=querystring)\n",
    "\n",
    "    if response.status_code == 200:\n",
    "        soup_app = BeautifulSoup(response.text, 'lxml')\n",
    "        href_all = soup_app.find_all('h1')\n",
    "        name = href_all[0].span.string\n",
    "        \n",
    "    return name"
   ]
  },
  {
   "cell_type": "code",
   "execution_count": 36,
   "metadata": {
    "ExecuteTime": {
     "end_time": "2018-06-29T02:12:28.607719Z",
     "start_time": "2018-06-29T02:12:28.426933Z"
    },
    "code_folding": [],
    "collapsed": true
   },
   "outputs": [],
   "source": [
    "def get_bar_table_data(cur_month, last_month, rate=True, need_other=True):\n",
    "    top30_click = cur_month[-30:]\n",
    "    others = cur_month.sum() - top30_click.sum()\n",
    "    \n",
    "    if need_other:\n",
    "        top31_click = top30_click.append(pd.Series({'Others':others})).sort_values()\n",
    "    else:\n",
    "        top31_click = top30_click\n",
    "    appclick_diff = cur_month.sub(last_month, fill_value=0)[list(top30_click.index)]\n",
    "\n",
    "    package_name_diff = list(appclick_diff.index)\n",
    "    package_name_diff.reverse()\n",
    "\n",
    "    app_name_diff = []\n",
    "    for package in package_name_diff:\n",
    "        if package in total_apps_names.keys():\n",
    "            if total_apps_names[package] != 'Not Found':\n",
    "                app_name_diff.append(total_apps_names[package])\n",
    "            else:\n",
    "                app_name_diff.append(package)\n",
    "        else:\n",
    "            print('1 get package name from google:' + package)\n",
    "            name = get_name_from_google(package)\n",
    "            total_apps_names[package] = name\n",
    "            if name == 'Not Found':\n",
    "                app_name_diff.append(package)\n",
    "            else:\n",
    "                app_name_diff.append(name)\n",
    "                cydb.package2name.insert_one({'name':name, 'package_name':package})\n",
    "            time.sleep(2)\n",
    "    \n",
    "    value_diff = list(appclick_diff.values)\n",
    "    value_diff.reverse()\n",
    "    \n",
    "    packages_name = []\n",
    "    package_list = list(total_apps['package_name'])\n",
    "    for package in top31_click.index:\n",
    "        if package in total_apps_names.keys():\n",
    "            if total_apps_names[package] != 'Not Found':\n",
    "                packages_name.append(total_apps_names[package])\n",
    "            else:\n",
    "                packages_name.append(package)\n",
    "        else:\n",
    "            print('3 get package name from google:' + package)\n",
    "            name = get_name_from_google(package)\n",
    "            total_apps_names[package] = name\n",
    "            if name == 'Not Found':\n",
    "                packages_name.append(package)\n",
    "            else:\n",
    "                packages_name.append(name)\n",
    "                cydb.package2name.insert_one({'name':name, 'package_name':package})\n",
    "            time.sleep(2)\n",
    "    \n",
    "    bar_data = {}\n",
    "    bar_data['y'] = packages_name\n",
    "    bar_data['x'] = top31_click.values\n",
    "    if rate:\n",
    "        bar_data['text'] = top31_click.apply(lambda x:'{:.2f}%'.format(x*100)).values\n",
    "        table_data = [app_name_diff, ['{:.2f}%'.format(x*100) for x in value_diff]]\n",
    "    else:\n",
    "        bar_data['text'] = top31_click.apply(lambda x:round(x,1)).values\n",
    "        table_data = [app_name_diff, [round(x,1) for x in value_diff]]\n",
    "    \n",
    "    \n",
    "    return bar_data, table_data"
   ]
  },
  {
   "cell_type": "code",
   "execution_count": 37,
   "metadata": {
    "ExecuteTime": {
     "end_time": "2018-06-29T02:12:29.824257Z",
     "start_time": "2018-06-29T02:12:29.796156Z"
    },
    "code_folding": [
     0
    ],
    "collapsed": true
   },
   "outputs": [],
   "source": [
    "def draw_bar_table(bar_data, table_data, height, width, title, table_pos={'x':[0.45, 0.9], 'y':[0, 0.8]}):\n",
    "    table_trace = go.Table(\n",
    "        domain=table_pos,\n",
    "        columnwidth = [52]*2,\n",
    "        columnorder=[0, 1],\n",
    "        header = dict(height = 25,\n",
    "                    values = [['<b>名称</b>'],['<b>与上月同比</b>'],],\n",
    "                    line = dict(color='#000000'),\n",
    "                    align = ['left'] * 2,\n",
    "                    font = dict(color=['#FFFFFF'] * 2, size=14),\n",
    "                    fill = dict(color='#2d5b6c')),\n",
    "        cells = dict(values = table_data,\n",
    "                    line = dict(color='#000000'),\n",
    "                    align = ['left'] * 2,\n",
    "                    font = dict(color=['#FFFFFF'] * 2, size=12),\n",
    "                    #format = [None]*4 + [',.2f'],\n",
    "                    #prefix = [None] * 2 + ['$', u'\\u20BF'],\n",
    "                    #suffix=[None] * 4,\n",
    "                    height = 25,\n",
    "                    fill = dict(color=['#68a4b9', '#526372']))\n",
    "    )\n",
    "\n",
    "    trace = go.Bar(y=bar_data['y'], x=bar_data['x'], orientation = 'h',\n",
    "                  text = bar_data['text'],textposition = 'outside',)\n",
    "\n",
    "    layout = go.Layout(\n",
    "        title=title,\n",
    "        height=height,\n",
    "        width=width,\n",
    "        margin=dict(l=300,r=0),\n",
    "        yaxis = dict(ticklen=2)\n",
    "    )\n",
    "\n",
    "    fig = go.Figure(data=[trace,table_trace],layout=layout)\n",
    "    py.iplot(fig)\n"
   ]
  },
  {
   "cell_type": "code",
   "execution_count": 38,
   "metadata": {
    "ExecuteTime": {
     "end_time": "2018-06-29T02:12:32.503731Z",
     "start_time": "2018-06-29T02:12:31.607134Z"
    },
    "collapsed": true
   },
   "outputs": [],
   "source": [
    "imeis_cur_month = len(df_cur_month['IMEI'].unique())\n",
    "imeis_last_month = len(df_last_month['IMEI'].unique())\n",
    "\n",
    "total_appclick_cur_month = df_cur_month[df_cur_month['name'] == 'appclick']\n",
    "total_appclick_last_month = df_last_month[df_last_month['name'] == 'appclick']"
   ]
  },
  {
   "cell_type": "code",
   "execution_count": 41,
   "metadata": {
    "ExecuteTime": {
     "end_time": "2018-06-29T02:13:54.194105Z",
     "start_time": "2018-06-29T02:13:27.701308Z"
    }
   },
   "outputs": [
    {
     "name": "stdout",
     "output_type": "stream",
     "text": [
      "1 get package name from google:com.android.chrome\n",
      "1 get package name from google:com.nemo.vidmate\n",
      "1 get package name from google:com.truecaller\n",
      "1 get package name from google:com.katecca.screenofflock\n",
      "1 get package name from google:com.google.android.googlequicksearchbox\n",
      "1 get package name from google:com.linecorp.b612.android\n",
      "3 get package name from google:Others\n"
     ]
    }
   ],
   "source": [
    "appclick_cur_month = total_appclick_cur_month.groupby(['attrs_packagename']).size().sort_values().truediv(len(total_appclick_cur_month))\n",
    "appclick_last_month = total_appclick_last_month.groupby(['attrs_packagename']).size().sort_values().truediv(len(total_appclick_last_month))\n",
    "\n",
    "title='点击次数排名<br>总点击数:{}  设备数:{}'.format(len(total_appclick_cur_month), imeis_cur_month)\n",
    "bar_data, table_data = get_bar_table_data(appclick_cur_month, appclick_last_month)"
   ]
  },
  {
   "cell_type": "code",
   "execution_count": 44,
   "metadata": {
    "ExecuteTime": {
     "end_time": "2018-06-29T02:15:22.182880Z",
     "start_time": "2018-06-29T02:15:22.172488Z"
    },
    "scrolled": true
   },
   "outputs": [
    {
     "data": {
      "application/vnd.plotly.v1+json": {
       "data": [
        {
         "orientation": "h",
         "text": [
          "0.29%",
          "0.31%",
          "0.37%",
          "0.37%",
          "0.39%",
          "0.39%",
          "0.42%",
          "0.48%",
          "0.50%",
          "0.55%",
          "0.61%",
          "0.62%",
          "0.63%",
          "0.75%",
          "1.01%",
          "1.20%",
          "1.51%",
          "1.60%",
          "1.85%",
          "1.87%",
          "1.92%",
          "2.03%",
          "2.17%",
          "2.76%",
          "2.86%",
          "6.03%",
          "6.78%",
          "11.10%",
          "12.37%",
          "16.71%",
          "19.56%"
         ],
         "textposition": "outside",
         "type": "bar",
         "x": [
          0.0029462364459970644,
          0.003067242585743372,
          0.0036617510114534944,
          0.0036933178305177485,
          0.003882718744903274,
          0.003940591246521074,
          0.004198386935545816,
          0.004766589678702394,
          0.004982296275641464,
          0.005534715609265914,
          0.0060923960794010724,
          0.006181835400083126,
          0.006313363812850852,
          0.007539208619846059,
          0.010054031871964983,
          0.011979607834884491,
          0.015109984058756373,
          0.015972810446512657,
          0.018513939381185125,
          0.01870860143208136,
          0.019155798035491625,
          0.020313248067847615,
          0.02167588242412126,
          0.027584138725647515,
          0.028620582618257197,
          0.06031893009527918,
          0.0678370941690824,
          0.11098893582991798,
          0.12366301368421606,
          0.16709369558011922,
          0.19560905546816224
         ],
         "y": [
          "CY Change",
          "B612 - Beauty & Filter Camera",
          "Google",
          "Screen Off and Lock",
          "CY System manager",
          "CY Flashlight",
          "Truecaller: Caller ID, SMS spam blocking & Dialer",
          "Snapchat",
          "CY Calculator",
          "SoundCloud - Music & Audio",
          "com.nemo.vidmate",
          "Android Browser",
          "Facebook Lite",
          "Google Chrome: Fast & Secure",
          "com.WhatsApp2Plus",
          "CY Video",
          "SHAREit - Transfer & Share",
          "CY Music",
          "com.android.vending",
          "CY File manager",
          "Instagram",
          "YouTube",
          "CY Settings",
          "CY Camera",
          "Android MMS",
          "CY Gallery",
          "Messenger – Text and Video Chat for Free",
          "Facebook",
          "Others",
          "WhatsApp Messenger",
          "CY Contacts"
         ]
        },
        {
         "cells": {
          "align": [
           "left",
           "left"
          ],
          "fill": {
           "color": [
            "#68a4b9",
            "#526372"
           ]
          },
          "font": {
           "color": [
            "#FFFFFF",
            "#FFFFFF"
           ],
           "size": 12
          },
          "height": 25,
          "line": {
           "color": "#000000"
          },
          "values": [
           [
            "CY Contacts",
            "WhatsApp Messenger",
            "Facebook",
            "Messenger – Text and Video Chat for Free",
            "CY Gallery",
            "Android MMS",
            "CY Camera",
            "CY Settings",
            "YouTube",
            "Instagram",
            "CY File manager",
            "com.android.vending",
            "CY Music",
            "SHAREit - Transfer & Share",
            "CY Video",
            "com.WhatsApp2Plus",
            "Google Chrome: Fast & Secure",
            "Facebook Lite",
            "Android Browser",
            "com.nemo.vidmate",
            "SoundCloud - Music & Audio",
            "CY Calculator",
            "Snapchat",
            "Truecaller: Caller ID, SMS spam blocking & Dialer",
            "CY Flashlight",
            "CY System manager",
            "Screen Off and Lock",
            "Google",
            "B612 - Beauty & Filter Camera",
            "CY Change"
           ],
           [
            "-0.35%",
            "3.45%",
            "0.78%",
            "-1.27%",
            "0.88%",
            "-0.05%",
            "-0.22%",
            "-1.13%",
            "0.06%",
            "0.23%",
            "-0.13%",
            "0.02%",
            "0.14%",
            "0.28%",
            "0.05%",
            "0.61%",
            "-0.12%",
            "-0.61%",
            "-0.08%",
            "0.05%",
            "-0.46%",
            "-0.08%",
            "0.09%",
            "0.08%",
            "-0.06%",
            "-0.09%",
            "0.08%",
            "-0.04%",
            "0.16%",
            "-0.08%"
           ]
          ]
         },
         "columnorder": [
          0,
          1
         ],
         "columnwidth": [
          52,
          52
         ],
         "domain": {
          "x": [
           0.45,
           0.9
          ],
          "y": [
           0,
           0.8
          ]
         },
         "header": {
          "align": [
           "left",
           "left"
          ],
          "fill": {
           "color": "#2d5b6c"
          },
          "font": {
           "color": [
            "#FFFFFF",
            "#FFFFFF"
           ],
           "size": 14
          },
          "height": 25,
          "line": {
           "color": "#000000"
          },
          "values": [
           [
            "<b>名称</b>"
           ],
           [
            "<b>与上月同比</b>"
           ]
          ]
         },
         "type": "table"
        }
       ],
       "layout": {
        "height": 1300,
        "margin": {
         "l": 300,
         "r": 0
        },
        "title": "点击次数排名<br>总点击数:190073  设备数:372",
        "width": 1300,
        "yaxis": {
         "ticklen": 2
        }
       }
      },
      "text/html": [
       "<div id=\"c78cda8b-ce95-444c-856b-0480000d9bc3\" style=\"height: 1300px; width: 1300px;\" class=\"plotly-graph-div\"></div><script type=\"text/javascript\">require([\"plotly\"], function(Plotly) { window.PLOTLYENV=window.PLOTLYENV || {};window.PLOTLYENV.BASE_URL=\"https://plot.ly\";Plotly.newPlot(\"c78cda8b-ce95-444c-856b-0480000d9bc3\", [{\"type\": \"bar\", \"y\": [\"CY Change\", \"B612 - Beauty & Filter Camera\", \"Google\", \"Screen Off and Lock\", \"CY System manager\", \"CY Flashlight\", \"Truecaller: Caller ID, SMS spam blocking & Dialer\", \"Snapchat\", \"CY Calculator\", \"SoundCloud - Music & Audio\", \"com.nemo.vidmate\", \"Android Browser\", \"Facebook Lite\", \"Google Chrome: Fast & Secure\", \"com.WhatsApp2Plus\", \"CY Video\", \"SHAREit - Transfer & Share\", \"CY Music\", \"com.android.vending\", \"CY File manager\", \"Instagram\", \"YouTube\", \"CY Settings\", \"CY Camera\", \"Android MMS\", \"CY Gallery\", \"Messenger \\u2013 Text and Video Chat for Free\", \"Facebook\", \"Others\", \"WhatsApp Messenger\", \"CY Contacts\"], \"x\": [0.0029462364459970644, 0.003067242585743372, 0.0036617510114534944, 0.0036933178305177485, 0.003882718744903274, 0.003940591246521074, 0.004198386935545816, 0.004766589678702394, 0.004982296275641464, 0.005534715609265914, 0.0060923960794010724, 0.006181835400083126, 0.006313363812850852, 0.007539208619846059, 0.010054031871964983, 0.011979607834884491, 0.015109984058756373, 0.015972810446512657, 0.018513939381185125, 0.01870860143208136, 0.019155798035491625, 0.020313248067847615, 0.02167588242412126, 0.027584138725647515, 0.028620582618257197, 0.06031893009527918, 0.0678370941690824, 0.11098893582991798, 0.12366301368421606, 0.16709369558011922, 0.19560905546816224], \"orientation\": \"h\", \"text\": [\"0.29%\", \"0.31%\", \"0.37%\", \"0.37%\", \"0.39%\", \"0.39%\", \"0.42%\", \"0.48%\", \"0.50%\", \"0.55%\", \"0.61%\", \"0.62%\", \"0.63%\", \"0.75%\", \"1.01%\", \"1.20%\", \"1.51%\", \"1.60%\", \"1.85%\", \"1.87%\", \"1.92%\", \"2.03%\", \"2.17%\", \"2.76%\", \"2.86%\", \"6.03%\", \"6.78%\", \"11.10%\", \"12.37%\", \"16.71%\", \"19.56%\"], \"textposition\": \"outside\"}, {\"type\": \"table\", \"domain\": {\"x\": [0.45, 0.9], \"y\": [0, 0.8]}, \"columnwidth\": [52, 52], \"columnorder\": [0, 1], \"header\": {\"height\": 25, \"values\": [[\"<b>\\u540d\\u79f0</b>\"], [\"<b>\\u4e0e\\u4e0a\\u6708\\u540c\\u6bd4</b>\"]], \"line\": {\"color\": \"#000000\"}, \"align\": [\"left\", \"left\"], \"font\": {\"color\": [\"#FFFFFF\", \"#FFFFFF\"], \"size\": 14}, \"fill\": {\"color\": \"#2d5b6c\"}}, \"cells\": {\"values\": [[\"CY Contacts\", \"WhatsApp Messenger\", \"Facebook\", \"Messenger \\u2013 Text and Video Chat for Free\", \"CY Gallery\", \"Android MMS\", \"CY Camera\", \"CY Settings\", \"YouTube\", \"Instagram\", \"CY File manager\", \"com.android.vending\", \"CY Music\", \"SHAREit - Transfer & Share\", \"CY Video\", \"com.WhatsApp2Plus\", \"Google Chrome: Fast & Secure\", \"Facebook Lite\", \"Android Browser\", \"com.nemo.vidmate\", \"SoundCloud - Music & Audio\", \"CY Calculator\", \"Snapchat\", \"Truecaller: Caller ID, SMS spam blocking & Dialer\", \"CY Flashlight\", \"CY System manager\", \"Screen Off and Lock\", \"Google\", \"B612 - Beauty & Filter Camera\", \"CY Change\"], [\"-0.35%\", \"3.45%\", \"0.78%\", \"-1.27%\", \"0.88%\", \"-0.05%\", \"-0.22%\", \"-1.13%\", \"0.06%\", \"0.23%\", \"-0.13%\", \"0.02%\", \"0.14%\", \"0.28%\", \"0.05%\", \"0.61%\", \"-0.12%\", \"-0.61%\", \"-0.08%\", \"0.05%\", \"-0.46%\", \"-0.08%\", \"0.09%\", \"0.08%\", \"-0.06%\", \"-0.09%\", \"0.08%\", \"-0.04%\", \"0.16%\", \"-0.08%\"]], \"line\": {\"color\": \"#000000\"}, \"align\": [\"left\", \"left\"], \"font\": {\"color\": [\"#FFFFFF\", \"#FFFFFF\"], \"size\": 12}, \"height\": 25, \"fill\": {\"color\": [\"#68a4b9\", \"#526372\"]}}}], {\"title\": \"\\u70b9\\u51fb\\u6b21\\u6570\\u6392\\u540d<br>\\u603b\\u70b9\\u51fb\\u6570:190073  \\u8bbe\\u5907\\u6570:372\", \"height\": 1300, \"width\": 1300, \"margin\": {\"l\": 300, \"r\": 0}, \"yaxis\": {\"ticklen\": 2}}, {\"showLink\": true, \"linkText\": \"Export to plot.ly\"})});</script>"
      ],
      "text/vnd.plotly.v1+html": [
       "<div id=\"c78cda8b-ce95-444c-856b-0480000d9bc3\" style=\"height: 1300px; width: 1300px;\" class=\"plotly-graph-div\"></div><script type=\"text/javascript\">require([\"plotly\"], function(Plotly) { window.PLOTLYENV=window.PLOTLYENV || {};window.PLOTLYENV.BASE_URL=\"https://plot.ly\";Plotly.newPlot(\"c78cda8b-ce95-444c-856b-0480000d9bc3\", [{\"type\": \"bar\", \"y\": [\"CY Change\", \"B612 - Beauty & Filter Camera\", \"Google\", \"Screen Off and Lock\", \"CY System manager\", \"CY Flashlight\", \"Truecaller: Caller ID, SMS spam blocking & Dialer\", \"Snapchat\", \"CY Calculator\", \"SoundCloud - Music & Audio\", \"com.nemo.vidmate\", \"Android Browser\", \"Facebook Lite\", \"Google Chrome: Fast & Secure\", \"com.WhatsApp2Plus\", \"CY Video\", \"SHAREit - Transfer & Share\", \"CY Music\", \"com.android.vending\", \"CY File manager\", \"Instagram\", \"YouTube\", \"CY Settings\", \"CY Camera\", \"Android MMS\", \"CY Gallery\", \"Messenger \\u2013 Text and Video Chat for Free\", \"Facebook\", \"Others\", \"WhatsApp Messenger\", \"CY Contacts\"], \"x\": [0.0029462364459970644, 0.003067242585743372, 0.0036617510114534944, 0.0036933178305177485, 0.003882718744903274, 0.003940591246521074, 0.004198386935545816, 0.004766589678702394, 0.004982296275641464, 0.005534715609265914, 0.0060923960794010724, 0.006181835400083126, 0.006313363812850852, 0.007539208619846059, 0.010054031871964983, 0.011979607834884491, 0.015109984058756373, 0.015972810446512657, 0.018513939381185125, 0.01870860143208136, 0.019155798035491625, 0.020313248067847615, 0.02167588242412126, 0.027584138725647515, 0.028620582618257197, 0.06031893009527918, 0.0678370941690824, 0.11098893582991798, 0.12366301368421606, 0.16709369558011922, 0.19560905546816224], \"orientation\": \"h\", \"text\": [\"0.29%\", \"0.31%\", \"0.37%\", \"0.37%\", \"0.39%\", \"0.39%\", \"0.42%\", \"0.48%\", \"0.50%\", \"0.55%\", \"0.61%\", \"0.62%\", \"0.63%\", \"0.75%\", \"1.01%\", \"1.20%\", \"1.51%\", \"1.60%\", \"1.85%\", \"1.87%\", \"1.92%\", \"2.03%\", \"2.17%\", \"2.76%\", \"2.86%\", \"6.03%\", \"6.78%\", \"11.10%\", \"12.37%\", \"16.71%\", \"19.56%\"], \"textposition\": \"outside\"}, {\"type\": \"table\", \"domain\": {\"x\": [0.45, 0.9], \"y\": [0, 0.8]}, \"columnwidth\": [52, 52], \"columnorder\": [0, 1], \"header\": {\"height\": 25, \"values\": [[\"<b>\\u540d\\u79f0</b>\"], [\"<b>\\u4e0e\\u4e0a\\u6708\\u540c\\u6bd4</b>\"]], \"line\": {\"color\": \"#000000\"}, \"align\": [\"left\", \"left\"], \"font\": {\"color\": [\"#FFFFFF\", \"#FFFFFF\"], \"size\": 14}, \"fill\": {\"color\": \"#2d5b6c\"}}, \"cells\": {\"values\": [[\"CY Contacts\", \"WhatsApp Messenger\", \"Facebook\", \"Messenger \\u2013 Text and Video Chat for Free\", \"CY Gallery\", \"Android MMS\", \"CY Camera\", \"CY Settings\", \"YouTube\", \"Instagram\", \"CY File manager\", \"com.android.vending\", \"CY Music\", \"SHAREit - Transfer & Share\", \"CY Video\", \"com.WhatsApp2Plus\", \"Google Chrome: Fast & Secure\", \"Facebook Lite\", \"Android Browser\", \"com.nemo.vidmate\", \"SoundCloud - Music & Audio\", \"CY Calculator\", \"Snapchat\", \"Truecaller: Caller ID, SMS spam blocking & Dialer\", \"CY Flashlight\", \"CY System manager\", \"Screen Off and Lock\", \"Google\", \"B612 - Beauty & Filter Camera\", \"CY Change\"], [\"-0.35%\", \"3.45%\", \"0.78%\", \"-1.27%\", \"0.88%\", \"-0.05%\", \"-0.22%\", \"-1.13%\", \"0.06%\", \"0.23%\", \"-0.13%\", \"0.02%\", \"0.14%\", \"0.28%\", \"0.05%\", \"0.61%\", \"-0.12%\", \"-0.61%\", \"-0.08%\", \"0.05%\", \"-0.46%\", \"-0.08%\", \"0.09%\", \"0.08%\", \"-0.06%\", \"-0.09%\", \"0.08%\", \"-0.04%\", \"0.16%\", \"-0.08%\"]], \"line\": {\"color\": \"#000000\"}, \"align\": [\"left\", \"left\"], \"font\": {\"color\": [\"#FFFFFF\", \"#FFFFFF\"], \"size\": 12}, \"height\": 25, \"fill\": {\"color\": [\"#68a4b9\", \"#526372\"]}}}], {\"title\": \"\\u70b9\\u51fb\\u6b21\\u6570\\u6392\\u540d<br>\\u603b\\u70b9\\u51fb\\u6570:190073  \\u8bbe\\u5907\\u6570:372\", \"height\": 1300, \"width\": 1300, \"margin\": {\"l\": 300, \"r\": 0}, \"yaxis\": {\"ticklen\": 2}}, {\"showLink\": true, \"linkText\": \"Export to plot.ly\"})});</script>"
      ]
     },
     "metadata": {},
     "output_type": "display_data"
    }
   ],
   "source": [
    "draw_bar_table(bar_data, table_data, height=1300, width=1300, title=title)"
   ]
  },
  {
   "cell_type": "code",
   "execution_count": 16,
   "metadata": {
    "ExecuteTime": {
     "end_time": "2018-06-29T01:56:47.588321Z",
     "start_time": "2018-06-29T01:56:46.761019Z"
    }
   },
   "outputs": [
    {
     "data": {
      "text/plain": [
       "'Messenger – Text and Video Chat for Free'"
      ]
     },
     "execution_count": 16,
     "metadata": {},
     "output_type": "execute_result"
    }
   ],
   "source": [
    "get_name_from_google('com.facebook.orca')"
   ]
  },
  {
   "cell_type": "code",
   "execution_count": 46,
   "metadata": {
    "ExecuteTime": {
     "end_time": "2018-06-29T02:15:47.590969Z",
     "start_time": "2018-06-29T02:15:47.463202Z"
    }
   },
   "outputs": [
    {
     "data": {
      "application/vnd.plotly.v1+json": {
       "data": [
        {
         "orientation": "h",
         "text": [
          1.5,
          1.6,
          1.9,
          1.9,
          2,
          2,
          2.1,
          2.4,
          2.5,
          2.8,
          3.1,
          3.2,
          3.2,
          3.9,
          5.1,
          6.1,
          7.7,
          8.2,
          9.5,
          9.6,
          9.8,
          10.4,
          11.1,
          14.1,
          14.6,
          30.8,
          34.7,
          51.9,
          56.7,
          85.4,
          99.9
         ],
         "textposition": "outside",
         "type": "bar",
         "x": [
          1.5,
          1.6,
          1.9,
          1.9,
          2,
          2,
          2.1,
          2.4,
          2.5,
          2.8,
          3.1,
          3.2,
          3.2,
          3.9,
          5.1,
          6.1,
          7.7,
          8.2,
          9.5,
          9.6,
          9.8,
          10.4,
          11.1,
          14.1,
          14.6,
          30.8,
          34.7,
          51.89999999999998,
          56.7,
          85.4,
          99.9
         ],
         "y": [
          "CY Change",
          "B612 - Beauty & Filter Camera",
          "Google",
          "Screen Off and Lock",
          "CY System manager",
          "CY Flashlight",
          "Truecaller: Caller ID, SMS spam blocking & Dialer",
          "Snapchat",
          "CY Calculator",
          "SoundCloud - Music & Audio",
          "com.nemo.vidmate",
          "Android Browser",
          "Facebook Lite",
          "Google Chrome: Fast & Secure",
          "com.WhatsApp2Plus",
          "CY Video",
          "SHAREit - Transfer & Share",
          "CY Music",
          "com.android.vending",
          "CY File manager",
          "Instagram",
          "YouTube",
          "CY Settings",
          "CY Camera",
          "Android MMS",
          "CY Gallery",
          "Messenger – Text and Video Chat for Free",
          "Others",
          "Facebook",
          "WhatsApp Messenger",
          "CY Contacts"
         ]
        },
        {
         "cells": {
          "align": [
           "left",
           "left"
          ],
          "fill": {
           "color": [
            "#68a4b9",
            "#526372"
           ]
          },
          "font": {
           "color": [
            "#FFFFFF",
            "#FFFFFF"
           ],
           "size": 12
          },
          "height": 25,
          "line": {
           "color": "#000000"
          },
          "values": [
           [
            "CY Contacts",
            "WhatsApp Messenger",
            "Facebook",
            "Messenger – Text and Video Chat for Free",
            "CY Gallery",
            "Android MMS",
            "CY Camera",
            "CY Settings",
            "YouTube",
            "Instagram",
            "CY File manager",
            "com.android.vending",
            "CY Music",
            "SHAREit - Transfer & Share",
            "CY Video",
            "com.WhatsApp2Plus",
            "Google Chrome: Fast & Secure",
            "Facebook Lite",
            "Android Browser",
            "com.nemo.vidmate",
            "SoundCloud - Music & Audio",
            "CY Calculator",
            "Snapchat",
            "Truecaller: Caller ID, SMS spam blocking & Dialer",
            "CY Flashlight",
            "CY System manager",
            "Screen Off and Lock",
            "Google",
            "B612 - Beauty & Filter Camera",
            "CY Change"
           ],
           [
            10.3,
            25.7,
            10.2,
            -1.6,
            7.6,
            1.5,
            0.7,
            -3.8,
            1.5,
            2.2,
            0.6,
            1.3,
            1.7,
            2.2,
            0.9,
            3.3,
            0,
            -2.4,
            0.1,
            0.6,
            -1.8,
            -0.1,
            0.6,
            0.6,
            0,
            -0.1,
            0.6,
            0.1,
            0.9,
            -0.2
           ]
          ]
         },
         "columnorder": [
          0,
          1
         ],
         "columnwidth": [
          52,
          52
         ],
         "domain": {
          "x": [
           0.45,
           0.9
          ],
          "y": [
           0,
           0.8
          ]
         },
         "header": {
          "align": [
           "left",
           "left"
          ],
          "fill": {
           "color": "#2d5b6c"
          },
          "font": {
           "color": [
            "#FFFFFF",
            "#FFFFFF"
           ],
           "size": 14
          },
          "height": 25,
          "line": {
           "color": "#000000"
          },
          "values": [
           [
            "<b>名称</b>"
           ],
           [
            "<b>与上月同比</b>"
           ]
          ]
         },
         "type": "table"
        }
       ],
       "layout": {
        "height": 1300,
        "margin": {
         "l": 300,
         "r": 0
        },
        "title": "人均点击排名<br>总点击数:190073  设备数:372",
        "width": 1300,
        "yaxis": {
         "ticklen": 2
        }
       }
      },
      "text/html": [
       "<div id=\"d2e46d4f-15ba-40c8-9e73-66a910fd8c0c\" style=\"height: 1300px; width: 1300px;\" class=\"plotly-graph-div\"></div><script type=\"text/javascript\">require([\"plotly\"], function(Plotly) { window.PLOTLYENV=window.PLOTLYENV || {};window.PLOTLYENV.BASE_URL=\"https://plot.ly\";Plotly.newPlot(\"d2e46d4f-15ba-40c8-9e73-66a910fd8c0c\", [{\"type\": \"bar\", \"y\": [\"CY Change\", \"B612 - Beauty & Filter Camera\", \"Google\", \"Screen Off and Lock\", \"CY System manager\", \"CY Flashlight\", \"Truecaller: Caller ID, SMS spam blocking & Dialer\", \"Snapchat\", \"CY Calculator\", \"SoundCloud - Music & Audio\", \"com.nemo.vidmate\", \"Android Browser\", \"Facebook Lite\", \"Google Chrome: Fast & Secure\", \"com.WhatsApp2Plus\", \"CY Video\", \"SHAREit - Transfer & Share\", \"CY Music\", \"com.android.vending\", \"CY File manager\", \"Instagram\", \"YouTube\", \"CY Settings\", \"CY Camera\", \"Android MMS\", \"CY Gallery\", \"Messenger \\u2013 Text and Video Chat for Free\", \"Others\", \"Facebook\", \"WhatsApp Messenger\", \"CY Contacts\"], \"x\": [1.5, 1.6, 1.9, 1.9, 2.0, 2.0, 2.1, 2.4, 2.5, 2.8, 3.1, 3.2, 3.2, 3.9, 5.1, 6.1, 7.7, 8.2, 9.5, 9.6, 9.8, 10.4, 11.1, 14.1, 14.6, 30.8, 34.7, 51.89999999999998, 56.7, 85.4, 99.9], \"orientation\": \"h\", \"text\": [1.5, 1.6, 1.9, 1.9, 2.0, 2.0, 2.1, 2.4, 2.5, 2.8, 3.1, 3.2, 3.2, 3.9, 5.1, 6.1, 7.7, 8.2, 9.5, 9.6, 9.8, 10.4, 11.1, 14.1, 14.6, 30.8, 34.7, 51.9, 56.7, 85.4, 99.9], \"textposition\": \"outside\"}, {\"type\": \"table\", \"domain\": {\"x\": [0.45, 0.9], \"y\": [0, 0.8]}, \"columnwidth\": [52, 52], \"columnorder\": [0, 1], \"header\": {\"height\": 25, \"values\": [[\"<b>\\u540d\\u79f0</b>\"], [\"<b>\\u4e0e\\u4e0a\\u6708\\u540c\\u6bd4</b>\"]], \"line\": {\"color\": \"#000000\"}, \"align\": [\"left\", \"left\"], \"font\": {\"color\": [\"#FFFFFF\", \"#FFFFFF\"], \"size\": 14}, \"fill\": {\"color\": \"#2d5b6c\"}}, \"cells\": {\"values\": [[\"CY Contacts\", \"WhatsApp Messenger\", \"Facebook\", \"Messenger \\u2013 Text and Video Chat for Free\", \"CY Gallery\", \"Android MMS\", \"CY Camera\", \"CY Settings\", \"YouTube\", \"Instagram\", \"CY File manager\", \"com.android.vending\", \"CY Music\", \"SHAREit - Transfer & Share\", \"CY Video\", \"com.WhatsApp2Plus\", \"Google Chrome: Fast & Secure\", \"Facebook Lite\", \"Android Browser\", \"com.nemo.vidmate\", \"SoundCloud - Music & Audio\", \"CY Calculator\", \"Snapchat\", \"Truecaller: Caller ID, SMS spam blocking & Dialer\", \"CY Flashlight\", \"CY System manager\", \"Screen Off and Lock\", \"Google\", \"B612 - Beauty & Filter Camera\", \"CY Change\"], [10.3, 25.7, 10.2, -1.6, 7.6, 1.5, 0.7, -3.8, 1.5, 2.2, 0.6, 1.3, 1.7, 2.2, 0.9, 3.3, 0.0, -2.4, 0.1, 0.6, -1.8, -0.1, 0.6, 0.6, 0.0, -0.1, 0.6, 0.1, 0.9, -0.2]], \"line\": {\"color\": \"#000000\"}, \"align\": [\"left\", \"left\"], \"font\": {\"color\": [\"#FFFFFF\", \"#FFFFFF\"], \"size\": 12}, \"height\": 25, \"fill\": {\"color\": [\"#68a4b9\", \"#526372\"]}}}], {\"title\": \"\\u4eba\\u5747\\u70b9\\u51fb\\u6392\\u540d<br>\\u603b\\u70b9\\u51fb\\u6570:190073  \\u8bbe\\u5907\\u6570:372\", \"height\": 1300, \"width\": 1300, \"margin\": {\"l\": 300, \"r\": 0}, \"yaxis\": {\"ticklen\": 2}}, {\"showLink\": true, \"linkText\": \"Export to plot.ly\"})});</script>"
      ],
      "text/vnd.plotly.v1+html": [
       "<div id=\"d2e46d4f-15ba-40c8-9e73-66a910fd8c0c\" style=\"height: 1300px; width: 1300px;\" class=\"plotly-graph-div\"></div><script type=\"text/javascript\">require([\"plotly\"], function(Plotly) { window.PLOTLYENV=window.PLOTLYENV || {};window.PLOTLYENV.BASE_URL=\"https://plot.ly\";Plotly.newPlot(\"d2e46d4f-15ba-40c8-9e73-66a910fd8c0c\", [{\"type\": \"bar\", \"y\": [\"CY Change\", \"B612 - Beauty & Filter Camera\", \"Google\", \"Screen Off and Lock\", \"CY System manager\", \"CY Flashlight\", \"Truecaller: Caller ID, SMS spam blocking & Dialer\", \"Snapchat\", \"CY Calculator\", \"SoundCloud - Music & Audio\", \"com.nemo.vidmate\", \"Android Browser\", \"Facebook Lite\", \"Google Chrome: Fast & Secure\", \"com.WhatsApp2Plus\", \"CY Video\", \"SHAREit - Transfer & Share\", \"CY Music\", \"com.android.vending\", \"CY File manager\", \"Instagram\", \"YouTube\", \"CY Settings\", \"CY Camera\", \"Android MMS\", \"CY Gallery\", \"Messenger \\u2013 Text and Video Chat for Free\", \"Others\", \"Facebook\", \"WhatsApp Messenger\", \"CY Contacts\"], \"x\": [1.5, 1.6, 1.9, 1.9, 2.0, 2.0, 2.1, 2.4, 2.5, 2.8, 3.1, 3.2, 3.2, 3.9, 5.1, 6.1, 7.7, 8.2, 9.5, 9.6, 9.8, 10.4, 11.1, 14.1, 14.6, 30.8, 34.7, 51.89999999999998, 56.7, 85.4, 99.9], \"orientation\": \"h\", \"text\": [1.5, 1.6, 1.9, 1.9, 2.0, 2.0, 2.1, 2.4, 2.5, 2.8, 3.1, 3.2, 3.2, 3.9, 5.1, 6.1, 7.7, 8.2, 9.5, 9.6, 9.8, 10.4, 11.1, 14.1, 14.6, 30.8, 34.7, 51.9, 56.7, 85.4, 99.9], \"textposition\": \"outside\"}, {\"type\": \"table\", \"domain\": {\"x\": [0.45, 0.9], \"y\": [0, 0.8]}, \"columnwidth\": [52, 52], \"columnorder\": [0, 1], \"header\": {\"height\": 25, \"values\": [[\"<b>\\u540d\\u79f0</b>\"], [\"<b>\\u4e0e\\u4e0a\\u6708\\u540c\\u6bd4</b>\"]], \"line\": {\"color\": \"#000000\"}, \"align\": [\"left\", \"left\"], \"font\": {\"color\": [\"#FFFFFF\", \"#FFFFFF\"], \"size\": 14}, \"fill\": {\"color\": \"#2d5b6c\"}}, \"cells\": {\"values\": [[\"CY Contacts\", \"WhatsApp Messenger\", \"Facebook\", \"Messenger \\u2013 Text and Video Chat for Free\", \"CY Gallery\", \"Android MMS\", \"CY Camera\", \"CY Settings\", \"YouTube\", \"Instagram\", \"CY File manager\", \"com.android.vending\", \"CY Music\", \"SHAREit - Transfer & Share\", \"CY Video\", \"com.WhatsApp2Plus\", \"Google Chrome: Fast & Secure\", \"Facebook Lite\", \"Android Browser\", \"com.nemo.vidmate\", \"SoundCloud - Music & Audio\", \"CY Calculator\", \"Snapchat\", \"Truecaller: Caller ID, SMS spam blocking & Dialer\", \"CY Flashlight\", \"CY System manager\", \"Screen Off and Lock\", \"Google\", \"B612 - Beauty & Filter Camera\", \"CY Change\"], [10.3, 25.7, 10.2, -1.6, 7.6, 1.5, 0.7, -3.8, 1.5, 2.2, 0.6, 1.3, 1.7, 2.2, 0.9, 3.3, 0.0, -2.4, 0.1, 0.6, -1.8, -0.1, 0.6, 0.6, 0.0, -0.1, 0.6, 0.1, 0.9, -0.2]], \"line\": {\"color\": \"#000000\"}, \"align\": [\"left\", \"left\"], \"font\": {\"color\": [\"#FFFFFF\", \"#FFFFFF\"], \"size\": 12}, \"height\": 25, \"fill\": {\"color\": [\"#68a4b9\", \"#526372\"]}}}], {\"title\": \"\\u4eba\\u5747\\u70b9\\u51fb\\u6392\\u540d<br>\\u603b\\u70b9\\u51fb\\u6570:190073  \\u8bbe\\u5907\\u6570:372\", \"height\": 1300, \"width\": 1300, \"margin\": {\"l\": 300, \"r\": 0}, \"yaxis\": {\"ticklen\": 2}}, {\"showLink\": true, \"linkText\": \"Export to plot.ly\"})});</script>"
      ]
     },
     "metadata": {},
     "output_type": "display_data"
    }
   ],
   "source": [
    "click_by_phone_cur_month = total_appclick_cur_month.groupby(['attrs_packagename']).size().sort_values().truediv(imeis_cur_month)\n",
    "click_by_phone_cur_month = click_by_phone_cur_month.apply(lambda x: round(x,1))\n",
    "click_by_phone_last_month = total_appclick_last_month.groupby(['attrs_packagename']).size().sort_values().truediv(imeis_last_month)\n",
    "click_by_phone_last_month = click_by_phone_last_month.apply(lambda x: round(x,1))\n",
    "\n",
    "title='人均点击排名<br>总点击数:{}  设备数:{}'.format(len(total_appclick_cur_month), imeis_cur_month)\n",
    "bar_data, table_data = get_bar_table_data(click_by_phone_cur_month, click_by_phone_last_month, False)\n",
    "draw_bar_table(bar_data, table_data, height=1300, width=1300, title=title)"
   ]
  },
  {
   "cell_type": "code",
   "execution_count": 47,
   "metadata": {
    "ExecuteTime": {
     "end_time": "2018-06-29T02:16:10.467998Z",
     "start_time": "2018-06-29T02:16:10.426164Z"
    },
    "collapsed": true
   },
   "outputs": [],
   "source": [
    "def install_rate(cur_month, last_month, label,title,height=1200,width=1200,by_imei=True):\n",
    "    data_cur = cur_month[cur_month.name == label].groupby(['IMEI', 'attrs_packagename']).size()\n",
    "    data_last = last_month[last_month.name == label].groupby(['IMEI', 'attrs_packagename']).size()\n",
    "    \n",
    "    package_info_cur = data_cur.reset_index()\n",
    "    package_info_last = data_last.reset_index()\n",
    "    \n",
    "    imeis_cur = len(cur_month['IMEI'].unique())\n",
    "    imeis_last = len(last_month['IMEI'].unique())\n",
    "    total_cur = package_info_cur.groupby('attrs_packagename').size().sort_values().sum()\n",
    "    total_last = package_info_last.groupby('attrs_packagename').size().sort_values().sum()\n",
    "    \n",
    "    if by_imei:\n",
    "        divisor_cur = imeis_cur\n",
    "        divisor_last = imeis_last\n",
    "    else:\n",
    "        divisor_cur = total_cur\n",
    "        divisor_last = total_last\n",
    "        \n",
    "    package_rate_cur = package_info_cur.groupby('attrs_packagename').size().sort_values()/divisor_cur\n",
    "    package_rate_last = package_info_last.groupby('attrs_packagename').size().sort_values()/divisor_last\n",
    "    \n",
    "    bar_data, table_data = get_bar_table_data(package_rate_cur, package_rate_last, rate=True, need_other=False)\n",
    "    title= title + '<br>总次数:{}  总设备数:{}'.format(str(int(total_cur)), imeis_cur)\n",
    " \n",
    "    draw_bar_table(bar_data, table_data, height, width, title)"
   ]
  },
  {
   "cell_type": "code",
   "execution_count": 48,
   "metadata": {
    "ExecuteTime": {
     "end_time": "2018-06-29T02:16:48.322424Z",
     "start_time": "2018-06-29T02:16:12.683003Z"
    }
   },
   "outputs": [
    {
     "name": "stdout",
     "output_type": "stream",
     "text": [
      "1 get package name from google:com.snaptube.premium\n",
      "1 get package name from google:com.domobile.applock\n",
      "1 get package name from google:com.venticake.retrica\n",
      "1 get package name from google:com.parfield.prayers.lite\n",
      "1 get package name from google:com.etisalat\n",
      "1 get package name from google:com.olxmena.horizontal\n",
      "1 get package name from google:com.firsttouchgames.story\n",
      "1 get package name from google:net.mbc.shahid\n",
      "1 get package name from google:com.springwalk.mediaconverter\n"
     ]
    },
    {
     "data": {
      "application/vnd.plotly.v1+json": {
       "data": [
        {
         "orientation": "h",
         "text": [
          "0.34%",
          "0.34%",
          "0.37%",
          "0.37%",
          "0.37%",
          "0.40%",
          "0.40%",
          "0.40%",
          "0.40%",
          "0.47%",
          "0.47%",
          "0.47%",
          "0.61%",
          "0.64%",
          "0.64%",
          "0.64%",
          "0.67%",
          "0.71%",
          "0.71%",
          "0.74%",
          "0.74%",
          "0.84%",
          "0.91%",
          "1.15%",
          "1.92%",
          "2.02%",
          "4.79%",
          "4.86%",
          "5.16%",
          "5.36%"
         ],
         "textposition": "outside",
         "type": "bar",
         "x": [
          0.003372681281618887,
          0.003372681281618887,
          0.003709949409780776,
          0.003709949409780776,
          0.003709949409780776,
          0.004047217537942664,
          0.004047217537942664,
          0.004047217537942664,
          0.004047217537942664,
          0.004721753794266442,
          0.004721753794266442,
          0.004721753794266442,
          0.0060708263069139965,
          0.0064080944350758855,
          0.0064080944350758855,
          0.0064080944350758855,
          0.006745362563237774,
          0.007082630691399663,
          0.007082630691399663,
          0.007419898819561552,
          0.007419898819561552,
          0.008431703204047217,
          0.009106239460370995,
          0.011467116357504217,
          0.019224283305227657,
          0.02023608768971332,
          0.047892074198988194,
          0.04856661045531197,
          0.05160202360876897,
          0.053625632377740304
         ],
         "y": [
          "Google Translate",
          "MP3 Video Converter",
          "SHAHID",
          "Score! Hero",
          "Knife Hit",
          "com.WhatsApp2Plus",
          "OLX Arabia - أوليكس",
          "Messenger Lite: Free Calls & Messages",
          "imo free video calls and chat",
          "My Etisalat",
          "Al-Moazin Lite (Prayer Times)",
          "Uber",
          "Facebook Lite",
          "Google Play Games",
          "Retrica",
          "Candy Crush Saga",
          "Subway Surfers",
          "AppLock",
          "Snapchat",
          "B612 - Beauty & Filter Camera",
          "com.snaptube.premium",
          "musical.ly",
          "com.nemo.vidmate",
          "SoundCloud - Music & Audio",
          "Truecaller: Caller ID, SMS spam blocking & Dialer",
          "Instagram",
          "WhatsApp Messenger",
          "Messenger – Text and Video Chat for Free",
          "Facebook",
          "SHAREit - Transfer & Share"
         ]
        },
        {
         "cells": {
          "align": [
           "left",
           "left"
          ],
          "fill": {
           "color": [
            "#68a4b9",
            "#526372"
           ]
          },
          "font": {
           "color": [
            "#FFFFFF",
            "#FFFFFF"
           ],
           "size": 12
          },
          "height": 25,
          "line": {
           "color": "#000000"
          },
          "values": [
           [
            "SHAREit - Transfer & Share",
            "Facebook",
            "Messenger – Text and Video Chat for Free",
            "WhatsApp Messenger",
            "Instagram",
            "Truecaller: Caller ID, SMS spam blocking & Dialer",
            "SoundCloud - Music & Audio",
            "com.nemo.vidmate",
            "musical.ly",
            "com.snaptube.premium",
            "B612 - Beauty & Filter Camera",
            "Snapchat",
            "AppLock",
            "Subway Surfers",
            "Candy Crush Saga",
            "Retrica",
            "Google Play Games",
            "Facebook Lite",
            "Uber",
            "Al-Moazin Lite (Prayer Times)",
            "My Etisalat",
            "imo free video calls and chat",
            "Messenger Lite: Free Calls & Messages",
            "OLX Arabia - أوليكس",
            "com.WhatsApp2Plus",
            "Knife Hit",
            "Score! Hero",
            "SHAHID",
            "MP3 Video Converter",
            "Google Translate"
           ],
           [
            "1.60%",
            "1.16%",
            "1.18%",
            "0.73%",
            "0.36%",
            "-0.15%",
            "-0.05%",
            "0.01%",
            "0.52%",
            "0.16%",
            "0.39%",
            "0.21%",
            "0.18%",
            "0.24%",
            "0.20%",
            "0.35%",
            "0.20%",
            "-0.06%",
            "-0.17%",
            "0.12%",
            "0.33%",
            "-0.27%",
            "0.20%",
            "-0.09%",
            "0.23%",
            "0.20%",
            "0.14%",
            "0.34%",
            "0.19%",
            "-0.07%"
           ]
          ]
         },
         "columnorder": [
          0,
          1
         ],
         "columnwidth": [
          52,
          52
         ],
         "domain": {
          "x": [
           0.45,
           0.9
          ],
          "y": [
           0,
           0.8
          ]
         },
         "header": {
          "align": [
           "left",
           "left"
          ],
          "fill": {
           "color": "#2d5b6c"
          },
          "font": {
           "color": [
            "#FFFFFF",
            "#FFFFFF"
           ],
           "size": 14
          },
          "height": 25,
          "line": {
           "color": "#000000"
          },
          "values": [
           [
            "<b>名称</b>"
           ],
           [
            "<b>与上月同比</b>"
           ]
          ]
         },
         "type": "table"
        }
       ],
       "layout": {
        "height": 1300,
        "margin": {
         "l": 300,
         "r": 0
        },
        "title": "安装应用排行<br>总次数:2965  总设备数:372",
        "width": 1300,
        "yaxis": {
         "ticklen": 2
        }
       }
      },
      "text/html": [
       "<div id=\"872d91c1-0386-40e2-bf25-67b9e5e3e42a\" style=\"height: 1300px; width: 1300px;\" class=\"plotly-graph-div\"></div><script type=\"text/javascript\">require([\"plotly\"], function(Plotly) { window.PLOTLYENV=window.PLOTLYENV || {};window.PLOTLYENV.BASE_URL=\"https://plot.ly\";Plotly.newPlot(\"872d91c1-0386-40e2-bf25-67b9e5e3e42a\", [{\"type\": \"bar\", \"y\": [\"Google Translate\", \"MP3 Video Converter\", \"SHAHID\", \"Score! Hero\", \"Knife Hit\", \"com.WhatsApp2Plus\", \"OLX Arabia - \\u0623\\u0648\\u0644\\u064a\\u0643\\u0633\", \"Messenger Lite: Free Calls & Messages\", \"imo free video calls and chat\", \"My Etisalat\", \"Al-Moazin Lite (Prayer Times)\", \"Uber\", \"Facebook Lite\", \"Google Play Games\", \"Retrica\", \"Candy Crush Saga\", \"Subway Surfers\", \"AppLock\", \"Snapchat\", \"B612 - Beauty & Filter Camera\", \"com.snaptube.premium\", \"musical.ly\", \"com.nemo.vidmate\", \"SoundCloud - Music & Audio\", \"Truecaller: Caller ID, SMS spam blocking & Dialer\", \"Instagram\", \"WhatsApp Messenger\", \"Messenger \\u2013 Text and Video Chat for Free\", \"Facebook\", \"SHAREit - Transfer & Share\"], \"x\": [0.003372681281618887, 0.003372681281618887, 0.003709949409780776, 0.003709949409780776, 0.003709949409780776, 0.004047217537942664, 0.004047217537942664, 0.004047217537942664, 0.004047217537942664, 0.004721753794266442, 0.004721753794266442, 0.004721753794266442, 0.0060708263069139965, 0.0064080944350758855, 0.0064080944350758855, 0.0064080944350758855, 0.006745362563237774, 0.007082630691399663, 0.007082630691399663, 0.007419898819561552, 0.007419898819561552, 0.008431703204047217, 0.009106239460370995, 0.011467116357504217, 0.019224283305227657, 0.02023608768971332, 0.047892074198988194, 0.04856661045531197, 0.05160202360876897, 0.053625632377740304], \"orientation\": \"h\", \"text\": [\"0.34%\", \"0.34%\", \"0.37%\", \"0.37%\", \"0.37%\", \"0.40%\", \"0.40%\", \"0.40%\", \"0.40%\", \"0.47%\", \"0.47%\", \"0.47%\", \"0.61%\", \"0.64%\", \"0.64%\", \"0.64%\", \"0.67%\", \"0.71%\", \"0.71%\", \"0.74%\", \"0.74%\", \"0.84%\", \"0.91%\", \"1.15%\", \"1.92%\", \"2.02%\", \"4.79%\", \"4.86%\", \"5.16%\", \"5.36%\"], \"textposition\": \"outside\"}, {\"type\": \"table\", \"domain\": {\"x\": [0.45, 0.9], \"y\": [0, 0.8]}, \"columnwidth\": [52, 52], \"columnorder\": [0, 1], \"header\": {\"height\": 25, \"values\": [[\"<b>\\u540d\\u79f0</b>\"], [\"<b>\\u4e0e\\u4e0a\\u6708\\u540c\\u6bd4</b>\"]], \"line\": {\"color\": \"#000000\"}, \"align\": [\"left\", \"left\"], \"font\": {\"color\": [\"#FFFFFF\", \"#FFFFFF\"], \"size\": 14}, \"fill\": {\"color\": \"#2d5b6c\"}}, \"cells\": {\"values\": [[\"SHAREit - Transfer & Share\", \"Facebook\", \"Messenger \\u2013 Text and Video Chat for Free\", \"WhatsApp Messenger\", \"Instagram\", \"Truecaller: Caller ID, SMS spam blocking & Dialer\", \"SoundCloud - Music & Audio\", \"com.nemo.vidmate\", \"musical.ly\", \"com.snaptube.premium\", \"B612 - Beauty & Filter Camera\", \"Snapchat\", \"AppLock\", \"Subway Surfers\", \"Candy Crush Saga\", \"Retrica\", \"Google Play Games\", \"Facebook Lite\", \"Uber\", \"Al-Moazin Lite (Prayer Times)\", \"My Etisalat\", \"imo free video calls and chat\", \"Messenger Lite: Free Calls & Messages\", \"OLX Arabia - \\u0623\\u0648\\u0644\\u064a\\u0643\\u0633\", \"com.WhatsApp2Plus\", \"Knife Hit\", \"Score! Hero\", \"SHAHID\", \"MP3 Video Converter\", \"Google Translate\"], [\"1.60%\", \"1.16%\", \"1.18%\", \"0.73%\", \"0.36%\", \"-0.15%\", \"-0.05%\", \"0.01%\", \"0.52%\", \"0.16%\", \"0.39%\", \"0.21%\", \"0.18%\", \"0.24%\", \"0.20%\", \"0.35%\", \"0.20%\", \"-0.06%\", \"-0.17%\", \"0.12%\", \"0.33%\", \"-0.27%\", \"0.20%\", \"-0.09%\", \"0.23%\", \"0.20%\", \"0.14%\", \"0.34%\", \"0.19%\", \"-0.07%\"]], \"line\": {\"color\": \"#000000\"}, \"align\": [\"left\", \"left\"], \"font\": {\"color\": [\"#FFFFFF\", \"#FFFFFF\"], \"size\": 12}, \"height\": 25, \"fill\": {\"color\": [\"#68a4b9\", \"#526372\"]}}}], {\"title\": \"\\u5b89\\u88c5\\u5e94\\u7528\\u6392\\u884c<br>\\u603b\\u6b21\\u6570:2965  \\u603b\\u8bbe\\u5907\\u6570:372\", \"height\": 1300, \"width\": 1300, \"margin\": {\"l\": 300, \"r\": 0}, \"yaxis\": {\"ticklen\": 2}}, {\"showLink\": true, \"linkText\": \"Export to plot.ly\"})});</script>"
      ],
      "text/vnd.plotly.v1+html": [
       "<div id=\"872d91c1-0386-40e2-bf25-67b9e5e3e42a\" style=\"height: 1300px; width: 1300px;\" class=\"plotly-graph-div\"></div><script type=\"text/javascript\">require([\"plotly\"], function(Plotly) { window.PLOTLYENV=window.PLOTLYENV || {};window.PLOTLYENV.BASE_URL=\"https://plot.ly\";Plotly.newPlot(\"872d91c1-0386-40e2-bf25-67b9e5e3e42a\", [{\"type\": \"bar\", \"y\": [\"Google Translate\", \"MP3 Video Converter\", \"SHAHID\", \"Score! Hero\", \"Knife Hit\", \"com.WhatsApp2Plus\", \"OLX Arabia - \\u0623\\u0648\\u0644\\u064a\\u0643\\u0633\", \"Messenger Lite: Free Calls & Messages\", \"imo free video calls and chat\", \"My Etisalat\", \"Al-Moazin Lite (Prayer Times)\", \"Uber\", \"Facebook Lite\", \"Google Play Games\", \"Retrica\", \"Candy Crush Saga\", \"Subway Surfers\", \"AppLock\", \"Snapchat\", \"B612 - Beauty & Filter Camera\", \"com.snaptube.premium\", \"musical.ly\", \"com.nemo.vidmate\", \"SoundCloud - Music & Audio\", \"Truecaller: Caller ID, SMS spam blocking & Dialer\", \"Instagram\", \"WhatsApp Messenger\", \"Messenger \\u2013 Text and Video Chat for Free\", \"Facebook\", \"SHAREit - Transfer & Share\"], \"x\": [0.003372681281618887, 0.003372681281618887, 0.003709949409780776, 0.003709949409780776, 0.003709949409780776, 0.004047217537942664, 0.004047217537942664, 0.004047217537942664, 0.004047217537942664, 0.004721753794266442, 0.004721753794266442, 0.004721753794266442, 0.0060708263069139965, 0.0064080944350758855, 0.0064080944350758855, 0.0064080944350758855, 0.006745362563237774, 0.007082630691399663, 0.007082630691399663, 0.007419898819561552, 0.007419898819561552, 0.008431703204047217, 0.009106239460370995, 0.011467116357504217, 0.019224283305227657, 0.02023608768971332, 0.047892074198988194, 0.04856661045531197, 0.05160202360876897, 0.053625632377740304], \"orientation\": \"h\", \"text\": [\"0.34%\", \"0.34%\", \"0.37%\", \"0.37%\", \"0.37%\", \"0.40%\", \"0.40%\", \"0.40%\", \"0.40%\", \"0.47%\", \"0.47%\", \"0.47%\", \"0.61%\", \"0.64%\", \"0.64%\", \"0.64%\", \"0.67%\", \"0.71%\", \"0.71%\", \"0.74%\", \"0.74%\", \"0.84%\", \"0.91%\", \"1.15%\", \"1.92%\", \"2.02%\", \"4.79%\", \"4.86%\", \"5.16%\", \"5.36%\"], \"textposition\": \"outside\"}, {\"type\": \"table\", \"domain\": {\"x\": [0.45, 0.9], \"y\": [0, 0.8]}, \"columnwidth\": [52, 52], \"columnorder\": [0, 1], \"header\": {\"height\": 25, \"values\": [[\"<b>\\u540d\\u79f0</b>\"], [\"<b>\\u4e0e\\u4e0a\\u6708\\u540c\\u6bd4</b>\"]], \"line\": {\"color\": \"#000000\"}, \"align\": [\"left\", \"left\"], \"font\": {\"color\": [\"#FFFFFF\", \"#FFFFFF\"], \"size\": 14}, \"fill\": {\"color\": \"#2d5b6c\"}}, \"cells\": {\"values\": [[\"SHAREit - Transfer & Share\", \"Facebook\", \"Messenger \\u2013 Text and Video Chat for Free\", \"WhatsApp Messenger\", \"Instagram\", \"Truecaller: Caller ID, SMS spam blocking & Dialer\", \"SoundCloud - Music & Audio\", \"com.nemo.vidmate\", \"musical.ly\", \"com.snaptube.premium\", \"B612 - Beauty & Filter Camera\", \"Snapchat\", \"AppLock\", \"Subway Surfers\", \"Candy Crush Saga\", \"Retrica\", \"Google Play Games\", \"Facebook Lite\", \"Uber\", \"Al-Moazin Lite (Prayer Times)\", \"My Etisalat\", \"imo free video calls and chat\", \"Messenger Lite: Free Calls & Messages\", \"OLX Arabia - \\u0623\\u0648\\u0644\\u064a\\u0643\\u0633\", \"com.WhatsApp2Plus\", \"Knife Hit\", \"Score! Hero\", \"SHAHID\", \"MP3 Video Converter\", \"Google Translate\"], [\"1.60%\", \"1.16%\", \"1.18%\", \"0.73%\", \"0.36%\", \"-0.15%\", \"-0.05%\", \"0.01%\", \"0.52%\", \"0.16%\", \"0.39%\", \"0.21%\", \"0.18%\", \"0.24%\", \"0.20%\", \"0.35%\", \"0.20%\", \"-0.06%\", \"-0.17%\", \"0.12%\", \"0.33%\", \"-0.27%\", \"0.20%\", \"-0.09%\", \"0.23%\", \"0.20%\", \"0.14%\", \"0.34%\", \"0.19%\", \"-0.07%\"]], \"line\": {\"color\": \"#000000\"}, \"align\": [\"left\", \"left\"], \"font\": {\"color\": [\"#FFFFFF\", \"#FFFFFF\"], \"size\": 12}, \"height\": 25, \"fill\": {\"color\": [\"#68a4b9\", \"#526372\"]}}}], {\"title\": \"\\u5b89\\u88c5\\u5e94\\u7528\\u6392\\u884c<br>\\u603b\\u6b21\\u6570:2965  \\u603b\\u8bbe\\u5907\\u6570:372\", \"height\": 1300, \"width\": 1300, \"margin\": {\"l\": 300, \"r\": 0}, \"yaxis\": {\"ticklen\": 2}}, {\"showLink\": true, \"linkText\": \"Export to plot.ly\"})});</script>"
      ]
     },
     "metadata": {},
     "output_type": "display_data"
    }
   ],
   "source": [
    "install_rate(df_cur_month, df_last_month, 'appinstall', '安装应用排行', height=1300,width=1300,by_imei=False)"
   ]
  },
  {
   "cell_type": "code",
   "execution_count": 49,
   "metadata": {
    "ExecuteTime": {
     "end_time": "2018-06-29T02:17:06.655178Z",
     "start_time": "2018-06-29T02:17:06.517954Z"
    }
   },
   "outputs": [
    {
     "data": {
      "application/vnd.plotly.v1+json": {
       "data": [
        {
         "orientation": "h",
         "text": [
          "2.69%",
          "2.69%",
          "2.96%",
          "2.96%",
          "2.96%",
          "3.23%",
          "3.23%",
          "3.23%",
          "3.23%",
          "3.76%",
          "3.76%",
          "3.76%",
          "4.84%",
          "5.11%",
          "5.11%",
          "5.11%",
          "5.38%",
          "5.65%",
          "5.65%",
          "5.91%",
          "5.91%",
          "6.72%",
          "7.26%",
          "9.14%",
          "15.32%",
          "16.13%",
          "38.17%",
          "38.71%",
          "41.13%",
          "42.74%"
         ],
         "textposition": "outside",
         "type": "bar",
         "x": [
          0.026881720430107527,
          0.026881720430107527,
          0.02956989247311828,
          0.02956989247311828,
          0.02956989247311828,
          0.03225806451612903,
          0.03225806451612903,
          0.03225806451612903,
          0.03225806451612903,
          0.03763440860215054,
          0.03763440860215054,
          0.03763440860215054,
          0.04838709677419355,
          0.051075268817204304,
          0.051075268817204304,
          0.051075268817204304,
          0.053763440860215055,
          0.056451612903225805,
          0.056451612903225805,
          0.05913978494623656,
          0.05913978494623656,
          0.06720430107526881,
          0.07258064516129033,
          0.0913978494623656,
          0.1532258064516129,
          0.16129032258064516,
          0.3817204301075269,
          0.3870967741935484,
          0.4112903225806452,
          0.4274193548387097
         ],
         "y": [
          "Google Translate",
          "MP3 Video Converter",
          "SHAHID",
          "Score! Hero",
          "Knife Hit",
          "com.WhatsApp2Plus",
          "OLX Arabia - أوليكس",
          "Messenger Lite: Free Calls & Messages",
          "imo free video calls and chat",
          "My Etisalat",
          "Al-Moazin Lite (Prayer Times)",
          "Uber",
          "Facebook Lite",
          "Google Play Games",
          "Retrica",
          "Candy Crush Saga",
          "Subway Surfers",
          "AppLock",
          "Snapchat",
          "B612 - Beauty & Filter Camera",
          "com.snaptube.premium",
          "musical.ly",
          "com.nemo.vidmate",
          "SoundCloud - Music & Audio",
          "Truecaller: Caller ID, SMS spam blocking & Dialer",
          "Instagram",
          "WhatsApp Messenger",
          "Messenger – Text and Video Chat for Free",
          "Facebook",
          "SHAREit - Transfer & Share"
         ]
        },
        {
         "cells": {
          "align": [
           "left",
           "left"
          ],
          "fill": {
           "color": [
            "#68a4b9",
            "#526372"
           ]
          },
          "font": {
           "color": [
            "#FFFFFF",
            "#FFFFFF"
           ],
           "size": 12
          },
          "height": 25,
          "line": {
           "color": "#000000"
          },
          "values": [
           [
            "SHAREit - Transfer & Share",
            "Facebook",
            "Messenger – Text and Video Chat for Free",
            "WhatsApp Messenger",
            "Instagram",
            "Truecaller: Caller ID, SMS spam blocking & Dialer",
            "SoundCloud - Music & Audio",
            "com.nemo.vidmate",
            "musical.ly",
            "com.snaptube.premium",
            "B612 - Beauty & Filter Camera",
            "Snapchat",
            "AppLock",
            "Subway Surfers",
            "Candy Crush Saga",
            "Retrica",
            "Google Play Games",
            "Facebook Lite",
            "Uber",
            "Al-Moazin Lite (Prayer Times)",
            "My Etisalat",
            "imo free video calls and chat",
            "Messenger Lite: Free Calls & Messages",
            "OLX Arabia - أوليكس",
            "com.WhatsApp2Plus",
            "Knife Hit",
            "Score! Hero",
            "SHAHID",
            "MP3 Video Converter",
            "Google Translate"
           ],
           [
            "5.67%",
            "1.76%",
            "2.50%",
            "-1.77%",
            "-0.25%",
            "-5.08%",
            "-2.64%",
            "-1.65%",
            "3.56%",
            "0.17%",
            "2.47%",
            "0.76%",
            "0.47%",
            "1.07%",
            "0.80%",
            "2.23%",
            "0.80%",
            "-1.77%",
            "-2.56%",
            "0.32%",
            "2.33%",
            "-3.38%",
            "1.21%",
            "-1.66%",
            "1.50%",
            "1.23%",
            "0.66%",
            "2.67%",
            "1.25%",
            "-1.33%"
           ]
          ]
         },
         "columnorder": [
          0,
          1
         ],
         "columnwidth": [
          52,
          52
         ],
         "domain": {
          "x": [
           0.45,
           0.9
          ],
          "y": [
           0,
           0.8
          ]
         },
         "header": {
          "align": [
           "left",
           "left"
          ],
          "fill": {
           "color": "#2d5b6c"
          },
          "font": {
           "color": [
            "#FFFFFF",
            "#FFFFFF"
           ],
           "size": 14
          },
          "height": 25,
          "line": {
           "color": "#000000"
          },
          "values": [
           [
            "<b>名称</b>"
           ],
           [
            "<b>与上月同比</b>"
           ]
          ]
         },
         "type": "table"
        }
       ],
       "layout": {
        "height": 1300,
        "margin": {
         "l": 300,
         "r": 0
        },
        "title": "安装应用覆盖率排行<br>总次数:2965  总设备数:372",
        "width": 1300,
        "yaxis": {
         "ticklen": 2
        }
       }
      },
      "text/html": [
       "<div id=\"735bf551-fd3a-40f8-8f98-4ea93648670b\" style=\"height: 1300px; width: 1300px;\" class=\"plotly-graph-div\"></div><script type=\"text/javascript\">require([\"plotly\"], function(Plotly) { window.PLOTLYENV=window.PLOTLYENV || {};window.PLOTLYENV.BASE_URL=\"https://plot.ly\";Plotly.newPlot(\"735bf551-fd3a-40f8-8f98-4ea93648670b\", [{\"type\": \"bar\", \"y\": [\"Google Translate\", \"MP3 Video Converter\", \"SHAHID\", \"Score! Hero\", \"Knife Hit\", \"com.WhatsApp2Plus\", \"OLX Arabia - \\u0623\\u0648\\u0644\\u064a\\u0643\\u0633\", \"Messenger Lite: Free Calls & Messages\", \"imo free video calls and chat\", \"My Etisalat\", \"Al-Moazin Lite (Prayer Times)\", \"Uber\", \"Facebook Lite\", \"Google Play Games\", \"Retrica\", \"Candy Crush Saga\", \"Subway Surfers\", \"AppLock\", \"Snapchat\", \"B612 - Beauty & Filter Camera\", \"com.snaptube.premium\", \"musical.ly\", \"com.nemo.vidmate\", \"SoundCloud - Music & Audio\", \"Truecaller: Caller ID, SMS spam blocking & Dialer\", \"Instagram\", \"WhatsApp Messenger\", \"Messenger \\u2013 Text and Video Chat for Free\", \"Facebook\", \"SHAREit - Transfer & Share\"], \"x\": [0.026881720430107527, 0.026881720430107527, 0.02956989247311828, 0.02956989247311828, 0.02956989247311828, 0.03225806451612903, 0.03225806451612903, 0.03225806451612903, 0.03225806451612903, 0.03763440860215054, 0.03763440860215054, 0.03763440860215054, 0.04838709677419355, 0.051075268817204304, 0.051075268817204304, 0.051075268817204304, 0.053763440860215055, 0.056451612903225805, 0.056451612903225805, 0.05913978494623656, 0.05913978494623656, 0.06720430107526881, 0.07258064516129033, 0.0913978494623656, 0.1532258064516129, 0.16129032258064516, 0.3817204301075269, 0.3870967741935484, 0.4112903225806452, 0.4274193548387097], \"orientation\": \"h\", \"text\": [\"2.69%\", \"2.69%\", \"2.96%\", \"2.96%\", \"2.96%\", \"3.23%\", \"3.23%\", \"3.23%\", \"3.23%\", \"3.76%\", \"3.76%\", \"3.76%\", \"4.84%\", \"5.11%\", \"5.11%\", \"5.11%\", \"5.38%\", \"5.65%\", \"5.65%\", \"5.91%\", \"5.91%\", \"6.72%\", \"7.26%\", \"9.14%\", \"15.32%\", \"16.13%\", \"38.17%\", \"38.71%\", \"41.13%\", \"42.74%\"], \"textposition\": \"outside\"}, {\"type\": \"table\", \"domain\": {\"x\": [0.45, 0.9], \"y\": [0, 0.8]}, \"columnwidth\": [52, 52], \"columnorder\": [0, 1], \"header\": {\"height\": 25, \"values\": [[\"<b>\\u540d\\u79f0</b>\"], [\"<b>\\u4e0e\\u4e0a\\u6708\\u540c\\u6bd4</b>\"]], \"line\": {\"color\": \"#000000\"}, \"align\": [\"left\", \"left\"], \"font\": {\"color\": [\"#FFFFFF\", \"#FFFFFF\"], \"size\": 14}, \"fill\": {\"color\": \"#2d5b6c\"}}, \"cells\": {\"values\": [[\"SHAREit - Transfer & Share\", \"Facebook\", \"Messenger \\u2013 Text and Video Chat for Free\", \"WhatsApp Messenger\", \"Instagram\", \"Truecaller: Caller ID, SMS spam blocking & Dialer\", \"SoundCloud - Music & Audio\", \"com.nemo.vidmate\", \"musical.ly\", \"com.snaptube.premium\", \"B612 - Beauty & Filter Camera\", \"Snapchat\", \"AppLock\", \"Subway Surfers\", \"Candy Crush Saga\", \"Retrica\", \"Google Play Games\", \"Facebook Lite\", \"Uber\", \"Al-Moazin Lite (Prayer Times)\", \"My Etisalat\", \"imo free video calls and chat\", \"Messenger Lite: Free Calls & Messages\", \"OLX Arabia - \\u0623\\u0648\\u0644\\u064a\\u0643\\u0633\", \"com.WhatsApp2Plus\", \"Knife Hit\", \"Score! Hero\", \"SHAHID\", \"MP3 Video Converter\", \"Google Translate\"], [\"5.67%\", \"1.76%\", \"2.50%\", \"-1.77%\", \"-0.25%\", \"-5.08%\", \"-2.64%\", \"-1.65%\", \"3.56%\", \"0.17%\", \"2.47%\", \"0.76%\", \"0.47%\", \"1.07%\", \"0.80%\", \"2.23%\", \"0.80%\", \"-1.77%\", \"-2.56%\", \"0.32%\", \"2.33%\", \"-3.38%\", \"1.21%\", \"-1.66%\", \"1.50%\", \"1.23%\", \"0.66%\", \"2.67%\", \"1.25%\", \"-1.33%\"]], \"line\": {\"color\": \"#000000\"}, \"align\": [\"left\", \"left\"], \"font\": {\"color\": [\"#FFFFFF\", \"#FFFFFF\"], \"size\": 12}, \"height\": 25, \"fill\": {\"color\": [\"#68a4b9\", \"#526372\"]}}}], {\"title\": \"\\u5b89\\u88c5\\u5e94\\u7528\\u8986\\u76d6\\u7387\\u6392\\u884c<br>\\u603b\\u6b21\\u6570:2965  \\u603b\\u8bbe\\u5907\\u6570:372\", \"height\": 1300, \"width\": 1300, \"margin\": {\"l\": 300, \"r\": 0}, \"yaxis\": {\"ticklen\": 2}}, {\"showLink\": true, \"linkText\": \"Export to plot.ly\"})});</script>"
      ],
      "text/vnd.plotly.v1+html": [
       "<div id=\"735bf551-fd3a-40f8-8f98-4ea93648670b\" style=\"height: 1300px; width: 1300px;\" class=\"plotly-graph-div\"></div><script type=\"text/javascript\">require([\"plotly\"], function(Plotly) { window.PLOTLYENV=window.PLOTLYENV || {};window.PLOTLYENV.BASE_URL=\"https://plot.ly\";Plotly.newPlot(\"735bf551-fd3a-40f8-8f98-4ea93648670b\", [{\"type\": \"bar\", \"y\": [\"Google Translate\", \"MP3 Video Converter\", \"SHAHID\", \"Score! Hero\", \"Knife Hit\", \"com.WhatsApp2Plus\", \"OLX Arabia - \\u0623\\u0648\\u0644\\u064a\\u0643\\u0633\", \"Messenger Lite: Free Calls & Messages\", \"imo free video calls and chat\", \"My Etisalat\", \"Al-Moazin Lite (Prayer Times)\", \"Uber\", \"Facebook Lite\", \"Google Play Games\", \"Retrica\", \"Candy Crush Saga\", \"Subway Surfers\", \"AppLock\", \"Snapchat\", \"B612 - Beauty & Filter Camera\", \"com.snaptube.premium\", \"musical.ly\", \"com.nemo.vidmate\", \"SoundCloud - Music & Audio\", \"Truecaller: Caller ID, SMS spam blocking & Dialer\", \"Instagram\", \"WhatsApp Messenger\", \"Messenger \\u2013 Text and Video Chat for Free\", \"Facebook\", \"SHAREit - Transfer & Share\"], \"x\": [0.026881720430107527, 0.026881720430107527, 0.02956989247311828, 0.02956989247311828, 0.02956989247311828, 0.03225806451612903, 0.03225806451612903, 0.03225806451612903, 0.03225806451612903, 0.03763440860215054, 0.03763440860215054, 0.03763440860215054, 0.04838709677419355, 0.051075268817204304, 0.051075268817204304, 0.051075268817204304, 0.053763440860215055, 0.056451612903225805, 0.056451612903225805, 0.05913978494623656, 0.05913978494623656, 0.06720430107526881, 0.07258064516129033, 0.0913978494623656, 0.1532258064516129, 0.16129032258064516, 0.3817204301075269, 0.3870967741935484, 0.4112903225806452, 0.4274193548387097], \"orientation\": \"h\", \"text\": [\"2.69%\", \"2.69%\", \"2.96%\", \"2.96%\", \"2.96%\", \"3.23%\", \"3.23%\", \"3.23%\", \"3.23%\", \"3.76%\", \"3.76%\", \"3.76%\", \"4.84%\", \"5.11%\", \"5.11%\", \"5.11%\", \"5.38%\", \"5.65%\", \"5.65%\", \"5.91%\", \"5.91%\", \"6.72%\", \"7.26%\", \"9.14%\", \"15.32%\", \"16.13%\", \"38.17%\", \"38.71%\", \"41.13%\", \"42.74%\"], \"textposition\": \"outside\"}, {\"type\": \"table\", \"domain\": {\"x\": [0.45, 0.9], \"y\": [0, 0.8]}, \"columnwidth\": [52, 52], \"columnorder\": [0, 1], \"header\": {\"height\": 25, \"values\": [[\"<b>\\u540d\\u79f0</b>\"], [\"<b>\\u4e0e\\u4e0a\\u6708\\u540c\\u6bd4</b>\"]], \"line\": {\"color\": \"#000000\"}, \"align\": [\"left\", \"left\"], \"font\": {\"color\": [\"#FFFFFF\", \"#FFFFFF\"], \"size\": 14}, \"fill\": {\"color\": \"#2d5b6c\"}}, \"cells\": {\"values\": [[\"SHAREit - Transfer & Share\", \"Facebook\", \"Messenger \\u2013 Text and Video Chat for Free\", \"WhatsApp Messenger\", \"Instagram\", \"Truecaller: Caller ID, SMS spam blocking & Dialer\", \"SoundCloud - Music & Audio\", \"com.nemo.vidmate\", \"musical.ly\", \"com.snaptube.premium\", \"B612 - Beauty & Filter Camera\", \"Snapchat\", \"AppLock\", \"Subway Surfers\", \"Candy Crush Saga\", \"Retrica\", \"Google Play Games\", \"Facebook Lite\", \"Uber\", \"Al-Moazin Lite (Prayer Times)\", \"My Etisalat\", \"imo free video calls and chat\", \"Messenger Lite: Free Calls & Messages\", \"OLX Arabia - \\u0623\\u0648\\u0644\\u064a\\u0643\\u0633\", \"com.WhatsApp2Plus\", \"Knife Hit\", \"Score! Hero\", \"SHAHID\", \"MP3 Video Converter\", \"Google Translate\"], [\"5.67%\", \"1.76%\", \"2.50%\", \"-1.77%\", \"-0.25%\", \"-5.08%\", \"-2.64%\", \"-1.65%\", \"3.56%\", \"0.17%\", \"2.47%\", \"0.76%\", \"0.47%\", \"1.07%\", \"0.80%\", \"2.23%\", \"0.80%\", \"-1.77%\", \"-2.56%\", \"0.32%\", \"2.33%\", \"-3.38%\", \"1.21%\", \"-1.66%\", \"1.50%\", \"1.23%\", \"0.66%\", \"2.67%\", \"1.25%\", \"-1.33%\"]], \"line\": {\"color\": \"#000000\"}, \"align\": [\"left\", \"left\"], \"font\": {\"color\": [\"#FFFFFF\", \"#FFFFFF\"], \"size\": 12}, \"height\": 25, \"fill\": {\"color\": [\"#68a4b9\", \"#526372\"]}}}], {\"title\": \"\\u5b89\\u88c5\\u5e94\\u7528\\u8986\\u76d6\\u7387\\u6392\\u884c<br>\\u603b\\u6b21\\u6570:2965  \\u603b\\u8bbe\\u5907\\u6570:372\", \"height\": 1300, \"width\": 1300, \"margin\": {\"l\": 300, \"r\": 0}, \"yaxis\": {\"ticklen\": 2}}, {\"showLink\": true, \"linkText\": \"Export to plot.ly\"})});</script>"
      ]
     },
     "metadata": {},
     "output_type": "display_data"
    }
   ],
   "source": [
    "install_rate(df_cur_month, df_last_month, 'appinstall', '安装应用覆盖率排行', height=1300,width=1300)"
   ]
  },
  {
   "cell_type": "code",
   "execution_count": 51,
   "metadata": {
    "ExecuteTime": {
     "end_time": "2018-06-29T02:18:06.837500Z",
     "start_time": "2018-06-29T02:18:06.710593Z"
    }
   },
   "outputs": [
    {
     "data": {
      "application/vnd.plotly.v1+json": {
       "data": [
        {
         "orientation": "h",
         "text": [
          "1.08%",
          "1.08%",
          "1.08%",
          "1.08%",
          "1.08%",
          "1.08%",
          "1.08%",
          "1.08%",
          "1.08%",
          "1.34%",
          "1.34%",
          "1.34%",
          "1.34%",
          "1.34%",
          "1.34%",
          "1.34%",
          "1.61%",
          "1.61%",
          "1.61%",
          "1.61%",
          "2.42%",
          "2.42%",
          "2.42%",
          "2.69%",
          "3.23%",
          "3.23%",
          "3.49%",
          "5.65%",
          "6.45%",
          "14.78%"
         ],
         "textposition": "outside",
         "type": "bar",
         "x": [
          0.010752688172043012,
          0.010752688172043012,
          0.010752688172043012,
          0.010752688172043012,
          0.010752688172043012,
          0.010752688172043012,
          0.010752688172043012,
          0.010752688172043012,
          0.010752688172043012,
          0.013440860215053764,
          0.013440860215053764,
          0.013440860215053764,
          0.013440860215053764,
          0.013440860215053764,
          0.013440860215053764,
          0.013440860215053764,
          0.016129032258064516,
          0.016129032258064516,
          0.016129032258064516,
          0.016129032258064516,
          0.024193548387096774,
          0.024193548387096774,
          0.024193548387096774,
          0.026881720430107527,
          0.03225806451612903,
          0.03225806451612903,
          0.03494623655913978,
          0.056451612903225805,
          0.06451612903225806,
          0.1478494623655914
         ],
         "y": [
          "Video Download for Whatsapp",
          "Snapchat",
          "Dr. Driving",
          "FANANEES 2",
          "SHAHID",
          "Messenger Lite: Free Calls & Messages",
          "Candy Crush Saga",
          "Egyptian Basra",
          "AndroDumpper Wifi ( WPS Connect )",
          "Share - File Transfer & Connect",
          "AliExpress - Smarter Shopping, Better Living",
          "Al-Moazin Lite (Prayer Times)",
          "com.WhatsApp2Plus",
          "Prayer Now | Azan Prayer Time & Muslim Azkar",
          "imo free video calls and chat",
          "Retrica",
          "B612 - Beauty & Filter Camera",
          "Facebook Lite",
          "MP3 Video Converter",
          "Knife Hit",
          "Score! Hero",
          "Dream League Soccer 2018",
          "musical.ly",
          "Truecaller: Caller ID, SMS spam blocking & Dialer",
          "AppLock",
          "Facebook",
          "Instagram",
          "WhatsApp Messenger",
          "Messenger – Text and Video Chat for Free",
          "SHAREit - Transfer & Share"
         ]
        },
        {
         "cells": {
          "align": [
           "left",
           "left"
          ],
          "fill": {
           "color": [
            "#68a4b9",
            "#526372"
           ]
          },
          "font": {
           "color": [
            "#FFFFFF",
            "#FFFFFF"
           ],
           "size": 12
          },
          "height": 25,
          "line": {
           "color": "#000000"
          },
          "values": [
           [
            "SHAREit - Transfer & Share",
            "Messenger – Text and Video Chat for Free",
            "WhatsApp Messenger",
            "Instagram",
            "Facebook",
            "AppLock",
            "Truecaller: Caller ID, SMS spam blocking & Dialer",
            "musical.ly",
            "Dream League Soccer 2018",
            "Score! Hero",
            "Knife Hit",
            "MP3 Video Converter",
            "Facebook Lite",
            "B612 - Beauty & Filter Camera",
            "Retrica",
            "imo free video calls and chat",
            "Prayer Now | Azan Prayer Time & Muslim Azkar",
            "com.WhatsApp2Plus",
            "Al-Moazin Lite (Prayer Times)",
            "AliExpress - Smarter Shopping, Better Living",
            "Share - File Transfer & Connect",
            "AndroDumpper Wifi ( WPS Connect )",
            "Egyptian Basra",
            "Candy Crush Saga",
            "Messenger Lite: Free Calls & Messages",
            "SHAHID",
            "FANANEES 2",
            "Dr. Driving",
            "Snapchat",
            "Video Download for Whatsapp"
           ],
           [
            "5.88%",
            "2.43%",
            "0.76%",
            "2.35%",
            "-1.37%",
            "0.93%",
            "0.68%",
            "0.98%",
            "1.27%",
            "0.98%",
            "1.61%",
            "1.04%",
            "-0.69%",
            "1.61%",
            "1.34%",
            "1.06%",
            "-0.09%",
            "0.77%",
            "0.19%",
            "1.34%",
            "-0.38%",
            "0.21%",
            "0.79%",
            "0.79%",
            "-0.07%",
            "1.08%",
            "1.08%",
            "0.79%",
            "0.21%",
            "-0.07%"
           ]
          ]
         },
         "columnorder": [
          0,
          1
         ],
         "columnwidth": [
          52,
          52
         ],
         "domain": {
          "x": [
           0.45,
           0.9
          ],
          "y": [
           0,
           0.8
          ]
         },
         "header": {
          "align": [
           "left",
           "left"
          ],
          "fill": {
           "color": "#2d5b6c"
          },
          "font": {
           "color": [
            "#FFFFFF",
            "#FFFFFF"
           ],
           "size": 14
          },
          "height": 25,
          "line": {
           "color": "#000000"
          },
          "values": [
           [
            "<b>名称</b>"
           ],
           [
            "<b>与上月同比</b>"
           ]
          ]
         },
         "type": "table"
        }
       ],
       "layout": {
        "height": 1400,
        "margin": {
         "l": 300,
         "r": 0
        },
        "title": "卸载应用排行<br>总次数:1130  总设备数:372",
        "width": 1300,
        "yaxis": {
         "ticklen": 2
        }
       }
      },
      "text/html": [
       "<div id=\"7aff7b12-4689-44ad-b62b-f54ee2107261\" style=\"height: 1400px; width: 1300px;\" class=\"plotly-graph-div\"></div><script type=\"text/javascript\">require([\"plotly\"], function(Plotly) { window.PLOTLYENV=window.PLOTLYENV || {};window.PLOTLYENV.BASE_URL=\"https://plot.ly\";Plotly.newPlot(\"7aff7b12-4689-44ad-b62b-f54ee2107261\", [{\"type\": \"bar\", \"y\": [\"Video Download for Whatsapp\", \"Snapchat\", \"Dr. Driving\", \"FANANEES 2\", \"SHAHID\", \"Messenger Lite: Free Calls & Messages\", \"Candy Crush Saga\", \"Egyptian Basra\", \"AndroDumpper Wifi ( WPS Connect )\", \"Share - File Transfer & Connect\", \"AliExpress - Smarter Shopping, Better Living\", \"Al-Moazin Lite (Prayer Times)\", \"com.WhatsApp2Plus\", \"Prayer Now | Azan Prayer Time & Muslim Azkar\", \"imo free video calls and chat\", \"Retrica\", \"B612 - Beauty & Filter Camera\", \"Facebook Lite\", \"MP3 Video Converter\", \"Knife Hit\", \"Score! Hero\", \"Dream League Soccer 2018\", \"musical.ly\", \"Truecaller: Caller ID, SMS spam blocking & Dialer\", \"AppLock\", \"Facebook\", \"Instagram\", \"WhatsApp Messenger\", \"Messenger \\u2013 Text and Video Chat for Free\", \"SHAREit - Transfer & Share\"], \"x\": [0.010752688172043012, 0.010752688172043012, 0.010752688172043012, 0.010752688172043012, 0.010752688172043012, 0.010752688172043012, 0.010752688172043012, 0.010752688172043012, 0.010752688172043012, 0.013440860215053764, 0.013440860215053764, 0.013440860215053764, 0.013440860215053764, 0.013440860215053764, 0.013440860215053764, 0.013440860215053764, 0.016129032258064516, 0.016129032258064516, 0.016129032258064516, 0.016129032258064516, 0.024193548387096774, 0.024193548387096774, 0.024193548387096774, 0.026881720430107527, 0.03225806451612903, 0.03225806451612903, 0.03494623655913978, 0.056451612903225805, 0.06451612903225806, 0.1478494623655914], \"orientation\": \"h\", \"text\": [\"1.08%\", \"1.08%\", \"1.08%\", \"1.08%\", \"1.08%\", \"1.08%\", \"1.08%\", \"1.08%\", \"1.08%\", \"1.34%\", \"1.34%\", \"1.34%\", \"1.34%\", \"1.34%\", \"1.34%\", \"1.34%\", \"1.61%\", \"1.61%\", \"1.61%\", \"1.61%\", \"2.42%\", \"2.42%\", \"2.42%\", \"2.69%\", \"3.23%\", \"3.23%\", \"3.49%\", \"5.65%\", \"6.45%\", \"14.78%\"], \"textposition\": \"outside\"}, {\"type\": \"table\", \"domain\": {\"x\": [0.45, 0.9], \"y\": [0, 0.8]}, \"columnwidth\": [52, 52], \"columnorder\": [0, 1], \"header\": {\"height\": 25, \"values\": [[\"<b>\\u540d\\u79f0</b>\"], [\"<b>\\u4e0e\\u4e0a\\u6708\\u540c\\u6bd4</b>\"]], \"line\": {\"color\": \"#000000\"}, \"align\": [\"left\", \"left\"], \"font\": {\"color\": [\"#FFFFFF\", \"#FFFFFF\"], \"size\": 14}, \"fill\": {\"color\": \"#2d5b6c\"}}, \"cells\": {\"values\": [[\"SHAREit - Transfer & Share\", \"Messenger \\u2013 Text and Video Chat for Free\", \"WhatsApp Messenger\", \"Instagram\", \"Facebook\", \"AppLock\", \"Truecaller: Caller ID, SMS spam blocking & Dialer\", \"musical.ly\", \"Dream League Soccer 2018\", \"Score! Hero\", \"Knife Hit\", \"MP3 Video Converter\", \"Facebook Lite\", \"B612 - Beauty & Filter Camera\", \"Retrica\", \"imo free video calls and chat\", \"Prayer Now | Azan Prayer Time & Muslim Azkar\", \"com.WhatsApp2Plus\", \"Al-Moazin Lite (Prayer Times)\", \"AliExpress - Smarter Shopping, Better Living\", \"Share - File Transfer & Connect\", \"AndroDumpper Wifi ( WPS Connect )\", \"Egyptian Basra\", \"Candy Crush Saga\", \"Messenger Lite: Free Calls & Messages\", \"SHAHID\", \"FANANEES 2\", \"Dr. Driving\", \"Snapchat\", \"Video Download for Whatsapp\"], [\"5.88%\", \"2.43%\", \"0.76%\", \"2.35%\", \"-1.37%\", \"0.93%\", \"0.68%\", \"0.98%\", \"1.27%\", \"0.98%\", \"1.61%\", \"1.04%\", \"-0.69%\", \"1.61%\", \"1.34%\", \"1.06%\", \"-0.09%\", \"0.77%\", \"0.19%\", \"1.34%\", \"-0.38%\", \"0.21%\", \"0.79%\", \"0.79%\", \"-0.07%\", \"1.08%\", \"1.08%\", \"0.79%\", \"0.21%\", \"-0.07%\"]], \"line\": {\"color\": \"#000000\"}, \"align\": [\"left\", \"left\"], \"font\": {\"color\": [\"#FFFFFF\", \"#FFFFFF\"], \"size\": 12}, \"height\": 25, \"fill\": {\"color\": [\"#68a4b9\", \"#526372\"]}}}], {\"title\": \"\\u5378\\u8f7d\\u5e94\\u7528\\u6392\\u884c<br>\\u603b\\u6b21\\u6570:1130  \\u603b\\u8bbe\\u5907\\u6570:372\", \"height\": 1400, \"width\": 1300, \"margin\": {\"l\": 300, \"r\": 0}, \"yaxis\": {\"ticklen\": 2}}, {\"showLink\": true, \"linkText\": \"Export to plot.ly\"})});</script>"
      ],
      "text/vnd.plotly.v1+html": [
       "<div id=\"7aff7b12-4689-44ad-b62b-f54ee2107261\" style=\"height: 1400px; width: 1300px;\" class=\"plotly-graph-div\"></div><script type=\"text/javascript\">require([\"plotly\"], function(Plotly) { window.PLOTLYENV=window.PLOTLYENV || {};window.PLOTLYENV.BASE_URL=\"https://plot.ly\";Plotly.newPlot(\"7aff7b12-4689-44ad-b62b-f54ee2107261\", [{\"type\": \"bar\", \"y\": [\"Video Download for Whatsapp\", \"Snapchat\", \"Dr. Driving\", \"FANANEES 2\", \"SHAHID\", \"Messenger Lite: Free Calls & Messages\", \"Candy Crush Saga\", \"Egyptian Basra\", \"AndroDumpper Wifi ( WPS Connect )\", \"Share - File Transfer & Connect\", \"AliExpress - Smarter Shopping, Better Living\", \"Al-Moazin Lite (Prayer Times)\", \"com.WhatsApp2Plus\", \"Prayer Now | Azan Prayer Time & Muslim Azkar\", \"imo free video calls and chat\", \"Retrica\", \"B612 - Beauty & Filter Camera\", \"Facebook Lite\", \"MP3 Video Converter\", \"Knife Hit\", \"Score! Hero\", \"Dream League Soccer 2018\", \"musical.ly\", \"Truecaller: Caller ID, SMS spam blocking & Dialer\", \"AppLock\", \"Facebook\", \"Instagram\", \"WhatsApp Messenger\", \"Messenger \\u2013 Text and Video Chat for Free\", \"SHAREit - Transfer & Share\"], \"x\": [0.010752688172043012, 0.010752688172043012, 0.010752688172043012, 0.010752688172043012, 0.010752688172043012, 0.010752688172043012, 0.010752688172043012, 0.010752688172043012, 0.010752688172043012, 0.013440860215053764, 0.013440860215053764, 0.013440860215053764, 0.013440860215053764, 0.013440860215053764, 0.013440860215053764, 0.013440860215053764, 0.016129032258064516, 0.016129032258064516, 0.016129032258064516, 0.016129032258064516, 0.024193548387096774, 0.024193548387096774, 0.024193548387096774, 0.026881720430107527, 0.03225806451612903, 0.03225806451612903, 0.03494623655913978, 0.056451612903225805, 0.06451612903225806, 0.1478494623655914], \"orientation\": \"h\", \"text\": [\"1.08%\", \"1.08%\", \"1.08%\", \"1.08%\", \"1.08%\", \"1.08%\", \"1.08%\", \"1.08%\", \"1.08%\", \"1.34%\", \"1.34%\", \"1.34%\", \"1.34%\", \"1.34%\", \"1.34%\", \"1.34%\", \"1.61%\", \"1.61%\", \"1.61%\", \"1.61%\", \"2.42%\", \"2.42%\", \"2.42%\", \"2.69%\", \"3.23%\", \"3.23%\", \"3.49%\", \"5.65%\", \"6.45%\", \"14.78%\"], \"textposition\": \"outside\"}, {\"type\": \"table\", \"domain\": {\"x\": [0.45, 0.9], \"y\": [0, 0.8]}, \"columnwidth\": [52, 52], \"columnorder\": [0, 1], \"header\": {\"height\": 25, \"values\": [[\"<b>\\u540d\\u79f0</b>\"], [\"<b>\\u4e0e\\u4e0a\\u6708\\u540c\\u6bd4</b>\"]], \"line\": {\"color\": \"#000000\"}, \"align\": [\"left\", \"left\"], \"font\": {\"color\": [\"#FFFFFF\", \"#FFFFFF\"], \"size\": 14}, \"fill\": {\"color\": \"#2d5b6c\"}}, \"cells\": {\"values\": [[\"SHAREit - Transfer & Share\", \"Messenger \\u2013 Text and Video Chat for Free\", \"WhatsApp Messenger\", \"Instagram\", \"Facebook\", \"AppLock\", \"Truecaller: Caller ID, SMS spam blocking & Dialer\", \"musical.ly\", \"Dream League Soccer 2018\", \"Score! Hero\", \"Knife Hit\", \"MP3 Video Converter\", \"Facebook Lite\", \"B612 - Beauty & Filter Camera\", \"Retrica\", \"imo free video calls and chat\", \"Prayer Now | Azan Prayer Time & Muslim Azkar\", \"com.WhatsApp2Plus\", \"Al-Moazin Lite (Prayer Times)\", \"AliExpress - Smarter Shopping, Better Living\", \"Share - File Transfer & Connect\", \"AndroDumpper Wifi ( WPS Connect )\", \"Egyptian Basra\", \"Candy Crush Saga\", \"Messenger Lite: Free Calls & Messages\", \"SHAHID\", \"FANANEES 2\", \"Dr. Driving\", \"Snapchat\", \"Video Download for Whatsapp\"], [\"5.88%\", \"2.43%\", \"0.76%\", \"2.35%\", \"-1.37%\", \"0.93%\", \"0.68%\", \"0.98%\", \"1.27%\", \"0.98%\", \"1.61%\", \"1.04%\", \"-0.69%\", \"1.61%\", \"1.34%\", \"1.06%\", \"-0.09%\", \"0.77%\", \"0.19%\", \"1.34%\", \"-0.38%\", \"0.21%\", \"0.79%\", \"0.79%\", \"-0.07%\", \"1.08%\", \"1.08%\", \"0.79%\", \"0.21%\", \"-0.07%\"]], \"line\": {\"color\": \"#000000\"}, \"align\": [\"left\", \"left\"], \"font\": {\"color\": [\"#FFFFFF\", \"#FFFFFF\"], \"size\": 12}, \"height\": 25, \"fill\": {\"color\": [\"#68a4b9\", \"#526372\"]}}}], {\"title\": \"\\u5378\\u8f7d\\u5e94\\u7528\\u6392\\u884c<br>\\u603b\\u6b21\\u6570:1130  \\u603b\\u8bbe\\u5907\\u6570:372\", \"height\": 1400, \"width\": 1300, \"margin\": {\"l\": 300, \"r\": 0}, \"yaxis\": {\"ticklen\": 2}}, {\"showLink\": true, \"linkText\": \"Export to plot.ly\"})});</script>"
      ]
     },
     "metadata": {},
     "output_type": "display_data"
    }
   ],
   "source": [
    "install_rate(df_cur_month, df_last_month,'appremove', '卸载应用排行',height=1400,width=1300)"
   ]
  },
  {
   "cell_type": "markdown",
   "metadata": {},
   "source": [
    "### Camera 应用 "
   ]
  },
  {
   "cell_type": "code",
   "execution_count": 52,
   "metadata": {
    "ExecuteTime": {
     "end_time": "2018-06-29T02:18:18.467932Z",
     "start_time": "2018-06-29T02:18:18.461940Z"
    },
    "collapsed": true
   },
   "outputs": [],
   "source": [
    "chinese_name_photos = {'photo':'普通拍照', 'panorama':'全景', 'facebeauty':'美颜', 'hdr':'逆光', 'nightvideo':'夜景',\n",
    "                'selfiepanorama':'全景自拍', 'polaroid':'心情照片','gifshot':'GIF动画','profession':'高级', 'arcfilter':'滤镜'}\n",
    "chinese_name_videos = {'video':'普通摄像','slowmotion':'慢动作摄影', 'timelapse':'延时摄影'}"
   ]
  },
  {
   "cell_type": "code",
   "execution_count": 53,
   "metadata": {
    "ExecuteTime": {
     "end_time": "2018-06-29T02:18:20.504627Z",
     "start_time": "2018-06-29T02:18:20.493642Z"
    },
    "code_folding": [
     0
    ],
    "collapsed": true
   },
   "outputs": [],
   "source": [
    "def draw_camera(cur, last, height, width, title, table_pos={'x':[0.45, 0.9], 'y':[0, 0.86]}):\n",
    "    cur_rate = cur.apply(lambda x:x/cur.sum())\n",
    "    last_rate = last.apply(lambda x:x/last.sum())\n",
    "    diff_data = cur_rate.sub(last_rate, fill_value=0)\n",
    "    table_data = [diff_data.index, ['{:.2f}%'.format(x*100) for x in diff_data]]\n",
    "    bar_data = {'y':cur_rate.index, 'x':cur_rate.values,\n",
    "                'text':cur_rate.apply(lambda x:'{:.1f}%'.format(x*100)).values}\n",
    "    draw_bar_table(bar_data, table_data, height, width, title, table_pos)"
   ]
  },
  {
   "cell_type": "code",
   "execution_count": 54,
   "metadata": {
    "ExecuteTime": {
     "end_time": "2018-06-29T02:18:25.446007Z",
     "start_time": "2018-06-29T02:18:25.386837Z"
    },
    "code_folding": [
     0
    ],
    "collapsed": true
   },
   "outputs": [],
   "source": [
    "def get_camera_data(df):\n",
    "    takephoto_data_cur = df[df['name'] == 'TakePhoto']\n",
    "    video_data_cur = df[df['name'] == 'Video']\n",
    "\n",
    "    total_camera_cur = len(takephoto_data_cur)\n",
    "    total_video_cur = len(video_data_cur)\n",
    "    total_used_cur = (len(takephoto_data_cur) + len(video_data_cur))\n",
    "\n",
    "    capturemode_cur = takephoto_data_cur.groupby(['attrs_Capturemode']).size().sort_values()\n",
    "\n",
    "    capture_dict_cur = {}\n",
    "    total_camera_dict_cur = {}\n",
    "    for p in chinese_name_photos:\n",
    "        if p in capturemode_cur.index:\n",
    "            capture_dict_cur[chinese_name_photos[p]] = capturemode_cur[p]\n",
    "            total_camera_dict_cur[chinese_name_photos[p]] = capturemode_cur[p]\n",
    "        else:\n",
    "            total_camera_dict_cur[chinese_name_photos[p]] = 0\n",
    "            capture_dict_cur[chinese_name_photos[p]] = 0\n",
    "\n",
    "    capture_chinese_data = pd.Series(capture_dict_cur).sort_values()\n",
    "\n",
    "    video_mode = video_data_cur.groupby(['attrs_Videomode']).size().sort_values()\n",
    "    video_dict_cur = {}\n",
    "    for p in chinese_name_videos:\n",
    "        if p in video_mode.index:\n",
    "            video_dict_cur[chinese_name_videos[p]] = video_mode[p]\n",
    "            total_camera_dict_cur[chinese_name_videos[p]] = video_mode[p]\n",
    "        else:\n",
    "            capture_dict_cur[chinese_name_videos[p]] = 0\n",
    "            total_camera_dict_cur[chinese_name_videos[p]] = 0\n",
    "\n",
    "    video_chinese_data = pd.Series(video_dict_cur).sort_values()\n",
    "    total_chinese_data = pd.Series(total_camera_dict_cur).sort_values()\n",
    "    \n",
    "    return [capture_chinese_data,video_chinese_data,total_chinese_data]"
   ]
  },
  {
   "cell_type": "code",
   "execution_count": 55,
   "metadata": {
    "ExecuteTime": {
     "end_time": "2018-06-29T02:18:29.129619Z",
     "start_time": "2018-06-29T02:18:28.946487Z"
    },
    "collapsed": true
   },
   "outputs": [],
   "source": [
    "cur_camera = get_camera_data(df_cur_month)\n",
    "last_camera = get_camera_data(df_last_month)"
   ]
  },
  {
   "cell_type": "code",
   "execution_count": 56,
   "metadata": {
    "ExecuteTime": {
     "end_time": "2018-06-29T02:18:30.793492Z",
     "start_time": "2018-06-29T02:18:30.779678Z"
    }
   },
   "outputs": [
    {
     "data": {
      "application/vnd.plotly.v1+json": {
       "data": [
        {
         "orientation": "h",
         "text": [
          "0.0%",
          "0.2%",
          "0.3%",
          "0.8%",
          "1.2%",
          "1.3%",
          "1.7%",
          "2.4%",
          "6.9%",
          "85.1%"
         ],
         "textposition": "outside",
         "type": "bar",
         "x": [
          0,
          0.0024613701627239164,
          0.0034185696704498838,
          0.008341309995897717,
          0.01230685081361958,
          0.013469164501572543,
          0.017092848352249418,
          0.023656502119513197,
          0.06857650758922466,
          0.8506768767947491
         ],
         "y": [
          "高级",
          "心情照片",
          "GIF动画",
          "滤镜",
          "夜景",
          "全景",
          "全景自拍",
          "逆光",
          "美颜",
          "普通拍照"
         ]
        },
        {
         "cells": {
          "align": [
           "left",
           "left"
          ],
          "fill": {
           "color": [
            "#68a4b9",
            "#526372"
           ]
          },
          "font": {
           "color": [
            "#FFFFFF",
            "#FFFFFF"
           ],
           "size": 12
          },
          "height": 25,
          "line": {
           "color": "#000000"
          },
          "values": [
           [
            "GIF动画",
            "全景",
            "全景自拍",
            "夜景",
            "心情照片",
            "普通拍照",
            "滤镜",
            "美颜",
            "逆光",
            "高级"
           ],
           [
            "-0.05%",
            "-0.26%",
            "0.61%",
            "0.46%",
            "-0.24%",
            "-0.88%",
            "-0.33%",
            "0.18%",
            "0.51%",
            "0.00%"
           ]
          ]
         },
         "columnorder": [
          0,
          1
         ],
         "columnwidth": [
          52,
          52
         ],
         "domain": {
          "x": [
           0.45,
           0.9
          ],
          "y": [
           0,
           0.86
          ]
         },
         "header": {
          "align": [
           "left",
           "left"
          ],
          "fill": {
           "color": "#2d5b6c"
          },
          "font": {
           "color": [
            "#FFFFFF",
            "#FFFFFF"
           ],
           "size": 14
          },
          "height": 25,
          "line": {
           "color": "#000000"
          },
          "values": [
           [
            "<b>名称</b>"
           ],
           [
            "<b>与上月同比</b>"
           ]
          ]
         },
         "type": "table"
        }
       ],
       "layout": {
        "height": 550,
        "margin": {
         "l": 300,
         "r": 0
        },
        "title": "拍照使用排名<br>总使用次数:14626",
        "width": 1200,
        "yaxis": {
         "ticklen": 2
        }
       }
      },
      "text/html": [
       "<div id=\"ef1d4e76-818c-40c5-aba5-bae41e8d5a2c\" style=\"height: 550px; width: 1200px;\" class=\"plotly-graph-div\"></div><script type=\"text/javascript\">require([\"plotly\"], function(Plotly) { window.PLOTLYENV=window.PLOTLYENV || {};window.PLOTLYENV.BASE_URL=\"https://plot.ly\";Plotly.newPlot(\"ef1d4e76-818c-40c5-aba5-bae41e8d5a2c\", [{\"type\": \"bar\", \"y\": [\"\\u9ad8\\u7ea7\", \"\\u5fc3\\u60c5\\u7167\\u7247\", \"GIF\\u52a8\\u753b\", \"\\u6ee4\\u955c\", \"\\u591c\\u666f\", \"\\u5168\\u666f\", \"\\u5168\\u666f\\u81ea\\u62cd\", \"\\u9006\\u5149\", \"\\u7f8e\\u989c\", \"\\u666e\\u901a\\u62cd\\u7167\"], \"x\": [0.0, 0.0024613701627239164, 0.0034185696704498838, 0.008341309995897717, 0.01230685081361958, 0.013469164501572543, 0.017092848352249418, 0.023656502119513197, 0.06857650758922466, 0.8506768767947491], \"orientation\": \"h\", \"text\": [\"0.0%\", \"0.2%\", \"0.3%\", \"0.8%\", \"1.2%\", \"1.3%\", \"1.7%\", \"2.4%\", \"6.9%\", \"85.1%\"], \"textposition\": \"outside\"}, {\"type\": \"table\", \"domain\": {\"x\": [0.45, 0.9], \"y\": [0, 0.86]}, \"columnwidth\": [52, 52], \"columnorder\": [0, 1], \"header\": {\"height\": 25, \"values\": [[\"<b>\\u540d\\u79f0</b>\"], [\"<b>\\u4e0e\\u4e0a\\u6708\\u540c\\u6bd4</b>\"]], \"line\": {\"color\": \"#000000\"}, \"align\": [\"left\", \"left\"], \"font\": {\"color\": [\"#FFFFFF\", \"#FFFFFF\"], \"size\": 14}, \"fill\": {\"color\": \"#2d5b6c\"}}, \"cells\": {\"values\": [[\"GIF\\u52a8\\u753b\", \"\\u5168\\u666f\", \"\\u5168\\u666f\\u81ea\\u62cd\", \"\\u591c\\u666f\", \"\\u5fc3\\u60c5\\u7167\\u7247\", \"\\u666e\\u901a\\u62cd\\u7167\", \"\\u6ee4\\u955c\", \"\\u7f8e\\u989c\", \"\\u9006\\u5149\", \"\\u9ad8\\u7ea7\"], [\"-0.05%\", \"-0.26%\", \"0.61%\", \"0.46%\", \"-0.24%\", \"-0.88%\", \"-0.33%\", \"0.18%\", \"0.51%\", \"0.00%\"]], \"line\": {\"color\": \"#000000\"}, \"align\": [\"left\", \"left\"], \"font\": {\"color\": [\"#FFFFFF\", \"#FFFFFF\"], \"size\": 12}, \"height\": 25, \"fill\": {\"color\": [\"#68a4b9\", \"#526372\"]}}}], {\"title\": \"\\u62cd\\u7167\\u4f7f\\u7528\\u6392\\u540d<br>\\u603b\\u4f7f\\u7528\\u6b21\\u6570:14626\", \"height\": 550, \"width\": 1200, \"margin\": {\"l\": 300, \"r\": 0}, \"yaxis\": {\"ticklen\": 2}}, {\"showLink\": true, \"linkText\": \"Export to plot.ly\"})});</script>"
      ],
      "text/vnd.plotly.v1+html": [
       "<div id=\"ef1d4e76-818c-40c5-aba5-bae41e8d5a2c\" style=\"height: 550px; width: 1200px;\" class=\"plotly-graph-div\"></div><script type=\"text/javascript\">require([\"plotly\"], function(Plotly) { window.PLOTLYENV=window.PLOTLYENV || {};window.PLOTLYENV.BASE_URL=\"https://plot.ly\";Plotly.newPlot(\"ef1d4e76-818c-40c5-aba5-bae41e8d5a2c\", [{\"type\": \"bar\", \"y\": [\"\\u9ad8\\u7ea7\", \"\\u5fc3\\u60c5\\u7167\\u7247\", \"GIF\\u52a8\\u753b\", \"\\u6ee4\\u955c\", \"\\u591c\\u666f\", \"\\u5168\\u666f\", \"\\u5168\\u666f\\u81ea\\u62cd\", \"\\u9006\\u5149\", \"\\u7f8e\\u989c\", \"\\u666e\\u901a\\u62cd\\u7167\"], \"x\": [0.0, 0.0024613701627239164, 0.0034185696704498838, 0.008341309995897717, 0.01230685081361958, 0.013469164501572543, 0.017092848352249418, 0.023656502119513197, 0.06857650758922466, 0.8506768767947491], \"orientation\": \"h\", \"text\": [\"0.0%\", \"0.2%\", \"0.3%\", \"0.8%\", \"1.2%\", \"1.3%\", \"1.7%\", \"2.4%\", \"6.9%\", \"85.1%\"], \"textposition\": \"outside\"}, {\"type\": \"table\", \"domain\": {\"x\": [0.45, 0.9], \"y\": [0, 0.86]}, \"columnwidth\": [52, 52], \"columnorder\": [0, 1], \"header\": {\"height\": 25, \"values\": [[\"<b>\\u540d\\u79f0</b>\"], [\"<b>\\u4e0e\\u4e0a\\u6708\\u540c\\u6bd4</b>\"]], \"line\": {\"color\": \"#000000\"}, \"align\": [\"left\", \"left\"], \"font\": {\"color\": [\"#FFFFFF\", \"#FFFFFF\"], \"size\": 14}, \"fill\": {\"color\": \"#2d5b6c\"}}, \"cells\": {\"values\": [[\"GIF\\u52a8\\u753b\", \"\\u5168\\u666f\", \"\\u5168\\u666f\\u81ea\\u62cd\", \"\\u591c\\u666f\", \"\\u5fc3\\u60c5\\u7167\\u7247\", \"\\u666e\\u901a\\u62cd\\u7167\", \"\\u6ee4\\u955c\", \"\\u7f8e\\u989c\", \"\\u9006\\u5149\", \"\\u9ad8\\u7ea7\"], [\"-0.05%\", \"-0.26%\", \"0.61%\", \"0.46%\", \"-0.24%\", \"-0.88%\", \"-0.33%\", \"0.18%\", \"0.51%\", \"0.00%\"]], \"line\": {\"color\": \"#000000\"}, \"align\": [\"left\", \"left\"], \"font\": {\"color\": [\"#FFFFFF\", \"#FFFFFF\"], \"size\": 12}, \"height\": 25, \"fill\": {\"color\": [\"#68a4b9\", \"#526372\"]}}}], {\"title\": \"\\u62cd\\u7167\\u4f7f\\u7528\\u6392\\u540d<br>\\u603b\\u4f7f\\u7528\\u6b21\\u6570:14626\", \"height\": 550, \"width\": 1200, \"margin\": {\"l\": 300, \"r\": 0}, \"yaxis\": {\"ticklen\": 2}}, {\"showLink\": true, \"linkText\": \"Export to plot.ly\"})});</script>"
      ]
     },
     "metadata": {},
     "output_type": "display_data"
    }
   ],
   "source": [
    "draw_camera(cur_camera[0], last_camera[0], 550, 1200, '拍照使用排名<br>总使用次数:{}'.format(cur_camera[0].sum()))"
   ]
  },
  {
   "cell_type": "code",
   "execution_count": 57,
   "metadata": {
    "ExecuteTime": {
     "end_time": "2018-06-29T02:18:35.614503Z",
     "start_time": "2018-06-29T02:18:35.578043Z"
    }
   },
   "outputs": [
    {
     "data": {
      "application/vnd.plotly.v1+json": {
       "data": [
        {
         "orientation": "h",
         "text": [
          "3.4%",
          "8.3%",
          "88.4%"
         ],
         "textposition": "outside",
         "type": "bar",
         "x": [
          0.033690658499234305,
          0.08269525267993874,
          0.8836140888208269
         ],
         "y": [
          "延时摄影",
          "慢动作摄影",
          "普通摄像"
         ]
        },
        {
         "cells": {
          "align": [
           "left",
           "left"
          ],
          "fill": {
           "color": [
            "#68a4b9",
            "#526372"
           ]
          },
          "font": {
           "color": [
            "#FFFFFF",
            "#FFFFFF"
           ],
           "size": 12
          },
          "height": 25,
          "line": {
           "color": "#000000"
          },
          "values": [
           [
            "延时摄影",
            "慢动作摄影",
            "普通摄像"
           ],
           [
            "-1.20%",
            "3.86%",
            "-2.66%"
           ]
          ]
         },
         "columnorder": [
          0,
          1
         ],
         "columnwidth": [
          52,
          52
         ],
         "domain": {
          "x": [
           0.45,
           0.9
          ],
          "y": [
           0,
           0.6
          ]
         },
         "header": {
          "align": [
           "left",
           "left"
          ],
          "fill": {
           "color": "#2d5b6c"
          },
          "font": {
           "color": [
            "#FFFFFF",
            "#FFFFFF"
           ],
           "size": 14
          },
          "height": 25,
          "line": {
           "color": "#000000"
          },
          "values": [
           [
            "<b>名称</b>"
           ],
           [
            "<b>与上月同比</b>"
           ]
          ]
         },
         "type": "table"
        }
       ],
       "layout": {
        "height": 400,
        "margin": {
         "l": 300,
         "r": 0
        },
        "title": "录像使用排名<br>总使用次数:653",
        "width": 1200,
        "yaxis": {
         "ticklen": 2
        }
       }
      },
      "text/html": [
       "<div id=\"22080aea-2761-4824-b044-b3aedf881294\" style=\"height: 400px; width: 1200px;\" class=\"plotly-graph-div\"></div><script type=\"text/javascript\">require([\"plotly\"], function(Plotly) { window.PLOTLYENV=window.PLOTLYENV || {};window.PLOTLYENV.BASE_URL=\"https://plot.ly\";Plotly.newPlot(\"22080aea-2761-4824-b044-b3aedf881294\", [{\"type\": \"bar\", \"y\": [\"\\u5ef6\\u65f6\\u6444\\u5f71\", \"\\u6162\\u52a8\\u4f5c\\u6444\\u5f71\", \"\\u666e\\u901a\\u6444\\u50cf\"], \"x\": [0.033690658499234305, 0.08269525267993874, 0.8836140888208269], \"orientation\": \"h\", \"text\": [\"3.4%\", \"8.3%\", \"88.4%\"], \"textposition\": \"outside\"}, {\"type\": \"table\", \"domain\": {\"x\": [0.45, 0.9], \"y\": [0, 0.6]}, \"columnwidth\": [52, 52], \"columnorder\": [0, 1], \"header\": {\"height\": 25, \"values\": [[\"<b>\\u540d\\u79f0</b>\"], [\"<b>\\u4e0e\\u4e0a\\u6708\\u540c\\u6bd4</b>\"]], \"line\": {\"color\": \"#000000\"}, \"align\": [\"left\", \"left\"], \"font\": {\"color\": [\"#FFFFFF\", \"#FFFFFF\"], \"size\": 14}, \"fill\": {\"color\": \"#2d5b6c\"}}, \"cells\": {\"values\": [[\"\\u5ef6\\u65f6\\u6444\\u5f71\", \"\\u6162\\u52a8\\u4f5c\\u6444\\u5f71\", \"\\u666e\\u901a\\u6444\\u50cf\"], [\"-1.20%\", \"3.86%\", \"-2.66%\"]], \"line\": {\"color\": \"#000000\"}, \"align\": [\"left\", \"left\"], \"font\": {\"color\": [\"#FFFFFF\", \"#FFFFFF\"], \"size\": 12}, \"height\": 25, \"fill\": {\"color\": [\"#68a4b9\", \"#526372\"]}}}], {\"title\": \"\\u5f55\\u50cf\\u4f7f\\u7528\\u6392\\u540d<br>\\u603b\\u4f7f\\u7528\\u6b21\\u6570:653\", \"height\": 400, \"width\": 1200, \"margin\": {\"l\": 300, \"r\": 0}, \"yaxis\": {\"ticklen\": 2}}, {\"showLink\": true, \"linkText\": \"Export to plot.ly\"})});</script>"
      ],
      "text/vnd.plotly.v1+html": [
       "<div id=\"22080aea-2761-4824-b044-b3aedf881294\" style=\"height: 400px; width: 1200px;\" class=\"plotly-graph-div\"></div><script type=\"text/javascript\">require([\"plotly\"], function(Plotly) { window.PLOTLYENV=window.PLOTLYENV || {};window.PLOTLYENV.BASE_URL=\"https://plot.ly\";Plotly.newPlot(\"22080aea-2761-4824-b044-b3aedf881294\", [{\"type\": \"bar\", \"y\": [\"\\u5ef6\\u65f6\\u6444\\u5f71\", \"\\u6162\\u52a8\\u4f5c\\u6444\\u5f71\", \"\\u666e\\u901a\\u6444\\u50cf\"], \"x\": [0.033690658499234305, 0.08269525267993874, 0.8836140888208269], \"orientation\": \"h\", \"text\": [\"3.4%\", \"8.3%\", \"88.4%\"], \"textposition\": \"outside\"}, {\"type\": \"table\", \"domain\": {\"x\": [0.45, 0.9], \"y\": [0, 0.6]}, \"columnwidth\": [52, 52], \"columnorder\": [0, 1], \"header\": {\"height\": 25, \"values\": [[\"<b>\\u540d\\u79f0</b>\"], [\"<b>\\u4e0e\\u4e0a\\u6708\\u540c\\u6bd4</b>\"]], \"line\": {\"color\": \"#000000\"}, \"align\": [\"left\", \"left\"], \"font\": {\"color\": [\"#FFFFFF\", \"#FFFFFF\"], \"size\": 14}, \"fill\": {\"color\": \"#2d5b6c\"}}, \"cells\": {\"values\": [[\"\\u5ef6\\u65f6\\u6444\\u5f71\", \"\\u6162\\u52a8\\u4f5c\\u6444\\u5f71\", \"\\u666e\\u901a\\u6444\\u50cf\"], [\"-1.20%\", \"3.86%\", \"-2.66%\"]], \"line\": {\"color\": \"#000000\"}, \"align\": [\"left\", \"left\"], \"font\": {\"color\": [\"#FFFFFF\", \"#FFFFFF\"], \"size\": 12}, \"height\": 25, \"fill\": {\"color\": [\"#68a4b9\", \"#526372\"]}}}], {\"title\": \"\\u5f55\\u50cf\\u4f7f\\u7528\\u6392\\u540d<br>\\u603b\\u4f7f\\u7528\\u6b21\\u6570:653\", \"height\": 400, \"width\": 1200, \"margin\": {\"l\": 300, \"r\": 0}, \"yaxis\": {\"ticklen\": 2}}, {\"showLink\": true, \"linkText\": \"Export to plot.ly\"})});</script>"
      ]
     },
     "metadata": {},
     "output_type": "display_data"
    }
   ],
   "source": [
    "draw_camera(cur_camera[1], last_camera[1], 400, 1200, '录像使用排名<br>总使用次数:{}'.format(cur_camera[1].sum()),\n",
    "           table_pos={'x':[0.45, 0.9], 'y':[0, 0.6]})"
   ]
  },
  {
   "cell_type": "code",
   "execution_count": 58,
   "metadata": {
    "ExecuteTime": {
     "end_time": "2018-06-29T02:18:39.920557Z",
     "start_time": "2018-06-29T02:18:39.902700Z"
    }
   },
   "outputs": [
    {
     "data": {
      "application/vnd.plotly.v1+json": {
       "data": [
        {
         "orientation": "h",
         "text": [
          "0.0%",
          "0.1%",
          "0.2%",
          "0.3%",
          "0.4%",
          "0.8%",
          "1.2%",
          "1.3%",
          "1.6%",
          "2.3%",
          "3.8%",
          "6.6%",
          "81.4%"
         ],
         "textposition": "outside",
         "type": "bar",
         "x": [
          0,
          0.0014398848092152627,
          0.0023561751423522483,
          0.0032724654754892335,
          0.0035342627135283725,
          0.00798481576019373,
          0.011780875711761242,
          0.01289351397342758,
          0.016362327377446167,
          0.022645461090385496,
          0.037764251587145754,
          0.06564565743831402,
          0.8143203089207409
         ],
         "y": [
          "高级",
          "延时摄影",
          "心情照片",
          "GIF动画",
          "慢动作摄影",
          "滤镜",
          "夜景",
          "全景",
          "全景自拍",
          "逆光",
          "普通摄像",
          "美颜",
          "普通拍照"
         ]
        },
        {
         "cells": {
          "align": [
           "left",
           "left"
          ],
          "fill": {
           "color": [
            "#68a4b9",
            "#526372"
           ]
          },
          "font": {
           "color": [
            "#FFFFFF",
            "#FFFFFF"
           ],
           "size": 12
          },
          "height": 25,
          "line": {
           "color": "#000000"
          },
          "values": [
           [
            "GIF动画",
            "全景",
            "全景自拍",
            "夜景",
            "延时摄影",
            "心情照片",
            "慢动作摄影",
            "普通拍照",
            "普通摄像",
            "滤镜",
            "美颜",
            "逆光",
            "高级"
           ],
           [
            "-0.04%",
            "-0.24%",
            "0.59%",
            "0.45%",
            "-0.09%",
            "-0.23%",
            "0.13%",
            "-0.13%",
            "-0.87%",
            "-0.30%",
            "0.23%",
            "0.51%",
            "0.00%"
           ]
          ]
         },
         "columnorder": [
          0,
          1
         ],
         "columnwidth": [
          52,
          52
         ],
         "domain": {
          "x": [
           0.45,
           0.9
          ],
          "y": [
           0,
           0.86
          ]
         },
         "header": {
          "align": [
           "left",
           "left"
          ],
          "fill": {
           "color": "#2d5b6c"
          },
          "font": {
           "color": [
            "#FFFFFF",
            "#FFFFFF"
           ],
           "size": 14
          },
          "height": 25,
          "line": {
           "color": "#000000"
          },
          "values": [
           [
            "<b>名称</b>"
           ],
           [
            "<b>与上月同比</b>"
           ]
          ]
         },
         "type": "table"
        }
       ],
       "layout": {
        "height": 600,
        "margin": {
         "l": 300,
         "r": 0
        },
        "title": "相机使用排名<br>总使用次数:15279",
        "width": 1200,
        "yaxis": {
         "ticklen": 2
        }
       }
      },
      "text/html": [
       "<div id=\"c4bc8d7f-0054-46c7-b676-8debed9ab216\" style=\"height: 600px; width: 1200px;\" class=\"plotly-graph-div\"></div><script type=\"text/javascript\">require([\"plotly\"], function(Plotly) { window.PLOTLYENV=window.PLOTLYENV || {};window.PLOTLYENV.BASE_URL=\"https://plot.ly\";Plotly.newPlot(\"c4bc8d7f-0054-46c7-b676-8debed9ab216\", [{\"type\": \"bar\", \"y\": [\"\\u9ad8\\u7ea7\", \"\\u5ef6\\u65f6\\u6444\\u5f71\", \"\\u5fc3\\u60c5\\u7167\\u7247\", \"GIF\\u52a8\\u753b\", \"\\u6162\\u52a8\\u4f5c\\u6444\\u5f71\", \"\\u6ee4\\u955c\", \"\\u591c\\u666f\", \"\\u5168\\u666f\", \"\\u5168\\u666f\\u81ea\\u62cd\", \"\\u9006\\u5149\", \"\\u666e\\u901a\\u6444\\u50cf\", \"\\u7f8e\\u989c\", \"\\u666e\\u901a\\u62cd\\u7167\"], \"x\": [0.0, 0.0014398848092152627, 0.0023561751423522483, 0.0032724654754892335, 0.0035342627135283725, 0.00798481576019373, 0.011780875711761242, 0.01289351397342758, 0.016362327377446167, 0.022645461090385496, 0.037764251587145754, 0.06564565743831402, 0.8143203089207409], \"orientation\": \"h\", \"text\": [\"0.0%\", \"0.1%\", \"0.2%\", \"0.3%\", \"0.4%\", \"0.8%\", \"1.2%\", \"1.3%\", \"1.6%\", \"2.3%\", \"3.8%\", \"6.6%\", \"81.4%\"], \"textposition\": \"outside\"}, {\"type\": \"table\", \"domain\": {\"x\": [0.45, 0.9], \"y\": [0, 0.86]}, \"columnwidth\": [52, 52], \"columnorder\": [0, 1], \"header\": {\"height\": 25, \"values\": [[\"<b>\\u540d\\u79f0</b>\"], [\"<b>\\u4e0e\\u4e0a\\u6708\\u540c\\u6bd4</b>\"]], \"line\": {\"color\": \"#000000\"}, \"align\": [\"left\", \"left\"], \"font\": {\"color\": [\"#FFFFFF\", \"#FFFFFF\"], \"size\": 14}, \"fill\": {\"color\": \"#2d5b6c\"}}, \"cells\": {\"values\": [[\"GIF\\u52a8\\u753b\", \"\\u5168\\u666f\", \"\\u5168\\u666f\\u81ea\\u62cd\", \"\\u591c\\u666f\", \"\\u5ef6\\u65f6\\u6444\\u5f71\", \"\\u5fc3\\u60c5\\u7167\\u7247\", \"\\u6162\\u52a8\\u4f5c\\u6444\\u5f71\", \"\\u666e\\u901a\\u62cd\\u7167\", \"\\u666e\\u901a\\u6444\\u50cf\", \"\\u6ee4\\u955c\", \"\\u7f8e\\u989c\", \"\\u9006\\u5149\", \"\\u9ad8\\u7ea7\"], [\"-0.04%\", \"-0.24%\", \"0.59%\", \"0.45%\", \"-0.09%\", \"-0.23%\", \"0.13%\", \"-0.13%\", \"-0.87%\", \"-0.30%\", \"0.23%\", \"0.51%\", \"0.00%\"]], \"line\": {\"color\": \"#000000\"}, \"align\": [\"left\", \"left\"], \"font\": {\"color\": [\"#FFFFFF\", \"#FFFFFF\"], \"size\": 12}, \"height\": 25, \"fill\": {\"color\": [\"#68a4b9\", \"#526372\"]}}}], {\"title\": \"\\u76f8\\u673a\\u4f7f\\u7528\\u6392\\u540d<br>\\u603b\\u4f7f\\u7528\\u6b21\\u6570:15279\", \"height\": 600, \"width\": 1200, \"margin\": {\"l\": 300, \"r\": 0}, \"yaxis\": {\"ticklen\": 2}}, {\"showLink\": true, \"linkText\": \"Export to plot.ly\"})});</script>"
      ],
      "text/vnd.plotly.v1+html": [
       "<div id=\"c4bc8d7f-0054-46c7-b676-8debed9ab216\" style=\"height: 600px; width: 1200px;\" class=\"plotly-graph-div\"></div><script type=\"text/javascript\">require([\"plotly\"], function(Plotly) { window.PLOTLYENV=window.PLOTLYENV || {};window.PLOTLYENV.BASE_URL=\"https://plot.ly\";Plotly.newPlot(\"c4bc8d7f-0054-46c7-b676-8debed9ab216\", [{\"type\": \"bar\", \"y\": [\"\\u9ad8\\u7ea7\", \"\\u5ef6\\u65f6\\u6444\\u5f71\", \"\\u5fc3\\u60c5\\u7167\\u7247\", \"GIF\\u52a8\\u753b\", \"\\u6162\\u52a8\\u4f5c\\u6444\\u5f71\", \"\\u6ee4\\u955c\", \"\\u591c\\u666f\", \"\\u5168\\u666f\", \"\\u5168\\u666f\\u81ea\\u62cd\", \"\\u9006\\u5149\", \"\\u666e\\u901a\\u6444\\u50cf\", \"\\u7f8e\\u989c\", \"\\u666e\\u901a\\u62cd\\u7167\"], \"x\": [0.0, 0.0014398848092152627, 0.0023561751423522483, 0.0032724654754892335, 0.0035342627135283725, 0.00798481576019373, 0.011780875711761242, 0.01289351397342758, 0.016362327377446167, 0.022645461090385496, 0.037764251587145754, 0.06564565743831402, 0.8143203089207409], \"orientation\": \"h\", \"text\": [\"0.0%\", \"0.1%\", \"0.2%\", \"0.3%\", \"0.4%\", \"0.8%\", \"1.2%\", \"1.3%\", \"1.6%\", \"2.3%\", \"3.8%\", \"6.6%\", \"81.4%\"], \"textposition\": \"outside\"}, {\"type\": \"table\", \"domain\": {\"x\": [0.45, 0.9], \"y\": [0, 0.86]}, \"columnwidth\": [52, 52], \"columnorder\": [0, 1], \"header\": {\"height\": 25, \"values\": [[\"<b>\\u540d\\u79f0</b>\"], [\"<b>\\u4e0e\\u4e0a\\u6708\\u540c\\u6bd4</b>\"]], \"line\": {\"color\": \"#000000\"}, \"align\": [\"left\", \"left\"], \"font\": {\"color\": [\"#FFFFFF\", \"#FFFFFF\"], \"size\": 14}, \"fill\": {\"color\": \"#2d5b6c\"}}, \"cells\": {\"values\": [[\"GIF\\u52a8\\u753b\", \"\\u5168\\u666f\", \"\\u5168\\u666f\\u81ea\\u62cd\", \"\\u591c\\u666f\", \"\\u5ef6\\u65f6\\u6444\\u5f71\", \"\\u5fc3\\u60c5\\u7167\\u7247\", \"\\u6162\\u52a8\\u4f5c\\u6444\\u5f71\", \"\\u666e\\u901a\\u62cd\\u7167\", \"\\u666e\\u901a\\u6444\\u50cf\", \"\\u6ee4\\u955c\", \"\\u7f8e\\u989c\", \"\\u9006\\u5149\", \"\\u9ad8\\u7ea7\"], [\"-0.04%\", \"-0.24%\", \"0.59%\", \"0.45%\", \"-0.09%\", \"-0.23%\", \"0.13%\", \"-0.13%\", \"-0.87%\", \"-0.30%\", \"0.23%\", \"0.51%\", \"0.00%\"]], \"line\": {\"color\": \"#000000\"}, \"align\": [\"left\", \"left\"], \"font\": {\"color\": [\"#FFFFFF\", \"#FFFFFF\"], \"size\": 12}, \"height\": 25, \"fill\": {\"color\": [\"#68a4b9\", \"#526372\"]}}}], {\"title\": \"\\u76f8\\u673a\\u4f7f\\u7528\\u6392\\u540d<br>\\u603b\\u4f7f\\u7528\\u6b21\\u6570:15279\", \"height\": 600, \"width\": 1200, \"margin\": {\"l\": 300, \"r\": 0}, \"yaxis\": {\"ticklen\": 2}}, {\"showLink\": true, \"linkText\": \"Export to plot.ly\"})});</script>"
      ]
     },
     "metadata": {},
     "output_type": "display_data"
    }
   ],
   "source": [
    "draw_camera(cur_camera[2], last_camera[2], 600, 1200, '相机使用排名<br>总使用次数:{}'.format(cur_camera[2].sum()))"
   ]
  },
  {
   "cell_type": "markdown",
   "metadata": {
    "collapsed": true
   },
   "source": [
    "### 销量统计"
   ]
  },
  {
   "cell_type": "code",
   "execution_count": null,
   "metadata": {
    "ExecuteTime": {
     "end_time": "2018-05-18T03:55:36.176491Z",
     "start_time": "2018-05-18T03:55:36.172823Z"
    },
    "collapsed": true
   },
   "outputs": [],
   "source": [
    "#valid_data.groupby(['IMEI', 'wallTime']).size()"
   ]
  },
  {
   "cell_type": "code",
   "execution_count": 59,
   "metadata": {
    "ExecuteTime": {
     "end_time": "2018-06-29T02:19:23.260257Z",
     "start_time": "2018-06-29T02:19:23.190627Z"
    },
    "collapsed": true
   },
   "outputs": [],
   "source": [
    "imeis = len(valid_data['IMEI'].unique())"
   ]
  },
  {
   "cell_type": "code",
   "execution_count": 60,
   "metadata": {
    "ExecuteTime": {
     "end_time": "2018-06-29T02:19:26.000005Z",
     "start_time": "2018-06-29T02:19:25.996642Z"
    },
    "collapsed": true
   },
   "outputs": [],
   "source": [
    "d518 = datetime.datetime(2018, 1, 1).timestamp()"
   ]
  },
  {
   "cell_type": "code",
   "execution_count": 61,
   "metadata": {
    "ExecuteTime": {
     "end_time": "2018-06-29T02:19:35.043915Z",
     "start_time": "2018-06-29T02:19:33.672853Z"
    },
    "collapsed": true
   },
   "outputs": [],
   "source": [
    "vvdata = valid_data[valid_data['registerTime'] >= d518]\n",
    "#imeis = len(vvdata['IMEI'].unique())\n",
    "register = vvdata.groupby(['IMEI', 'registerTime']).size()\n",
    "register_data = {}\n",
    "\n",
    "for imei, group in register.reset_index().groupby(['IMEI']):\n",
    "    register_date = datetime.datetime.fromtimestamp(group.iloc[-1]['registerTime'])\n",
    "    register_data[imei] = register_date"
   ]
  },
  {
   "cell_type": "code",
   "execution_count": 62,
   "metadata": {
    "ExecuteTime": {
     "end_time": "2018-06-29T02:19:38.760553Z",
     "start_time": "2018-06-29T02:19:38.755500Z"
    },
    "collapsed": true
   },
   "outputs": [],
   "source": [
    "psd = pd.DataFrame.from_dict(register_data, orient='index')"
   ]
  },
  {
   "cell_type": "code",
   "execution_count": 63,
   "metadata": {
    "ExecuteTime": {
     "end_time": "2018-06-29T02:19:42.307033Z",
     "start_time": "2018-06-29T02:19:42.297303Z"
    },
    "collapsed": true
   },
   "outputs": [],
   "source": [
    "register_count = psd.groupby([0]).size()"
   ]
  },
  {
   "cell_type": "code",
   "execution_count": 64,
   "metadata": {
    "ExecuteTime": {
     "end_time": "2018-06-29T02:19:45.422126Z",
     "start_time": "2018-06-29T02:19:45.413592Z"
    },
    "collapsed": true
   },
   "outputs": [],
   "source": [
    "cc = register_count.resample('D').sum().fillna(0)"
   ]
  },
  {
   "cell_type": "code",
   "execution_count": 65,
   "metadata": {
    "ExecuteTime": {
     "end_time": "2018-06-29T02:19:46.580833Z",
     "start_time": "2018-06-29T02:19:46.573765Z"
    },
    "collapsed": true
   },
   "outputs": [],
   "source": [
    "paper_bgcolor='#242640'\n",
    "plot_bgcolor='#242640'\n",
    "paper_bgcolor='#FFFFFF'\n",
    "plot_bgcolor='#FFFFFF'\n",
    "text_color = '#000000'\n",
    "x_color = '#000000'\n",
    "y_color = '#000000'\n",
    "title_color = '#000000'\n",
    "legend_color = '#000000'"
   ]
  },
  {
   "cell_type": "code",
   "execution_count": 66,
   "metadata": {
    "ExecuteTime": {
     "end_time": "2018-06-29T02:19:49.942757Z",
     "start_time": "2018-06-29T02:19:49.935023Z"
    }
   },
   "outputs": [
    {
     "data": {
      "text/plain": [
       "array(['01-01', '01-02', '01-03', '01-04', '01-05', '01-06', '01-07',\n",
       "       '01-08', '01-09', '01-10', '01-11', '01-12', '01-13', '01-14',\n",
       "       '01-15', '01-16', '01-17', '01-18', '01-19', '01-20', '01-21',\n",
       "       '01-22', '01-23', '01-24', '01-25', '01-26', '01-27', '01-28',\n",
       "       '01-29', '01-30', '01-31', '02-01', '02-02', '02-03', '02-04',\n",
       "       '02-05', '02-06', '02-07', '02-08', '02-09', '02-10', '02-11',\n",
       "       '02-12', '02-13', '02-14', '02-15', '02-16', '02-17', '02-18',\n",
       "       '02-19', '02-20', '02-21', '02-22', '02-23', '02-24', '02-25',\n",
       "       '02-26', '02-27', '02-28', '03-01', '03-02', '03-03', '03-04',\n",
       "       '03-05', '03-06', '03-07', '03-08', '03-09', '03-10', '03-11',\n",
       "       '03-12', '03-13', '03-14', '03-15', '03-16', '03-17', '03-18',\n",
       "       '03-19', '03-20', '03-21', '03-22', '03-23', '03-24', '03-25',\n",
       "       '03-26', '03-27', '03-28', '03-29', '03-30', '03-31', '04-01',\n",
       "       '04-02', '04-03', '04-04', '04-05', '04-06', '04-07', '04-08',\n",
       "       '04-09', '04-10', '04-11', '04-12', '04-13', '04-14', '04-15',\n",
       "       '04-16', '04-17', '04-18', '04-19', '04-20', '04-21', '04-22',\n",
       "       '04-23', '04-24', '04-25', '04-26', '04-27', '04-28', '04-29',\n",
       "       '04-30', '05-01', '05-02', '05-03', '05-04', '05-05', '05-06',\n",
       "       '05-07', '05-08', '05-09', '05-10', '05-11', '05-12', '05-13',\n",
       "       '05-14', '05-15', '05-16', '05-17', '05-18', '05-19', '05-20',\n",
       "       '05-21', '05-22', '05-23', '05-24', '05-25', '05-26', '05-27',\n",
       "       '05-28', '05-29', '05-30', '05-31', '06-01', '06-02', '06-03',\n",
       "       '06-04', '06-05', '06-06', '06-07', '06-08', '06-09', '06-10',\n",
       "       '06-11', '06-12', '06-13', '06-14', '06-15', '06-16', '06-17',\n",
       "       '06-18', '06-19', '06-20', '06-21', '06-22', '06-23', '06-24',\n",
       "       '06-25', '06-26', '06-27', '06-28'],\n",
       "      dtype='<U5')"
      ]
     },
     "execution_count": 66,
     "metadata": {},
     "output_type": "execute_result"
    }
   ],
   "source": [
    "cc.index.strftime('%m-%d')"
   ]
  },
  {
   "cell_type": "code",
   "execution_count": 67,
   "metadata": {
    "ExecuteTime": {
     "end_time": "2018-06-29T02:19:56.078500Z",
     "start_time": "2018-06-29T02:19:56.070191Z"
    }
   },
   "outputs": [
    {
     "data": {
      "text/plain": [
       "array(['18-01-01', '18-01-02', '18-01-03', '18-01-04', '18-01-05',\n",
       "       '18-01-06', '18-01-07', '18-01-08', '18-01-09', '18-01-10',\n",
       "       '18-01-11', '18-01-12', '18-01-13', '18-01-14', '18-01-15',\n",
       "       '18-01-16', '18-01-17', '18-01-18', '18-01-19', '18-01-20',\n",
       "       '18-01-21', '18-01-22', '18-01-23', '18-01-24', '18-01-25',\n",
       "       '18-01-26', '18-01-27', '18-01-28', '18-01-29', '18-01-30',\n",
       "       '18-01-31', '18-02-01', '18-02-02', '18-02-03', '18-02-04',\n",
       "       '18-02-05', '18-02-06', '18-02-07', '18-02-08', '18-02-09',\n",
       "       '18-02-10', '18-02-11', '18-02-12', '18-02-13', '18-02-14',\n",
       "       '18-02-15', '18-02-16', '18-02-17', '18-02-18', '18-02-19',\n",
       "       '18-02-20', '18-02-21', '18-02-22', '18-02-23', '18-02-24',\n",
       "       '18-02-25', '18-02-26', '18-02-27', '18-02-28', '18-03-01',\n",
       "       '18-03-02', '18-03-03', '18-03-04', '18-03-05', '18-03-06',\n",
       "       '18-03-07', '18-03-08', '18-03-09', '18-03-10', '18-03-11',\n",
       "       '18-03-12', '18-03-13', '18-03-14', '18-03-15', '18-03-16',\n",
       "       '18-03-17', '18-03-18', '18-03-19', '18-03-20', '18-03-21',\n",
       "       '18-03-22', '18-03-23', '18-03-24', '18-03-25', '18-03-26',\n",
       "       '18-03-27', '18-03-28', '18-03-29', '18-03-30', '18-03-31',\n",
       "       '18-04-01', '18-04-02', '18-04-03', '18-04-04', '18-04-05',\n",
       "       '18-04-06', '18-04-07', '18-04-08', '18-04-09', '18-04-10',\n",
       "       '18-04-11', '18-04-12', '18-04-13', '18-04-14', '18-04-15',\n",
       "       '18-04-16', '18-04-17', '18-04-18', '18-04-19', '18-04-20',\n",
       "       '18-04-21', '18-04-22', '18-04-23', '18-04-24', '18-04-25',\n",
       "       '18-04-26', '18-04-27', '18-04-28', '18-04-29', '18-04-30',\n",
       "       '18-05-01', '18-05-02', '18-05-03', '18-05-04', '18-05-05',\n",
       "       '18-05-06', '18-05-07', '18-05-08', '18-05-09', '18-05-10',\n",
       "       '18-05-11', '18-05-12', '18-05-13', '18-05-14', '18-05-15',\n",
       "       '18-05-16', '18-05-17', '18-05-18', '18-05-19', '18-05-20',\n",
       "       '18-05-21', '18-05-22', '18-05-23', '18-05-24', '18-05-25',\n",
       "       '18-05-26', '18-05-27', '18-05-28', '18-05-29', '18-05-30',\n",
       "       '18-05-31', '18-06-01', '18-06-02', '18-06-03', '18-06-04',\n",
       "       '18-06-05', '18-06-06', '18-06-07', '18-06-08', '18-06-09',\n",
       "       '18-06-10', '18-06-11', '18-06-12', '18-06-13', '18-06-14',\n",
       "       '18-06-15', '18-06-16', '18-06-17', '18-06-18', '18-06-19',\n",
       "       '18-06-20', '18-06-21', '18-06-22', '18-06-23', '18-06-24',\n",
       "       '18-06-25', '18-06-26', '18-06-27', '18-06-28'],\n",
       "      dtype='<U8')"
      ]
     },
     "execution_count": 67,
     "metadata": {},
     "output_type": "execute_result"
    }
   ],
   "source": [
    "cc.index.strftime('%y-%m-%d')"
   ]
  },
  {
   "cell_type": "code",
   "execution_count": 68,
   "metadata": {
    "ExecuteTime": {
     "end_time": "2018-06-29T02:19:57.473053Z",
     "start_time": "2018-06-29T02:19:57.464861Z"
    }
   },
   "outputs": [
    {
     "data": {
      "text/plain": [
       "array([ 195.,    3.,    0.,    1.,    2.,    0.,    0.,    0.,    0.,\n",
       "          0.,    0.,    0.,    0.,    0.,    0.,    1.,    0.,    0.,\n",
       "          1.,    0.,    0.,    0.,    0.,    0.,    0.,    0.,    0.,\n",
       "          0.,    0.,    0.,    0.,    0.,    0.,    0.,    0.,    0.,\n",
       "          0.,    0.,    0.,    0.,    0.,    0.,    0.,    0.,    0.,\n",
       "          0.,    0.,    0.,    0.,    1.,    1.,    0.,    0.,    0.,\n",
       "          0.,    0.,    0.,    0.,    0.,    0.,    0.,    0.,    2.,\n",
       "          0.,    0.,    0.,    1.,    0.,    0.,    0.,    1.,    1.,\n",
       "          0.,    1.,    0.,    0.,    0.,   10.,   10.,    4.,    1.,\n",
       "          5.,    2.,    3.,    4.,    0.,    0.,    3.,    2.,    0.,\n",
       "          6.,    3.,    3.,    5.,    6.,    6.,    4.,    2.,    8.,\n",
       "          5.,    5.,    6.,    7.,    6.,    0.,    8.,   11.,    7.,\n",
       "          7.,    9.,    3.,    2.,    4.,   13.,    5.,    5.,    8.,\n",
       "          9.,    8.,    2.,    2.,    4.,    2.,   10.,    5.,    3.,\n",
       "          4.,    2.,    1.,    4.,    6.,    2.,    3.,   12.,    3.,\n",
       "          4.,    4.,    5.,    3.,    1.,    4.,    5.,    6.,    5.,\n",
       "          4.,    6.,    5.,    2.,    5.,    4.,    6.,    8.,    3.,\n",
       "          3.,    7.,    3.,    3.,    3.,    2.,    3.,    2.,    8.,\n",
       "          2.,    8.,    5.,   10.,    1.,    2.,    3.,    5.,    7.,\n",
       "          1.,    5.,    5.,    7.,    4.,    7.,    5.,    2.])"
      ]
     },
     "execution_count": 68,
     "metadata": {},
     "output_type": "execute_result"
    }
   ],
   "source": [
    "cc.values"
   ]
  },
  {
   "cell_type": "code",
   "execution_count": 69,
   "metadata": {
    "ExecuteTime": {
     "end_time": "2018-06-29T02:19:58.671922Z",
     "start_time": "2018-06-29T02:19:58.661391Z"
    },
    "collapsed": true
   },
   "outputs": [],
   "source": [
    "bandxaxis = go.XAxis(\n",
    "        type='date',\n",
    "        #range=[(created_by_day.index[start] - 1).strftime('%y-%m-%d'),\n",
    "        #       (created_by_day.index[-1] + 1).strftime('%y-%m-%d'),],\n",
    "        ticks=\"outside\", \n",
    "        showticklabels=True,\n",
    "        ticktext=list(cc.index.strftime('%m-%d')),\n",
    "        tickvals=list(cc.index.strftime('%y-%m-%d')),\n",
    "        tickfont=dict(size=11),\n",
    "        #tickfont=dict(size=11,color='#B9B9C3'),\n",
    "        ticklen=10,showgrid=True,\n",
    "        #color='#FFFFFF'\n",
    "    )"
   ]
  },
  {
   "cell_type": "code",
   "execution_count": 70,
   "metadata": {
    "ExecuteTime": {
     "end_time": "2018-06-29T02:19:59.747704Z",
     "start_time": "2018-06-29T02:19:59.741497Z"
    },
    "collapsed": true
   },
   "outputs": [],
   "source": [
    "data=[go.Bar(\n",
    "        x = cc.index,\n",
    "        y = cc.values,\n",
    "        text=cc.values, \n",
    "        textposition='outside',)\n",
    "        #marker=dict(color='#7D858C')), \n",
    "]\n"
   ]
  },
  {
   "cell_type": "code",
   "execution_count": 72,
   "metadata": {
    "ExecuteTime": {
     "end_time": "2018-06-29T02:20:47.131003Z",
     "start_time": "2018-06-29T02:20:47.105127Z"
    }
   },
   "outputs": [
    {
     "data": {
      "application/vnd.plotly.v1+json": {
       "data": [
        {
         "text": [
          195,
          3,
          0,
          1,
          2,
          0,
          0,
          0,
          0,
          0,
          0,
          0,
          0,
          0,
          0,
          1,
          0,
          0,
          1,
          0,
          0,
          0,
          0,
          0,
          0,
          0,
          0,
          0,
          0,
          0,
          0,
          0,
          0,
          0,
          0,
          0,
          0,
          0,
          0,
          0,
          0,
          0,
          0,
          0,
          0,
          0,
          0,
          0,
          0,
          1,
          1,
          0,
          0,
          0,
          0,
          0,
          0,
          0,
          0,
          0,
          0,
          0,
          2,
          0,
          0,
          0,
          1,
          0,
          0,
          0,
          1,
          1,
          0,
          1,
          0,
          0,
          0,
          10,
          10,
          4,
          1,
          5,
          2,
          3,
          4,
          0,
          0,
          3,
          2,
          0,
          6,
          3,
          3,
          5,
          6,
          6,
          4,
          2,
          8,
          5,
          5,
          6,
          7,
          6,
          0,
          8,
          11,
          7,
          7,
          9,
          3,
          2,
          4,
          13,
          5,
          5,
          8,
          9,
          8,
          2,
          2,
          4,
          2,
          10,
          5,
          3,
          4,
          2,
          1,
          4,
          6,
          2,
          3,
          12,
          3,
          4,
          4,
          5,
          3,
          1,
          4,
          5,
          6,
          5,
          4,
          6,
          5,
          2,
          5,
          4,
          6,
          8,
          3,
          3,
          7,
          3,
          3,
          3,
          2,
          3,
          2,
          8,
          2,
          8,
          5,
          10,
          1,
          2,
          3,
          5,
          7,
          1,
          5,
          5,
          7,
          4,
          7,
          5,
          2
         ],
         "textposition": "outside",
         "type": "bar",
         "x": [
          "2018-01-01",
          "2018-01-02",
          "2018-01-03",
          "2018-01-04",
          "2018-01-05",
          "2018-01-06",
          "2018-01-07",
          "2018-01-08",
          "2018-01-09",
          "2018-01-10",
          "2018-01-11",
          "2018-01-12",
          "2018-01-13",
          "2018-01-14",
          "2018-01-15",
          "2018-01-16",
          "2018-01-17",
          "2018-01-18",
          "2018-01-19",
          "2018-01-20",
          "2018-01-21",
          "2018-01-22",
          "2018-01-23",
          "2018-01-24",
          "2018-01-25",
          "2018-01-26",
          "2018-01-27",
          "2018-01-28",
          "2018-01-29",
          "2018-01-30",
          "2018-01-31",
          "2018-02-01",
          "2018-02-02",
          "2018-02-03",
          "2018-02-04",
          "2018-02-05",
          "2018-02-06",
          "2018-02-07",
          "2018-02-08",
          "2018-02-09",
          "2018-02-10",
          "2018-02-11",
          "2018-02-12",
          "2018-02-13",
          "2018-02-14",
          "2018-02-15",
          "2018-02-16",
          "2018-02-17",
          "2018-02-18",
          "2018-02-19",
          "2018-02-20",
          "2018-02-21",
          "2018-02-22",
          "2018-02-23",
          "2018-02-24",
          "2018-02-25",
          "2018-02-26",
          "2018-02-27",
          "2018-02-28",
          "2018-03-01",
          "2018-03-02",
          "2018-03-03",
          "2018-03-04",
          "2018-03-05",
          "2018-03-06",
          "2018-03-07",
          "2018-03-08",
          "2018-03-09",
          "2018-03-10",
          "2018-03-11",
          "2018-03-12",
          "2018-03-13",
          "2018-03-14",
          "2018-03-15",
          "2018-03-16",
          "2018-03-17",
          "2018-03-18",
          "2018-03-19",
          "2018-03-20",
          "2018-03-21",
          "2018-03-22",
          "2018-03-23",
          "2018-03-24",
          "2018-03-25",
          "2018-03-26",
          "2018-03-27",
          "2018-03-28",
          "2018-03-29",
          "2018-03-30",
          "2018-03-31",
          "2018-04-01",
          "2018-04-02",
          "2018-04-03",
          "2018-04-04",
          "2018-04-05",
          "2018-04-06",
          "2018-04-07",
          "2018-04-08",
          "2018-04-09",
          "2018-04-10",
          "2018-04-11",
          "2018-04-12",
          "2018-04-13",
          "2018-04-14",
          "2018-04-15",
          "2018-04-16",
          "2018-04-17",
          "2018-04-18",
          "2018-04-19",
          "2018-04-20",
          "2018-04-21",
          "2018-04-22",
          "2018-04-23",
          "2018-04-24",
          "2018-04-25",
          "2018-04-26",
          "2018-04-27",
          "2018-04-28",
          "2018-04-29",
          "2018-04-30",
          "2018-05-01",
          "2018-05-02",
          "2018-05-03",
          "2018-05-04",
          "2018-05-05",
          "2018-05-06",
          "2018-05-07",
          "2018-05-08",
          "2018-05-09",
          "2018-05-10",
          "2018-05-11",
          "2018-05-12",
          "2018-05-13",
          "2018-05-14",
          "2018-05-15",
          "2018-05-16",
          "2018-05-17",
          "2018-05-18",
          "2018-05-19",
          "2018-05-20",
          "2018-05-21",
          "2018-05-22",
          "2018-05-23",
          "2018-05-24",
          "2018-05-25",
          "2018-05-26",
          "2018-05-27",
          "2018-05-28",
          "2018-05-29",
          "2018-05-30",
          "2018-05-31",
          "2018-06-01",
          "2018-06-02",
          "2018-06-03",
          "2018-06-04",
          "2018-06-05",
          "2018-06-06",
          "2018-06-07",
          "2018-06-08",
          "2018-06-09",
          "2018-06-10",
          "2018-06-11",
          "2018-06-12",
          "2018-06-13",
          "2018-06-14",
          "2018-06-15",
          "2018-06-16",
          "2018-06-17",
          "2018-06-18",
          "2018-06-19",
          "2018-06-20",
          "2018-06-21",
          "2018-06-22",
          "2018-06-23",
          "2018-06-24",
          "2018-06-25",
          "2018-06-26",
          "2018-06-27",
          "2018-06-28"
         ],
         "y": [
          195,
          3,
          0,
          1,
          2,
          0,
          0,
          0,
          0,
          0,
          0,
          0,
          0,
          0,
          0,
          1,
          0,
          0,
          1,
          0,
          0,
          0,
          0,
          0,
          0,
          0,
          0,
          0,
          0,
          0,
          0,
          0,
          0,
          0,
          0,
          0,
          0,
          0,
          0,
          0,
          0,
          0,
          0,
          0,
          0,
          0,
          0,
          0,
          0,
          1,
          1,
          0,
          0,
          0,
          0,
          0,
          0,
          0,
          0,
          0,
          0,
          0,
          2,
          0,
          0,
          0,
          1,
          0,
          0,
          0,
          1,
          1,
          0,
          1,
          0,
          0,
          0,
          10,
          10,
          4,
          1,
          5,
          2,
          3,
          4,
          0,
          0,
          3,
          2,
          0,
          6,
          3,
          3,
          5,
          6,
          6,
          4,
          2,
          8,
          5,
          5,
          6,
          7,
          6,
          0,
          8,
          11,
          7,
          7,
          9,
          3,
          2,
          4,
          13,
          5,
          5,
          8,
          9,
          8,
          2,
          2,
          4,
          2,
          10,
          5,
          3,
          4,
          2,
          1,
          4,
          6,
          2,
          3,
          12,
          3,
          4,
          4,
          5,
          3,
          1,
          4,
          5,
          6,
          5,
          4,
          6,
          5,
          2,
          5,
          4,
          6,
          8,
          3,
          3,
          7,
          3,
          3,
          3,
          2,
          3,
          2,
          8,
          2,
          8,
          5,
          10,
          1,
          2,
          3,
          5,
          7,
          1,
          5,
          5,
          7,
          4,
          7,
          5,
          2
         ]
        }
       ],
       "layout": {
        "bargap": 0.1,
        "height": 1200,
        "legend": {
         "font": {
          "size": 16
         },
         "x": 0.1
        },
        "title": "销量趋势图<br>总数:685",
        "titlefont": {
         "color": "#000000",
         "size": 25
        },
        "width": 2000,
        "xaxis": {
         "showgrid": true,
         "showticklabels": true,
         "tickfont": {
          "size": 11
         },
         "ticklen": 10,
         "ticks": "outside",
         "ticktext": [
          "01-01",
          "01-02",
          "01-03",
          "01-04",
          "01-05",
          "01-06",
          "01-07",
          "01-08",
          "01-09",
          "01-10",
          "01-11",
          "01-12",
          "01-13",
          "01-14",
          "01-15",
          "01-16",
          "01-17",
          "01-18",
          "01-19",
          "01-20",
          "01-21",
          "01-22",
          "01-23",
          "01-24",
          "01-25",
          "01-26",
          "01-27",
          "01-28",
          "01-29",
          "01-30",
          "01-31",
          "02-01",
          "02-02",
          "02-03",
          "02-04",
          "02-05",
          "02-06",
          "02-07",
          "02-08",
          "02-09",
          "02-10",
          "02-11",
          "02-12",
          "02-13",
          "02-14",
          "02-15",
          "02-16",
          "02-17",
          "02-18",
          "02-19",
          "02-20",
          "02-21",
          "02-22",
          "02-23",
          "02-24",
          "02-25",
          "02-26",
          "02-27",
          "02-28",
          "03-01",
          "03-02",
          "03-03",
          "03-04",
          "03-05",
          "03-06",
          "03-07",
          "03-08",
          "03-09",
          "03-10",
          "03-11",
          "03-12",
          "03-13",
          "03-14",
          "03-15",
          "03-16",
          "03-17",
          "03-18",
          "03-19",
          "03-20",
          "03-21",
          "03-22",
          "03-23",
          "03-24",
          "03-25",
          "03-26",
          "03-27",
          "03-28",
          "03-29",
          "03-30",
          "03-31",
          "04-01",
          "04-02",
          "04-03",
          "04-04",
          "04-05",
          "04-06",
          "04-07",
          "04-08",
          "04-09",
          "04-10",
          "04-11",
          "04-12",
          "04-13",
          "04-14",
          "04-15",
          "04-16",
          "04-17",
          "04-18",
          "04-19",
          "04-20",
          "04-21",
          "04-22",
          "04-23",
          "04-24",
          "04-25",
          "04-26",
          "04-27",
          "04-28",
          "04-29",
          "04-30",
          "05-01",
          "05-02",
          "05-03",
          "05-04",
          "05-05",
          "05-06",
          "05-07",
          "05-08",
          "05-09",
          "05-10",
          "05-11",
          "05-12",
          "05-13",
          "05-14",
          "05-15",
          "05-16",
          "05-17",
          "05-18",
          "05-19",
          "05-20",
          "05-21",
          "05-22",
          "05-23",
          "05-24",
          "05-25",
          "05-26",
          "05-27",
          "05-28",
          "05-29",
          "05-30",
          "05-31",
          "06-01",
          "06-02",
          "06-03",
          "06-04",
          "06-05",
          "06-06",
          "06-07",
          "06-08",
          "06-09",
          "06-10",
          "06-11",
          "06-12",
          "06-13",
          "06-14",
          "06-15",
          "06-16",
          "06-17",
          "06-18",
          "06-19",
          "06-20",
          "06-21",
          "06-22",
          "06-23",
          "06-24",
          "06-25",
          "06-26",
          "06-27",
          "06-28"
         ],
         "tickvals": [
          "18-01-01",
          "18-01-02",
          "18-01-03",
          "18-01-04",
          "18-01-05",
          "18-01-06",
          "18-01-07",
          "18-01-08",
          "18-01-09",
          "18-01-10",
          "18-01-11",
          "18-01-12",
          "18-01-13",
          "18-01-14",
          "18-01-15",
          "18-01-16",
          "18-01-17",
          "18-01-18",
          "18-01-19",
          "18-01-20",
          "18-01-21",
          "18-01-22",
          "18-01-23",
          "18-01-24",
          "18-01-25",
          "18-01-26",
          "18-01-27",
          "18-01-28",
          "18-01-29",
          "18-01-30",
          "18-01-31",
          "18-02-01",
          "18-02-02",
          "18-02-03",
          "18-02-04",
          "18-02-05",
          "18-02-06",
          "18-02-07",
          "18-02-08",
          "18-02-09",
          "18-02-10",
          "18-02-11",
          "18-02-12",
          "18-02-13",
          "18-02-14",
          "18-02-15",
          "18-02-16",
          "18-02-17",
          "18-02-18",
          "18-02-19",
          "18-02-20",
          "18-02-21",
          "18-02-22",
          "18-02-23",
          "18-02-24",
          "18-02-25",
          "18-02-26",
          "18-02-27",
          "18-02-28",
          "18-03-01",
          "18-03-02",
          "18-03-03",
          "18-03-04",
          "18-03-05",
          "18-03-06",
          "18-03-07",
          "18-03-08",
          "18-03-09",
          "18-03-10",
          "18-03-11",
          "18-03-12",
          "18-03-13",
          "18-03-14",
          "18-03-15",
          "18-03-16",
          "18-03-17",
          "18-03-18",
          "18-03-19",
          "18-03-20",
          "18-03-21",
          "18-03-22",
          "18-03-23",
          "18-03-24",
          "18-03-25",
          "18-03-26",
          "18-03-27",
          "18-03-28",
          "18-03-29",
          "18-03-30",
          "18-03-31",
          "18-04-01",
          "18-04-02",
          "18-04-03",
          "18-04-04",
          "18-04-05",
          "18-04-06",
          "18-04-07",
          "18-04-08",
          "18-04-09",
          "18-04-10",
          "18-04-11",
          "18-04-12",
          "18-04-13",
          "18-04-14",
          "18-04-15",
          "18-04-16",
          "18-04-17",
          "18-04-18",
          "18-04-19",
          "18-04-20",
          "18-04-21",
          "18-04-22",
          "18-04-23",
          "18-04-24",
          "18-04-25",
          "18-04-26",
          "18-04-27",
          "18-04-28",
          "18-04-29",
          "18-04-30",
          "18-05-01",
          "18-05-02",
          "18-05-03",
          "18-05-04",
          "18-05-05",
          "18-05-06",
          "18-05-07",
          "18-05-08",
          "18-05-09",
          "18-05-10",
          "18-05-11",
          "18-05-12",
          "18-05-13",
          "18-05-14",
          "18-05-15",
          "18-05-16",
          "18-05-17",
          "18-05-18",
          "18-05-19",
          "18-05-20",
          "18-05-21",
          "18-05-22",
          "18-05-23",
          "18-05-24",
          "18-05-25",
          "18-05-26",
          "18-05-27",
          "18-05-28",
          "18-05-29",
          "18-05-30",
          "18-05-31",
          "18-06-01",
          "18-06-02",
          "18-06-03",
          "18-06-04",
          "18-06-05",
          "18-06-06",
          "18-06-07",
          "18-06-08",
          "18-06-09",
          "18-06-10",
          "18-06-11",
          "18-06-12",
          "18-06-13",
          "18-06-14",
          "18-06-15",
          "18-06-16",
          "18-06-17",
          "18-06-18",
          "18-06-19",
          "18-06-20",
          "18-06-21",
          "18-06-22",
          "18-06-23",
          "18-06-24",
          "18-06-25",
          "18-06-26",
          "18-06-27",
          "18-06-28"
         ],
         "type": "date"
        },
        "yaxis": {
         "ticklen": 10
        }
       }
      },
      "text/html": [
       "<div id=\"4136c353-f5cc-4b51-a592-047a89f17e12\" style=\"height: 1200px; width: 2000px;\" class=\"plotly-graph-div\"></div><script type=\"text/javascript\">require([\"plotly\"], function(Plotly) { window.PLOTLYENV=window.PLOTLYENV || {};window.PLOTLYENV.BASE_URL=\"https://plot.ly\";Plotly.newPlot(\"4136c353-f5cc-4b51-a592-047a89f17e12\", [{\"type\": \"bar\", \"x\": [\"2018-01-01\", \"2018-01-02\", \"2018-01-03\", \"2018-01-04\", \"2018-01-05\", \"2018-01-06\", \"2018-01-07\", \"2018-01-08\", \"2018-01-09\", \"2018-01-10\", \"2018-01-11\", \"2018-01-12\", \"2018-01-13\", \"2018-01-14\", \"2018-01-15\", \"2018-01-16\", \"2018-01-17\", \"2018-01-18\", \"2018-01-19\", \"2018-01-20\", \"2018-01-21\", \"2018-01-22\", \"2018-01-23\", \"2018-01-24\", \"2018-01-25\", \"2018-01-26\", \"2018-01-27\", \"2018-01-28\", \"2018-01-29\", \"2018-01-30\", \"2018-01-31\", \"2018-02-01\", \"2018-02-02\", \"2018-02-03\", \"2018-02-04\", \"2018-02-05\", \"2018-02-06\", \"2018-02-07\", \"2018-02-08\", \"2018-02-09\", \"2018-02-10\", \"2018-02-11\", \"2018-02-12\", \"2018-02-13\", \"2018-02-14\", \"2018-02-15\", \"2018-02-16\", \"2018-02-17\", \"2018-02-18\", \"2018-02-19\", \"2018-02-20\", \"2018-02-21\", \"2018-02-22\", \"2018-02-23\", \"2018-02-24\", \"2018-02-25\", \"2018-02-26\", \"2018-02-27\", \"2018-02-28\", \"2018-03-01\", \"2018-03-02\", \"2018-03-03\", \"2018-03-04\", \"2018-03-05\", \"2018-03-06\", \"2018-03-07\", \"2018-03-08\", \"2018-03-09\", \"2018-03-10\", \"2018-03-11\", \"2018-03-12\", \"2018-03-13\", \"2018-03-14\", \"2018-03-15\", \"2018-03-16\", \"2018-03-17\", \"2018-03-18\", \"2018-03-19\", \"2018-03-20\", \"2018-03-21\", \"2018-03-22\", \"2018-03-23\", \"2018-03-24\", \"2018-03-25\", \"2018-03-26\", \"2018-03-27\", \"2018-03-28\", \"2018-03-29\", \"2018-03-30\", \"2018-03-31\", \"2018-04-01\", \"2018-04-02\", \"2018-04-03\", \"2018-04-04\", \"2018-04-05\", \"2018-04-06\", \"2018-04-07\", \"2018-04-08\", \"2018-04-09\", \"2018-04-10\", \"2018-04-11\", \"2018-04-12\", \"2018-04-13\", \"2018-04-14\", \"2018-04-15\", \"2018-04-16\", \"2018-04-17\", \"2018-04-18\", \"2018-04-19\", \"2018-04-20\", \"2018-04-21\", \"2018-04-22\", \"2018-04-23\", \"2018-04-24\", \"2018-04-25\", \"2018-04-26\", \"2018-04-27\", \"2018-04-28\", \"2018-04-29\", \"2018-04-30\", \"2018-05-01\", \"2018-05-02\", \"2018-05-03\", \"2018-05-04\", \"2018-05-05\", \"2018-05-06\", \"2018-05-07\", \"2018-05-08\", \"2018-05-09\", \"2018-05-10\", \"2018-05-11\", \"2018-05-12\", \"2018-05-13\", \"2018-05-14\", \"2018-05-15\", \"2018-05-16\", \"2018-05-17\", \"2018-05-18\", \"2018-05-19\", \"2018-05-20\", \"2018-05-21\", \"2018-05-22\", \"2018-05-23\", \"2018-05-24\", \"2018-05-25\", \"2018-05-26\", \"2018-05-27\", \"2018-05-28\", \"2018-05-29\", \"2018-05-30\", \"2018-05-31\", \"2018-06-01\", \"2018-06-02\", \"2018-06-03\", \"2018-06-04\", \"2018-06-05\", \"2018-06-06\", \"2018-06-07\", \"2018-06-08\", \"2018-06-09\", \"2018-06-10\", \"2018-06-11\", \"2018-06-12\", \"2018-06-13\", \"2018-06-14\", \"2018-06-15\", \"2018-06-16\", \"2018-06-17\", \"2018-06-18\", \"2018-06-19\", \"2018-06-20\", \"2018-06-21\", \"2018-06-22\", \"2018-06-23\", \"2018-06-24\", \"2018-06-25\", \"2018-06-26\", \"2018-06-27\", \"2018-06-28\"], \"y\": [195.0, 3.0, 0.0, 1.0, 2.0, 0.0, 0.0, 0.0, 0.0, 0.0, 0.0, 0.0, 0.0, 0.0, 0.0, 1.0, 0.0, 0.0, 1.0, 0.0, 0.0, 0.0, 0.0, 0.0, 0.0, 0.0, 0.0, 0.0, 0.0, 0.0, 0.0, 0.0, 0.0, 0.0, 0.0, 0.0, 0.0, 0.0, 0.0, 0.0, 0.0, 0.0, 0.0, 0.0, 0.0, 0.0, 0.0, 0.0, 0.0, 1.0, 1.0, 0.0, 0.0, 0.0, 0.0, 0.0, 0.0, 0.0, 0.0, 0.0, 0.0, 0.0, 2.0, 0.0, 0.0, 0.0, 1.0, 0.0, 0.0, 0.0, 1.0, 1.0, 0.0, 1.0, 0.0, 0.0, 0.0, 10.0, 10.0, 4.0, 1.0, 5.0, 2.0, 3.0, 4.0, 0.0, 0.0, 3.0, 2.0, 0.0, 6.0, 3.0, 3.0, 5.0, 6.0, 6.0, 4.0, 2.0, 8.0, 5.0, 5.0, 6.0, 7.0, 6.0, 0.0, 8.0, 11.0, 7.0, 7.0, 9.0, 3.0, 2.0, 4.0, 13.0, 5.0, 5.0, 8.0, 9.0, 8.0, 2.0, 2.0, 4.0, 2.0, 10.0, 5.0, 3.0, 4.0, 2.0, 1.0, 4.0, 6.0, 2.0, 3.0, 12.0, 3.0, 4.0, 4.0, 5.0, 3.0, 1.0, 4.0, 5.0, 6.0, 5.0, 4.0, 6.0, 5.0, 2.0, 5.0, 4.0, 6.0, 8.0, 3.0, 3.0, 7.0, 3.0, 3.0, 3.0, 2.0, 3.0, 2.0, 8.0, 2.0, 8.0, 5.0, 10.0, 1.0, 2.0, 3.0, 5.0, 7.0, 1.0, 5.0, 5.0, 7.0, 4.0, 7.0, 5.0, 2.0], \"text\": [195.0, 3.0, 0.0, 1.0, 2.0, 0.0, 0.0, 0.0, 0.0, 0.0, 0.0, 0.0, 0.0, 0.0, 0.0, 1.0, 0.0, 0.0, 1.0, 0.0, 0.0, 0.0, 0.0, 0.0, 0.0, 0.0, 0.0, 0.0, 0.0, 0.0, 0.0, 0.0, 0.0, 0.0, 0.0, 0.0, 0.0, 0.0, 0.0, 0.0, 0.0, 0.0, 0.0, 0.0, 0.0, 0.0, 0.0, 0.0, 0.0, 1.0, 1.0, 0.0, 0.0, 0.0, 0.0, 0.0, 0.0, 0.0, 0.0, 0.0, 0.0, 0.0, 2.0, 0.0, 0.0, 0.0, 1.0, 0.0, 0.0, 0.0, 1.0, 1.0, 0.0, 1.0, 0.0, 0.0, 0.0, 10.0, 10.0, 4.0, 1.0, 5.0, 2.0, 3.0, 4.0, 0.0, 0.0, 3.0, 2.0, 0.0, 6.0, 3.0, 3.0, 5.0, 6.0, 6.0, 4.0, 2.0, 8.0, 5.0, 5.0, 6.0, 7.0, 6.0, 0.0, 8.0, 11.0, 7.0, 7.0, 9.0, 3.0, 2.0, 4.0, 13.0, 5.0, 5.0, 8.0, 9.0, 8.0, 2.0, 2.0, 4.0, 2.0, 10.0, 5.0, 3.0, 4.0, 2.0, 1.0, 4.0, 6.0, 2.0, 3.0, 12.0, 3.0, 4.0, 4.0, 5.0, 3.0, 1.0, 4.0, 5.0, 6.0, 5.0, 4.0, 6.0, 5.0, 2.0, 5.0, 4.0, 6.0, 8.0, 3.0, 3.0, 7.0, 3.0, 3.0, 3.0, 2.0, 3.0, 2.0, 8.0, 2.0, 8.0, 5.0, 10.0, 1.0, 2.0, 3.0, 5.0, 7.0, 1.0, 5.0, 5.0, 7.0, 4.0, 7.0, 5.0, 2.0], \"textposition\": \"outside\"}], {\"title\": \"\\u9500\\u91cf\\u8d8b\\u52bf\\u56fe<br>\\u603b\\u6570:685\", \"titlefont\": {\"color\": \"#000000\", \"size\": 25}, \"height\": 1200, \"width\": 2000, \"bargap\": 0.1, \"xaxis\": {\"type\": \"date\", \"ticks\": \"outside\", \"showticklabels\": true, \"ticktext\": [\"01-01\", \"01-02\", \"01-03\", \"01-04\", \"01-05\", \"01-06\", \"01-07\", \"01-08\", \"01-09\", \"01-10\", \"01-11\", \"01-12\", \"01-13\", \"01-14\", \"01-15\", \"01-16\", \"01-17\", \"01-18\", \"01-19\", \"01-20\", \"01-21\", \"01-22\", \"01-23\", \"01-24\", \"01-25\", \"01-26\", \"01-27\", \"01-28\", \"01-29\", \"01-30\", \"01-31\", \"02-01\", \"02-02\", \"02-03\", \"02-04\", \"02-05\", \"02-06\", \"02-07\", \"02-08\", \"02-09\", \"02-10\", \"02-11\", \"02-12\", \"02-13\", \"02-14\", \"02-15\", \"02-16\", \"02-17\", \"02-18\", \"02-19\", \"02-20\", \"02-21\", \"02-22\", \"02-23\", \"02-24\", \"02-25\", \"02-26\", \"02-27\", \"02-28\", \"03-01\", \"03-02\", \"03-03\", \"03-04\", \"03-05\", \"03-06\", \"03-07\", \"03-08\", \"03-09\", \"03-10\", \"03-11\", \"03-12\", \"03-13\", \"03-14\", \"03-15\", \"03-16\", \"03-17\", \"03-18\", \"03-19\", \"03-20\", \"03-21\", \"03-22\", \"03-23\", \"03-24\", \"03-25\", \"03-26\", \"03-27\", \"03-28\", \"03-29\", \"03-30\", \"03-31\", \"04-01\", \"04-02\", \"04-03\", \"04-04\", \"04-05\", \"04-06\", \"04-07\", \"04-08\", \"04-09\", \"04-10\", \"04-11\", \"04-12\", \"04-13\", \"04-14\", \"04-15\", \"04-16\", \"04-17\", \"04-18\", \"04-19\", \"04-20\", \"04-21\", \"04-22\", \"04-23\", \"04-24\", \"04-25\", \"04-26\", \"04-27\", \"04-28\", \"04-29\", \"04-30\", \"05-01\", \"05-02\", \"05-03\", \"05-04\", \"05-05\", \"05-06\", \"05-07\", \"05-08\", \"05-09\", \"05-10\", \"05-11\", \"05-12\", \"05-13\", \"05-14\", \"05-15\", \"05-16\", \"05-17\", \"05-18\", \"05-19\", \"05-20\", \"05-21\", \"05-22\", \"05-23\", \"05-24\", \"05-25\", \"05-26\", \"05-27\", \"05-28\", \"05-29\", \"05-30\", \"05-31\", \"06-01\", \"06-02\", \"06-03\", \"06-04\", \"06-05\", \"06-06\", \"06-07\", \"06-08\", \"06-09\", \"06-10\", \"06-11\", \"06-12\", \"06-13\", \"06-14\", \"06-15\", \"06-16\", \"06-17\", \"06-18\", \"06-19\", \"06-20\", \"06-21\", \"06-22\", \"06-23\", \"06-24\", \"06-25\", \"06-26\", \"06-27\", \"06-28\"], \"tickvals\": [\"18-01-01\", \"18-01-02\", \"18-01-03\", \"18-01-04\", \"18-01-05\", \"18-01-06\", \"18-01-07\", \"18-01-08\", \"18-01-09\", \"18-01-10\", \"18-01-11\", \"18-01-12\", \"18-01-13\", \"18-01-14\", \"18-01-15\", \"18-01-16\", \"18-01-17\", \"18-01-18\", \"18-01-19\", \"18-01-20\", \"18-01-21\", \"18-01-22\", \"18-01-23\", \"18-01-24\", \"18-01-25\", \"18-01-26\", \"18-01-27\", \"18-01-28\", \"18-01-29\", \"18-01-30\", \"18-01-31\", \"18-02-01\", \"18-02-02\", \"18-02-03\", \"18-02-04\", \"18-02-05\", \"18-02-06\", \"18-02-07\", \"18-02-08\", \"18-02-09\", \"18-02-10\", \"18-02-11\", \"18-02-12\", \"18-02-13\", \"18-02-14\", \"18-02-15\", \"18-02-16\", \"18-02-17\", \"18-02-18\", \"18-02-19\", \"18-02-20\", \"18-02-21\", \"18-02-22\", \"18-02-23\", \"18-02-24\", \"18-02-25\", \"18-02-26\", \"18-02-27\", \"18-02-28\", \"18-03-01\", \"18-03-02\", \"18-03-03\", \"18-03-04\", \"18-03-05\", \"18-03-06\", \"18-03-07\", \"18-03-08\", \"18-03-09\", \"18-03-10\", \"18-03-11\", \"18-03-12\", \"18-03-13\", \"18-03-14\", \"18-03-15\", \"18-03-16\", \"18-03-17\", \"18-03-18\", \"18-03-19\", \"18-03-20\", \"18-03-21\", \"18-03-22\", \"18-03-23\", \"18-03-24\", \"18-03-25\", \"18-03-26\", \"18-03-27\", \"18-03-28\", \"18-03-29\", \"18-03-30\", \"18-03-31\", \"18-04-01\", \"18-04-02\", \"18-04-03\", \"18-04-04\", \"18-04-05\", \"18-04-06\", \"18-04-07\", \"18-04-08\", \"18-04-09\", \"18-04-10\", \"18-04-11\", \"18-04-12\", \"18-04-13\", \"18-04-14\", \"18-04-15\", \"18-04-16\", \"18-04-17\", \"18-04-18\", \"18-04-19\", \"18-04-20\", \"18-04-21\", \"18-04-22\", \"18-04-23\", \"18-04-24\", \"18-04-25\", \"18-04-26\", \"18-04-27\", \"18-04-28\", \"18-04-29\", \"18-04-30\", \"18-05-01\", \"18-05-02\", \"18-05-03\", \"18-05-04\", \"18-05-05\", \"18-05-06\", \"18-05-07\", \"18-05-08\", \"18-05-09\", \"18-05-10\", \"18-05-11\", \"18-05-12\", \"18-05-13\", \"18-05-14\", \"18-05-15\", \"18-05-16\", \"18-05-17\", \"18-05-18\", \"18-05-19\", \"18-05-20\", \"18-05-21\", \"18-05-22\", \"18-05-23\", \"18-05-24\", \"18-05-25\", \"18-05-26\", \"18-05-27\", \"18-05-28\", \"18-05-29\", \"18-05-30\", \"18-05-31\", \"18-06-01\", \"18-06-02\", \"18-06-03\", \"18-06-04\", \"18-06-05\", \"18-06-06\", \"18-06-07\", \"18-06-08\", \"18-06-09\", \"18-06-10\", \"18-06-11\", \"18-06-12\", \"18-06-13\", \"18-06-14\", \"18-06-15\", \"18-06-16\", \"18-06-17\", \"18-06-18\", \"18-06-19\", \"18-06-20\", \"18-06-21\", \"18-06-22\", \"18-06-23\", \"18-06-24\", \"18-06-25\", \"18-06-26\", \"18-06-27\", \"18-06-28\"], \"tickfont\": {\"size\": 11}, \"ticklen\": 10, \"showgrid\": true}, \"yaxis\": {\"ticklen\": 10}, \"legend\": {\"x\": 0.1, \"font\": {\"size\": 16}}}, {\"showLink\": true, \"linkText\": \"Export to plot.ly\"})});</script>"
      ],
      "text/vnd.plotly.v1+html": [
       "<div id=\"4136c353-f5cc-4b51-a592-047a89f17e12\" style=\"height: 1200px; width: 2000px;\" class=\"plotly-graph-div\"></div><script type=\"text/javascript\">require([\"plotly\"], function(Plotly) { window.PLOTLYENV=window.PLOTLYENV || {};window.PLOTLYENV.BASE_URL=\"https://plot.ly\";Plotly.newPlot(\"4136c353-f5cc-4b51-a592-047a89f17e12\", [{\"type\": \"bar\", \"x\": [\"2018-01-01\", \"2018-01-02\", \"2018-01-03\", \"2018-01-04\", \"2018-01-05\", \"2018-01-06\", \"2018-01-07\", \"2018-01-08\", \"2018-01-09\", \"2018-01-10\", \"2018-01-11\", \"2018-01-12\", \"2018-01-13\", \"2018-01-14\", \"2018-01-15\", \"2018-01-16\", \"2018-01-17\", \"2018-01-18\", \"2018-01-19\", \"2018-01-20\", \"2018-01-21\", \"2018-01-22\", \"2018-01-23\", \"2018-01-24\", \"2018-01-25\", \"2018-01-26\", \"2018-01-27\", \"2018-01-28\", \"2018-01-29\", \"2018-01-30\", \"2018-01-31\", \"2018-02-01\", \"2018-02-02\", \"2018-02-03\", \"2018-02-04\", \"2018-02-05\", \"2018-02-06\", \"2018-02-07\", \"2018-02-08\", \"2018-02-09\", \"2018-02-10\", \"2018-02-11\", \"2018-02-12\", \"2018-02-13\", \"2018-02-14\", \"2018-02-15\", \"2018-02-16\", \"2018-02-17\", \"2018-02-18\", \"2018-02-19\", \"2018-02-20\", \"2018-02-21\", \"2018-02-22\", \"2018-02-23\", \"2018-02-24\", \"2018-02-25\", \"2018-02-26\", \"2018-02-27\", \"2018-02-28\", \"2018-03-01\", \"2018-03-02\", \"2018-03-03\", \"2018-03-04\", \"2018-03-05\", \"2018-03-06\", \"2018-03-07\", \"2018-03-08\", \"2018-03-09\", \"2018-03-10\", \"2018-03-11\", \"2018-03-12\", \"2018-03-13\", \"2018-03-14\", \"2018-03-15\", \"2018-03-16\", \"2018-03-17\", \"2018-03-18\", \"2018-03-19\", \"2018-03-20\", \"2018-03-21\", \"2018-03-22\", \"2018-03-23\", \"2018-03-24\", \"2018-03-25\", \"2018-03-26\", \"2018-03-27\", \"2018-03-28\", \"2018-03-29\", \"2018-03-30\", \"2018-03-31\", \"2018-04-01\", \"2018-04-02\", \"2018-04-03\", \"2018-04-04\", \"2018-04-05\", \"2018-04-06\", \"2018-04-07\", \"2018-04-08\", \"2018-04-09\", \"2018-04-10\", \"2018-04-11\", \"2018-04-12\", \"2018-04-13\", \"2018-04-14\", \"2018-04-15\", \"2018-04-16\", \"2018-04-17\", \"2018-04-18\", \"2018-04-19\", \"2018-04-20\", \"2018-04-21\", \"2018-04-22\", \"2018-04-23\", \"2018-04-24\", \"2018-04-25\", \"2018-04-26\", \"2018-04-27\", \"2018-04-28\", \"2018-04-29\", \"2018-04-30\", \"2018-05-01\", \"2018-05-02\", \"2018-05-03\", \"2018-05-04\", \"2018-05-05\", \"2018-05-06\", \"2018-05-07\", \"2018-05-08\", \"2018-05-09\", \"2018-05-10\", \"2018-05-11\", \"2018-05-12\", \"2018-05-13\", \"2018-05-14\", \"2018-05-15\", \"2018-05-16\", \"2018-05-17\", \"2018-05-18\", \"2018-05-19\", \"2018-05-20\", \"2018-05-21\", \"2018-05-22\", \"2018-05-23\", \"2018-05-24\", \"2018-05-25\", \"2018-05-26\", \"2018-05-27\", \"2018-05-28\", \"2018-05-29\", \"2018-05-30\", \"2018-05-31\", \"2018-06-01\", \"2018-06-02\", \"2018-06-03\", \"2018-06-04\", \"2018-06-05\", \"2018-06-06\", \"2018-06-07\", \"2018-06-08\", \"2018-06-09\", \"2018-06-10\", \"2018-06-11\", \"2018-06-12\", \"2018-06-13\", \"2018-06-14\", \"2018-06-15\", \"2018-06-16\", \"2018-06-17\", \"2018-06-18\", \"2018-06-19\", \"2018-06-20\", \"2018-06-21\", \"2018-06-22\", \"2018-06-23\", \"2018-06-24\", \"2018-06-25\", \"2018-06-26\", \"2018-06-27\", \"2018-06-28\"], \"y\": [195.0, 3.0, 0.0, 1.0, 2.0, 0.0, 0.0, 0.0, 0.0, 0.0, 0.0, 0.0, 0.0, 0.0, 0.0, 1.0, 0.0, 0.0, 1.0, 0.0, 0.0, 0.0, 0.0, 0.0, 0.0, 0.0, 0.0, 0.0, 0.0, 0.0, 0.0, 0.0, 0.0, 0.0, 0.0, 0.0, 0.0, 0.0, 0.0, 0.0, 0.0, 0.0, 0.0, 0.0, 0.0, 0.0, 0.0, 0.0, 0.0, 1.0, 1.0, 0.0, 0.0, 0.0, 0.0, 0.0, 0.0, 0.0, 0.0, 0.0, 0.0, 0.0, 2.0, 0.0, 0.0, 0.0, 1.0, 0.0, 0.0, 0.0, 1.0, 1.0, 0.0, 1.0, 0.0, 0.0, 0.0, 10.0, 10.0, 4.0, 1.0, 5.0, 2.0, 3.0, 4.0, 0.0, 0.0, 3.0, 2.0, 0.0, 6.0, 3.0, 3.0, 5.0, 6.0, 6.0, 4.0, 2.0, 8.0, 5.0, 5.0, 6.0, 7.0, 6.0, 0.0, 8.0, 11.0, 7.0, 7.0, 9.0, 3.0, 2.0, 4.0, 13.0, 5.0, 5.0, 8.0, 9.0, 8.0, 2.0, 2.0, 4.0, 2.0, 10.0, 5.0, 3.0, 4.0, 2.0, 1.0, 4.0, 6.0, 2.0, 3.0, 12.0, 3.0, 4.0, 4.0, 5.0, 3.0, 1.0, 4.0, 5.0, 6.0, 5.0, 4.0, 6.0, 5.0, 2.0, 5.0, 4.0, 6.0, 8.0, 3.0, 3.0, 7.0, 3.0, 3.0, 3.0, 2.0, 3.0, 2.0, 8.0, 2.0, 8.0, 5.0, 10.0, 1.0, 2.0, 3.0, 5.0, 7.0, 1.0, 5.0, 5.0, 7.0, 4.0, 7.0, 5.0, 2.0], \"text\": [195.0, 3.0, 0.0, 1.0, 2.0, 0.0, 0.0, 0.0, 0.0, 0.0, 0.0, 0.0, 0.0, 0.0, 0.0, 1.0, 0.0, 0.0, 1.0, 0.0, 0.0, 0.0, 0.0, 0.0, 0.0, 0.0, 0.0, 0.0, 0.0, 0.0, 0.0, 0.0, 0.0, 0.0, 0.0, 0.0, 0.0, 0.0, 0.0, 0.0, 0.0, 0.0, 0.0, 0.0, 0.0, 0.0, 0.0, 0.0, 0.0, 1.0, 1.0, 0.0, 0.0, 0.0, 0.0, 0.0, 0.0, 0.0, 0.0, 0.0, 0.0, 0.0, 2.0, 0.0, 0.0, 0.0, 1.0, 0.0, 0.0, 0.0, 1.0, 1.0, 0.0, 1.0, 0.0, 0.0, 0.0, 10.0, 10.0, 4.0, 1.0, 5.0, 2.0, 3.0, 4.0, 0.0, 0.0, 3.0, 2.0, 0.0, 6.0, 3.0, 3.0, 5.0, 6.0, 6.0, 4.0, 2.0, 8.0, 5.0, 5.0, 6.0, 7.0, 6.0, 0.0, 8.0, 11.0, 7.0, 7.0, 9.0, 3.0, 2.0, 4.0, 13.0, 5.0, 5.0, 8.0, 9.0, 8.0, 2.0, 2.0, 4.0, 2.0, 10.0, 5.0, 3.0, 4.0, 2.0, 1.0, 4.0, 6.0, 2.0, 3.0, 12.0, 3.0, 4.0, 4.0, 5.0, 3.0, 1.0, 4.0, 5.0, 6.0, 5.0, 4.0, 6.0, 5.0, 2.0, 5.0, 4.0, 6.0, 8.0, 3.0, 3.0, 7.0, 3.0, 3.0, 3.0, 2.0, 3.0, 2.0, 8.0, 2.0, 8.0, 5.0, 10.0, 1.0, 2.0, 3.0, 5.0, 7.0, 1.0, 5.0, 5.0, 7.0, 4.0, 7.0, 5.0, 2.0], \"textposition\": \"outside\"}], {\"title\": \"\\u9500\\u91cf\\u8d8b\\u52bf\\u56fe<br>\\u603b\\u6570:685\", \"titlefont\": {\"color\": \"#000000\", \"size\": 25}, \"height\": 1200, \"width\": 2000, \"bargap\": 0.1, \"xaxis\": {\"type\": \"date\", \"ticks\": \"outside\", \"showticklabels\": true, \"ticktext\": [\"01-01\", \"01-02\", \"01-03\", \"01-04\", \"01-05\", \"01-06\", \"01-07\", \"01-08\", \"01-09\", \"01-10\", \"01-11\", \"01-12\", \"01-13\", \"01-14\", \"01-15\", \"01-16\", \"01-17\", \"01-18\", \"01-19\", \"01-20\", \"01-21\", \"01-22\", \"01-23\", \"01-24\", \"01-25\", \"01-26\", \"01-27\", \"01-28\", \"01-29\", \"01-30\", \"01-31\", \"02-01\", \"02-02\", \"02-03\", \"02-04\", \"02-05\", \"02-06\", \"02-07\", \"02-08\", \"02-09\", \"02-10\", \"02-11\", \"02-12\", \"02-13\", \"02-14\", \"02-15\", \"02-16\", \"02-17\", \"02-18\", \"02-19\", \"02-20\", \"02-21\", \"02-22\", \"02-23\", \"02-24\", \"02-25\", \"02-26\", \"02-27\", \"02-28\", \"03-01\", \"03-02\", \"03-03\", \"03-04\", \"03-05\", \"03-06\", \"03-07\", \"03-08\", \"03-09\", \"03-10\", \"03-11\", \"03-12\", \"03-13\", \"03-14\", \"03-15\", \"03-16\", \"03-17\", \"03-18\", \"03-19\", \"03-20\", \"03-21\", \"03-22\", \"03-23\", \"03-24\", \"03-25\", \"03-26\", \"03-27\", \"03-28\", \"03-29\", \"03-30\", \"03-31\", \"04-01\", \"04-02\", \"04-03\", \"04-04\", \"04-05\", \"04-06\", \"04-07\", \"04-08\", \"04-09\", \"04-10\", \"04-11\", \"04-12\", \"04-13\", \"04-14\", \"04-15\", \"04-16\", \"04-17\", \"04-18\", \"04-19\", \"04-20\", \"04-21\", \"04-22\", \"04-23\", \"04-24\", \"04-25\", \"04-26\", \"04-27\", \"04-28\", \"04-29\", \"04-30\", \"05-01\", \"05-02\", \"05-03\", \"05-04\", \"05-05\", \"05-06\", \"05-07\", \"05-08\", \"05-09\", \"05-10\", \"05-11\", \"05-12\", \"05-13\", \"05-14\", \"05-15\", \"05-16\", \"05-17\", \"05-18\", \"05-19\", \"05-20\", \"05-21\", \"05-22\", \"05-23\", \"05-24\", \"05-25\", \"05-26\", \"05-27\", \"05-28\", \"05-29\", \"05-30\", \"05-31\", \"06-01\", \"06-02\", \"06-03\", \"06-04\", \"06-05\", \"06-06\", \"06-07\", \"06-08\", \"06-09\", \"06-10\", \"06-11\", \"06-12\", \"06-13\", \"06-14\", \"06-15\", \"06-16\", \"06-17\", \"06-18\", \"06-19\", \"06-20\", \"06-21\", \"06-22\", \"06-23\", \"06-24\", \"06-25\", \"06-26\", \"06-27\", \"06-28\"], \"tickvals\": [\"18-01-01\", \"18-01-02\", \"18-01-03\", \"18-01-04\", \"18-01-05\", \"18-01-06\", \"18-01-07\", \"18-01-08\", \"18-01-09\", \"18-01-10\", \"18-01-11\", \"18-01-12\", \"18-01-13\", \"18-01-14\", \"18-01-15\", \"18-01-16\", \"18-01-17\", \"18-01-18\", \"18-01-19\", \"18-01-20\", \"18-01-21\", \"18-01-22\", \"18-01-23\", \"18-01-24\", \"18-01-25\", \"18-01-26\", \"18-01-27\", \"18-01-28\", \"18-01-29\", \"18-01-30\", \"18-01-31\", \"18-02-01\", \"18-02-02\", \"18-02-03\", \"18-02-04\", \"18-02-05\", \"18-02-06\", \"18-02-07\", \"18-02-08\", \"18-02-09\", \"18-02-10\", \"18-02-11\", \"18-02-12\", \"18-02-13\", \"18-02-14\", \"18-02-15\", \"18-02-16\", \"18-02-17\", \"18-02-18\", \"18-02-19\", \"18-02-20\", \"18-02-21\", \"18-02-22\", \"18-02-23\", \"18-02-24\", \"18-02-25\", \"18-02-26\", \"18-02-27\", \"18-02-28\", \"18-03-01\", \"18-03-02\", \"18-03-03\", \"18-03-04\", \"18-03-05\", \"18-03-06\", \"18-03-07\", \"18-03-08\", \"18-03-09\", \"18-03-10\", \"18-03-11\", \"18-03-12\", \"18-03-13\", \"18-03-14\", \"18-03-15\", \"18-03-16\", \"18-03-17\", \"18-03-18\", \"18-03-19\", \"18-03-20\", \"18-03-21\", \"18-03-22\", \"18-03-23\", \"18-03-24\", \"18-03-25\", \"18-03-26\", \"18-03-27\", \"18-03-28\", \"18-03-29\", \"18-03-30\", \"18-03-31\", \"18-04-01\", \"18-04-02\", \"18-04-03\", \"18-04-04\", \"18-04-05\", \"18-04-06\", \"18-04-07\", \"18-04-08\", \"18-04-09\", \"18-04-10\", \"18-04-11\", \"18-04-12\", \"18-04-13\", \"18-04-14\", \"18-04-15\", \"18-04-16\", \"18-04-17\", \"18-04-18\", \"18-04-19\", \"18-04-20\", \"18-04-21\", \"18-04-22\", \"18-04-23\", \"18-04-24\", \"18-04-25\", \"18-04-26\", \"18-04-27\", \"18-04-28\", \"18-04-29\", \"18-04-30\", \"18-05-01\", \"18-05-02\", \"18-05-03\", \"18-05-04\", \"18-05-05\", \"18-05-06\", \"18-05-07\", \"18-05-08\", \"18-05-09\", \"18-05-10\", \"18-05-11\", \"18-05-12\", \"18-05-13\", \"18-05-14\", \"18-05-15\", \"18-05-16\", \"18-05-17\", \"18-05-18\", \"18-05-19\", \"18-05-20\", \"18-05-21\", \"18-05-22\", \"18-05-23\", \"18-05-24\", \"18-05-25\", \"18-05-26\", \"18-05-27\", \"18-05-28\", \"18-05-29\", \"18-05-30\", \"18-05-31\", \"18-06-01\", \"18-06-02\", \"18-06-03\", \"18-06-04\", \"18-06-05\", \"18-06-06\", \"18-06-07\", \"18-06-08\", \"18-06-09\", \"18-06-10\", \"18-06-11\", \"18-06-12\", \"18-06-13\", \"18-06-14\", \"18-06-15\", \"18-06-16\", \"18-06-17\", \"18-06-18\", \"18-06-19\", \"18-06-20\", \"18-06-21\", \"18-06-22\", \"18-06-23\", \"18-06-24\", \"18-06-25\", \"18-06-26\", \"18-06-27\", \"18-06-28\"], \"tickfont\": {\"size\": 11}, \"ticklen\": 10, \"showgrid\": true}, \"yaxis\": {\"ticklen\": 10}, \"legend\": {\"x\": 0.1, \"font\": {\"size\": 16}}}, {\"showLink\": true, \"linkText\": \"Export to plot.ly\"})});</script>"
      ]
     },
     "metadata": {},
     "output_type": "display_data"
    }
   ],
   "source": [
    "layout = go.Layout(\n",
    "    title='销量趋势图<br>总数:' + str(imeis),\n",
    "    titlefont=dict(color=title_color,size=25),\n",
    "    height=1200,\n",
    "    width=2000,\n",
    "    bargap=0.1,\n",
    "    xaxis = bandxaxis,\n",
    "    yaxis = dict(ticklen=10),\n",
    "    #bargroupgap=0.05,\n",
    "    #paper_bgcolor=paper_bgcolor,\n",
    "    #plot_bgcolor=plot_bgcolor,\n",
    "    legend=dict(\n",
    "        x=0.1,\n",
    "        font=dict(size=16),\n",
    "    )\n",
    ")\n",
    "\n",
    "fig = go.Figure(data=data,layout=layout)\n",
    "py.iplot(fig)"
   ]
  },
  {
   "cell_type": "code",
   "execution_count": null,
   "metadata": {
    "ExecuteTime": {
     "end_time": "2018-05-18T06:49:51.615560Z",
     "start_time": "2018-05-18T06:49:51.571116Z"
    }
   },
   "outputs": [],
   "source": [
    "trace1= go.Scatter(x=[0,0.5,1,2,2.2],y=[1.23,2.5,0.42,3,1])\n",
    "layout= go.Layout(images= [dict(\n",
    "        source= \"https://lh3.googleusercontent.com/ZZPdzvlpK9r_Df9C3M7j1rNRi7hhHRvPhlklJ3lfi5jk86Jd1s0Y5wcQ1QgbVaAP5Q=s360-rw\",\n",
    "        xref= \"paper\",\n",
    "        yref= \"paper\",\n",
    "        x= 0,\n",
    "        y= 1,\n",
    "        sizex= 0.1,\n",
    "        sizey= 0.1,\n",
    "        xanchor= \"right\",\n",
    "        yanchor= \"top\"\n",
    "      ),dict(\n",
    "        source= \"https://lh3.googleusercontent.com/ZZPdzvlpK9r_Df9C3M7j1rNRi7hhHRvPhlklJ3lfi5jk86Jd1s0Y5wcQ1QgbVaAP5Q=s360-rw\",\n",
    "        xref=\"x\",\n",
    "        yref= \"y\",\n",
    "        x= 1.5,\n",
    "        y= 2,\n",
    "        sizex= 1,\n",
    "        sizey= 1,\n",
    "        xanchor= \"right\",\n",
    "        yanchor= \"bottom\"\n",
    "      ),\n",
    "      dict(\n",
    "        source= \"https://lh3.googleusercontent.com/ZZPdzvlpK9r_Df9C3M7j1rNRi7hhHRvPhlklJ3lfi5jk86Jd1s0Y5wcQ1QgbVaAP5Q=s360-rw\",\n",
    "        xref= \"x\",\n",
    "        yref= \"y\",\n",
    "        x= 2,\n",
    "        y= 1,\n",
    "        sizex= 0.3,\n",
    "        sizey= 0.5,\n",
    "        sizing= \"stretch\",\n",
    "        opacity= 0.4,\n",
    "        layer= \"below\"\n",
    "      ),\n",
    "      dict(\n",
    "        source= \"https://lh3.googleusercontent.com/ZZPdzvlpK9r_Df9C3M7j1rNRi7hhHRvPhlklJ3lfi5jk86Jd1s0Y5wcQ1QgbVaAP5Q=s360-rw\",\n",
    "        xref= \"x\",\n",
    "        yref= \"paper\",\n",
    "        x= 3,\n",
    "        y= 0,\n",
    "        sizex= 0.5,\n",
    "        sizey= 1,\n",
    "        opacity= 1,\n",
    "        xanchor= \"right\",\n",
    "        yanchor=\"middle\"\n",
    "      )])\n",
    "fig=go.Figure(data=[trace1],layout=layout)\n",
    "py.iplot(fig)"
   ]
  },
  {
   "cell_type": "code",
   "execution_count": null,
   "metadata": {
    "collapsed": true
   },
   "outputs": [],
   "source": []
  }
 ],
 "metadata": {
  "kernelspec": {
   "display_name": "Python 3",
   "language": "python",
   "name": "python3"
  },
  "language_info": {
   "codemirror_mode": {
    "name": "ipython",
    "version": 3
   },
   "file_extension": ".py",
   "mimetype": "text/x-python",
   "name": "python",
   "nbconvert_exporter": "python",
   "pygments_lexer": "ipython3",
   "version": "3.6.2"
  }
 },
 "nbformat": 4,
 "nbformat_minor": 2
}
